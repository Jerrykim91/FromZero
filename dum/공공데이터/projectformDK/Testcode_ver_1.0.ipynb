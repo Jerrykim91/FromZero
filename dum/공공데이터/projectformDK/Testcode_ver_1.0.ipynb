{
 "cells": [
  {
   "cell_type": "code",
   "execution_count": 8,
   "metadata": {},
   "outputs": [],
   "source": [
    "# 기본 \n",
    "import pandas as pd\n",
    "import numpy as np\n",
    "import os, glob, re\n",
    "\n",
    "# 그래프 \n",
    "import plotly.express as px\n",
    "import matplotlib.pyplot as plt   # 맷폴렛- 그래프\n",
    "%matplotlib inline\n",
    "\n",
    "# ignore warnings\n",
    "import warnings    # 워닝 방지\n",
    "warnings.filterwarnings('ignore')\n",
    "\n",
    "####### matplotlib - 한글 폰트 깨짐 방지 코드 #######\n",
    "import platform\n",
    "\n",
    "if platform.system() == 'Darwin':    # 맥\n",
    "    font_name = 'AppleGothic'\n",
    "elif platform.system() == 'Linux':   # 리눅스\n",
    "    font_name = 'NanumGothic'\n",
    "elif platform.system() == 'Windows': # 윈도우\n",
    "    font_name = 'Malgun Gothic'\n",
    "else:\n",
    "    print('알수없는 시스템. 미적용')\n",
    "\n",
    "plt.rc('font', family=font_name)\n",
    "\n",
    "encoding = ['euc-kr','utf-8', 'CP949', 'utf-8-sig'] "
   ]
  },
  {
   "cell_type": "code",
   "execution_count": 9,
   "metadata": {},
   "outputs": [
    {
     "data": {
      "text/plain": [
       "'C:\\\\studyNote\\\\projectformDK'"
      ]
     },
     "execution_count": 9,
     "metadata": {},
     "output_type": "execute_result"
    }
   ],
   "source": [
    "os.getcwd() # 현재 디렉토리위치"
   ]
  },
  {
   "cell_type": "code",
   "execution_count": 36,
   "metadata": {},
   "outputs": [],
   "source": [
    "# 변수 \n",
    "path = 'C:\\\\studyNote\\\\projectformDK\\\\data\\\\'\n",
    "name = 'data.csv'\n",
    "data_path = glob.glob(path+name)"
   ]
  },
  {
   "cell_type": "code",
   "execution_count": 35,
   "metadata": {},
   "outputs": [
    {
     "data": {
      "text/plain": [
       "['C:\\\\studyNote\\\\projectformDK\\\\data\\\\data.csv',\n",
       " 'C:\\\\studyNote\\\\projectformDK\\\\data\\\\data2.csv',\n",
       " 'C:\\\\studyNote\\\\projectformDK\\\\data\\\\기상개황_20200922232758.xlsx',\n",
       " 'C:\\\\studyNote\\\\projectformDK\\\\data\\\\등록인구추이_20200922232814.xlsx',\n",
       " 'C:\\\\studyNote\\\\projectformDK\\\\data\\\\자연재해.xls',\n",
       " 'C:\\\\studyNote\\\\projectformDK\\\\data\\\\자연재해복구비.xls',\n",
       " 'C:\\\\studyNote\\\\projectformDK\\\\data\\\\지방세_부담_20200922232824.xlsx',\n",
       " 'C:\\\\studyNote\\\\projectformDK\\\\data\\\\풍수해_발생_20200922232742.xlsx']"
      ]
     },
     "execution_count": 35,
     "metadata": {},
     "output_type": "execute_result"
    }
   ],
   "source": [
    "glob.glob(path+'*')"
   ]
  },
  {
   "cell_type": "code",
   "execution_count": 41,
   "metadata": {},
   "outputs": [
    {
     "data": {
      "text/plain": [
       "Index(['pay_main', 'die', 'victim', 'area', 'pay_dis', 'pay_rec', 'tem_mean',\n",
       "       'tem_hi', 'tem_lo', 'rain', 'win_mean', 'win_max', 'win_ins'],\n",
       "      dtype='object')"
      ]
     },
     "execution_count": 41,
     "metadata": {},
     "output_type": "execute_result"
    }
   ],
   "source": [
    "data.columns"
   ]
  },
  {
   "cell_type": "code",
   "execution_count": 53,
   "metadata": {
    "colab": {
     "base_uri": "https://localhost:8080/",
     "height": 582
    },
    "colab_type": "code",
    "id": "z495RzAtuxSe",
    "outputId": "51efc2a7-201c-43be-a1ae-b457c1eacbfc",
    "scrolled": true
   },
   "outputs": [
    {
     "name": "stdout",
     "output_type": "stream",
     "text": [
      "<class 'pandas.core.frame.DataFrame'>\n",
      "RangeIndex: 24 entries, 0 to 23\n",
      "Data columns (total 14 columns):\n",
      " #   Column    Non-Null Count  Dtype  \n",
      "---  ------    --------------  -----  \n",
      " 0   year      24 non-null     int64  \n",
      " 1   pay_main  24 non-null     int64  \n",
      " 2   die       24 non-null     int64  \n",
      " 3   victim    24 non-null     int64  \n",
      " 4   area      24 non-null     float64\n",
      " 5   pay_dis   24 non-null     float64\n",
      " 6   pay_rec   24 non-null     int64  \n",
      " 7   tem_mean  24 non-null     float64\n",
      " 8   tem_hi    24 non-null     float64\n",
      " 9   tem_lo    24 non-null     float64\n",
      " 10  rain      24 non-null     float64\n",
      " 11  win_mean  24 non-null     float64\n",
      " 12  win_max   24 non-null     float64\n",
      " 13  win_ins   24 non-null     float64\n",
      "dtypes: float64(9), int64(5)\n",
      "memory usage: 2.8 KB\n"
     ]
    },
    {
     "data": {
      "text/html": [
       "<div>\n",
       "<style scoped>\n",
       "    .dataframe tbody tr th:only-of-type {\n",
       "        vertical-align: middle;\n",
       "    }\n",
       "\n",
       "    .dataframe tbody tr th {\n",
       "        vertical-align: top;\n",
       "    }\n",
       "\n",
       "    .dataframe thead th {\n",
       "        text-align: right;\n",
       "    }\n",
       "</style>\n",
       "<table border=\"1\" class=\"dataframe\">\n",
       "  <thead>\n",
       "    <tr style=\"text-align: right;\">\n",
       "      <th></th>\n",
       "      <th>pay_main</th>\n",
       "      <th>die</th>\n",
       "      <th>victim</th>\n",
       "      <th>area</th>\n",
       "      <th>pay_dis</th>\n",
       "      <th>pay_rec</th>\n",
       "      <th>tem_mean</th>\n",
       "      <th>tem_hi</th>\n",
       "      <th>tem_lo</th>\n",
       "      <th>rain</th>\n",
       "      <th>win_mean</th>\n",
       "      <th>win_max</th>\n",
       "      <th>win_ins</th>\n",
       "    </tr>\n",
       "  </thead>\n",
       "  <tbody>\n",
       "    <tr>\n",
       "      <th>19</th>\n",
       "      <td>94515000</td>\n",
       "      <td>2</td>\n",
       "      <td>5916</td>\n",
       "      <td>210.0</td>\n",
       "      <td>179.0</td>\n",
       "      <td>5071</td>\n",
       "      <td>15.1</td>\n",
       "      <td>32.9</td>\n",
       "      <td>-6.0</td>\n",
       "      <td>1693.1</td>\n",
       "      <td>3.2</td>\n",
       "      <td>14.6</td>\n",
       "      <td>21.6</td>\n",
       "    </tr>\n",
       "    <tr>\n",
       "      <th>20</th>\n",
       "      <td>14141</td>\n",
       "      <td>0</td>\n",
       "      <td>0</td>\n",
       "      <td>0.0</td>\n",
       "      <td>33.0</td>\n",
       "      <td>381</td>\n",
       "      <td>15.4</td>\n",
       "      <td>33.5</td>\n",
       "      <td>-7.8</td>\n",
       "      <td>1396.7</td>\n",
       "      <td>3.1</td>\n",
       "      <td>15.1</td>\n",
       "      <td>25.3</td>\n",
       "    </tr>\n",
       "    <tr>\n",
       "      <th>21</th>\n",
       "      <td>66085150</td>\n",
       "      <td>2</td>\n",
       "      <td>4</td>\n",
       "      <td>0.0</td>\n",
       "      <td>304.3</td>\n",
       "      <td>5906</td>\n",
       "      <td>15.7</td>\n",
       "      <td>37.3</td>\n",
       "      <td>-10.2</td>\n",
       "      <td>1760.2</td>\n",
       "      <td>3.1</td>\n",
       "      <td>18.6</td>\n",
       "      <td>28.3</td>\n",
       "    </tr>\n",
       "    <tr>\n",
       "      <th>22</th>\n",
       "      <td>1803408</td>\n",
       "      <td>0</td>\n",
       "      <td>3</td>\n",
       "      <td>0.0</td>\n",
       "      <td>191.0</td>\n",
       "      <td>4997</td>\n",
       "      <td>15.2</td>\n",
       "      <td>36.2</td>\n",
       "      <td>-7.7</td>\n",
       "      <td>1014.4</td>\n",
       "      <td>3.2</td>\n",
       "      <td>15.3</td>\n",
       "      <td>21.9</td>\n",
       "    </tr>\n",
       "    <tr>\n",
       "      <th>23</th>\n",
       "      <td>7297329</td>\n",
       "      <td>3</td>\n",
       "      <td>35</td>\n",
       "      <td>0.0</td>\n",
       "      <td>141.3</td>\n",
       "      <td>4433</td>\n",
       "      <td>15.1</td>\n",
       "      <td>36.4</td>\n",
       "      <td>-9.9</td>\n",
       "      <td>1778.6</td>\n",
       "      <td>3.2</td>\n",
       "      <td>19.2</td>\n",
       "      <td>33.6</td>\n",
       "    </tr>\n",
       "  </tbody>\n",
       "</table>\n",
       "</div>"
      ],
      "text/plain": [
       "    pay_main  die  victim   area  pay_dis  pay_rec  tem_mean  tem_hi  tem_lo  \\\n",
       "19  94515000    2    5916  210.0    179.0     5071      15.1    32.9    -6.0   \n",
       "20     14141    0       0    0.0     33.0      381      15.4    33.5    -7.8   \n",
       "21  66085150    2       4    0.0    304.3     5906      15.7    37.3   -10.2   \n",
       "22   1803408    0       3    0.0    191.0     4997      15.2    36.2    -7.7   \n",
       "23   7297329    3      35    0.0    141.3     4433      15.1    36.4    -9.9   \n",
       "\n",
       "      rain  win_mean  win_max  win_ins  \n",
       "19  1693.1       3.2     14.6     21.6  \n",
       "20  1396.7       3.1     15.1     25.3  \n",
       "21  1760.2       3.1     18.6     28.3  \n",
       "22  1014.4       3.2     15.3     21.9  \n",
       "23  1778.6       3.2     19.2     33.6  "
      ]
     },
     "execution_count": 53,
     "metadata": {},
     "output_type": "execute_result"
    }
   ],
   "source": [
    "data = pd.read_csv(data_path[0], encoding='cp949')\n",
    "data.info()\n",
    "data = data.iloc[:,1:]\n",
    "data.tail(5)"
   ]
  },
  {
   "cell_type": "code",
   "execution_count": null,
   "metadata": {},
   "outputs": [],
   "source": [
    "# data.csv\n",
    "data_columns_info={\n",
    "    'pay_main' : '피해액', \n",
    "    'die' : '사망자', \n",
    "    'victim' : '수재민', \n",
    "    'area' : '지역', \n",
    "    'pay_dis' :'자연재해피해액(10억 원)',\n",
    "    'pay_rec' :'총복구액(억)', \n",
    "    'tem_mean' : '평균기온',\n",
    "    'tem_hi' : '최고극값' ,\n",
    "    'tem_lo' : '최저극값', \n",
    "    'rain'   : '강수량', \n",
    "    'win_mean':'평균풍속',\n",
    "    'win_max':'최대풍속', \n",
    "    'win_ins':'최대순간풍속',    \n",
    "}"
   ]
  },
  {
   "cell_type": "code",
   "execution_count": 68,
   "metadata": {},
   "outputs": [
    {
     "data": {
      "text/html": [
       "<div>\n",
       "<style scoped>\n",
       "    .dataframe tbody tr th:only-of-type {\n",
       "        vertical-align: middle;\n",
       "    }\n",
       "\n",
       "    .dataframe tbody tr th {\n",
       "        vertical-align: top;\n",
       "    }\n",
       "\n",
       "    .dataframe thead th {\n",
       "        text-align: right;\n",
       "    }\n",
       "</style>\n",
       "<table border=\"1\" class=\"dataframe\">\n",
       "  <thead>\n",
       "    <tr style=\"text-align: right;\">\n",
       "      <th></th>\n",
       "      <th>pay_main</th>\n",
       "    </tr>\n",
       "  </thead>\n",
       "  <tbody>\n",
       "    <tr>\n",
       "      <th>0</th>\n",
       "      <td>4410373</td>\n",
       "    </tr>\n",
       "  </tbody>\n",
       "</table>\n",
       "</div>"
      ],
      "text/plain": [
       "   pay_main\n",
       "0   4410373"
      ]
     },
     "execution_count": 68,
     "metadata": {},
     "output_type": "execute_result"
    }
   ],
   "source": [
    "data.iloc[:1,:1] # 종속변수"
   ]
  },
  {
   "cell_type": "code",
   "execution_count": 67,
   "metadata": {},
   "outputs": [
    {
     "data": {
      "text/html": [
       "<div>\n",
       "<style scoped>\n",
       "    .dataframe tbody tr th:only-of-type {\n",
       "        vertical-align: middle;\n",
       "    }\n",
       "\n",
       "    .dataframe tbody tr th {\n",
       "        vertical-align: top;\n",
       "    }\n",
       "\n",
       "    .dataframe thead th {\n",
       "        text-align: right;\n",
       "    }\n",
       "</style>\n",
       "<table border=\"1\" class=\"dataframe\">\n",
       "  <thead>\n",
       "    <tr style=\"text-align: right;\">\n",
       "      <th></th>\n",
       "      <th>die</th>\n",
       "      <th>victim</th>\n",
       "      <th>area</th>\n",
       "      <th>pay_dis</th>\n",
       "      <th>pay_rec</th>\n",
       "      <th>tem_mean</th>\n",
       "      <th>tem_hi</th>\n",
       "      <th>tem_lo</th>\n",
       "      <th>rain</th>\n",
       "      <th>win_mean</th>\n",
       "      <th>win_max</th>\n",
       "      <th>win_ins</th>\n",
       "    </tr>\n",
       "  </thead>\n",
       "  <tbody>\n",
       "    <tr>\n",
       "      <th>0</th>\n",
       "      <td>11</td>\n",
       "      <td>427</td>\n",
       "      <td>0.0</td>\n",
       "      <td>955.3</td>\n",
       "      <td>8671</td>\n",
       "      <td>14.5</td>\n",
       "      <td>32.8</td>\n",
       "      <td>-6.7</td>\n",
       "      <td>1005.7</td>\n",
       "      <td>4.0</td>\n",
       "      <td>22.5</td>\n",
       "      <td>42.3</td>\n",
       "    </tr>\n",
       "  </tbody>\n",
       "</table>\n",
       "</div>"
      ],
      "text/plain": [
       "   die  victim  area  pay_dis  pay_rec  tem_mean  tem_hi  tem_lo    rain  \\\n",
       "0   11     427   0.0    955.3     8671      14.5    32.8    -6.7  1005.7   \n",
       "\n",
       "   win_mean  win_max  win_ins  \n",
       "0       4.0     22.5     42.3  "
      ]
     },
     "execution_count": 67,
     "metadata": {},
     "output_type": "execute_result"
    }
   ],
   "source": [
    "data.iloc[:1, 1:]  # 독립변수"
   ]
  },
  {
   "cell_type": "code",
   "execution_count": 45,
   "metadata": {
    "colab": {
     "base_uri": "https://localhost:8080/",
     "height": 53
    },
    "colab_type": "code",
    "id": "21KV5wu-vFkg",
    "outputId": "d7b6252a-2e75-4022-e7a1-7b006afba384"
   },
   "outputs": [
    {
     "name": "stdout",
     "output_type": "stream",
     "text": [
      "(24, 12)\n",
      "(24, 1)\n"
     ]
    }
   ],
   "source": [
    "x = data.iloc[:, 1:] # 독립변수 \n",
    "y = data.iloc[:,:1]  #종속 변수 \n",
    "\n",
    "print(x.shape)\n",
    "print(y.shape)\n",
    "# y = target"
   ]
  },
  {
   "cell_type": "code",
   "execution_count": null,
   "metadata": {},
   "outputs": [],
   "source": [
    "from sklearn.model_selection import train_test_split\n",
    "from sklearn.preprocessing import MinMaxScaler\n",
    "from sklearn.preprocessing import StandardScaler"
   ]
  },
  {
   "cell_type": "code",
   "execution_count": 46,
   "metadata": {
    "colab": {
     "base_uri": "https://localhost:8080/",
     "height": 89
    },
    "colab_type": "code",
    "id": "g_O2L8A4fPiV",
    "outputId": "2fd34622-964b-471a-df22-a790841bb1b4"
   },
   "outputs": [
    {
     "name": "stdout",
     "output_type": "stream",
     "text": [
      "(19, 12)\n",
      "(19, 1)\n",
      "(5, 12)\n",
      "(5, 1)\n"
     ]
    }
   ],
   "source": [
    "# 정규화\n",
    "mmsc = MinMaxScaler()\n",
    "stsc = StandardScaler()\n",
    "\n",
    "# 머신러닝을 위한 정규화\n",
    "x = mmsc.fit_transform(x)\n",
    "x = stsc.fit_transform(x)\n",
    "y = mmsc.fit_transform(y)   \n",
    "y = stsc.fit_transform(y)\n",
    "x_train, x_test, y_train, y_test = train_test_split(x, y, test_size=0.2, random_state=5)\n",
    "\n",
    "print(x_train.shape)\n",
    "print(y_train.shape)\n",
    "print(x_test.shape)\n",
    "print(y_test.shape)"
   ]
  },
  {
   "cell_type": "code",
   "execution_count": 47,
   "metadata": {
    "colab": {
     "base_uri": "https://localhost:8080/",
     "height": 709
    },
    "colab_type": "code",
    "id": "SUxRhDbtfPlG",
    "outputId": "a54548cb-c11a-404c-a136-26231cd84dc7"
   },
   "outputs": [
    {
     "data": {
      "text/html": [
       "<table class=\"simpletable\">\n",
       "<caption>OLS Regression Results</caption>\n",
       "<tr>\n",
       "  <th>Dep. Variable:</th>        <td>pay_main</td>     <th>  R-squared:         </th> <td>   0.968</td>\n",
       "</tr>\n",
       "<tr>\n",
       "  <th>Model:</th>                   <td>OLS</td>       <th>  Adj. R-squared:    </th> <td>   0.933</td>\n",
       "</tr>\n",
       "<tr>\n",
       "  <th>Method:</th>             <td>Least Squares</td>  <th>  F-statistic:       </th> <td>   27.79</td>\n",
       "</tr>\n",
       "<tr>\n",
       "  <th>Date:</th>             <td>Wed, 23 Sep 2020</td> <th>  Prob (F-statistic):</th> <td>1.78e-06</td>\n",
       "</tr>\n",
       "<tr>\n",
       "  <th>Time:</th>                 <td>10:20:40</td>     <th>  Log-Likelihood:    </th> <td> -422.13</td>\n",
       "</tr>\n",
       "<tr>\n",
       "  <th>No. Observations:</th>      <td>    24</td>      <th>  AIC:               </th> <td>   870.3</td>\n",
       "</tr>\n",
       "<tr>\n",
       "  <th>Df Residuals:</th>          <td>    11</td>      <th>  BIC:               </th> <td>   885.6</td>\n",
       "</tr>\n",
       "<tr>\n",
       "  <th>Df Model:</th>              <td>    12</td>      <th>                     </th>     <td> </td>   \n",
       "</tr>\n",
       "<tr>\n",
       "  <th>Covariance Type:</th>      <td>nonrobust</td>    <th>                     </th>     <td> </td>   \n",
       "</tr>\n",
       "</table>\n",
       "<table class=\"simpletable\">\n",
       "<tr>\n",
       "      <td></td>         <th>coef</th>     <th>std err</th>      <th>t</th>      <th>P>|t|</th>  <th>[0.025</th>    <th>0.975]</th>  \n",
       "</tr>\n",
       "<tr>\n",
       "  <th>Intercept</th> <td> 3.632e+08</td> <td> 1.76e+08</td> <td>    2.061</td> <td> 0.064</td> <td>-2.47e+07</td> <td> 7.51e+08</td>\n",
       "</tr>\n",
       "<tr>\n",
       "  <th>die</th>       <td> 5.817e+06</td> <td> 2.74e+06</td> <td>    2.127</td> <td> 0.057</td> <td>-2.04e+05</td> <td> 1.18e+07</td>\n",
       "</tr>\n",
       "<tr>\n",
       "  <th>victim</th>    <td> 1.227e+04</td> <td> 3287.848</td> <td>    3.732</td> <td> 0.003</td> <td> 5034.859</td> <td> 1.95e+04</td>\n",
       "</tr>\n",
       "<tr>\n",
       "  <th>area</th>      <td> 1.273e+04</td> <td> 1.26e+04</td> <td>    1.010</td> <td> 0.334</td> <td> -1.5e+04</td> <td> 4.05e+04</td>\n",
       "</tr>\n",
       "<tr>\n",
       "  <th>pay_dis</th>   <td> 9554.8323</td> <td> 1.73e+04</td> <td>    0.551</td> <td> 0.593</td> <td>-2.86e+04</td> <td> 4.77e+04</td>\n",
       "</tr>\n",
       "<tr>\n",
       "  <th>pay_rec</th>   <td> -409.3267</td> <td> 1479.266</td> <td>   -0.277</td> <td> 0.787</td> <td>-3665.169</td> <td> 2846.516</td>\n",
       "</tr>\n",
       "<tr>\n",
       "  <th>tem_mean</th>  <td>  2.59e+06</td> <td> 1.19e+07</td> <td>    0.218</td> <td> 0.832</td> <td>-2.36e+07</td> <td> 2.88e+07</td>\n",
       "</tr>\n",
       "<tr>\n",
       "  <th>tem_hi</th>    <td> -1.93e+06</td> <td> 3.61e+06</td> <td>   -0.534</td> <td> 0.604</td> <td>-9.89e+06</td> <td> 6.03e+06</td>\n",
       "</tr>\n",
       "<tr>\n",
       "  <th>tem_lo</th>    <td>  9.33e+05</td> <td>  2.5e+06</td> <td>    0.373</td> <td> 0.717</td> <td>-4.58e+06</td> <td> 6.44e+06</td>\n",
       "</tr>\n",
       "<tr>\n",
       "  <th>rain</th>      <td>-1.135e+04</td> <td> 1.46e+04</td> <td>   -0.780</td> <td> 0.452</td> <td>-4.34e+04</td> <td> 2.07e+04</td>\n",
       "</tr>\n",
       "<tr>\n",
       "  <th>win_mean</th>  <td>-1.219e+08</td> <td> 2.12e+07</td> <td>   -5.751</td> <td> 0.000</td> <td>-1.69e+08</td> <td>-7.52e+07</td>\n",
       "</tr>\n",
       "<tr>\n",
       "  <th>win_max</th>   <td> 9.974e+06</td> <td> 2.91e+06</td> <td>    3.425</td> <td> 0.006</td> <td> 3.56e+06</td> <td> 1.64e+07</td>\n",
       "</tr>\n",
       "<tr>\n",
       "  <th>win_ins</th>   <td>-2.935e+06</td> <td> 1.77e+06</td> <td>   -1.658</td> <td> 0.126</td> <td>-6.83e+06</td> <td> 9.61e+05</td>\n",
       "</tr>\n",
       "</table>\n",
       "<table class=\"simpletable\">\n",
       "<tr>\n",
       "  <th>Omnibus:</th>       <td> 1.077</td> <th>  Durbin-Watson:     </th> <td>   2.516</td>\n",
       "</tr>\n",
       "<tr>\n",
       "  <th>Prob(Omnibus):</th> <td> 0.584</td> <th>  Jarque-Bera (JB):  </th> <td>   0.320</td>\n",
       "</tr>\n",
       "<tr>\n",
       "  <th>Skew:</th>          <td> 0.259</td> <th>  Prob(JB):          </th> <td>   0.852</td>\n",
       "</tr>\n",
       "<tr>\n",
       "  <th>Kurtosis:</th>      <td> 3.230</td> <th>  Cond. No.          </th> <td>1.50e+06</td>\n",
       "</tr>\n",
       "</table><br/><br/>Warnings:<br/>[1] Standard Errors assume that the covariance matrix of the errors is correctly specified.<br/>[2] The condition number is large, 1.5e+06. This might indicate that there are<br/>strong multicollinearity or other numerical problems."
      ],
      "text/plain": [
       "<class 'statsmodels.iolib.summary.Summary'>\n",
       "\"\"\"\n",
       "                            OLS Regression Results                            \n",
       "==============================================================================\n",
       "Dep. Variable:               pay_main   R-squared:                       0.968\n",
       "Model:                            OLS   Adj. R-squared:                  0.933\n",
       "Method:                 Least Squares   F-statistic:                     27.79\n",
       "Date:                Wed, 23 Sep 2020   Prob (F-statistic):           1.78e-06\n",
       "Time:                        10:20:40   Log-Likelihood:                -422.13\n",
       "No. Observations:                  24   AIC:                             870.3\n",
       "Df Residuals:                      11   BIC:                             885.6\n",
       "Df Model:                          12                                         \n",
       "Covariance Type:            nonrobust                                         \n",
       "==============================================================================\n",
       "                 coef    std err          t      P>|t|      [0.025      0.975]\n",
       "------------------------------------------------------------------------------\n",
       "Intercept   3.632e+08   1.76e+08      2.061      0.064   -2.47e+07    7.51e+08\n",
       "die         5.817e+06   2.74e+06      2.127      0.057   -2.04e+05    1.18e+07\n",
       "victim      1.227e+04   3287.848      3.732      0.003    5034.859    1.95e+04\n",
       "area        1.273e+04   1.26e+04      1.010      0.334    -1.5e+04    4.05e+04\n",
       "pay_dis     9554.8323   1.73e+04      0.551      0.593   -2.86e+04    4.77e+04\n",
       "pay_rec     -409.3267   1479.266     -0.277      0.787   -3665.169    2846.516\n",
       "tem_mean     2.59e+06   1.19e+07      0.218      0.832   -2.36e+07    2.88e+07\n",
       "tem_hi      -1.93e+06   3.61e+06     -0.534      0.604   -9.89e+06    6.03e+06\n",
       "tem_lo       9.33e+05    2.5e+06      0.373      0.717   -4.58e+06    6.44e+06\n",
       "rain       -1.135e+04   1.46e+04     -0.780      0.452   -4.34e+04    2.07e+04\n",
       "win_mean   -1.219e+08   2.12e+07     -5.751      0.000   -1.69e+08   -7.52e+07\n",
       "win_max     9.974e+06   2.91e+06      3.425      0.006    3.56e+06    1.64e+07\n",
       "win_ins    -2.935e+06   1.77e+06     -1.658      0.126   -6.83e+06    9.61e+05\n",
       "==============================================================================\n",
       "Omnibus:                        1.077   Durbin-Watson:                   2.516\n",
       "Prob(Omnibus):                  0.584   Jarque-Bera (JB):                0.320\n",
       "Skew:                           0.259   Prob(JB):                        0.852\n",
       "Kurtosis:                       3.230   Cond. No.                     1.50e+06\n",
       "==============================================================================\n",
       "\n",
       "Warnings:\n",
       "[1] Standard Errors assume that the covariance matrix of the errors is correctly specified.\n",
       "[2] The condition number is large, 1.5e+06. This might indicate that there are\n",
       "strong multicollinearity or other numerical problems.\n",
       "\"\"\""
      ]
     },
     "execution_count": 47,
     "metadata": {},
     "output_type": "execute_result"
    }
   ],
   "source": [
    "from statsmodels.formula.api import ols\n",
    "\n",
    "linear_reg = ols('pay_main ~ die + victim + area + pay_dis + pay_rec + tem_mean + tem_hi + tem_lo + rain + win_mean + win_max + win_ins', data=data).fit()\n",
    "# linear_reg = ols('pay_main ~ die + win_mean + win_max + win_ins', data=data).fit()\n",
    "linear_reg.summary()"
   ]
  },
  {
   "cell_type": "code",
   "execution_count": 48,
   "metadata": {
    "colab": {
     "base_uri": "https://localhost:8080/",
     "height": 317
    },
    "colab_type": "code",
    "id": "OOOuO1BVsC7-",
    "outputId": "86b8e902-a1d0-4227-a148-70298c9c697c"
   },
   "outputs": [
    {
     "name": "stdout",
     "output_type": "stream",
     "text": [
      "훈련 세트 정확도: 0.972\n",
      "테스트 세트 정확도: 0.852\n"
     ]
    },
    {
     "data": {
      "image/png": "[encoded data removed]",
      "text/plain": [
       "<Figure size 432x288 with 1 Axes>"
      ]
     },
     "metadata": {
      "needs_background": "light"
     },
     "output_type": "display_data"
    }
   ],
   "source": [
    "from sklearn.linear_model import LinearRegression\n",
    "\n",
    "reg_model = LinearRegression().fit(x_train, y_train)\n",
    "reg_pred = np.expm1(reg_model.predict(x_test))\n",
    "print(\"훈련 세트 정확도: {:.3f}\".format(reg_model.score(x_train, y_train)))\n",
    "print(\"테스트 세트 정확도: {:.3f}\".format(reg_model.score(x_test, y_test)))\n",
    "\n",
    "reg_pred=pd.DataFrame(reg_pred)\n",
    "plt.plot(y_test, 'ro-', label=\"real\")\n",
    "plt.plot(reg_pred, 'bs-', label=\"predict\")\n",
    "plt.legend()\n",
    "plt.title(\"Regression\")\n",
    "plt.show()"
   ]
  },
  {
   "cell_type": "code",
   "execution_count": 52,
   "metadata": {},
   "outputs": [
    {
     "name": "stdout",
     "output_type": "stream",
     "text": [
      "Collecting xgboost\n",
      "  Downloading xgboost-1.2.0-py3-none-win_amd64.whl (86.5 MB)\n",
      "Requirement already satisfied: numpy in c:\\users\\leejh\\anaconda3\\lib\\site-packages (from xgboost) (1.18.1)\n",
      "Requirement already satisfied: scipy in c:\\users\\leejh\\anaconda3\\lib\\site-packages (from xgboost) (1.4.1)\n",
      "Installing collected packages: xgboost\n",
      "Successfully installed xgboost-1.2.0\n"
     ]
    }
   ],
   "source": [
    "!pip install xgboost "
   ]
  },
  {
   "cell_type": "code",
   "execution_count": 54,
   "metadata": {
    "colab": {
     "base_uri": "https://localhost:8080/",
     "height": 371
    },
    "colab_type": "code",
    "id": "JEXZ5bqDrI3E",
    "outputId": "9ce5e78b-a49a-484c-859f-e363acd3d610"
   },
   "outputs": [
    {
     "name": "stdout",
     "output_type": "stream",
     "text": [
      "훈련 세트 정확도: 0.985\n",
      "테스트 세트 정확도: 0.304\n",
      "[0.11263675 0.12062579 0.00958743 0.12306447 0.18930092 0.15044795\n",
      " 0.06006524 0.0106395  0.10916577 0.00801424 0.01885055 0.08760139]\n"
     ]
    },
    {
     "data": {
      "image/png": "[encoded data removed]",
      "text/plain": [
       "<Figure size 432x288 with 1 Axes>"
      ]
     },
     "metadata": {
      "needs_background": "light"
     },
     "output_type": "display_data"
    }
   ],
   "source": [
    "import xgboost as xgb\n",
    "\n",
    "xgb = xgb.XGBRegressor(colsample_bytree=0.47,\n",
    "                       gamma= 0.046,\n",
    "                      learning_rate=0.05,\n",
    "                      max_depth=5,\n",
    "                      min_child_weight=1.8,\n",
    "                      n_estimators=2000).fit(x_train, y_train)\n",
    "xgb_pred = np.expm1(xgb.predict(x_test))\n",
    "print(\"훈련 세트 정확도: {:.3f}\".format(xgb.score(x_train, y_train)))\n",
    "print(\"테스트 세트 정확도: {:.3f}\".format(xgb.score(x_test, y_test)))\n",
    "print(xgb.feature_importances_)\n",
    "\n",
    "xgb_pred=pd.DataFrame(xgb_pred)\n",
    "plt.plot(y_test, 'ro-', label=\"real\")\n",
    "plt.plot(xgb_pred, 'bs-', label=\"predict\")\n",
    "plt.legend()\n",
    "plt.title(\"XGBoost\")\n",
    "plt.show()"
   ]
  },
  {
   "cell_type": "code",
   "execution_count": 55,
   "metadata": {
    "colab": {
     "base_uri": "https://localhost:8080/",
     "height": 353
    },
    "colab_type": "code",
    "id": "chinv7Nqwy2u",
    "outputId": "f9df0b0d-609f-47f4-fbec-5d095b6a0288"
   },
   "outputs": [
    {
     "name": "stdout",
     "output_type": "stream",
     "text": [
      "훈련 세트 정확도: 0.629\n",
      "테스트 세트 정확도: 0.493\n"
     ]
    },
    {
     "data": {
      "image/png": "[encoded data removed]",
      "text/plain": [
       "<Figure size 432x288 with 1 Axes>"
      ]
     },
     "metadata": {
      "needs_background": "light"
     },
     "output_type": "display_data"
    }
   ],
   "source": [
    "from sklearn.svm import SVR\n",
    "\n",
    "svr = SVR(C=1.5,\n",
    "          cache_size=200,\n",
    "          coef0=0,\n",
    "          degree=15,\n",
    "          kernel='rbf',\n",
    "          shrinking=True).fit(x_train, y_train)\n",
    "\n",
    "svr_pred = np.expm1(svr.predict(x_test))\n",
    "print(\"훈련 세트 정확도: {:.3f}\".format(svr.score(x_train, y_train)))\n",
    "print(\"테스트 세트 정확도: {:.3f}\".format(svr.score(x_test, y_test)))\n",
    "\n",
    "svr_pred=pd.DataFrame(svr_pred)\n",
    "plt.plot(y_test, 'ro-', label=\"real\")\n",
    "plt.plot(svr_pred, 'bs-', label=\"predict\")\n",
    "plt.legend()\n",
    "plt.title(\"SVR\")\n",
    "plt.show()"
   ]
  },
  {
   "cell_type": "code",
   "execution_count": 56,
   "metadata": {
    "colab": {
     "base_uri": "https://localhost:8080/",
     "height": 389
    },
    "colab_type": "code",
    "id": "sQQNRtzw_Nrl",
    "outputId": "74e1f11a-2f47-405f-a2c5-44b61837a381"
   },
   "outputs": [
    {
     "name": "stdout",
     "output_type": "stream",
     "text": [
      "훈련 세트 정확도: 0.869\n",
      "테스트 세트 정확도: 0.696\n",
      "[0.0998488  0.21625686 0.00822903 0.04031111 0.0382078  0.08328123\n",
      " 0.25685576 0.00978332 0.05581991 0.00599371 0.10825234 0.07716013]\n"
     ]
    },
    {
     "data": {
      "image/png": "[encoded data removed]",
      "text/plain": [
       "<Figure size 432x288 with 1 Axes>"
      ]
     },
     "metadata": {
      "needs_background": "light"
     },
     "output_type": "display_data"
    }
   ],
   "source": [
    "from sklearn.ensemble import RandomForestRegressor\n",
    "\n",
    "rf = RandomForestRegressor(n_estimators=2000).fit(x_train, y_train)\n",
    "\n",
    "rf_pred = np.expm1(rf.predict(x_test))\n",
    "print(\"훈련 세트 정확도: {:.3f}\".format(rf.score(x_train, y_train)))\n",
    "print(\"테스트 세트 정확도: {:.3f}\".format(rf.score(x_test, y_test)))\n",
    "print(rf.feature_importances_)\n",
    "\n",
    "rf_pred=pd.DataFrame(rf_pred)\n",
    "plt.plot(y_test, 'ro-', label=\"real\")\n",
    "plt.plot(rf_pred, 'bs-', label=\"predict\")\n",
    "plt.legend()\n",
    "plt.title(\"RandomForest\")\n",
    "plt.show()"
   ]
  },
  {
   "cell_type": "markdown",
   "metadata": {
    "colab": {},
    "colab_type": "code",
    "id": "xOYRc20K7neL"
   },
   "source": [
    "# Test"
   ]
  },
  {
   "cell_type": "markdown",
   "metadata": {},
   "source": [
    "```txt\n",
    "# 부산전체 x -> 동래구 \n",
    "# 1998년부터 데이터 필요 \n",
    "\n",
    "# 하천이 영향을 줄것이다. \n",
    "```"
   ]
  },
  {
   "cell_type": "code",
   "execution_count": 59,
   "metadata": {},
   "outputs": [],
   "source": [
    "df=data"
   ]
  },
  {
   "cell_type": "code",
   "execution_count": 63,
   "metadata": {},
   "outputs": [
    {
     "name": "stdout",
     "output_type": "stream",
     "text": [
      "<class 'pandas.core.frame.DataFrame'>\n",
      "RangeIndex: 24 entries, 0 to 23\n",
      "Data columns (total 13 columns):\n",
      " #   Column    Non-Null Count  Dtype  \n",
      "---  ------    --------------  -----  \n",
      " 0   pay_main  24 non-null     int64  \n",
      " 1   die       24 non-null     int64  \n",
      " 2   victim    24 non-null     int64  \n",
      " 3   area      24 non-null     float64\n",
      " 4   pay_dis   24 non-null     float64\n",
      " 5   pay_rec   24 non-null     int64  \n",
      " 6   tem_mean  24 non-null     float64\n",
      " 7   tem_hi    24 non-null     float64\n",
      " 8   tem_lo    24 non-null     float64\n",
      " 9   rain      24 non-null     float64\n",
      " 10  win_mean  24 non-null     float64\n",
      " 11  win_max   24 non-null     float64\n",
      " 12  win_ins   24 non-null     float64\n",
      "dtypes: float64(9), int64(4)\n",
      "memory usage: 2.6 KB\n"
     ]
    }
   ],
   "source": [
    "df.info()"
   ]
  },
  {
   "cell_type": "code",
   "execution_count": 64,
   "metadata": {
    "scrolled": false
   },
   "outputs": [
    {
     "data": {
      "image/png": "[encoded data removed]",
      "text/plain": [
       "<Figure size 432x288 with 1 Axes>"
      ]
     },
     "metadata": {
      "needs_background": "light"
     },
     "output_type": "display_data"
    },
    {
     "data": {
      "image/png": "[encoded data removed]",
      "text/plain": [
       "<Figure size 432x288 with 1 Axes>"
      ]
     },
     "metadata": {
      "needs_background": "light"
     },
     "output_type": "display_data"
    },
    {
     "data": {
      "image/png": "[encoded data removed]",
      "text/plain": [
       "<Figure size 432x288 with 1 Axes>"
      ]
     },
     "metadata": {
      "needs_background": "light"
     },
     "output_type": "display_data"
    },
    {
     "data": {
      "image/png": "[encoded data removed]",
      "text/plain": [
       "<Figure size 432x288 with 1 Axes>"
      ]
     },
     "metadata": {
      "needs_background": "light"
     },
     "output_type": "display_data"
    },
    {
     "data": {
      "image/png": "[encoded data removed]",
      "text/plain": [
       "<Figure size 432x288 with 1 Axes>"
      ]
     },
     "metadata": {
      "needs_background": "light"
     },
     "output_type": "display_data"
    },
    {
     "data": {
      "image/png": "[encoded data removed]",
      "text/plain": [
       "<Figure size 432x288 with 1 Axes>"
      ]
     },
     "metadata": {
      "needs_background": "light"
     },
     "output_type": "display_data"
    },
    {
     "data": {
      "image/png": "[encoded data removed]",
      "text/plain": [
       "<Figure size 432x288 with 1 Axes>"
      ]
     },
     "metadata": {
      "needs_background": "light"
     },
     "output_type": "display_data"
    },
    {
     "data": {
      "image/png": "[encoded data removed]",
      "text/plain": [
       "<Figure size 432x288 with 1 Axes>"
      ]
     },
     "metadata": {
      "needs_background": "light"
     },
     "output_type": "display_data"
    },
    {
     "data": {
      "image/png": "[encoded data removed]",
      "text/plain": [
       "<Figure size 432x288 with 1 Axes>"
      ]
     },
     "metadata": {
      "needs_background": "light"
     },
     "output_type": "display_data"
    },
    {
     "data": {
      "image/png": "[encoded data removed]",
      "text/plain": [
       "<Figure size 432x288 with 1 Axes>"
      ]
     },
     "metadata": {
      "needs_background": "light"
     },
     "output_type": "display_data"
    },
    {
     "data": {
      "image/png": "[encoded data removed]",
      "text/plain": [
       "<Figure size 432x288 with 1 Axes>"
      ]
     },
     "metadata": {
      "needs_background": "light"
     },
     "output_type": "display_data"
    },
    {
     "data": {
      "image/png": "[encoded data removed]",
      "text/plain": [
       "<Figure size 432x288 with 1 Axes>"
      ]
     },
     "metadata": {
      "needs_background": "light"
     },
     "output_type": "display_data"
    }
   ],
   "source": [
    "cols = df.columns[1:]\n",
    "for i in cols:\n",
    "    scatter_plot = plt.figure()\n",
    "    axes = scatter_plot.add_subplot(1,1,1)\n",
    "    axes.scatter(df['pay_main'], df[i])\n",
    "    plt.title('Scatter Plot')\n",
    "    plt.xlabel('pay_main')\n",
    "    plt.ylabel(str(i))\n",
    "#     print(i)"
   ]
  },
  {
   "cell_type": "code",
   "execution_count": 69,
   "metadata": {},
   "outputs": [],
   "source": [
    "corr = df[cols].corr(method = 'pearson')"
   ]
  },
  {
   "cell_type": "code",
   "execution_count": 70,
   "metadata": {},
   "outputs": [
    {
     "ename": "NameError",
     "evalue": "name 'sns' is not defined",
     "output_type": "error",
     "traceback": [
      "\u001b[1;31m---------------------------------------------------------------------------\u001b[0m",
      "\u001b[1;31mNameError\u001b[0m                                 Traceback (most recent call last)",
      "\u001b[1;32m<ipython-input-70-0bc329e9fffc>\u001b[0m in \u001b[0;36m<module>\u001b[1;34m()\u001b[0m\n\u001b[0;32m      1\u001b[0m \u001b[0mfig\u001b[0m \u001b[1;33m=\u001b[0m \u001b[0mplt\u001b[0m\u001b[1;33m.\u001b[0m\u001b[0mfigure\u001b[0m\u001b[1;33m(\u001b[0m\u001b[0mfigsize\u001b[0m\u001b[1;33m=\u001b[0m\u001b[1;33m(\u001b[0m\u001b[1;36m30\u001b[0m\u001b[1;33m,\u001b[0m\u001b[1;36m30\u001b[0m\u001b[1;33m)\u001b[0m\u001b[1;33m)\u001b[0m\u001b[1;33m\u001b[0m\u001b[1;33m\u001b[0m\u001b[0m\n\u001b[0;32m      2\u001b[0m \u001b[0max\u001b[0m \u001b[1;33m=\u001b[0m \u001b[0mfig\u001b[0m\u001b[1;33m.\u001b[0m\u001b[0mgca\u001b[0m\u001b[1;33m(\u001b[0m\u001b[1;33m)\u001b[0m\u001b[1;33m\u001b[0m\u001b[1;33m\u001b[0m\u001b[0m\n\u001b[1;32m----> 3\u001b[1;33m \u001b[0msns\u001b[0m\u001b[1;33m.\u001b[0m\u001b[0mset\u001b[0m\u001b[1;33m(\u001b[0m\u001b[0mfont_scale\u001b[0m\u001b[1;33m=\u001b[0m\u001b[1;36m1.5\u001b[0m\u001b[1;33m)\u001b[0m\u001b[1;33m\u001b[0m\u001b[1;33m\u001b[0m\u001b[0m\n\u001b[0m\u001b[0;32m      4\u001b[0m hm = sns.heatmap(corr.values,\n\u001b[0;32m      5\u001b[0m                 \u001b[0mannot\u001b[0m \u001b[1;33m=\u001b[0m \u001b[1;32mTrue\u001b[0m\u001b[1;33m,\u001b[0m\u001b[1;33m\u001b[0m\u001b[1;33m\u001b[0m\u001b[0m\n",
      "\u001b[1;31mNameError\u001b[0m: name 'sns' is not defined"
     ]
    },
    {
     "data": {
      "image/png": "[encoded data removed]",
      "text/plain": [
       "<Figure size 2160x2160 with 1 Axes>"
      ]
     },
     "metadata": {
      "needs_background": "light"
     },
     "output_type": "display_data"
    }
   ],
   "source": [
    "fig = plt.figure(figsize=(30,30))\n",
    "ax = fig.gca()\n",
    "sns.set(font_scale=1.5)\n",
    "hm = sns.heatmap(corr.values,\n",
    "                annot = True,\n",
    "                fmt ='.2f',\n",
    "                annot_kws ={'size':30},\n",
    "                yticklabels=cols,\n",
    "                xticklabels=cols,\n",
    "                ax=ax)\n",
    "plt.tight_layout()\n",
    "plt.show()"
   ]
  },
  {
   "cell_type": "code",
   "execution_count": null,
   "metadata": {},
   "outputs": [],
   "source": [
    "# 정규화 \n",
    "from sklearn.preprocessing import StandardScaler\n",
    "\n",
    "scaler = StandardScaler()\n",
    "scaler_columns =  [\n",
    "        'Precipitation', 'High_Wind', 'High_field_elevation',\n",
    "       'Low_field_elevation', \n",
    "        'Humidity_Average', 'Low_Humidity', 'Sunshine_Sum',\n",
    "       'Global_Solar_Radiation_Sum', 'Baechu_Wholesale', 'Price_Info']\n",
    "df[scaler_columns] = scaler.fit_transform(df[scaler_columns])"
   ]
  },
  {
   "cell_type": "code",
   "execution_count": null,
   "metadata": {},
   "outputs": [],
   "source": [
    "import matplotlib.pyplot as plt \n",
    "\n",
    "# sklearn\n",
    "from sklearn import linear_model, preprocessing\n",
    "from sklearn.model_selection import train_test_split\n",
    "from sklearn.linear_model import LogisticRegression\n",
    "\n",
    "from sklearn.metrics import mean_squared_error\n",
    "from math import sqrt\n",
    "%matplotlib inline"
   ]
  },
  {
   "cell_type": "code",
   "execution_count": 71,
   "metadata": {},
   "outputs": [
    {
     "ename": "NameError",
     "evalue": "name 'scaler_columns' is not defined",
     "output_type": "error",
     "traceback": [
      "\u001b[1;31m---------------------------------------------------------------------------\u001b[0m",
      "\u001b[1;31mNameError\u001b[0m                                 Traceback (most recent call last)",
      "\u001b[1;32m<ipython-input-71-053cc78c7ceb>\u001b[0m in \u001b[0;36m<module>\u001b[1;34m()\u001b[0m\n\u001b[1;32m----> 1\u001b[1;33m \u001b[0mX\u001b[0m \u001b[1;33m=\u001b[0m \u001b[0mdf\u001b[0m\u001b[1;33m[\u001b[0m\u001b[0mscaler_columns\u001b[0m\u001b[1;33m]\u001b[0m\u001b[1;33m\u001b[0m\u001b[1;33m\u001b[0m\u001b[0m\n\u001b[0m\u001b[0;32m      2\u001b[0m \u001b[0my\u001b[0m \u001b[1;33m=\u001b[0m \u001b[0mdf\u001b[0m\u001b[1;33m[\u001b[0m\u001b[1;34m'Pogi'\u001b[0m\u001b[1;33m]\u001b[0m \u001b[1;31m# 변수\u001b[0m\u001b[1;33m\u001b[0m\u001b[1;33m\u001b[0m\u001b[0m\n\u001b[0;32m      3\u001b[0m \u001b[0mX_train\u001b[0m\u001b[1;33m,\u001b[0m \u001b[0mX_test\u001b[0m\u001b[1;33m,\u001b[0m \u001b[0my_train\u001b[0m\u001b[1;33m,\u001b[0m \u001b[0my_test\u001b[0m \u001b[1;33m=\u001b[0m \u001b[0mtrain_test_split\u001b[0m\u001b[1;33m(\u001b[0m\u001b[0mX\u001b[0m\u001b[1;33m,\u001b[0m \u001b[0my\u001b[0m\u001b[1;33m,\u001b[0m \u001b[0mtest_size\u001b[0m\u001b[1;33m=\u001b[0m\u001b[1;36m0.3\u001b[0m\u001b[1;33m,\u001b[0m \u001b[0mrandom_state\u001b[0m\u001b[1;33m=\u001b[0m\u001b[1;36m33\u001b[0m\u001b[1;33m)\u001b[0m\u001b[1;33m\u001b[0m\u001b[1;33m\u001b[0m\u001b[0m\n",
      "\u001b[1;31mNameError\u001b[0m: name 'scaler_columns' is not defined"
     ]
    }
   ],
   "source": [
    "X = df[scaler_columns]\n",
    "y = df['Pogi'] # 변수 \n",
    "X_train, X_test, y_train, y_test = train_test_split(X, y, test_size=0.3, random_state=33)"
   ]
  },
  {
   "cell_type": "code",
   "execution_count": null,
   "metadata": {},
   "outputs": [],
   "source": [
    "# 표준화 함수 정의\n",
    "sc = preprocessing.StandardScaler()\n",
    "# 데이터를 표준화\n",
    "sc.fit(X_train)\n",
    "X_train_std = sc.transform(X_train)\n",
    "sc.fit(X_test)\n",
    "X_test_std = sc.transform(X_test)"
   ]
  },
  {
   "cell_type": "code",
   "execution_count": null,
   "metadata": {},
   "outputs": [],
   "source": [
    "from sklearn import linear_model\n",
    "from sklearn.linear_model import SGDRegressor\n",
    "from sklearn import preprocessing\n",
    "from sklearn.metrics import mean_squared_error,mean_absolute_error\n",
    "from sklearn.model_selection import train_test_split\n",
    "from sklearn.metrics import accuracy_score\n",
    "from sklearn.neighbors import KNeighborsRegressor\n",
    "from sklearn.linear_model import RANSACRegressor\n",
    "from sklearn.linear_model import LinearRegression"
   ]
  },
  {
   "cell_type": "code",
   "execution_count": null,
   "metadata": {},
   "outputs": [],
   "source": [
    "\n",
    "# 실행해볼 리스트\n",
    "# clf_ = linear_model.LinearRegression(normalize=False) \n",
    "# clf_ = linear_model.Ridge(alpha=.5)\n",
    "# clf_ = linear_model.LassoLars(alpha=.1) \n",
    "# clf_ = RANSACRegressor(random_state=None) \n",
    "clf_ = KNeighborsRegressor(n_neighbors=5) # 15 \n",
    "# clf_ = linear_model.Lasso(alpha=0.1,max_iter=5000)"
   ]
  },
  {
   "cell_type": "code",
   "execution_count": null,
   "metadata": {},
   "outputs": [],
   "source": [
    "clf_.fit(X_train, y_train)\n",
    "y_pred  = clf_.predict(X_test)"
   ]
  },
  {
   "cell_type": "code",
   "execution_count": null,
   "metadata": {},
   "outputs": [],
   "source": [
    "# KNeighborsRegressor\n",
    "print('Mean Squared Error :',mean_squared_error(y_test,y_pred))\n",
    "print('Mean Absolute Error :',mean_absolute_error(y_test,y_pred))\n",
    "print(\"train 학습 정확도 :\", clf_.score(X_train, y_train)) \n",
    "print(\"test 학습 정확도 :\", clf_.score(X_test, y_test))"
   ]
  }
 ],
 "metadata": {
  "colab": {
   "name": "강성안",
   "provenance": []
  },
  "kernelspec": {
   "display_name": "Python 3",
   "language": "python",
   "name": "python3"
  },
  "language_info": {
   "codemirror_mode": {
    "name": "ipython",
    "version": 3
   },
   "file_extension": ".py",
   "mimetype": "text/x-python",
   "name": "python",
   "nbconvert_exporter": "python",
   "pygments_lexer": "ipython3",
   "version": "3.7.6"
  }
 },
 "nbformat": 4,
 "nbformat_minor": 1
}
