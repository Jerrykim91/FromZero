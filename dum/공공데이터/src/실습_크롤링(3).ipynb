{
 "cells": [
  {
   "cell_type": "markdown",
   "metadata": {},
   "source": [
    "# 실습 1 \n",
    "## 정규 표현식을 이용한 스크레핑"
   ]
  },
  {
   "cell_type": "code",
   "execution_count": 14,
   "metadata": {},
   "outputs": [],
   "source": [
    "import re  # 정규식 모델 "
   ]
  },
  {
   "cell_type": "code",
   "execution_count": 2,
   "metadata": {},
   "outputs": [
    {
     "data": {
      "text/plain": [
       "<re.Match object; span=(0, 3), match='abc'>"
      ]
     },
     "execution_count": 2,
     "metadata": {},
     "output_type": "execute_result"
    }
   ],
   "source": [
    "# re.search() => 두개의 매개변수의 문장열이 첫번째 매개변수의 \n",
    "# 정규표현식과 매칭되는지 확인 가능 \n",
    "# 만약 매칭되는 경우 match 객체를 반환\n",
    "# 노매칭일경우 None을 반환 \n",
    "\n",
    "re.search(r'a.*c', 'abc123DEF')"
   ]
  },
  {
   "cell_type": "code",
   "execution_count": 3,
   "metadata": {},
   "outputs": [],
   "source": [
    "result = re.search(r'a.*d', 'abc123DEF')\n",
    "result # 정규 표현식에 맞지 않으므로 None을 반환"
   ]
  },
  {
   "cell_type": "code",
   "execution_count": 4,
   "metadata": {
    "scrolled": true
   },
   "outputs": [],
   "source": [
    "# start, end = result.span()\n",
    "# print(start, end)\n",
    "# print(result.string)"
   ]
  },
  {
   "cell_type": "code",
   "execution_count": 5,
   "metadata": {},
   "outputs": [
    {
     "data": {
      "text/plain": [
       "<re.Match object; span=(0, 7), match='abc123D'>"
      ]
     },
     "execution_count": 5,
     "metadata": {},
     "output_type": "execute_result"
    }
   ],
   "source": [
    "re.search(r'a.*d', 'abc123DEF', re.IGNORECASE) # re.IGNORECASE(또는 re.I)- >지정하면 대소문자를 무시한다. "
   ]
  },
  {
   "cell_type": "code",
   "execution_count": 6,
   "metadata": {},
   "outputs": [
    {
     "data": {
      "text/plain": [
       "'abc123DEFaddc'"
      ]
     },
     "execution_count": 6,
     "metadata": {},
     "output_type": "execute_result"
    }
   ],
   "source": [
    "# match 객체의 group()메서드로 일치한 값을 추출 \n",
    "# 매개변수에 0을 지정하면 매치된 모든 값을 반환 \n",
    "\n",
    "m = re.search(r'a(.*)c', 'abc123DEFaddc')\n",
    "m.group(0)"
   ]
  },
  {
   "cell_type": "code",
   "execution_count": 7,
   "metadata": {},
   "outputs": [
    {
     "data": {
      "text/plain": [
       "'bc123DEFadd'"
      ]
     },
     "execution_count": 7,
     "metadata": {},
     "output_type": "execute_result"
    }
   ],
   "source": [
    "# 매개변수에 1이상의 숫자를 지정하면 정규표현식에서 \n",
    "# 0으로 감싼부분에 해당하는 값을 추출 \n",
    "# 1이라면 1번째 그룹, 2번째라면 2번째 그룹 추출\n",
    "\n",
    "m.group(1)"
   ]
  },
  {
   "cell_type": "code",
   "execution_count": 8,
   "metadata": {},
   "outputs": [
    {
     "data": {
      "text/plain": [
       "'abc123DEFaddc'"
      ]
     },
     "execution_count": 8,
     "metadata": {},
     "output_type": "execute_result"
    }
   ],
   "source": [
    "m.group(0)"
   ]
  },
  {
   "cell_type": "code",
   "execution_count": 9,
   "metadata": {},
   "outputs": [
    {
     "data": {
      "text/plain": [
       "['Thi', 'is', 'pen']"
      ]
     },
     "execution_count": 9,
     "metadata": {},
     "output_type": "execute_result"
    }
   ],
   "source": [
    "# re.findall()  ->  정규 표현식에서 맞는 문자열을 리스트 타입으로 추출 \n",
    "# 2글자 이상의 단어를 모두 추출 \n",
    "# \\w는 유니코드로 글자를 비교, 공백 문자는 \\s 등으로 추출\n",
    "\n",
    "re.findall(r'\\w{2,3}', 'This is a pen')  # 추출 "
   ]
  },
  {
   "cell_type": "code",
   "execution_count": 10,
   "metadata": {},
   "outputs": [
    {
     "data": {
      "text/plain": [
       "['Th', 'is', 'is', 'a', 'pe', 'n']"
      ]
     },
     "execution_count": 10,
     "metadata": {},
     "output_type": "execute_result"
    }
   ],
   "source": [
    "re.findall(r'\\w{1,2}', 'This is a pen') "
   ]
  },
  {
   "cell_type": "code",
   "execution_count": 11,
   "metadata": {},
   "outputs": [
    {
     "data": {
      "text/plain": [
       "'That is a pen'"
      ]
     },
     "execution_count": 11,
     "metadata": {},
     "output_type": "execute_result"
    }
   ],
   "source": [
    "# re.subO() -> 정규표현식에 매칭되는 문자열 치환 \n",
    "# 3번째 매개변수에 넣은 문자열에서 첫번째 정규 표현식에 매칭되는 \n",
    "# 문자열을 2번째 매개변수 문자열로 치환\n",
    "\n",
    "re.sub(r'\\w{4}', 'That', 'This is a pen') # 치환"
   ]
  },
  {
   "cell_type": "markdown",
   "metadata": {},
   "source": [
    "### 매치와 서치의 차이 "
   ]
  },
  {
   "cell_type": "code",
   "execution_count": 12,
   "metadata": {},
   "outputs": [
    {
     "data": {
      "text/plain": [
       "<re.Match object; span=(1, 4), match='abc'>"
      ]
     },
     "execution_count": 12,
     "metadata": {},
     "output_type": "execute_result"
    }
   ],
   "source": [
    "# search는 매칭되는 위치가 어디인지 탐색\n",
    "result = re.search(r'a.*c', ' abc123DEF')\n",
    "result"
   ]
  },
  {
   "cell_type": "code",
   "execution_count": 13,
   "metadata": {},
   "outputs": [
    {
     "data": {
      "text/plain": [
       "<re.Match object; span=(0, 3), match='abc'>"
      ]
     },
     "execution_count": 13,
     "metadata": {},
     "output_type": "execute_result"
    }
   ],
   "source": [
    "# match는 시작부터 일치하는지를 검사\n",
    "result = re.match(r'a.*c', 'abc123DEF')\n",
    "result"
   ]
  }
 ],
 "metadata": {
  "kernelspec": {
   "display_name": "Python 3",
   "language": "python",
   "name": "python3"
  },
  "language_info": {
   "codemirror_mode": {
    "name": "ipython",
    "version": 3
   },
   "file_extension": ".py",
   "mimetype": "text/x-python",
   "name": "python",
   "nbconvert_exporter": "python",
   "pygments_lexer": "ipython3",
   "version": "3.8.3"
  }
 },
 "nbformat": 4,
 "nbformat_minor": 4
}
