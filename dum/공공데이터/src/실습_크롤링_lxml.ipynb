{
 "cells": [
  {
   "cell_type": "markdown",
   "metadata": {},
   "source": [
    "# 실습 1\n",
    "## 목록 페이지에서 퍼머 링크 목록 추출 "
   ]
  },
  {
   "cell_type": "code",
   "execution_count": 2,
   "metadata": {},
   "outputs": [],
   "source": [
    "# 크롤링\n",
    "import requests\n",
    "import lxml.html\n",
    "# !pip install cssselect"
   ]
  },
  {
   "cell_type": "code",
   "execution_count": 4,
   "metadata": {},
   "outputs": [],
   "source": [
    "targetUrl = 'https://www.hanbit.co.kr/store/books/new_book_list.html'"
   ]
  },
  {
   "cell_type": "code",
   "execution_count": 7,
   "metadata": {},
   "outputs": [
    {
     "name": "stdout",
     "output_type": "stream",
     "text": [
      "/store/books/look.php?p_code=B9143267027\n",
      "/store/books/look.php?p_code=B3517216657\n",
      "/store/books/look.php?p_code=B4872223435\n",
      "/store/books/look.php?p_code=B9279330130\n",
      "/store/books/look.php?p_code=B6787201225\n",
      "/store/books/look.php?p_code=B3963656224\n",
      "/store/books/look.php?p_code=B1740090592\n",
      "/store/books/look.php?p_code=B2672932319\n",
      "/store/books/look.php?p_code=B3872657116\n",
      "/store/books/look.php?p_code=B8226621719\n",
      "/store/books/look.php?p_code=B9479195027\n",
      "/store/books/look.php?p_code=B8945183661\n",
      "/store/books/look.php?p_code=B8460934222\n",
      "/store/books/look.php?p_code=B1191734987\n",
      "/store/books/look.php?p_code=B2082711299\n",
      "/store/books/look.php?p_code=B5877288702\n",
      "/store/books/look.php?p_code=B1825116777\n",
      "/store/books/look.php?p_code=B5937482728\n",
      "/store/books/look.php?p_code=B8656803901\n",
      "/store/books/look.php?p_code=B3397547488\n"
     ]
    }
   ],
   "source": [
    "respon = requests.get(targetUrl)\n",
    "root = lxml.html.fromstring(respon.content)\n",
    "\n",
    "for a in root.cssselect('.view_box .book_tit a'):\n",
    "    url = a.get('href')\n",
    "    print(url)"
   ]
  },
  {
   "cell_type": "code",
   "execution_count": 8,
   "metadata": {
    "scrolled": true
   },
   "outputs": [
    {
     "name": "stdout",
     "output_type": "stream",
     "text": [
      "https://www.hanbit.co.kr/store/books/look.php?p_code=B9143267027\n",
      "https://www.hanbit.co.kr/store/books/look.php?p_code=B3517216657\n",
      "https://www.hanbit.co.kr/store/books/look.php?p_code=B4872223435\n",
      "https://www.hanbit.co.kr/store/books/look.php?p_code=B9279330130\n",
      "https://www.hanbit.co.kr/store/books/look.php?p_code=B6787201225\n",
      "https://www.hanbit.co.kr/store/books/look.php?p_code=B3963656224\n",
      "https://www.hanbit.co.kr/store/books/look.php?p_code=B1740090592\n",
      "https://www.hanbit.co.kr/store/books/look.php?p_code=B2672932319\n",
      "https://www.hanbit.co.kr/store/books/look.php?p_code=B3872657116\n",
      "https://www.hanbit.co.kr/store/books/look.php?p_code=B8226621719\n",
      "https://www.hanbit.co.kr/store/books/look.php?p_code=B9479195027\n",
      "https://www.hanbit.co.kr/store/books/look.php?p_code=B8945183661\n",
      "https://www.hanbit.co.kr/store/books/look.php?p_code=B8460934222\n",
      "https://www.hanbit.co.kr/store/books/look.php?p_code=B1191734987\n",
      "https://www.hanbit.co.kr/store/books/look.php?p_code=B2082711299\n",
      "https://www.hanbit.co.kr/store/books/look.php?p_code=B5877288702\n",
      "https://www.hanbit.co.kr/store/books/look.php?p_code=B1825116777\n",
      "https://www.hanbit.co.kr/store/books/look.php?p_code=B5937482728\n",
      "https://www.hanbit.co.kr/store/books/look.php?p_code=B8656803901\n",
      "https://www.hanbit.co.kr/store/books/look.php?p_code=B3397547488\n"
     ]
    }
   ],
   "source": [
    "respon = requests.get(targetUrl)\n",
    "root = lxml.html.fromstring(respon.content)\n",
    "# 모든 링크를 절대 url로 변환\n",
    "root.make_links_absolute(respon.url) #  상대 url을 절대 url로 변경 \n",
    "\n",
    "for a in root.cssselect('.view_box .book_tit a'):\n",
    "    url = a.get('href')\n",
    "    print(url)\n",
    "#     break"
   ]
  }
 ],
 "metadata": {
  "kernelspec": {
   "display_name": "Python 3",
   "language": "python",
   "name": "python3"
  },
  "language_info": {
   "codemirror_mode": {
    "name": "ipython",
    "version": 3
   },
   "file_extension": ".py",
   "mimetype": "text/x-python",
   "name": "python",
   "nbconvert_exporter": "python",
   "pygments_lexer": "ipython3",
   "version": "3.8.3"
  }
 },
 "nbformat": 4,
 "nbformat_minor": 4
}
