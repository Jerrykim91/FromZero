{
 "cells": [
  {
   "cell_type": "code",
   "execution_count": 4,
   "metadata": {},
   "outputs": [],
   "source": [
    "import re \n",
    "from urllib.request import urlopen\n",
    "from bs4 import BeautifulSoup\n",
    "\n",
    "import os, glob\n",
    "import pandas as pd\n",
    "\n",
    "# 크롤링\n",
    "import requests\n",
    "import urllib.request\n",
    "import lxml.html\n",
    "\n",
    "from bs4 import BeautifulSoup\n",
    "from urllib.request import urlopen\n",
    "from urllib.parse import quote"
   ]
  },
  {
   "cell_type": "code",
   "execution_count": 58,
   "metadata": {},
   "outputs": [],
   "source": [
    "# soup = BeautifulSoup(urlopen(url), \"html.parser\")"
   ]
  },
  {
   "cell_type": "code",
   "execution_count": 79,
   "metadata": {},
   "outputs": [
    {
     "name": "stdout",
     "output_type": "stream",
     "text": [
      "Collecting selenium\n",
      "Note: you may need to restart the kernel to use updated packages.  Downloading selenium-3.141.0-py2.py3-none-any.whl (904 kB)\n",
      "Requirement already satisfied: urllib3 in c:\\users\\user\\anaconda3\\lib\\site-packages (from selenium) (1.25.9)\n",
      "Installing collected packages: selenium\n",
      "Successfully installed selenium-3.141.0\n",
      "\n"
     ]
    }
   ],
   "source": [
    "# pip install selenium"
   ]
  },
  {
   "cell_type": "code",
   "execution_count": 2,
   "metadata": {},
   "outputs": [],
   "source": [
    "url = 'http://cslee.co.kr/performance.html'"
   ]
  },
  {
   "cell_type": "code",
   "execution_count": 12,
   "metadata": {},
   "outputs": [],
   "source": [
    "respon = requests.get(url)\n",
    "root = lxml.html.fromstring(respon.content)\n",
    "\n",
    "for a in root.cssselect('#prj_2019 '):\n",
    "    print(a)"
   ]
  },
  {
   "cell_type": "code",
   "execution_count": null,
   "metadata": {},
   "outputs": [],
   "source": []
  },
  {
   "cell_type": "code",
   "execution_count": 96,
   "metadata": {
    "scrolled": true
   },
   "outputs": [
    {
     "name": "stderr",
     "output_type": "stream",
     "text": [
      "<ipython-input-96-339188c9e87e>:8: DeprecationWarning: use options instead of chrome_options\n",
      "  driver = webdriver.Chrome('C:\\src\\\\chromedriver.exe',chrome_options=options)\n"
     ]
    },
    {
     "name": "stdout",
     "output_type": "stream",
     "text": [
      "기술사 양성교육과정 117회(2018) - 정보관리/컴퓨터시스템응용 아이리포교육센터 2018\n",
      "2018년 혁신성장 청년인재 집중양성사업 - 실용중심 인공지능(AI) 개발자 양성과정 IITP 2018\n",
      "SW중소기업을 위한 경량 개발 방법론 교육과정 개발 및 운영 정보통신산업진흥원 2018\n",
      "신한금융 Agile 맞춤형 교육(Agile Basic) 신한금융 2018\n",
      "대전광역시 공공빅데이터 맞춤형 교육(빅데이터 분석/시각화 과정) 대전광역시 2018\n",
      "공공빅데이터 커리큘럼 기획 및 시행 한국정보화진흥원(행정안전부) 2018\n",
      "2018 교보생명 신입직원 교육 - UML과정 IBM(교보생명) 2018\n",
      "기술사 양성교육과정 116회(2018) - 정보관리/컴퓨터시스템응용 아이리포교육센터 2018\n",
      "기술사 양성교육과정 114회 - 정보관리/컴퓨터시스템응용 - 특별과정(2018) 아이리포교육센터 2018\n"
     ]
    }
   ],
   "source": [
    "from selenium import webdriver\n",
    "\n",
    "options = webdriver.ChromeOptions()\n",
    "options.add_argument('headless')\n",
    "# options.add_argument('window-size=1920x1080')\n",
    "options.add_argument(\"disable-gpu\")\n",
    "\n",
    "driver = webdriver.Chrome('C:\\src\\\\chromedriver.exe',chrome_options=options)\n",
    "driver.get(url)\n",
    "\n",
    "for i in range(1,10):\n",
    "    a = driver.find_element_by_xpath(f'/html/body/div/div/div/div/div[1]/table/tbody/tr[{i}]')\n",
    "    print(a.text)\n"
   ]
  }
 ],
 "metadata": {
  "kernelspec": {
   "display_name": "Python 3",
   "language": "python",
   "name": "python3"
  },
  "language_info": {
   "codemirror_mode": {
    "name": "ipython",
    "version": 3
   },
   "file_extension": ".py",
   "mimetype": "text/x-python",
   "name": "python",
   "nbconvert_exporter": "python",
   "pygments_lexer": "ipython3",
   "version": "3.8.3"
  }
 },
 "nbformat": 4,
 "nbformat_minor": 4
}
