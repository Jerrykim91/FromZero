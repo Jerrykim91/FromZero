{
 "cells": [
  {
   "cell_type": "markdown",
   "metadata": {},
   "source": [
    "# 내장함수\n",
    "\n",
    "#### 작성 목적 : 이미 남에 의해 만들어진 것을 최대한 나의 방식에 맞게 정리해서 활용하여 불필요한 행동을 줄이고자 작성하게 됨 \n",
    "\n",
    "- 파이썬 인터프리터에는 항상 사용 가능한 함수와 형이 내장 \n",
    "- import가 필요 없이 바로 사용가능 \n",
    "- 주로 많이 사용하는 것은 약 30개 정도지만 공식 사이트에서 언급한 모든 내장함수를 공부하려 함\n",
    "- 빈도수가 높은 30개의 항목은 **강조하여** 작성할 예정 \n",
    "---\n"
   ]
  },
  {
   "cell_type": "markdown",
   "metadata": {},
   "source": [
    "## abs(x)\n",
    "- 인자(x)에 값을 입력받았을 때, 그**숫자의 절대값을 돌려주는 함수**\n",
    "- 인자(x)는 정수 또는 실수 \n",
    "- 인자가 복소수일경우 크기를 리턴받는다.\n",
    "\n",
    "- 아직은 이말뜻을 잘 모르겠다\n",
    "    - `x가 __abs__()를 정의하면, abs(x)는 x.__abs__()를 반환`"
   ]
  },
  {
   "cell_type": "code",
   "execution_count": 1,
   "metadata": {},
   "outputs": [
    {
     "data": {
      "text/plain": [
       "3"
      ]
     },
     "execution_count": 1,
     "metadata": {},
     "output_type": "execute_result"
    }
   ],
   "source": [
    "abs(3)"
   ]
  },
  {
   "cell_type": "code",
   "execution_count": 2,
   "metadata": {},
   "outputs": [
    {
     "data": {
      "text/plain": [
       "3"
      ]
     },
     "execution_count": 2,
     "metadata": {},
     "output_type": "execute_result"
    }
   ],
   "source": [
    "abs(-3)"
   ]
  },
  {
   "cell_type": "code",
   "execution_count": 3,
   "metadata": {},
   "outputs": [
    {
     "data": {
      "text/plain": [
       "1.2"
      ]
     },
     "execution_count": 3,
     "metadata": {},
     "output_type": "execute_result"
    }
   ],
   "source": [
    "abs(-1.2)"
   ]
  },
  {
   "cell_type": "code",
   "execution_count": 4,
   "metadata": {},
   "outputs": [
    {
     "data": {
      "text/plain": [
       "8.54400374531753"
      ]
     },
     "execution_count": 4,
     "metadata": {},
     "output_type": "execute_result"
    }
   ],
   "source": [
    "# 복소수 \n",
    "# 복소수를 인자에 넣었을때 크기를 리턴받는다고 했는데 \n",
    "# 크기 = 값의 크기(전체) \n",
    "abs(8+3j)"
   ]
  },
  {
   "cell_type": "markdown",
   "metadata": {},
   "source": [
    "---"
   ]
  },
  {
   "cell_type": "markdown",
   "metadata": {},
   "source": [
    "## all(iterable)\n",
    "- 인자가 iterable 이라는것은 인자는 반복 가능한 데이터\n",
    "    - 즉, iterable =  반복 가능한 데이터\n",
    "- 인자(iterable)의 모든 요소가 참이면 혹은 비어있으면 => 참을 돌려준다 \n",
    "이말인 즉, \n",
    "- all(x)는 반복가능한 인자를 받아 이 인자(x)가 모두 참이면 True , 거짓이 하나라도 있으면 False 를 값을 리턴한다.   \n",
    "\n",
    "- 여기서 반복 가능한 자료형은 for문으로 출력가능한 리스트, 튜플, 딕셔너리 등등이 있다. \n",
    "\n",
    "```py\n",
    "# 리스트 변수 생성  =>  생성함수와 내장함수에 동일한 변수 값을 사용 \n",
    "# True\n",
    "num_true = list(range(1,6))\n",
    "# False\n",
    "num_false = list(range(0,6))\n",
    "# 짚고 넘어가기: range(1,6)출력이 6이 출력 되는게 아니라 (6-1)=5가 출력 ** \n",
    "```\n",
    "\n",
    "```py\n",
    "\n",
    "            # test_all_method()\n",
    "            def test_all_method(iterable):\n",
    "                for element in iterable :\n",
    "                    if not element: \n",
    "                        return False\n",
    "\n",
    "                return True\n",
    "\n",
    "```"
   ]
  },
  {
   "cell_type": "code",
   "execution_count": 5,
   "metadata": {},
   "outputs": [
    {
     "data": {
      "text/plain": [
       "[0, 1, 2, 3, 4, 5]"
      ]
     },
     "execution_count": 5,
     "metadata": {},
     "output_type": "execute_result"
    }
   ],
   "source": [
    "# 고정 변수\n",
    "num_true = list(range(1,6))  # 5개\n",
    "num_false = list(range(0,6)) # 6개 \n",
    "num_false"
   ]
  },
  {
   "cell_type": "code",
   "execution_count": 6,
   "metadata": {},
   "outputs": [
    {
     "data": {
      "text/plain": [
       "True"
      ]
     },
     "execution_count": 6,
     "metadata": {},
     "output_type": "execute_result"
    }
   ],
   "source": [
    "# 내장 되어있는 all 함수 이용해서 확인\n",
    "all(num_true)"
   ]
  },
  {
   "cell_type": "code",
   "execution_count": 7,
   "metadata": {},
   "outputs": [
    {
     "data": {
      "text/plain": [
       "False"
      ]
     },
     "execution_count": 7,
     "metadata": {},
     "output_type": "execute_result"
    }
   ],
   "source": [
    "all(num_false)"
   ]
  },
  {
   "cell_type": "code",
   "execution_count": 8,
   "metadata": {},
   "outputs": [],
   "source": [
    "# 테스트로 all을 함수로 짜보자면  \n",
    "# 함수 명 : test_all_method\n",
    "\n",
    "# test_all_method()\n",
    "def test_all_method(iterable):\n",
    "    for element in iterable :\n",
    "        if not element: \n",
    "            return False\n",
    "        \n",
    "    return True"
   ]
  },
  {
   "cell_type": "code",
   "execution_count": 9,
   "metadata": {},
   "outputs": [
    {
     "data": {
      "text/plain": [
       "True"
      ]
     },
     "execution_count": 9,
     "metadata": {},
     "output_type": "execute_result"
    }
   ],
   "source": [
    "test_all_method(num_true)"
   ]
  },
  {
   "cell_type": "code",
   "execution_count": 10,
   "metadata": {},
   "outputs": [
    {
     "data": {
      "text/plain": [
       "False"
      ]
     },
     "execution_count": 10,
     "metadata": {},
     "output_type": "execute_result"
    }
   ],
   "source": [
    "test_all_method(num_false)"
   ]
  },
  {
   "cell_type": "markdown",
   "metadata": {},
   "source": [
    "- 생성함수와 내장함수가 동일하게 출력 되는것을 확인할 수있다. \n",
    "- all에 대한 궁금증이 생긴다면 함수의 구조를 보는것이 빠르게 이 함수에 대해서 이해할수 있을 것이다. \n",
    "---"
   ]
  },
  {
   "cell_type": "markdown",
   "metadata": {},
   "source": [
    "## any(iterable)\n",
    "- iterable한 성질을 가진 인자의 **요소 중 하나라도 참이면 True**를 리턴\n",
    "- 비어 있으면 False을 리턴 \n",
    "\n",
    "- All()과는 반대 \n",
    "- all()과 차이가 있다면 all()은 모든 요소, any()는 요소중 하나라도 참일때 True를 리턴\n"
   ]
  },
  {
   "cell_type": "code",
   "execution_count": 11,
   "metadata": {},
   "outputs": [],
   "source": [
    "# any을 함수화\n",
    "# 함수 명 : test_any_method\n",
    "\n",
    "# test_any_method()\n",
    "def test_any_method(iterable):\n",
    "    for element in iterable :\n",
    "        if element: \n",
    "            return True\n",
    "        \n",
    "    return False"
   ]
  },
  {
   "cell_type": "code",
   "execution_count": 12,
   "metadata": {},
   "outputs": [
    {
     "data": {
      "text/plain": [
       "[0, '']"
      ]
     },
     "execution_count": 12,
     "metadata": {},
     "output_type": "execute_result"
    }
   ],
   "source": [
    "# all의 고정함수를 변경\n",
    "num_true = list(range(0,6))\n",
    "num_false = [0, \"\"] # 6개 \n",
    "num_false"
   ]
  },
  {
   "cell_type": "code",
   "execution_count": 13,
   "metadata": {},
   "outputs": [
    {
     "data": {
      "text/plain": [
       "True"
      ]
     },
     "execution_count": 13,
     "metadata": {},
     "output_type": "execute_result"
    }
   ],
   "source": [
    "any(num_true)"
   ]
  },
  {
   "cell_type": "code",
   "execution_count": 14,
   "metadata": {
    "scrolled": true
   },
   "outputs": [
    {
     "data": {
      "text/plain": [
       "True"
      ]
     },
     "execution_count": 14,
     "metadata": {},
     "output_type": "execute_result"
    }
   ],
   "source": [
    "test_any_method(num_true)"
   ]
  },
  {
   "cell_type": "code",
   "execution_count": 15,
   "metadata": {},
   "outputs": [
    {
     "data": {
      "text/plain": [
       "False"
      ]
     },
     "execution_count": 15,
     "metadata": {},
     "output_type": "execute_result"
    }
   ],
   "source": [
    "# 0과 \"\"은 모두 거짓\n",
    "any(num_false)"
   ]
  },
  {
   "cell_type": "code",
   "execution_count": 16,
   "metadata": {},
   "outputs": [
    {
     "data": {
      "text/plain": [
       "False"
      ]
     },
     "execution_count": 16,
     "metadata": {},
     "output_type": "execute_result"
    }
   ],
   "source": [
    "test_any_method(num_false)"
   ]
  },
  {
   "cell_type": "markdown",
   "metadata": {},
   "source": [
    "---"
   ]
  },
  {
   "cell_type": "markdown",
   "metadata": {},
   "source": [
    "## [bool([x])](https://docs.python.org/ko/3/library/stdtypes.html#truth)\n",
    "\n",
    "- class \n",
    "- 논리값, True 또는 False 중 하나를 리턴\n",
    "- x 가 거짓이거나 생략되면 False 를 리턴\n",
    "- bool 클래스는 int()의 서브 클래스\n"
   ]
  },
  {
   "cell_type": "code",
   "execution_count": 21,
   "metadata": {},
   "outputs": [
    {
     "data": {
      "text/plain": [
       "False"
      ]
     },
     "execution_count": 21,
     "metadata": {},
     "output_type": "execute_result"
    }
   ],
   "source": [
    "bool()"
   ]
  },
  {
   "cell_type": "markdown",
   "metadata": {},
   "source": [
    "---"
   ]
  },
  {
   "cell_type": "markdown",
   "metadata": {},
   "source": [
    "## bytes([source[, encoding[, errors]]])\n",
    "\n",
    "- 새로운 바이트 열 객체를 리턴  =>  바이트열 객체는 리터럴을 사용\n",
    "- 0 <= x < 256 범위에 있는 정수의 불변 시퀀스\n",
    "-  생성자 인자는 bytearray() 와 같이 해석\n",
    "---"
   ]
  },
  {
   "cell_type": "markdown",
   "metadata": {},
   "source": [
    "## bytearray([source[, encoding[, errors]]])\n",
    "\n",
    "- [참조](https://docs.python.org/ko/3/library/stdtypes.html#binaryseq)\n",
    "- 바이너리 시퀀스 형중 하나 \n",
    "- 새로운 바이트 배열을 리턴 \n",
    "- bytearray 클래스는 0 <= x < 256 범위에 있는 정수의 가변 시퀀스\n",
    "\n",
    "- source 매개변수\n",
    "    - 문자열 이면, 반드시 encoding 매개변수도 제공\n",
    "        - bytearray() 는 str.encode() 를 사용하여 문자열을 바이트로 변환\n",
    "    - 정수면, 배열은 그 크기를 갖고, 널 바이트로 초기화\n",
    "    - 버퍼(buffer) 인터페이스를 제공하는 객체면, 객체의 읽기 전용 버퍼가 바이트 배열을 초기화하는 데 사용\n",
    "    - 이터러블 이면, 범위 0 <= x < 256 의 정수를 제공하는 이터러블이어야 하고, 그 값들이 배열의 초기 내용물로 사용\n",
    "- 인자가 없으면 0의 배열이 생성 "
   ]
  },
  {
   "cell_type": "markdown",
   "metadata": {},
   "source": [
    "---"
   ]
  },
  {
   "cell_type": "markdown",
   "metadata": {},
   "source": [
    "## callable(object)\n",
    "\n",
    "- object인자가 콜러블인 것처럼 보이면 True를, 그렇지 않으면 False 를 리턴\n",
    "    - True를 리턴해도 호출 실패 가능성이 있음 \n",
    "    - False일 때 object를 리턴 =>  반드시 실패\n",
    "- 클래스에 __call__() 메서드가 있으면 인스턴스도 콜러블\n",
    "---"
   ]
  },
  {
   "cell_type": "markdown",
   "metadata": {},
   "source": [
    "## chr(i)\n",
    "\n",
    "- 유니코드 코드 포인트가 정수 i 인 문자를 나타내는 문자열을 리턴 \n",
    "- 아스키코드의 값을 입력 받으면 그코드와 매치되는 문자를 리턴 \n",
    "- ord()의 반대\n",
    "\n",
    "- 아스키코드 : 0과 127사이의 숫자를 각 문자 또는 기호에 대응 시켜 놓은 것 \n",
    "    - 문자를 공식적으로 수치화 한것이라고 생각하면 이해가 빠름 "
   ]
  },
  {
   "cell_type": "code",
   "execution_count": 25,
   "metadata": {},
   "outputs": [
    {
     "data": {
      "text/plain": [
       "'a'"
      ]
     },
     "execution_count": 25,
     "metadata": {},
     "output_type": "execute_result"
    }
   ],
   "source": [
    "# a 리턴 \n",
    "chr(97)"
   ]
  },
  {
   "cell_type": "code",
   "execution_count": 27,
   "metadata": {},
   "outputs": [
    {
     "data": {
      "text/plain": [
       "'0'"
      ]
     },
     "execution_count": 27,
     "metadata": {},
     "output_type": "execute_result"
    }
   ],
   "source": [
    "chr(48)"
   ]
  },
  {
   "cell_type": "code",
   "execution_count": 26,
   "metadata": {},
   "outputs": [
    {
     "data": {
      "text/plain": [
       "'€'"
      ]
     },
     "execution_count": 26,
     "metadata": {},
     "output_type": "execute_result"
    }
   ],
   "source": [
    "chr(8364)"
   ]
  },
  {
   "cell_type": "markdown",
   "metadata": {},
   "source": [
    "---"
   ]
  },
  {
   "cell_type": "code",
   "execution_count": null,
   "metadata": {},
   "outputs": [],
   "source": []
  },
  {
   "cell_type": "code",
   "execution_count": null,
   "metadata": {},
   "outputs": [],
   "source": []
  },
  {
   "cell_type": "code",
   "execution_count": null,
   "metadata": {},
   "outputs": [],
   "source": []
  },
  {
   "cell_type": "code",
   "execution_count": null,
   "metadata": {},
   "outputs": [],
   "source": []
  },
  {
   "cell_type": "code",
   "execution_count": null,
   "metadata": {},
   "outputs": [],
   "source": []
  },
  {
   "cell_type": "code",
   "execution_count": null,
   "metadata": {},
   "outputs": [],
   "source": []
  },
  {
   "cell_type": "code",
   "execution_count": null,
   "metadata": {},
   "outputs": [],
   "source": []
  },
  {
   "cell_type": "code",
   "execution_count": null,
   "metadata": {},
   "outputs": [],
   "source": []
  },
  {
   "cell_type": "code",
   "execution_count": null,
   "metadata": {},
   "outputs": [],
   "source": []
  },
  {
   "cell_type": "markdown",
   "metadata": {},
   "source": [
    "## breakpoint(\\*args, \\*\\*kws)\n",
    "- 호출 시점에서 디버거로 진입"
   ]
  },
  {
   "cell_type": "markdown",
   "metadata": {},
   "source": [
    "---"
   ]
  },
  {
   "cell_type": "markdown",
   "metadata": {},
   "source": [
    "## ascii(object)\n",
    "- repr()처럼, 객체의 인쇄 가능한 표현을 포함하는 문자열을 반환\n",
    "- \\x 나 \\u 또는 \\U 이스케이프를 사용하여 repr() 이 돌려주는 문자열에 포함된 비 ASCII 문자를 이스케이프함 \n",
    "\n",
    "- 안쓸 것 같음 \n",
    "---"
   ]
  },
  {
   "cell_type": "markdown",
   "metadata": {},
   "source": [
    "## bin(x) \n",
    "- 정수를 0b 가 앞에 붙은 이진 문자열로 반환 \n",
    "- 인자가 파이썬의 int 객체가 아니면, 정수를 돌려주는  __index__() 메서드를 정의\n"
   ]
  },
  {
   "cell_type": "code",
   "execution_count": 17,
   "metadata": {},
   "outputs": [
    {
     "data": {
      "text/plain": [
       "'0b101'"
      ]
     },
     "execution_count": 17,
     "metadata": {},
     "output_type": "execute_result"
    }
   ],
   "source": [
    "bin(5)"
   ]
  },
  {
   "cell_type": "code",
   "execution_count": 18,
   "metadata": {},
   "outputs": [
    {
     "data": {
      "text/plain": [
       "'-0b1001'"
      ]
     },
     "execution_count": 18,
     "metadata": {},
     "output_type": "execute_result"
    }
   ],
   "source": [
    "bin(-9)"
   ]
  },
  {
   "cell_type": "code",
   "execution_count": 19,
   "metadata": {},
   "outputs": [
    {
     "data": {
      "text/plain": [
       "('0b1110', '1110')"
      ]
     },
     "execution_count": 19,
     "metadata": {},
     "output_type": "execute_result"
    }
   ],
   "source": [
    "# 접두어 0b가 필요할수도 없을 수도 있을때 1\n",
    "\n",
    "format(14, '#b'), format(14, 'b')"
   ]
  },
  {
   "cell_type": "code",
   "execution_count": 20,
   "metadata": {},
   "outputs": [
    {
     "data": {
      "text/plain": [
       "('0b1110', '1110')"
      ]
     },
     "execution_count": 20,
     "metadata": {},
     "output_type": "execute_result"
    }
   ],
   "source": [
    "# 접두어 0b가 필요할수도 없을 수도 있을때 2\n",
    "\n",
    "f'{14:#b}', f'{14:b}'"
   ]
  },
  {
   "cell_type": "markdown",
   "metadata": {},
   "source": [
    "---"
   ]
  },
  {
   "cell_type": "code",
   "execution_count": 22,
   "metadata": {},
   "outputs": [],
   "source": [
    "# https://docs.python.org/ko/3/library/functions.html\n",
    "# https://wikidocs.net/32"
   ]
  }
 ],
 "metadata": {
  "kernelspec": {
   "display_name": "Python 3",
   "language": "python",
   "name": "python3"
  },
  "language_info": {
   "codemirror_mode": {
    "name": "ipython",
    "version": 3
   },
   "file_extension": ".py",
   "mimetype": "text/x-python",
   "name": "python",
   "nbconvert_exporter": "python",
   "pygments_lexer": "ipython3",
   "version": "3.6.5"
  }
 },
 "nbformat": 4,
 "nbformat_minor": 2
}
