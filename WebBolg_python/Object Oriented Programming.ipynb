{
 "cells": [
  {
   "cell_type": "markdown",
   "metadata": {},
   "source": [
    "## 0.  프로그래밍 언어론(Programming Language)"
   ]
  },
  {
   "cell_type": "markdown",
   "metadata": {},
   "source": [
    "###  - 프로그램언어       \n",
    "    - 인간과 컴퓨터 간의 의사소통 \n",
    "    - 컴퓨터는 기계어만 이해한다. \n",
    "    \n",
    "### - 기계어 \n",
    "1. 0과 1로 된 이진수 형태로 **CPU가 이해 할 수 있는 코드**     \n",
    "    - CPU가 수행할 수 있는 명령 : instruction set (기계어로 표시되는 명령어 집합)     \n",
    "    \n",
    "    \n",
    "2. 저급언어 고급언어 \n",
    "    - **저급 언어** \n",
    "        => 데이터 저장 주소를 정확히 알아야 접근가능 \n",
    "        - 기계어 : 0과 1로 된 2진수 언어 \n",
    "        - 어셈블리어 : 기계어 명령을 알기 쉬운 기호로 표시된언어      \n",
    "            예) add a b : A 저장소에 있는 데이터에 B 저장소에 있는 데이터를 더해서, A 저장소에 저장\n",
    "\n",
    "    - **고급언어**\n",
    "        => 주소 대신 변수 이름으로 저장소에 접근\n",
    "        - 하드웨어의 기술적인 요소를 상세히 알지못해도 쉽게 작성하고 수정\n",
    "            - 일상언어(영어)에서 사용하는 표현으로 작성 가능\n",
    "                - \\+ 더하기 / - 빼기 \n",
    "            - 명령하나에 다수 동작 지시가능 \n",
    "                -  ```y =  x + ( a * b)```\n",
    "         - 대표언어 : c언어 , java언어 , python언어    \n",
    "          <br> \n",
    "          \n",
    "          \n",
    "          \n",
    " - 고급언어와 기계어를 제외한 저급언어 명령 전달    \n",
    "    -> 어셈블러를 통해 결국 기계어로 변환 -> cpu에 전달-> 실행\n",
    "\n",
    "\n",
    " - 고급언어 명령 전달      \n",
    "    -> 컴파일러 혹은 인터프리터 ->  기계어로 변환\n",
    "    - **컴파일러**\n",
    "        - 고급 언어로 작성 된 코드를 **한 번에** 기계로 변환하는 프로그램 \n",
    "            - Java , C Language\n",
    "    - **인터 프리터** \n",
    "        - 고급언어로 작성된 코드를 **한줄씩** 기계어로 변환 하는 프로그램 \n",
    "            - Python \n"
   ]
  },
  {
   "cell_type": "markdown",
   "metadata": {},
   "source": [
    "## 1. 객체지향 프로그래밍(Object Oriented Programming)"
   ]
  },
  {
   "cell_type": "markdown",
   "metadata": {},
   "source": [
    "### - 절차 지향 그리고 객체지향 프로그래밍 \n",
    "    - 절차 지향 프로그래밍 \n",
    "      - 예) 냉장고에 코끼리를 넣는다 \n",
    "              1. 냉장고 문을 연다          => 1. open 냉장고\n",
    "              2. 코끼리를 냉장고에 넣는다. => 2. insert코끼리 into 냉장고 \n",
    "              3. 냉장고 문을 닫는다.       => 3. close 냉장고 \n",
    "              \n",
    "     - 객체지향 프로그래밍    \n",
    "         : 객체(object) 단위로 데이터,기능(함수)를 하나로 묶어서 쓰는 언어"
   ]
  },
  {
   "cell_type": "markdown",
   "metadata": {},
   "source": [
    "### - 객체지향 프로그래밍 핵심 (Class와 Object)    \n",
    "    -> class(설계도), Object(객체), attribute(변수), method(함수)    \n",
    "   -  **Class 란?**     \n",
    "       => 예) 자동차 설계도     \n",
    "        - 속성(attribute)와 동작(method)을 갖는 데이터 타입    \n",
    "        - 속성(attribute)는 변수와 유사     \n",
    "        - 동작(method)는 함수와 유사     \n",
    "        \n",
    "   - **Object 란?**    \n",
    "       => 예) 실제 각 자동차    \n",
    "        - 선언된 클래스를 기반으로 만들어진 실체     \n",
    "            : (객체(object) 또는 인스턴스(instance)라고 함)   \n",
    "        - 하나의 클래스 설계도를 기반으로 수많은 객체 생성이 가능함    "
   ]
  },
  {
   "cell_type": "markdown",
   "metadata": {},
   "source": [
    "### - 객체지향 프로그램 작성 방법\n",
    "\n",
    "    1.클래스 설계 \n",
    "        - 속성(attribute)와 동작(method) 구성\n",
    "    2.설계한 클래스를 기반 -> 클래스를 코드로 작성\n",
    "    3.클래스를 기반으로 필요한 객체 생성\n",
    "    4.해당 객체의 속성(attribute)과 동작(method)를 조작하여 프로그램 수행"
   ]
  },
  {
   "cell_type": "markdown",
   "metadata": {},
   "source": [
    "### 3. 예제 -  객체지향 문법(사각형 만들기)\n",
    "\n",
    "1. Class 선언하기 \n",
    "    => 객체 생성 전에 미리 class를 선언해야 함\n",
    "        - 클래스명은 PEP Coding Convention에 가이드된 대로 \n",
    "            각 단어의 첫 문자를 대문자로 하는 CapWords 방식을 사용\n",
    "            \n",
    "    - Class 구조 만들기 \n",
    "        => class에 attribute/method를 아직 안넣은 상태 \n",
    "        => 클래스에 내용이 없기에 임의로 pass 를 넣어 \n",
    "        => 클래스 선언이 끝났음을 알려줌\n",
    "        => 클래스명(object)로 쓸 수도 있음, object를 생략도 가능 \n",
    "        => 만들어진 클래스로 내부에 객체를 만들 수 있음\n",
    "            - 객체도 변수/함수/클래스와 마찬가지로 유일한 이름을 지어줘야 함\n",
    "            - 함수와 마찬가지로 인수를 넣을 수 있음\n",
    "            **의문) 오브젝트와 함수의 차이는?**\n",
    "            \n",
    "        ```py\n",
    "        class Car:\n",
    "            pass \n",
    "            # pass는 아무것도 수행하지 않는 문법, 임시 코드 작성시 주로 사용\n",
    "        ```\n",
    "        \n",
    "2. 속성(attribute) \n",
    "    - 표현하고자하는 혹은 만들고자 하는 속성 \n",
    "        - width, height, color \n",
    "    - 객체의 속성(attribute) 접근\n",
    "        - 객체명.속성(attribute)명\n",
    "        \n",
    "3. 동작(method)\n",
    "    - 만들고자 하는 method 생각해보기_1\n",
    "        - 사각형 넓이 구하기 \n",
    "        - 이 부분을 이해해야 함\n",
    "            - 속성은 항상 첫 번째 파라미터(매개변수)로 self 사용\n",
    "            - 인자가 필요없을 때에도 **self는 사용**\n",
    "            - 클래스의 속성에 내부에서 접근시, self.attribute명으로 접근\n",
    "     - 만들고자 하는 method 생각해보기_2\n",
    "        - 사각형 width, height 설정하기 \n",
    "     - 객체의 method 접근하기\n",
    "        - 객체명.method명\n",
    "     - method 호출하면 첫 번째 인자로 객체 자신이 넣어지기 때문에,     \n",
    "        self를 동작의 첫 번째 인자로 항상 넣어야 함\n",
    "\n",
    "        ```py\n",
    "        square.set_area(width, height) => def set_area(self, data1, data2):\n",
    "                                            self.width = data1 \n",
    "                                            self.height = data2\n",
    "                                            ###################\n",
    "                                            self  => square\n",
    "                                            data1 => width\n",
    "                                            data1 => height\n",
    "        ```"
   ]
  },
  {
   "cell_type": "code",
   "execution_count": 1,
   "metadata": {},
   "outputs": [],
   "source": [
    "# 1. Class 선언하기"
   ]
  },
  {
   "cell_type": "code",
   "execution_count": 2,
   "metadata": {},
   "outputs": [],
   "source": [
    "class Quadrangle(object):\n",
    "    pass"
   ]
  },
  {
   "cell_type": "code",
   "execution_count": 3,
   "metadata": {},
   "outputs": [
    {
     "data": {
      "text/plain": [
       "['__class__',\n",
       " '__delattr__',\n",
       " '__dict__',\n",
       " '__dir__',\n",
       " '__doc__',\n",
       " '__eq__',\n",
       " '__format__',\n",
       " '__ge__',\n",
       " '__getattribute__',\n",
       " '__gt__',\n",
       " '__hash__',\n",
       " '__init__',\n",
       " '__init_subclass__',\n",
       " '__le__',\n",
       " '__lt__',\n",
       " '__module__',\n",
       " '__ne__',\n",
       " '__new__',\n",
       " '__reduce__',\n",
       " '__reduce_ex__',\n",
       " '__repr__',\n",
       " '__setattr__',\n",
       " '__sizeof__',\n",
       " '__str__',\n",
       " '__subclasshook__',\n",
       " '__weakref__']"
      ]
     },
     "execution_count": 3,
     "metadata": {},
     "output_type": "execute_result"
    }
   ],
   "source": [
    "dir(Quadrangle)"
   ]
  },
  {
   "cell_type": "code",
   "execution_count": 4,
   "metadata": {},
   "outputs": [],
   "source": [
    "square = Quadrangle()"
   ]
  },
  {
   "cell_type": "code",
   "execution_count": 5,
   "metadata": {},
   "outputs": [],
   "source": [
    "dave = Quadrangle()"
   ]
  },
  {
   "cell_type": "code",
   "execution_count": 6,
   "metadata": {},
   "outputs": [],
   "source": [
    "dave1 = Quadrangle()"
   ]
  },
  {
   "cell_type": "code",
   "execution_count": 7,
   "metadata": {},
   "outputs": [
    {
     "data": {
      "text/plain": [
       "['__class__',\n",
       " '__delattr__',\n",
       " '__dict__',\n",
       " '__dir__',\n",
       " '__doc__',\n",
       " '__eq__',\n",
       " '__format__',\n",
       " '__ge__',\n",
       " '__getattribute__',\n",
       " '__gt__',\n",
       " '__hash__',\n",
       " '__init__',\n",
       " '__init_subclass__',\n",
       " '__le__',\n",
       " '__lt__',\n",
       " '__module__',\n",
       " '__ne__',\n",
       " '__new__',\n",
       " '__reduce__',\n",
       " '__reduce_ex__',\n",
       " '__repr__',\n",
       " '__setattr__',\n",
       " '__sizeof__',\n",
       " '__str__',\n",
       " '__subclasshook__',\n",
       " '__weakref__']"
      ]
     },
     "execution_count": 7,
     "metadata": {},
     "output_type": "execute_result"
    }
   ],
   "source": [
    "dir(dave)"
   ]
  },
  {
   "cell_type": "code",
   "execution_count": 8,
   "metadata": {},
   "outputs": [
    {
     "data": {
      "text/plain": [
       "__main__.Quadrangle"
      ]
     },
     "execution_count": 8,
     "metadata": {},
     "output_type": "execute_result"
    }
   ],
   "source": [
    "# 객체 square는 Quadrangle의 인스턴스\n",
    "type(square)"
   ]
  },
  {
   "cell_type": "code",
   "execution_count": 9,
   "metadata": {},
   "outputs": [
    {
     "data": {
      "text/plain": [
       "__main__.Quadrangle"
      ]
     },
     "execution_count": 9,
     "metadata": {},
     "output_type": "execute_result"
    }
   ],
   "source": [
    "type(dave)"
   ]
  },
  {
   "cell_type": "code",
   "execution_count": 10,
   "metadata": {},
   "outputs": [],
   "source": [
    "# 2. 속성(attribute) "
   ]
  },
  {
   "cell_type": "code",
   "execution_count": 11,
   "metadata": {},
   "outputs": [],
   "source": [
    "class Quadrangle:\n",
    "    width = 0\n",
    "    height = 0\n",
    "    color = \"black\""
   ]
  },
  {
   "cell_type": "code",
   "execution_count": 12,
   "metadata": {},
   "outputs": [],
   "source": [
    "class Dave:\n",
    "    data = 0\n",
    "    name = 'dave'"
   ]
  },
  {
   "cell_type": "code",
   "execution_count": 13,
   "metadata": {
    "scrolled": true
   },
   "outputs": [
    {
     "data": {
      "text/plain": [
       "['__class__',\n",
       " '__delattr__',\n",
       " '__dict__',\n",
       " '__dir__',\n",
       " '__doc__',\n",
       " '__eq__',\n",
       " '__format__',\n",
       " '__ge__',\n",
       " '__getattribute__',\n",
       " '__gt__',\n",
       " '__hash__',\n",
       " '__init__',\n",
       " '__init_subclass__',\n",
       " '__le__',\n",
       " '__lt__',\n",
       " '__module__',\n",
       " '__ne__',\n",
       " '__new__',\n",
       " '__reduce__',\n",
       " '__reduce_ex__',\n",
       " '__repr__',\n",
       " '__setattr__',\n",
       " '__sizeof__',\n",
       " '__str__',\n",
       " '__subclasshook__',\n",
       " '__weakref__',\n",
       " 'data',\n",
       " 'name']"
      ]
     },
     "execution_count": 13,
     "metadata": {},
     "output_type": "execute_result"
    }
   ],
   "source": [
    "dir(Dave)"
   ]
  },
  {
   "cell_type": "code",
   "execution_count": 14,
   "metadata": {},
   "outputs": [
    {
     "data": {
      "text/plain": [
       "['__class__',\n",
       " '__delattr__',\n",
       " '__dict__',\n",
       " '__dir__',\n",
       " '__doc__',\n",
       " '__eq__',\n",
       " '__format__',\n",
       " '__ge__',\n",
       " '__getattribute__',\n",
       " '__gt__',\n",
       " '__hash__',\n",
       " '__init__',\n",
       " '__init_subclass__',\n",
       " '__le__',\n",
       " '__lt__',\n",
       " '__module__',\n",
       " '__ne__',\n",
       " '__new__',\n",
       " '__reduce__',\n",
       " '__reduce_ex__',\n",
       " '__repr__',\n",
       " '__setattr__',\n",
       " '__sizeof__',\n",
       " '__str__',\n",
       " '__subclasshook__',\n",
       " '__weakref__',\n",
       " 'color',\n",
       " 'height',\n",
       " 'width']"
      ]
     },
     "execution_count": 14,
     "metadata": {},
     "output_type": "execute_result"
    }
   ],
   "source": [
    "# width, height, color attribute 확인\n",
    "dir(Quadrangle)"
   ]
  },
  {
   "cell_type": "code",
   "execution_count": 15,
   "metadata": {},
   "outputs": [],
   "source": [
    "square1 = Quadrangle()\n",
    "square2 = Quadrangle()"
   ]
  },
  {
   "cell_type": "code",
   "execution_count": 16,
   "metadata": {},
   "outputs": [],
   "source": [
    "dave_object = Dave()"
   ]
  },
  {
   "cell_type": "code",
   "execution_count": 17,
   "metadata": {},
   "outputs": [
    {
     "data": {
      "text/plain": [
       "'black'"
      ]
     },
     "execution_count": 17,
     "metadata": {},
     "output_type": "execute_result"
    }
   ],
   "source": [
    "square1.color"
   ]
  },
  {
   "cell_type": "code",
   "execution_count": 18,
   "metadata": {},
   "outputs": [],
   "source": [
    "square2.color = 'red'"
   ]
  },
  {
   "cell_type": "code",
   "execution_count": 19,
   "metadata": {},
   "outputs": [
    {
     "data": {
      "text/plain": [
       "'black'"
      ]
     },
     "execution_count": 19,
     "metadata": {},
     "output_type": "execute_result"
    }
   ],
   "source": [
    "square1.color"
   ]
  },
  {
   "cell_type": "code",
   "execution_count": 20,
   "metadata": {},
   "outputs": [
    {
     "data": {
      "text/plain": [
       "'red'"
      ]
     },
     "execution_count": 20,
     "metadata": {},
     "output_type": "execute_result"
    }
   ],
   "source": [
    "square2.color"
   ]
  },
  {
   "cell_type": "code",
   "execution_count": 21,
   "metadata": {},
   "outputs": [],
   "source": [
    "square1.height = 5"
   ]
  },
  {
   "cell_type": "code",
   "execution_count": 22,
   "metadata": {},
   "outputs": [
    {
     "name": "stdout",
     "output_type": "stream",
     "text": [
      "5 0\n"
     ]
    }
   ],
   "source": [
    "print (square1.height, square2.height)"
   ]
  },
  {
   "cell_type": "markdown",
   "metadata": {},
   "source": [
    "#### 초간단   [이동](https://www.fun-coding.org/PL&OOP1-3.html)\n",
    " * width, height, color 속성을 가진 사각형 클래스를 만들고 다음 4개의 객체 만들기 (객체 속성을 바꿔주시고, 출력도 해보세요)\n",
    "- 직사각형 1개 객체 속성: width=10, height=5, color='red'\n",
    "- 정사각형 1개 객체 속성: width=7, height=7, color='blue'"
   ]
  },
  {
   "cell_type": "code",
   "execution_count": 23,
   "metadata": {},
   "outputs": [],
   "source": [
    "# 3. 동작(method)"
   ]
  },
  {
   "cell_type": "code",
   "execution_count": 24,
   "metadata": {},
   "outputs": [],
   "source": [
    "# 만들고자 하는 method 생각해보기1\n",
    "class Quadrangle:\n",
    "    width = 0\n",
    "    height = 0\n",
    "    color = \"black\"\n",
    "\n",
    "    def get_area(self):\n",
    "        return self.width * self.height"
   ]
  },
  {
   "cell_type": "code",
   "execution_count": 25,
   "metadata": {},
   "outputs": [],
   "source": [
    "# 만들고자 하는 method 생각해보기2\n",
    "class Quadrangle:\n",
    "    width = 0\n",
    "    height = 0\n",
    "    color = \"black\"\n",
    "\n",
    "    def get_area(self):\n",
    "        return self.width * self.height\n",
    "    \n",
    "    def set_area(self, data1, data2):\n",
    "        self.width = data1 \n",
    "        self.height = data2"
   ]
  },
  {
   "cell_type": "code",
   "execution_count": 26,
   "metadata": {},
   "outputs": [],
   "source": [
    "# 객체의 method 접근하기\n",
    "square = Quadrangle()\n",
    "square.set_area(5, 5)"
   ]
  },
  {
   "cell_type": "code",
   "execution_count": 27,
   "metadata": {},
   "outputs": [
    {
     "data": {
      "text/plain": [
       "5"
      ]
     },
     "execution_count": 27,
     "metadata": {},
     "output_type": "execute_result"
    }
   ],
   "source": [
    "square.width"
   ]
  },
  {
   "cell_type": "markdown",
   "metadata": {},
   "source": [
    "- method 호출하면 첫 번째 인자로 객체 자신이 넣어지기 때문에, \n",
    "    self를 동작의 첫 번째 인자로 항상 넣어야 함\n",
    "\n",
    "```py\n",
    "square.set_area(width, height) => def set_area(self, data1, data2):\n",
    "                                    self.width = data1 \n",
    "                                    self.height = data2\n",
    "                                    ###################\n",
    "                                    self  => square\n",
    "                                    data1 => width\n",
    "                                    data1 => height\n",
    "```"
   ]
  },
  {
   "cell_type": "code",
   "execution_count": 28,
   "metadata": {},
   "outputs": [
    {
     "data": {
      "text/plain": [
       "25"
      ]
     },
     "execution_count": 28,
     "metadata": {},
     "output_type": "execute_result"
    }
   ],
   "source": [
    "square.get_area()"
   ]
  },
  {
   "cell_type": "markdown",
   "metadata": {},
   "source": [
    "#### 초간단 연습2  [이동](https://www.fun-coding.org/PL&OOP1-3.html)\n",
    "* 위에서 작성한 Quadrangle 클래스를 기반으로 직사각형 1개 객체와 정사각형 1개 객체를 만들고, 각 사각형 너비 출력하기\n",
    "- 직사각형2개 속성: width=10, height=5, color='red'\n",
    "- 정사각형2개 속성: width=7, height=7, color='blue'"
   ]
  },
  {
   "cell_type": "markdown",
   "metadata": {},
   "source": [
    "#### 한발짝 더 나가보기!(심화 문제)\n",
    " * 위에서 작성한 Quadrangle 클래스를 기반으로 직사각형 1개 객체와 정사각형 1개 객체를 만들되, 너비(width), 높이(height), 색상(color)를 한번에 설정할 수 있는 메서드만들고, 다음 값으로 각 객체의 속성값을 변경한 후, 사각형 너비와 색상도 함께 출력하기\n",
    "- 직사각형2개 속성: width=10, height=5, color='red'\n",
    "- 정사각형2개 속성: width=7, height=7, color='blue'"
   ]
  },
  {
   "cell_type": "code",
   "execution_count": null,
   "metadata": {},
   "outputs": [],
   "source": []
  },
  {
   "cell_type": "code",
   "execution_count": null,
   "metadata": {},
   "outputs": [],
   "source": []
  }
 ],
 "metadata": {
  "kernelspec": {
   "display_name": "Python 3",
   "language": "python",
   "name": "python3"
  },
  "language_info": {
   "codemirror_mode": {
    "name": "ipython",
    "version": 3
   },
   "file_extension": ".py",
   "mimetype": "text/x-python",
   "name": "python",
   "nbconvert_exporter": "python",
   "pygments_lexer": "ipython3",
   "version": "3.6.5"
  }
 },
 "nbformat": 4,
 "nbformat_minor": 2
}
