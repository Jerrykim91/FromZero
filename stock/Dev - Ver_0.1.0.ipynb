{
 "cells": [
  {
   "cell_type": "code",
   "execution_count": 3,
   "metadata": {},
   "outputs": [],
   "source": [
    "def choice(choiceNum):\n",
    "    \"\"\"\n",
    "    1 -> 메인 \n",
    "    2 -> 게시판\n",
    "    \"\"\"\n",
    "    if choiceNum == \"1\":\n",
    "        subject = \"main\"\n",
    "        return(subject)\n",
    "    elif choiceNum == \"2\":\n",
    "        subject = \"board\"\n",
    "        return(subject)"
   ]
  },
  {
   "cell_type": "markdown",
   "metadata": {},
   "source": [
    "# 테스트 환경"
   ]
  },
  {
   "cell_type": "code",
   "execution_count": 1,
   "metadata": {},
   "outputs": [],
   "source": [
    "import os, glob, time\n",
    "import pandas as pd\n",
    "\n",
    "# 크롤링\n",
    "import requests\n",
    "import urllib.request\n",
    "\n",
    "from bs4 import BeautifulSoup\n",
    "from urllib.request import urlopen\n",
    "from urllib.parse import quote"
   ]
  },
  {
   "cell_type": "code",
   "execution_count": 2,
   "metadata": {},
   "outputs": [],
   "source": [
    "# 저장된 종목 번호 가지고 오기 \n",
    "import pickle\n",
    "\n",
    "# load data\n",
    "with open('stock_num_list.pickle', 'rb') as fr:\n",
    "    stockInfo = pickle.load(fr)"
   ]
  },
  {
   "cell_type": "code",
   "execution_count": 3,
   "metadata": {},
   "outputs": [],
   "source": [
    "# 1. 종목 이름과 번호를 매치 시킨다.  \n",
    "def search_data(inPut):\n",
    "    \"\"\"\n",
    "    1. 주식 조회를 가능하게 한다. \n",
    "    inPut에 종목이름을 작성하면 종목번호를 리턴한다. \n",
    "    \"\"\"\n",
    "#     inPut = input(\"주식명\")\n",
    "    stockNumber = stockInfo[inPut]\n",
    "    return stockNumber"
   ]
  },
  {
   "cell_type": "code",
   "execution_count": 5,
   "metadata": {},
   "outputs": [
    {
     "data": {
      "text/plain": [
       "332570"
      ]
     },
     "execution_count": 5,
     "metadata": {},
     "output_type": "execute_result"
    }
   ],
   "source": [
    "# dev\n",
    "inPut = \"와이팜\"\n",
    "search_data(inPut)"
   ]
  },
  {
   "cell_type": "code",
   "execution_count": 6,
   "metadata": {},
   "outputs": [],
   "source": [
    "# 2. 해당 url 의 정보를 가지고 온다 \n",
    "def PageUrl( stockNumber, choiceNum, page ):\n",
    "    \"\"\"\n",
    "    # Page assignment\n",
    "    choiceNum -> 1 -> 메인 , 2 -> 게시판\n",
    "    stockNumber -> 종목번호\n",
    "    page = 페이지번호\n",
    "    \"\"\"\n",
    "\n",
    "    def choice(choiceNum):\n",
    "        \"\"\"\n",
    "        1 -> 메인 , 2 -> 게시판\n",
    "        \"\"\"\n",
    "        choiceNum = str(choiceNum)\n",
    "\n",
    "        if choiceNum == \"1\":\n",
    "            subject = \"main\"\n",
    "            return(subject)\n",
    "        elif choiceNum == \"2\":\n",
    "            subject = \"board\"\n",
    "            return(subject)\n",
    "        \n",
    "    mainUrl    = f'https://finance.naver.com'\n",
    "    subject    = choice(choiceNum)\n",
    "    \n",
    "    if page == 1 :\n",
    "        #  page data\n",
    "        paramUrl  = f\"/item/{subject}.nhn?code={stockNumber}\"\n",
    "        targetUrl = mainUrl + paramUrl\n",
    "        return targetUrl\n",
    "\n",
    "    else:\n",
    "        # Non-page data\n",
    "        paramUrl  = f\"/item/{subject}.nhn?code={stockNumber}&page=\" + str(page)\n",
    "        targetUrl = mainUrl + paramUrl\n",
    "        return targetUrl\n",
    "    "
   ]
  },
  {
   "cell_type": "code",
   "execution_count": 7,
   "metadata": {},
   "outputs": [
    {
     "name": "stdout",
     "output_type": "stream",
     "text": [
      "https://finance.naver.com/item/board.nhn?code=332570\n"
     ]
    }
   ],
   "source": [
    "#  choiceNum = \"게시판\" , stockNumber = \"주식종목번호\" , 페이지 \n",
    "Name = \"와이팜\"\n",
    "choiceNum = 2\n",
    "stockNumber = search_data(Name)\n",
    "page = 1\n",
    "mainUrl =  PageUrl( stockNumber, choiceNum, page )\n",
    "print(mainUrl)"
   ]
  },
  {
   "cell_type": "code",
   "execution_count": 8,
   "metadata": {},
   "outputs": [],
   "source": [
    "# 3. 리퀘스트 문을 작성한다. \n",
    "def req_point(searchUrl):\n",
    "    \"\"\"\n",
    "    리쿼스트 전용 \n",
    "    \"\"\"\n",
    "    try:\n",
    "        req  = requests.get( searchUrl , headers={'User-Agent':'Mozilla/5.0'} )\n",
    "    except:\n",
    "        req  = requests.get( searchUrl )\n",
    "\n",
    "    html    = req.text\n",
    "    soup    = BeautifulSoup( html, 'html.parser' )\n",
    "    \n",
    "    return soup"
   ]
  },
  {
   "cell_type": "code",
   "execution_count": 127,
   "metadata": {},
   "outputs": [],
   "source": [
    "# 4. 보드부터 진행한다. \n",
    "# 보드에서 게시물 정보를 수집한다. \n",
    "# 일차적으로 게시물 이름과 각 게시물의 url을 가지고 온다. \n",
    "\n",
    "def board_crw(mainUrl):\n",
    "    Today = time.strftime('%Y.%m.%d', time.localtime(time.time()))\n",
    "#     Today_dev = '2020.09.01'\n",
    "    \"\"\"\n",
    "    mainUrl의 인자를 받아서 \n",
    "    보드에서 게시물 정보를 수집한다. \n",
    "    몇부분 수집하기 힘든 부분은 .. \n",
    "    \"\"\"\n",
    "    chBox = [] \n",
    "    urlBox = []   \n",
    "    \n",
    "    soup   = req_point(mainUrl)\n",
    "\n",
    "    for j in soup.find(\"tbody\").find_all('tr'):\n",
    "        for sp in j.find_all('span',{'class':'tah p10 gray03'}):\n",
    "#             print(sp.text)\n",
    "            if sp.text.split(' ')[0]== Today :\n",
    "                print('오늘')\n",
    "                if sp.text[:4] == '2020' :\n",
    "                    chBox.append(sp.text)\n",
    "                    print(len(chBox))\n",
    "            else:\n",
    "                print('empty')\n",
    "                break\n",
    "       \n",
    "    for i in soup.find(\"tbody\").find_all('a'):\n",
    "        if len(chBox) != len(urlBox):  \n",
    "            urlBox.append(i['href'])\n",
    "        else:\n",
    "            break\n",
    "                \n",
    "    return urlBox, chBox"
   ]
  },
  {
   "cell_type": "code",
   "execution_count": 104,
   "metadata": {},
   "outputs": [
    {
     "data": {
      "text/plain": [
       "'2020.09.02'"
      ]
     },
     "execution_count": 104,
     "metadata": {},
     "output_type": "execute_result"
    }
   ],
   "source": [
    "# dev\n",
    "time.strftime('%Y.%m.%d', time.localtime(time.time())) # 오늘 날짜 테스트 "
   ]
  },
  {
   "cell_type": "code",
   "execution_count": 128,
   "metadata": {},
   "outputs": [
    {
     "data": {
      "text/plain": [
       "([], [])"
      ]
     },
     "execution_count": 128,
     "metadata": {},
     "output_type": "execute_result"
    }
   ],
   "source": [
    "# dev\n",
    "board_crw('https://finance.naver.com/item/board.nhn?code=332570&page=1') "
   ]
  },
  {
   "cell_type": "code",
   "execution_count": 96,
   "metadata": {},
   "outputs": [],
   "source": [
    "# 5. 각 게시물 안에서 추가적으로 게시물 정보를 수집한다. \n",
    "# 시간이 조금걸리는데 조금도 빠르게 수집하는 방법을 알아봐야 할것같다. \n",
    "\n",
    "def BoardCont( bdUrl ):\n",
    "    \"\"\"\n",
    "    작은 보드 - 제목 ,날짜,본문\n",
    "    \"\"\"    \n",
    "    titBox = list()\n",
    "    txtBox = list()\n",
    "    datBox = list()\n",
    "    \n",
    "    \n",
    "    mainUrl    = f'https://finance.naver.com'\n",
    "    smallContentsUrl = mainUrl + bdUrl\n",
    "    print('URL : ',smallContentsUrl)\n",
    "    soup      = req_point(smallContentsUrl)\n",
    "    \n",
    "    # 타이틀 \n",
    "    for title in soup.find_all(\"strong\", {\"class\":\"c p15\"}):\n",
    "        tit = title.text\n",
    "        print(\"tit : \",tit)\n",
    "        titBox.append(tit)\n",
    "\n",
    "    # 내용 \n",
    "    for cont in soup.find(\"div\", {\"id\":\"body\"}):\n",
    "        txt = re.sub('<.+ ?>', '', str(cont)).strip()\n",
    "        txtBox.append(txt)\n",
    "        \n",
    "    # 날짜 -> 만약에 오늘 자 아님 멈추는 코드 필요 \n",
    "    for date in soup.find_all(\"th\", {\"class\":\"gray03 p9 tah\"}):\n",
    "        print('date: ',date.text)\n",
    "        datBox.append(date.text)   \n",
    "        \n",
    "    return titBox , datBox, txtBox"
   ]
  },
  {
   "cell_type": "code",
   "execution_count": 111,
   "metadata": {},
   "outputs": [],
   "source": [
    "urlBox = board_crw(mainUrl)"
   ]
  },
  {
   "cell_type": "code",
   "execution_count": 113,
   "metadata": {},
   "outputs": [
    {
     "name": "stdout",
     "output_type": "stream",
     "text": [
      "https://finance.naver.com/item/board_read.nhn?code=332570&nid=141631598&st=&sw=&page=1\n",
      "tit :  이쯤되면 기관계,투신.보험 순익 실현 할려고 \n",
      "date:  2020.09.01 23:06\n"
     ]
    }
   ],
   "source": [
    "titBox , datBox, txtBox = BoardCont(urlBox[0])"
   ]
  },
  {
   "cell_type": "code",
   "execution_count": 119,
   "metadata": {
    "scrolled": true
   },
   "outputs": [
    {
     "data": {
      "text/plain": [
       "'01'"
      ]
     },
     "execution_count": 119,
     "metadata": {},
     "output_type": "execute_result"
    }
   ],
   "source": [
    "# 오늘 날짜 \n",
    "todayDate = datBox[0].split(' ')[0][-2:]"
   ]
  },
  {
   "cell_type": "code",
   "execution_count": null,
   "metadata": {},
   "outputs": [],
   "source": []
  },
  {
   "cell_type": "code",
   "execution_count": 21,
   "metadata": {},
   "outputs": [],
   "source": [
    "# 데이터 프레임으로 만들기 \n",
    "urlBox = board_crw(mainUrl) # 게시물 경로 가지고오기 \n",
    "titBox , datBox, txtBox = BoardCont(urlBox[0]) # 게시물 가지고오기 "
   ]
  },
  {
   "cell_type": "code",
   "execution_count": null,
   "metadata": {},
   "outputs": [],
   "source": []
  },
  {
   "cell_type": "code",
   "execution_count": null,
   "metadata": {},
   "outputs": [],
   "source": []
  },
  {
   "cell_type": "code",
   "execution_count": 43,
   "metadata": {},
   "outputs": [],
   "source": [
    "# 타이틀 \n",
    "for title in soup.find_all(\"strong\", {\"class\":\"c p15\"}):\n",
    "    print(title.text)"
   ]
  },
  {
   "cell_type": "code",
   "execution_count": 24,
   "metadata": {},
   "outputs": [
    {
     "name": "stdout",
     "output_type": "stream",
     "text": [
      "2020.09.01 15:28\n"
     ]
    }
   ],
   "source": [
    "# 날짜 \n",
    "for date in soup.find_all(\"th\", {\"class\":\"gray03 p9 tah\"}):\n",
    "    print(date.text)"
   ]
  },
  {
   "cell_type": "code",
   "execution_count": 25,
   "metadata": {},
   "outputs": [
    {
     "name": "stdout",
     "output_type": "stream",
     "text": [
      "세력창구는키움창구. 나머지는. 닐리리 창구  미래 행국이. 많이. 사면. 절대. 안오름  밑에 밭처놓고만  사는창구이기에.  오늘. 삼성것. KB가. 오지게. 받았네  이것이 다시. 키움창구로. 넘어와야. 오름니다. \n"
     ]
    }
   ],
   "source": [
    "# 내용 \n",
    "for cont in soup.find(\"div\", {\"id\":\"body\"}):\n",
    "    print(cont)"
   ]
  },
  {
   "cell_type": "code",
   "execution_count": null,
   "metadata": {},
   "outputs": [],
   "source": []
  },
  {
   "cell_type": "code",
   "execution_count": 224,
   "metadata": {},
   "outputs": [],
   "source": [
    "# # 데이터 프레임 \n",
    "\n",
    "# df = pd.DataFrame({\n",
    "# #     'name' : []\n",
    "# })"
   ]
  },
  {
   "cell_type": "code",
   "execution_count": null,
   "metadata": {},
   "outputs": [],
   "source": []
  }
 ],
 "metadata": {
  "kernelspec": {
   "display_name": "Python 3",
   "language": "python",
   "name": "python3"
  },
  "language_info": {
   "codemirror_mode": {
    "name": "ipython",
    "version": 3
   },
   "file_extension": ".py",
   "mimetype": "text/x-python",
   "name": "python",
   "nbconvert_exporter": "python",
   "pygments_lexer": "ipython3",
   "version": "3.8.3"
  }
 },
 "nbformat": 4,
 "nbformat_minor": 4
}
