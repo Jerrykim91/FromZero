{
 "cells": [
  {
   "cell_type": "markdown",
   "metadata": {},
   "source": [
    "# 실습 2\n",
    "## 목록 페이지에서 퍼머 링크 목록 추출 -2\n",
    "### make func"
   ]
  },
  {
   "cell_type": "code",
   "execution_count": 1,
   "metadata": {},
   "outputs": [],
   "source": [
    "targetUrl = 'https://www.hanbit.co.kr/store/books/new_book_list.html'"
   ]
  },
  {
   "cell_type": "code",
   "execution_count": 2,
   "metadata": {},
   "outputs": [],
   "source": [
    "def scrapListPage(response):\n",
    "    import lxml.html\n",
    "    \n",
    "    root = lxml.html.fromstring(response.content)\n",
    "    root.make_links_absolute(response.url) #  상대 url을 절대 url로 변경 \n",
    "    \n",
    "    for a in root.cssselect('.view_box .book_tit a'):\n",
    "        url = a.get('href')\n",
    "#         print(url)\n",
    "        yield url"
   ]
  },
  {
   "cell_type": "code",
   "execution_count": 3,
   "metadata": {
    "scrolled": true
   },
   "outputs": [],
   "source": [
    "def main():\n",
    "    import requests\n",
    "    \"\"\"\n",
    "    크롤러의 메인처리 \n",
    "    \"\"\"\n",
    "    session = requests.Session() #여러 페이지에서 크롤링을 위해 세션을 사용 \n",
    "    respon = session.get(targetUrl)\n",
    "    print(f'Response : {respon}')\n",
    "    urls = scrapListPage(respon)\n",
    "\n",
    "    # 제너레이터는 리스트처럼 사용가능 \n",
    "    for url in urls:\n",
    "        print(url)\n",
    "        print('='*70)"
   ]
  },
  {
   "cell_type": "code",
   "execution_count": 4,
   "metadata": {},
   "outputs": [
    {
     "name": "stdout",
     "output_type": "stream",
     "text": [
      "Response : <Response [200]>\n",
      "https://www.hanbit.co.kr/store/books/look.php?p_code=B9143267027\n",
      "======================================================================\n",
      "https://www.hanbit.co.kr/store/books/look.php?p_code=B3517216657\n",
      "======================================================================\n",
      "https://www.hanbit.co.kr/store/books/look.php?p_code=B4872223435\n",
      "======================================================================\n",
      "https://www.hanbit.co.kr/store/books/look.php?p_code=B9279330130\n",
      "======================================================================\n",
      "https://www.hanbit.co.kr/store/books/look.php?p_code=B6787201225\n",
      "======================================================================\n",
      "https://www.hanbit.co.kr/store/books/look.php?p_code=B3963656224\n",
      "======================================================================\n",
      "https://www.hanbit.co.kr/store/books/look.php?p_code=B1740090592\n",
      "======================================================================\n",
      "https://www.hanbit.co.kr/store/books/look.php?p_code=B2672932319\n",
      "======================================================================\n",
      "https://www.hanbit.co.kr/store/books/look.php?p_code=B3872657116\n",
      "======================================================================\n",
      "https://www.hanbit.co.kr/store/books/look.php?p_code=B8226621719\n",
      "======================================================================\n",
      "https://www.hanbit.co.kr/store/books/look.php?p_code=B9479195027\n",
      "======================================================================\n",
      "https://www.hanbit.co.kr/store/books/look.php?p_code=B8945183661\n",
      "======================================================================\n",
      "https://www.hanbit.co.kr/store/books/look.php?p_code=B8460934222\n",
      "======================================================================\n",
      "https://www.hanbit.co.kr/store/books/look.php?p_code=B1191734987\n",
      "======================================================================\n",
      "https://www.hanbit.co.kr/store/books/look.php?p_code=B2082711299\n",
      "======================================================================\n",
      "https://www.hanbit.co.kr/store/books/look.php?p_code=B5877288702\n",
      "======================================================================\n",
      "https://www.hanbit.co.kr/store/books/look.php?p_code=B1825116777\n",
      "======================================================================\n",
      "https://www.hanbit.co.kr/store/books/look.php?p_code=B5937482728\n",
      "======================================================================\n",
      "https://www.hanbit.co.kr/store/books/look.php?p_code=B8656803901\n",
      "======================================================================\n",
      "https://www.hanbit.co.kr/store/books/look.php?p_code=B3397547488\n",
      "======================================================================\n"
     ]
    }
   ],
   "source": [
    "main()"
   ]
  }
 ],
 "metadata": {
  "kernelspec": {
   "display_name": "Python 3",
   "language": "python",
   "name": "python3"
  },
  "language_info": {
   "codemirror_mode": {
    "name": "ipython",
    "version": 3
   },
   "file_extension": ".py",
   "mimetype": "text/x-python",
   "name": "python",
   "nbconvert_exporter": "python",
   "pygments_lexer": "ipython3",
   "version": "3.8.3"
  }
 },
 "nbformat": 4,
 "nbformat_minor": 4
}
