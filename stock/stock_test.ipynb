{
 "cells": [
  {
   "cell_type": "code",
   "execution_count": 35,
   "metadata": {},
   "outputs": [],
   "source": [
    "import re \n",
    "from urllib.request import urlopen\n",
    "from bs4 import BeautifulSoup"
   ]
  },
  {
   "cell_type": "code",
   "execution_count": 36,
   "metadata": {},
   "outputs": [],
   "source": [
    "url = \"https://finance.naver.com/item/board_read.nhn?code=064260&nid=141589564&st=&sw=&page=1\""
   ]
  },
  {
   "cell_type": "code",
   "execution_count": 37,
   "metadata": {
    "scrolled": true
   },
   "outputs": [],
   "source": [
    "url = \"https://finance.naver.com/item/board_read.nhn?code=064260&nid=141589564&st=&sw=&page=1\"\n",
    "soup = BeautifulSoup(urlopen(url), \"html.parser\")"
   ]
  },
  {
   "cell_type": "code",
   "execution_count": 50,
   "metadata": {},
   "outputs": [
    {
     "name": "stdout",
     "output_type": "stream",
     "text": [
      "<strong>다날</strong>\n",
      "<strong class=\"c p15\" title=\"하하하\">하하하</strong>\n",
      "<strong class=\"tah p11 red01 _goodCnt\">1</strong>\n",
      "<strong class=\"tah p11 blue01 _badCnt\">1</strong>\n",
      "<strong>gust**** </strong>\n",
      "<strong class=\"p11 gray03\">-</strong>\n",
      "<strong title=\"하하하\">하하하</strong>\n",
      "<strong>외국인소진율(B/A)</strong>\n",
      "<strong>PER = 현재가 ÷ EPS</strong>\n",
      "<strong>추정PER = 현재가÷추정EPS</strong>\n",
      "<strong>PBR= 현재가 ÷ BPS</strong>\n",
      "<strong>배당수익률 = (배당금 / 현재가) x 100</strong>\n",
      "<strong>업종별</strong>\n",
      "<strong>상한가</strong>\n",
      "<strong>급증</strong>\n",
      "<strong>시가총액상위</strong>\n",
      "<strong>개인정보처리방침</strong>\n",
      "<strong class=\"provider_layer__tit\">컨텐츠 제공업체</strong>\n"
     ]
    }
   ],
   "source": [
    "for i in soup.find_all(\"strong\"):\n",
    "    print(i)"
   ]
  },
  {
   "cell_type": "markdown",
   "metadata": {},
   "source": [
    "### 확인 "
   ]
  },
  {
   "cell_type": "code",
   "execution_count": 55,
   "metadata": {},
   "outputs": [
    {
     "name": "stdout",
     "output_type": "stream",
     "text": [
      "하하하\n"
     ]
    }
   ],
   "source": [
    "# 타이틀 \n",
    "for title in soup.find_all(\"strong\", {\"class\":\"c p15\"}):\n",
    "    print(title.text)"
   ]
  },
  {
   "cell_type": "code",
   "execution_count": 56,
   "metadata": {},
   "outputs": [
    {
     "name": "stdout",
     "output_type": "stream",
     "text": [
      "2020.09.01 15:28\n"
     ]
    }
   ],
   "source": [
    "# 날짜 \n",
    "for date in soup.find_all(\"th\", {\"class\":\"gray03 p9 tah\"}):\n",
    "    print(date.text)"
   ]
  },
  {
   "cell_type": "code",
   "execution_count": 57,
   "metadata": {},
   "outputs": [
    {
     "name": "stdout",
     "output_type": "stream",
     "text": [
      "세력창구는키움창구. 나머지는. 닐리리 창구  미래 행국이. 많이. 사면. 절대. 안오름  밑에 밭처놓고만  사는창구이기에.  오늘. 삼성것. KB가. 오지게. 받았네  이것이 다시. 키움창구로. 넘어와야. 오름니다. \n"
     ]
    }
   ],
   "source": [
    "# 내용 \n",
    "for cont in soup.find(\"div\", {\"id\":\"body\"}):\n",
    "    print(cont)"
   ]
  },
  {
   "cell_type": "code",
   "execution_count": null,
   "metadata": {},
   "outputs": [],
   "source": []
  }
 ],
 "metadata": {
  "kernelspec": {
   "display_name": "Python 3",
   "language": "python",
   "name": "python3"
  },
  "language_info": {
   "codemirror_mode": {
    "name": "ipython",
    "version": 3
   },
   "file_extension": ".py",
   "mimetype": "text/x-python",
   "name": "python",
   "nbconvert_exporter": "python",
   "pygments_lexer": "ipython3",
   "version": "3.8.3"
  }
 },
 "nbformat": 4,
 "nbformat_minor": 4
}
