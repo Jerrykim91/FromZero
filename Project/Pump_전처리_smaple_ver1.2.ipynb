{
 "cells": [
  {
   "cell_type": "code",
   "execution_count": 1,
   "metadata": {},
   "outputs": [],
   "source": [
    "import pandas as pd\n",
    "import os, glob, re"
   ]
  },
  {
   "cell_type": "code",
   "execution_count": 2,
   "metadata": {},
   "outputs": [],
   "source": [
    "import plotly.express as px\n",
    "import matplotlib.pyplot as plt   # 맷폴렛- 그래프\n",
    "%matplotlib inline\n",
    "\n",
    "# ignore warnings\n",
    "import warnings    # 워닝 방지\n",
    "warnings.filterwarnings('ignore')\n",
    "\n",
    "####### matplotlib - 한글 폰트 깨짐 방지 코드 #######\n",
    "import platform\n",
    "\n",
    "if platform.system() == 'Darwin':    # 맥\n",
    "    font_name = 'AppleGothic'\n",
    "elif platform.system() == 'Linux':   # 리눅스\n",
    "    font_name = 'NanumGothic'\n",
    "elif platform.system() == 'Windows': # 윈도우\n",
    "    font_name = 'Malgun Gothic'\n",
    "else:\n",
    "    print('알수없는 시스템. 미적용')\n",
    "\n",
    "plt.rc('font', family=font_name)"
   ]
  },
  {
   "cell_type": "code",
   "execution_count": 3,
   "metadata": {
    "scrolled": true
   },
   "outputs": [
    {
     "data": {
      "text/plain": [
       "'C:\\\\studyNote\\\\Project'"
      ]
     },
     "execution_count": 3,
     "metadata": {},
     "output_type": "execute_result"
    }
   ],
   "source": [
    "os.getcwd() # 현재 디렉토리위치"
   ]
  },
  {
   "cell_type": "markdown",
   "metadata": {},
   "source": [
    "## 데이터 로드"
   ]
  },
  {
   "cell_type": "code",
   "execution_count": 6,
   "metadata": {},
   "outputs": [
    {
     "data": {
      "text/plain": [
       "['C:\\\\data\\\\\\\\배수시설.csv']"
      ]
     },
     "execution_count": 6,
     "metadata": {},
     "output_type": "execute_result"
    }
   ],
   "source": [
    "path = r'C:\\data\\\\'\n",
    "data_path = glob.glob(path+'배수시설.csv')\n",
    "# 하나는 엑셀파일 하나는 csv 파일 -> 인것을 확인 \n",
    "# 부산광역시_배수펌프장 및 유수지 현황_20200101_.xlsx >>> 이름 변경 -> 펌프장및유수지현황\n",
    "# 부산시_배수시설_CSV.csv' >>> 이름 변경 -> 배수시설\n",
    "data_path"
   ]
  },
  {
   "cell_type": "code",
   "execution_count": 7,
   "metadata": {},
   "outputs": [
    {
     "data": {
      "text/html": [
       "<div>\n",
       "<style scoped>\n",
       "    .dataframe tbody tr th:only-of-type {\n",
       "        vertical-align: middle;\n",
       "    }\n",
       "\n",
       "    .dataframe tbody tr th {\n",
       "        vertical-align: top;\n",
       "    }\n",
       "\n",
       "    .dataframe thead th {\n",
       "        text-align: right;\n",
       "    }\n",
       "</style>\n",
       "<table border=\"1\" class=\"dataframe\">\n",
       "  <thead>\n",
       "    <tr style=\"text-align: right;\">\n",
       "      <th></th>\n",
       "      <th>배수지명</th>\n",
       "      <th>착공일</th>\n",
       "      <th>준공일</th>\n",
       "      <th>시설용량\\n(㎥/일)</th>\n",
       "      <th>배수지규격(B m)</th>\n",
       "      <th>배수지규격(L m)</th>\n",
       "      <th>배수지규격(He m)</th>\n",
       "      <th>평균체류시간\\n(시간)</th>\n",
       "      <th>배수지표고(E.L)\\n(m)</th>\n",
       "      <th>배수지\\n배수방식</th>\n",
       "      <th>부지면적\\n(㎡)</th>\n",
       "      <th>유출관경\\n(mm)</th>\n",
       "      <th>고수위표고(E.L)\\n(m)</th>\n",
       "      <th>저수위표고(E.L)\\n(m)</th>\n",
       "      <th>배수지\\n관리방식</th>\n",
       "      <th>사용여부</th>\n",
       "      <th>WGS84좌표(X)</th>\n",
       "      <th>WGS84좌표(Y)</th>\n",
       "      <th>위도좌표</th>\n",
       "      <th>경도좌표</th>\n",
       "    </tr>\n",
       "  </thead>\n",
       "  <tbody>\n",
       "    <tr>\n",
       "      <th>0</th>\n",
       "      <td>감만</td>\n",
       "      <td>NaN</td>\n",
       "      <td>2002-12-01</td>\n",
       "      <td>3,000</td>\n",
       "      <td>NaN</td>\n",
       "      <td>NaN</td>\n",
       "      <td>NaN</td>\n",
       "      <td>NaN</td>\n",
       "      <td>116.0</td>\n",
       "      <td>자연유하식</td>\n",
       "      <td>5,777</td>\n",
       "      <td>400.0</td>\n",
       "      <td>114.5</td>\n",
       "      <td>110.0</td>\n",
       "      <td>NaN</td>\n",
       "      <td>NaN</td>\n",
       "      <td>NaN</td>\n",
       "      <td>NaN</td>\n",
       "      <td>35.119015</td>\n",
       "      <td>129.088007</td>\n",
       "    </tr>\n",
       "    <tr>\n",
       "      <th>1</th>\n",
       "      <td>감천</td>\n",
       "      <td>NaN</td>\n",
       "      <td>2002-12-30</td>\n",
       "      <td>4,000</td>\n",
       "      <td>NaN</td>\n",
       "      <td>NaN</td>\n",
       "      <td>NaN</td>\n",
       "      <td>NaN</td>\n",
       "      <td>80.0</td>\n",
       "      <td>자연유하식</td>\n",
       "      <td>4,777</td>\n",
       "      <td>500.0</td>\n",
       "      <td>84.0</td>\n",
       "      <td>79.0</td>\n",
       "      <td>NaN</td>\n",
       "      <td>NaN</td>\n",
       "      <td>NaN</td>\n",
       "      <td>NaN</td>\n",
       "      <td>35.078648</td>\n",
       "      <td>129.011243</td>\n",
       "    </tr>\n",
       "    <tr>\n",
       "      <th>2</th>\n",
       "      <td>개금1</td>\n",
       "      <td>NaN</td>\n",
       "      <td>1976-11-01</td>\n",
       "      <td>15,000</td>\n",
       "      <td>NaN</td>\n",
       "      <td>NaN</td>\n",
       "      <td>NaN</td>\n",
       "      <td>14.0</td>\n",
       "      <td>70.0</td>\n",
       "      <td>자연유하식</td>\n",
       "      <td>6,863</td>\n",
       "      <td>500.0</td>\n",
       "      <td>80.5</td>\n",
       "      <td>76.3</td>\n",
       "      <td>NaN</td>\n",
       "      <td>NaN</td>\n",
       "      <td>NaN</td>\n",
       "      <td>NaN</td>\n",
       "      <td>35.148822</td>\n",
       "      <td>129.022481</td>\n",
       "    </tr>\n",
       "    <tr>\n",
       "      <th>3</th>\n",
       "      <td>개금2</td>\n",
       "      <td>NaN</td>\n",
       "      <td>1969-09-01</td>\n",
       "      <td>2,500</td>\n",
       "      <td>NaN</td>\n",
       "      <td>NaN</td>\n",
       "      <td>NaN</td>\n",
       "      <td>NaN</td>\n",
       "      <td>187.0</td>\n",
       "      <td>자연유하식</td>\n",
       "      <td>8,163</td>\n",
       "      <td>300.0</td>\n",
       "      <td>186.1</td>\n",
       "      <td>181.6</td>\n",
       "      <td>NaN</td>\n",
       "      <td>NaN</td>\n",
       "      <td>NaN</td>\n",
       "      <td>NaN</td>\n",
       "      <td>35.142682</td>\n",
       "      <td>129.019421</td>\n",
       "    </tr>\n",
       "    <tr>\n",
       "      <th>4</th>\n",
       "      <td>거제</td>\n",
       "      <td>NaN</td>\n",
       "      <td>2001-12-29</td>\n",
       "      <td>15,000</td>\n",
       "      <td>NaN</td>\n",
       "      <td>NaN</td>\n",
       "      <td>NaN</td>\n",
       "      <td>18.0</td>\n",
       "      <td>120.0</td>\n",
       "      <td>자연유하식</td>\n",
       "      <td>11,329</td>\n",
       "      <td>700.0</td>\n",
       "      <td>131.0</td>\n",
       "      <td>125.0</td>\n",
       "      <td>NaN</td>\n",
       "      <td>NaN</td>\n",
       "      <td>NaN</td>\n",
       "      <td>NaN</td>\n",
       "      <td>35.184369</td>\n",
       "      <td>129.054550</td>\n",
       "    </tr>\n",
       "  </tbody>\n",
       "</table>\n",
       "</div>"
      ],
      "text/plain": [
       "  배수지명  착공일         준공일 시설용량\\n(㎥/일)  배수지규격(B m)  배수지규격(L m)  배수지규격(He m)  \\\n",
       "0   감만  NaN  2002-12-01       3,000         NaN         NaN          NaN   \n",
       "1   감천  NaN  2002-12-30       4,000         NaN         NaN          NaN   \n",
       "2  개금1  NaN  1976-11-01      15,000         NaN         NaN          NaN   \n",
       "3  개금2  NaN  1969-09-01       2,500         NaN         NaN          NaN   \n",
       "4   거제  NaN  2001-12-29      15,000         NaN         NaN          NaN   \n",
       "\n",
       "   평균체류시간\\n(시간)  배수지표고(E.L)\\n(m) 배수지\\n배수방식 부지면적\\n(㎡)  유출관경\\n(mm)  \\\n",
       "0           NaN            116.0     자연유하식     5,777       400.0   \n",
       "1           NaN             80.0     자연유하식     4,777       500.0   \n",
       "2          14.0             70.0     자연유하식     6,863       500.0   \n",
       "3           NaN            187.0     자연유하식     8,163       300.0   \n",
       "4          18.0            120.0     자연유하식    11,329       700.0   \n",
       "\n",
       "   고수위표고(E.L)\\n(m)  저수위표고(E.L)\\n(m)  배수지\\n관리방식  사용여부  WGS84좌표(X)  WGS84좌표(Y)  \\\n",
       "0            114.5            110.0        NaN   NaN         NaN         NaN   \n",
       "1             84.0             79.0        NaN   NaN         NaN         NaN   \n",
       "2             80.5             76.3        NaN   NaN         NaN         NaN   \n",
       "3            186.1            181.6        NaN   NaN         NaN         NaN   \n",
       "4            131.0            125.0        NaN   NaN         NaN         NaN   \n",
       "\n",
       "        위도좌표        경도좌표  \n",
       "0  35.119015  129.088007  \n",
       "1  35.078648  129.011243  \n",
       "2  35.148822  129.022481  \n",
       "3  35.142682  129.019421  \n",
       "4  35.184369  129.054550  "
      ]
     },
     "execution_count": 7,
     "metadata": {},
     "output_type": "execute_result"
    }
   ],
   "source": [
    "df_drainage = pd.read_csv(data_path[0], encoding='euc-kr') # utf-8 에러 -> euc-kr 사용\n",
    "df_drainage.head()"
   ]
  },
  {
   "cell_type": "markdown",
   "metadata": {},
   "source": [
    "# 결측값 확인 "
   ]
  },
  {
   "cell_type": "code",
   "execution_count": 8,
   "metadata": {},
   "outputs": [
    {
     "name": "stdout",
     "output_type": "stream",
     "text": [
      "데이터 길이 :  74\n"
     ]
    }
   ],
   "source": [
    "print('데이터 길이 : ',len(df_drainage))"
   ]
  },
  {
   "cell_type": "code",
   "execution_count": 9,
   "metadata": {},
   "outputs": [
    {
     "name": "stdout",
     "output_type": "stream",
     "text": [
      "결측 max_착공일 =  74\n",
      "결측 max_배수지규격(B m) =  74\n",
      "결측 max_배수지규격(L m) =  74\n",
      "결측 max_배수지규격(He m) =  74\n",
      "평균체류시간\n",
      "(시간) =  36\n",
      "배수지표고(E.L)\n",
      "(m) =  10\n",
      "배수지\n",
      "배수방식 =  4\n",
      "부지면적\n",
      "(㎡) =  12\n",
      "유출관경\n",
      "(mm) =  24\n",
      "고수위표고(E.L)\n",
      "(m) =  10\n",
      "저수위표고(E.L)\n",
      "(m) =  10\n",
      "결측 max_배수지\n",
      "관리방식 =  74\n",
      "결측 max_사용여부 =  74\n",
      "결측 max_WGS84좌표(X) =  74\n",
      "결측 max_WGS84좌표(Y) =  74\n"
     ]
    }
   ],
   "source": [
    "col_name = list()\n",
    "for idx,col in enumerate(df_drainage.columns):\n",
    "    if df_drainage[col].isnull().sum() == 0: # 결측이 없는것을 제외하고 출력 \n",
    "        pass\n",
    "    elif df_drainage[col].isnull().sum() == 74:\n",
    "        # 결측100% 인 컬럼 이름 리스트에 담기 \n",
    "        col_name.append(df_drainage.columns[idx])\n",
    "        print(f'결측 max_{df_drainage.columns[idx]} = ', df_drainage[col].isnull().sum())\n",
    "    else:\n",
    "        print(f'{df_drainage.columns[idx]} = ', df_drainage[col].isnull().sum())"
   ]
  },
  {
   "cell_type": "code",
   "execution_count": 10,
   "metadata": {},
   "outputs": [
    {
     "name": "stdout",
     "output_type": "stream",
     "text": [
      "column:                  착공일\t Percent of NaN value: 100.00%\n",
      "column:           배수지규격(B m)\t Percent of NaN value: 100.00%\n",
      "column:           배수지규격(L m)\t Percent of NaN value: 100.00%\n",
      "column:          배수지규격(He m)\t Percent of NaN value: 100.00%\n",
      "column:          평균체류시간\n",
      "(시간)\t Percent of NaN value: 48.65%\n",
      "0.16 아래 >>>>> column:       배수지표고(E.L)\n",
      "(m)\t Percent of NaN value: 13.51%\n",
      "0.16 아래 >>>>> column:             배수지\n",
      "배수방식\t Percent of NaN value: 5.41%\n",
      "column:             부지면적\n",
      "(㎡)\t Percent of NaN value: 16.22%\n",
      "column:            유출관경\n",
      "(mm)\t Percent of NaN value: 32.43%\n",
      "0.16 아래 >>>>> column:       고수위표고(E.L)\n",
      "(m)\t Percent of NaN value: 13.51%\n",
      "0.16 아래 >>>>> column:       저수위표고(E.L)\n",
      "(m)\t Percent of NaN value: 13.51%\n",
      "column:             배수지\n",
      "관리방식\t Percent of NaN value: 100.00%\n",
      "column:                 사용여부\t Percent of NaN value: 100.00%\n",
      "column:           WGS84좌표(X)\t Percent of NaN value: 100.00%\n",
      "column:           WGS84좌표(Y)\t Percent of NaN value: 100.00%\n"
     ]
    }
   ],
   "source": [
    "# 결측값이 전체인 아이들은 제거 결측은 데이터의 15%가 넘으면 사용하지 못함 -> 회의가 필요함 !  \n",
    "for idx,col in enumerate(df_drainage.columns):\n",
    "    percent = df_drainage[col].isnull().sum() / df_drainage[col].shape[0]\n",
    "    if percent == 0.0: # 결측이 없는것을 제외하고 출력 \n",
    "        pass\n",
    "    elif percent <= 0.16:\n",
    "        msg = 'column: {:>20}\\t Percent of NaN value: {:.2f}%'.format(col, 100 * (percent))\n",
    "        print('0.16 아래 >>>>>', msg)\n",
    "    else:\n",
    "#         print(percent)\n",
    "        msg = 'column: {:>20}\\t Percent of NaN value: {:.2f}%'.format(col, 100 * (percent))\n",
    "        print(msg)"
   ]
  },
  {
   "cell_type": "markdown",
   "metadata": {},
   "source": [
    "# 컬럼 이름 표준화"
   ]
  },
  {
   "cell_type": "code",
   "execution_count": 11,
   "metadata": {},
   "outputs": [
    {
     "data": {
      "text/plain": [
       "(['착공일',\n",
       "  '배수지규격(B m)',\n",
       "  '배수지규격(L m)',\n",
       "  '배수지규격(He m)',\n",
       "  '배수지\\n관리방식',\n",
       "  '사용여부',\n",
       "  'WGS84좌표(X)',\n",
       "  'WGS84좌표(Y)'],\n",
       " 8)"
      ]
     },
     "execution_count": 11,
     "metadata": {},
     "output_type": "execute_result"
    }
   ],
   "source": [
    "col_name,len(col_name)"
   ]
  },
  {
   "cell_type": "code",
   "execution_count": 12,
   "metadata": {},
   "outputs": [
    {
     "data": {
      "text/plain": [
       "(['배수지명',\n",
       "  '준공일',\n",
       "  '시설용량\\n(㎥/일)',\n",
       "  '평균체류시간\\n(시간)',\n",
       "  '배수지표고(E.L)\\n(m)',\n",
       "  '배수지\\n배수방식',\n",
       "  '부지면적\\n(㎡)',\n",
       "  '유출관경\\n(mm)',\n",
       "  '고수위표고(E.L)\\n(m)',\n",
       "  '저수위표고(E.L)\\n(m)',\n",
       "  '위도좌표',\n",
       "  '경도좌표'],\n",
       " 12)"
      ]
     },
     "execution_count": 12,
     "metadata": {},
     "output_type": "execute_result"
    }
   ],
   "source": [
    "le_col = [i for i in  df_drainage.columns if i not in col_name]\n",
    "le_col, len(le_col)"
   ]
  },
  {
   "cell_type": "code",
   "execution_count": 13,
   "metadata": {},
   "outputs": [
    {
     "data": {
      "text/plain": [
       "20"
      ]
     },
     "execution_count": 13,
     "metadata": {},
     "output_type": "execute_result"
    }
   ],
   "source": [
    "# 결측 100 이랑 그외 네임 길이의 합 \n",
    "len(col_name) + len(le_col)"
   ]
  },
  {
   "cell_type": "code",
   "execution_count": 14,
   "metadata": {},
   "outputs": [
    {
     "data": {
      "text/plain": [
       "20"
      ]
     },
     "execution_count": 14,
     "metadata": {},
     "output_type": "execute_result"
    }
   ],
   "source": [
    "# 총 컬럼 합\n",
    "len(df_drainage.columns)"
   ]
  },
  {
   "cell_type": "code",
   "execution_count": 15,
   "metadata": {},
   "outputs": [
    {
     "data": {
      "text/html": [
       "<div>\n",
       "<style scoped>\n",
       "    .dataframe tbody tr th:only-of-type {\n",
       "        vertical-align: middle;\n",
       "    }\n",
       "\n",
       "    .dataframe tbody tr th {\n",
       "        vertical-align: top;\n",
       "    }\n",
       "\n",
       "    .dataframe thead th {\n",
       "        text-align: right;\n",
       "    }\n",
       "</style>\n",
       "<table border=\"1\" class=\"dataframe\">\n",
       "  <thead>\n",
       "    <tr style=\"text-align: right;\">\n",
       "      <th></th>\n",
       "      <th>배수지명</th>\n",
       "      <th>준공일</th>\n",
       "      <th>시설용량\\n(㎥/일)</th>\n",
       "      <th>평균체류시간\\n(시간)</th>\n",
       "      <th>배수지표고(E.L)\\n(m)</th>\n",
       "      <th>배수지\\n배수방식</th>\n",
       "      <th>부지면적\\n(㎡)</th>\n",
       "      <th>유출관경\\n(mm)</th>\n",
       "      <th>고수위표고(E.L)\\n(m)</th>\n",
       "      <th>저수위표고(E.L)\\n(m)</th>\n",
       "      <th>위도좌표</th>\n",
       "      <th>경도좌표</th>\n",
       "    </tr>\n",
       "  </thead>\n",
       "  <tbody>\n",
       "    <tr>\n",
       "      <th>0</th>\n",
       "      <td>감만</td>\n",
       "      <td>2002-12-01</td>\n",
       "      <td>3,000</td>\n",
       "      <td>NaN</td>\n",
       "      <td>116.0</td>\n",
       "      <td>자연유하식</td>\n",
       "      <td>5,777</td>\n",
       "      <td>400.0</td>\n",
       "      <td>114.5</td>\n",
       "      <td>110.0</td>\n",
       "      <td>35.119015</td>\n",
       "      <td>129.088007</td>\n",
       "    </tr>\n",
       "    <tr>\n",
       "      <th>1</th>\n",
       "      <td>감천</td>\n",
       "      <td>2002-12-30</td>\n",
       "      <td>4,000</td>\n",
       "      <td>NaN</td>\n",
       "      <td>80.0</td>\n",
       "      <td>자연유하식</td>\n",
       "      <td>4,777</td>\n",
       "      <td>500.0</td>\n",
       "      <td>84.0</td>\n",
       "      <td>79.0</td>\n",
       "      <td>35.078648</td>\n",
       "      <td>129.011243</td>\n",
       "    </tr>\n",
       "    <tr>\n",
       "      <th>2</th>\n",
       "      <td>개금1</td>\n",
       "      <td>1976-11-01</td>\n",
       "      <td>15,000</td>\n",
       "      <td>14.0</td>\n",
       "      <td>70.0</td>\n",
       "      <td>자연유하식</td>\n",
       "      <td>6,863</td>\n",
       "      <td>500.0</td>\n",
       "      <td>80.5</td>\n",
       "      <td>76.3</td>\n",
       "      <td>35.148822</td>\n",
       "      <td>129.022481</td>\n",
       "    </tr>\n",
       "    <tr>\n",
       "      <th>3</th>\n",
       "      <td>개금2</td>\n",
       "      <td>1969-09-01</td>\n",
       "      <td>2,500</td>\n",
       "      <td>NaN</td>\n",
       "      <td>187.0</td>\n",
       "      <td>자연유하식</td>\n",
       "      <td>8,163</td>\n",
       "      <td>300.0</td>\n",
       "      <td>186.1</td>\n",
       "      <td>181.6</td>\n",
       "      <td>35.142682</td>\n",
       "      <td>129.019421</td>\n",
       "    </tr>\n",
       "    <tr>\n",
       "      <th>4</th>\n",
       "      <td>거제</td>\n",
       "      <td>2001-12-29</td>\n",
       "      <td>15,000</td>\n",
       "      <td>18.0</td>\n",
       "      <td>120.0</td>\n",
       "      <td>자연유하식</td>\n",
       "      <td>11,329</td>\n",
       "      <td>700.0</td>\n",
       "      <td>131.0</td>\n",
       "      <td>125.0</td>\n",
       "      <td>35.184369</td>\n",
       "      <td>129.054550</td>\n",
       "    </tr>\n",
       "  </tbody>\n",
       "</table>\n",
       "</div>"
      ],
      "text/plain": [
       "  배수지명         준공일 시설용량\\n(㎥/일)  평균체류시간\\n(시간)  배수지표고(E.L)\\n(m) 배수지\\n배수방식  \\\n",
       "0   감만  2002-12-01       3,000           NaN            116.0     자연유하식   \n",
       "1   감천  2002-12-30       4,000           NaN             80.0     자연유하식   \n",
       "2  개금1  1976-11-01      15,000          14.0             70.0     자연유하식   \n",
       "3  개금2  1969-09-01       2,500           NaN            187.0     자연유하식   \n",
       "4   거제  2001-12-29      15,000          18.0            120.0     자연유하식   \n",
       "\n",
       "  부지면적\\n(㎡)  유출관경\\n(mm)  고수위표고(E.L)\\n(m)  저수위표고(E.L)\\n(m)       위도좌표  \\\n",
       "0     5,777       400.0            114.5            110.0  35.119015   \n",
       "1     4,777       500.0             84.0             79.0  35.078648   \n",
       "2     6,863       500.0             80.5             76.3  35.148822   \n",
       "3     8,163       300.0            186.1            181.6  35.142682   \n",
       "4    11,329       700.0            131.0            125.0  35.184369   \n",
       "\n",
       "         경도좌표  \n",
       "0  129.088007  \n",
       "1  129.011243  \n",
       "2  129.022481  \n",
       "3  129.019421  \n",
       "4  129.054550  "
      ]
     },
     "execution_count": 15,
     "metadata": {},
     "output_type": "execute_result"
    }
   ],
   "source": [
    "# 일단 100인거 먼저 사본 만들기\n",
    "df_dra_notFull = df_drainage.loc[:,le_col] # 결측 100 아닌 데이터만 추출 \n",
    "df_dra_notFull.head()"
   ]
  },
  {
   "cell_type": "code",
   "execution_count": null,
   "metadata": {},
   "outputs": [],
   "source": []
  },
  {
   "cell_type": "markdown",
   "metadata": {},
   "source": [
    "# 사본 만들기 \n",
    "### 필요없는 컬럼 생길시 사본에서 일차 처리하기   \n",
    "->  준공일 , 그외 결측 과다 데이터, 근데 보기에는 다 의미있어보임 -> 회의가 필요 "
   ]
  },
  {
   "cell_type": "code",
   "execution_count": 16,
   "metadata": {},
   "outputs": [
    {
     "data": {
      "text/plain": [
       "Index(['배수지명', '준공일', '시설용량\\n(㎥/일)', '평균체류시간\\n(시간)', '배수지표고(E.L)\\n(m)',\n",
       "       '배수지\\n배수방식', '부지면적\\n(㎡)', '유출관경\\n(mm)', '고수위표고(E.L)\\n(m)',\n",
       "       '저수위표고(E.L)\\n(m)', '위도좌표', '경도좌표'],\n",
       "      dtype='object')"
      ]
     },
     "execution_count": 16,
     "metadata": {},
     "output_type": "execute_result"
    }
   ],
   "source": [
    "df_dra_notFull.columns"
   ]
  },
  {
   "cell_type": "code",
   "execution_count": 17,
   "metadata": {},
   "outputs": [
    {
     "data": {
      "text/plain": [
       "{'시설용량\\n(㎥/일)': '시설용량',\n",
       " '평균체류시간\\n(시간)': '평균체류시간',\n",
       " '배수지표고(E.L)\\n(m)': '배수지표고',\n",
       " '배수지\\n배수방식': '배수방식',\n",
       " '부지면적\\n(㎡)': '부지면적',\n",
       " '유출관경\\n(mm)': '유출관크기',\n",
       " '고수위표고(E.L)\\n(m)': '고수위',\n",
       " '저수위표고(E.L)\\n(m)': '저수위',\n",
       " '위도좌표': '위도',\n",
       " '경도좌표': '경도'}"
      ]
     },
     "execution_count": 17,
     "metadata": {},
     "output_type": "execute_result"
    }
   ],
   "source": [
    "# 컬럼 이름 변경 -> 만약에 이전에 필요 없는 컬럼 삭제시 해당 컬럼만 삭제 \n",
    "change_name = {\n",
    "    le_col[2]: '시설용량',\n",
    "    le_col[3]: '평균체류시간',\n",
    "    le_col[4]: '배수지표고',\n",
    "    le_col[5]: '배수방식',\n",
    "    le_col[6]: '부지면적',\n",
    "    le_col[7]: '유출관크기',\n",
    "    le_col[8]: '고수위',\n",
    "    le_col[9]: '저수위',\n",
    "    le_col[10]: '위도',\n",
    "    le_col[11]: '경도',\n",
    "}\n",
    "change_name"
   ]
  },
  {
   "cell_type": "code",
   "execution_count": 18,
   "metadata": {},
   "outputs": [
    {
     "data": {
      "text/html": [
       "<div>\n",
       "<style scoped>\n",
       "    .dataframe tbody tr th:only-of-type {\n",
       "        vertical-align: middle;\n",
       "    }\n",
       "\n",
       "    .dataframe tbody tr th {\n",
       "        vertical-align: top;\n",
       "    }\n",
       "\n",
       "    .dataframe thead th {\n",
       "        text-align: right;\n",
       "    }\n",
       "</style>\n",
       "<table border=\"1\" class=\"dataframe\">\n",
       "  <thead>\n",
       "    <tr style=\"text-align: right;\">\n",
       "      <th></th>\n",
       "      <th>배수지명</th>\n",
       "      <th>준공일</th>\n",
       "      <th>시설용량</th>\n",
       "      <th>평균체류시간</th>\n",
       "      <th>배수지표고</th>\n",
       "      <th>배수방식</th>\n",
       "      <th>부지면적</th>\n",
       "      <th>유출관크기</th>\n",
       "      <th>고수위</th>\n",
       "      <th>저수위</th>\n",
       "      <th>위도</th>\n",
       "      <th>경도</th>\n",
       "    </tr>\n",
       "  </thead>\n",
       "  <tbody>\n",
       "    <tr>\n",
       "      <th>0</th>\n",
       "      <td>감만</td>\n",
       "      <td>2002-12-01</td>\n",
       "      <td>3,000</td>\n",
       "      <td>NaN</td>\n",
       "      <td>116.0</td>\n",
       "      <td>자연유하식</td>\n",
       "      <td>5,777</td>\n",
       "      <td>400.0</td>\n",
       "      <td>114.5</td>\n",
       "      <td>110.0</td>\n",
       "      <td>35.119015</td>\n",
       "      <td>129.088007</td>\n",
       "    </tr>\n",
       "    <tr>\n",
       "      <th>1</th>\n",
       "      <td>감천</td>\n",
       "      <td>2002-12-30</td>\n",
       "      <td>4,000</td>\n",
       "      <td>NaN</td>\n",
       "      <td>80.0</td>\n",
       "      <td>자연유하식</td>\n",
       "      <td>4,777</td>\n",
       "      <td>500.0</td>\n",
       "      <td>84.0</td>\n",
       "      <td>79.0</td>\n",
       "      <td>35.078648</td>\n",
       "      <td>129.011243</td>\n",
       "    </tr>\n",
       "    <tr>\n",
       "      <th>2</th>\n",
       "      <td>개금1</td>\n",
       "      <td>1976-11-01</td>\n",
       "      <td>15,000</td>\n",
       "      <td>14.0</td>\n",
       "      <td>70.0</td>\n",
       "      <td>자연유하식</td>\n",
       "      <td>6,863</td>\n",
       "      <td>500.0</td>\n",
       "      <td>80.5</td>\n",
       "      <td>76.3</td>\n",
       "      <td>35.148822</td>\n",
       "      <td>129.022481</td>\n",
       "    </tr>\n",
       "    <tr>\n",
       "      <th>3</th>\n",
       "      <td>개금2</td>\n",
       "      <td>1969-09-01</td>\n",
       "      <td>2,500</td>\n",
       "      <td>NaN</td>\n",
       "      <td>187.0</td>\n",
       "      <td>자연유하식</td>\n",
       "      <td>8,163</td>\n",
       "      <td>300.0</td>\n",
       "      <td>186.1</td>\n",
       "      <td>181.6</td>\n",
       "      <td>35.142682</td>\n",
       "      <td>129.019421</td>\n",
       "    </tr>\n",
       "    <tr>\n",
       "      <th>4</th>\n",
       "      <td>거제</td>\n",
       "      <td>2001-12-29</td>\n",
       "      <td>15,000</td>\n",
       "      <td>18.0</td>\n",
       "      <td>120.0</td>\n",
       "      <td>자연유하식</td>\n",
       "      <td>11,329</td>\n",
       "      <td>700.0</td>\n",
       "      <td>131.0</td>\n",
       "      <td>125.0</td>\n",
       "      <td>35.184369</td>\n",
       "      <td>129.054550</td>\n",
       "    </tr>\n",
       "    <tr>\n",
       "      <th>...</th>\n",
       "      <td>...</td>\n",
       "      <td>...</td>\n",
       "      <td>...</td>\n",
       "      <td>...</td>\n",
       "      <td>...</td>\n",
       "      <td>...</td>\n",
       "      <td>...</td>\n",
       "      <td>...</td>\n",
       "      <td>...</td>\n",
       "      <td>...</td>\n",
       "      <td>...</td>\n",
       "      <td>...</td>\n",
       "    </tr>\n",
       "    <tr>\n",
       "      <th>69</th>\n",
       "      <td>수정1배수지</td>\n",
       "      <td>1932-11-01</td>\n",
       "      <td>3,875</td>\n",
       "      <td>12.0</td>\n",
       "      <td>59.1</td>\n",
       "      <td>자연유하식</td>\n",
       "      <td>NaN</td>\n",
       "      <td>NaN</td>\n",
       "      <td>63.1</td>\n",
       "      <td>59.1</td>\n",
       "      <td>35.126047</td>\n",
       "      <td>129.040196</td>\n",
       "    </tr>\n",
       "    <tr>\n",
       "      <th>70</th>\n",
       "      <td>봉대산배수지</td>\n",
       "      <td>2016-09-30</td>\n",
       "      <td>20,000</td>\n",
       "      <td>12.0</td>\n",
       "      <td>NaN</td>\n",
       "      <td>자연유하식</td>\n",
       "      <td>NaN</td>\n",
       "      <td>NaN</td>\n",
       "      <td>NaN</td>\n",
       "      <td>NaN</td>\n",
       "      <td>35.232081</td>\n",
       "      <td>129.223262</td>\n",
       "    </tr>\n",
       "    <tr>\n",
       "      <th>71</th>\n",
       "      <td>생곡공업배수지</td>\n",
       "      <td>2014-12-31</td>\n",
       "      <td>4,400</td>\n",
       "      <td>12.0</td>\n",
       "      <td>NaN</td>\n",
       "      <td>자연유하식</td>\n",
       "      <td>NaN</td>\n",
       "      <td>NaN</td>\n",
       "      <td>NaN</td>\n",
       "      <td>NaN</td>\n",
       "      <td>35.135567</td>\n",
       "      <td>128.874763</td>\n",
       "    </tr>\n",
       "    <tr>\n",
       "      <th>72</th>\n",
       "      <td>괴정배수지</td>\n",
       "      <td>1978-03-31</td>\n",
       "      <td>10,000</td>\n",
       "      <td>12.0</td>\n",
       "      <td>NaN</td>\n",
       "      <td>자연유하식</td>\n",
       "      <td>NaN</td>\n",
       "      <td>NaN</td>\n",
       "      <td>NaN</td>\n",
       "      <td>NaN</td>\n",
       "      <td>35.095763</td>\n",
       "      <td>128.997206</td>\n",
       "    </tr>\n",
       "    <tr>\n",
       "      <th>73</th>\n",
       "      <td>용호1배수지</td>\n",
       "      <td>1978-10-31</td>\n",
       "      <td>2,000</td>\n",
       "      <td>12.0</td>\n",
       "      <td>NaN</td>\n",
       "      <td>자연유하식</td>\n",
       "      <td>NaN</td>\n",
       "      <td>NaN</td>\n",
       "      <td>NaN</td>\n",
       "      <td>NaN</td>\n",
       "      <td>35.108605</td>\n",
       "      <td>129.114397</td>\n",
       "    </tr>\n",
       "  </tbody>\n",
       "</table>\n",
       "<p>74 rows × 12 columns</p>\n",
       "</div>"
      ],
      "text/plain": [
       "       배수지명         준공일    시설용량  평균체류시간  배수지표고   배수방식    부지면적  유출관크기    고수위  \\\n",
       "0        감만  2002-12-01   3,000     NaN  116.0  자연유하식   5,777  400.0  114.5   \n",
       "1        감천  2002-12-30   4,000     NaN   80.0  자연유하식   4,777  500.0   84.0   \n",
       "2       개금1  1976-11-01  15,000    14.0   70.0  자연유하식   6,863  500.0   80.5   \n",
       "3       개금2  1969-09-01   2,500     NaN  187.0  자연유하식   8,163  300.0  186.1   \n",
       "4        거제  2001-12-29  15,000    18.0  120.0  자연유하식  11,329  700.0  131.0   \n",
       "..      ...         ...     ...     ...    ...    ...     ...    ...    ...   \n",
       "69   수정1배수지  1932-11-01   3,875    12.0   59.1  자연유하식     NaN    NaN   63.1   \n",
       "70   봉대산배수지  2016-09-30  20,000    12.0    NaN  자연유하식     NaN    NaN    NaN   \n",
       "71  생곡공업배수지  2014-12-31   4,400    12.0    NaN  자연유하식     NaN    NaN    NaN   \n",
       "72    괴정배수지  1978-03-31  10,000    12.0    NaN  자연유하식     NaN    NaN    NaN   \n",
       "73   용호1배수지  1978-10-31   2,000    12.0    NaN  자연유하식     NaN    NaN    NaN   \n",
       "\n",
       "      저수위         위도          경도  \n",
       "0   110.0  35.119015  129.088007  \n",
       "1    79.0  35.078648  129.011243  \n",
       "2    76.3  35.148822  129.022481  \n",
       "3   181.6  35.142682  129.019421  \n",
       "4   125.0  35.184369  129.054550  \n",
       "..    ...        ...         ...  \n",
       "69   59.1  35.126047  129.040196  \n",
       "70    NaN  35.232081  129.223262  \n",
       "71    NaN  35.135567  128.874763  \n",
       "72    NaN  35.095763  128.997206  \n",
       "73    NaN  35.108605  129.114397  \n",
       "\n",
       "[74 rows x 12 columns]"
      ]
     },
     "execution_count": 18,
     "metadata": {},
     "output_type": "execute_result"
    }
   ],
   "source": [
    "# 컬럼명 변경하기 \n",
    "df_dra_notFull = df_dra_notFull.rename(change_name, axis='columns') # 변경확인 -> 원본 작업 진행\n",
    "df_dra_notFull"
   ]
  },
  {
   "cell_type": "markdown",
   "metadata": {},
   "source": [
    "# 배수지명 표준화"
   ]
  },
  {
   "cell_type": "code",
   "execution_count": 19,
   "metadata": {
    "scrolled": false
   },
   "outputs": [
    {
     "data": {
      "text/plain": [
       "개금2      1\n",
       "대티2      1\n",
       "금곡       1\n",
       "녹산       1\n",
       "오륜       1\n",
       "        ..\n",
       "모라       1\n",
       "문현       1\n",
       "대티       1\n",
       "구덕       1\n",
       "월내배수지    1\n",
       "Name: 배수지명, Length: 74, dtype: int64"
      ]
     },
     "execution_count": 19,
     "metadata": {},
     "output_type": "execute_result"
    }
   ],
   "source": [
    "df_dra_notFull['배수지명'].value_counts()"
   ]
  },
  {
   "cell_type": "code",
   "execution_count": 20,
   "metadata": {},
   "outputs": [
    {
     "data": {
      "text/html": [
       "<div>\n",
       "<style scoped>\n",
       "    .dataframe tbody tr th:only-of-type {\n",
       "        vertical-align: middle;\n",
       "    }\n",
       "\n",
       "    .dataframe tbody tr th {\n",
       "        vertical-align: top;\n",
       "    }\n",
       "\n",
       "    .dataframe thead th {\n",
       "        text-align: right;\n",
       "    }\n",
       "</style>\n",
       "<table border=\"1\" class=\"dataframe\">\n",
       "  <thead>\n",
       "    <tr style=\"text-align: right;\">\n",
       "      <th></th>\n",
       "      <th>배수지명</th>\n",
       "      <th>준공일</th>\n",
       "      <th>시설용량</th>\n",
       "      <th>평균체류시간</th>\n",
       "      <th>배수지표고</th>\n",
       "      <th>배수방식</th>\n",
       "      <th>부지면적</th>\n",
       "      <th>유출관크기</th>\n",
       "      <th>고수위</th>\n",
       "      <th>저수위</th>\n",
       "      <th>위도</th>\n",
       "      <th>경도</th>\n",
       "    </tr>\n",
       "  </thead>\n",
       "  <tbody>\n",
       "    <tr>\n",
       "      <th>63</th>\n",
       "      <td>반여2 배수지</td>\n",
       "      <td>2015-10-27</td>\n",
       "      <td>12,000</td>\n",
       "      <td>NaN</td>\n",
       "      <td>173.5</td>\n",
       "      <td>병용식</td>\n",
       "      <td>5,231</td>\n",
       "      <td>600.0</td>\n",
       "      <td>168.2</td>\n",
       "      <td>163.8</td>\n",
       "      <td>35.194507</td>\n",
       "      <td>129.132898</td>\n",
       "    </tr>\n",
       "    <tr>\n",
       "      <th>64</th>\n",
       "      <td>월내배수지</td>\n",
       "      <td>1981-01-01</td>\n",
       "      <td>500</td>\n",
       "      <td>NaN</td>\n",
       "      <td>NaN</td>\n",
       "      <td>자연유하식</td>\n",
       "      <td>0</td>\n",
       "      <td>NaN</td>\n",
       "      <td>NaN</td>\n",
       "      <td>NaN</td>\n",
       "      <td>35.329147</td>\n",
       "      <td>129.275430</td>\n",
       "    </tr>\n",
       "    <tr>\n",
       "      <th>65</th>\n",
       "      <td>생곡생활배수지</td>\n",
       "      <td>2014-12-01</td>\n",
       "      <td>3,000</td>\n",
       "      <td>12.0</td>\n",
       "      <td>NaN</td>\n",
       "      <td>NaN</td>\n",
       "      <td>NaN</td>\n",
       "      <td>NaN</td>\n",
       "      <td>NaN</td>\n",
       "      <td>NaN</td>\n",
       "      <td>35.135556</td>\n",
       "      <td>128.874762</td>\n",
       "    </tr>\n",
       "    <tr>\n",
       "      <th>66</th>\n",
       "      <td>명례배수지</td>\n",
       "      <td>2014-12-01</td>\n",
       "      <td>10,000</td>\n",
       "      <td>12.0</td>\n",
       "      <td>NaN</td>\n",
       "      <td>NaN</td>\n",
       "      <td>NaN</td>\n",
       "      <td>NaN</td>\n",
       "      <td>NaN</td>\n",
       "      <td>NaN</td>\n",
       "      <td>35.366376</td>\n",
       "      <td>129.252756</td>\n",
       "    </tr>\n",
       "    <tr>\n",
       "      <th>67</th>\n",
       "      <td>산성마을배수지</td>\n",
       "      <td>2014-12-01</td>\n",
       "      <td>250</td>\n",
       "      <td>12.0</td>\n",
       "      <td>NaN</td>\n",
       "      <td>NaN</td>\n",
       "      <td>NaN</td>\n",
       "      <td>NaN</td>\n",
       "      <td>NaN</td>\n",
       "      <td>NaN</td>\n",
       "      <td>35.239626</td>\n",
       "      <td>129.058812</td>\n",
       "    </tr>\n",
       "    <tr>\n",
       "      <th>68</th>\n",
       "      <td>장림배수지</td>\n",
       "      <td>1991-09-01</td>\n",
       "      <td>10,000</td>\n",
       "      <td>12.0</td>\n",
       "      <td>NaN</td>\n",
       "      <td>NaN</td>\n",
       "      <td>NaN</td>\n",
       "      <td>NaN</td>\n",
       "      <td>NaN</td>\n",
       "      <td>NaN</td>\n",
       "      <td>35.067959</td>\n",
       "      <td>128.976526</td>\n",
       "    </tr>\n",
       "    <tr>\n",
       "      <th>69</th>\n",
       "      <td>수정1배수지</td>\n",
       "      <td>1932-11-01</td>\n",
       "      <td>3,875</td>\n",
       "      <td>12.0</td>\n",
       "      <td>59.1</td>\n",
       "      <td>자연유하식</td>\n",
       "      <td>NaN</td>\n",
       "      <td>NaN</td>\n",
       "      <td>63.1</td>\n",
       "      <td>59.1</td>\n",
       "      <td>35.126047</td>\n",
       "      <td>129.040196</td>\n",
       "    </tr>\n",
       "    <tr>\n",
       "      <th>70</th>\n",
       "      <td>봉대산배수지</td>\n",
       "      <td>2016-09-30</td>\n",
       "      <td>20,000</td>\n",
       "      <td>12.0</td>\n",
       "      <td>NaN</td>\n",
       "      <td>자연유하식</td>\n",
       "      <td>NaN</td>\n",
       "      <td>NaN</td>\n",
       "      <td>NaN</td>\n",
       "      <td>NaN</td>\n",
       "      <td>35.232081</td>\n",
       "      <td>129.223262</td>\n",
       "    </tr>\n",
       "    <tr>\n",
       "      <th>71</th>\n",
       "      <td>생곡공업배수지</td>\n",
       "      <td>2014-12-31</td>\n",
       "      <td>4,400</td>\n",
       "      <td>12.0</td>\n",
       "      <td>NaN</td>\n",
       "      <td>자연유하식</td>\n",
       "      <td>NaN</td>\n",
       "      <td>NaN</td>\n",
       "      <td>NaN</td>\n",
       "      <td>NaN</td>\n",
       "      <td>35.135567</td>\n",
       "      <td>128.874763</td>\n",
       "    </tr>\n",
       "    <tr>\n",
       "      <th>72</th>\n",
       "      <td>괴정배수지</td>\n",
       "      <td>1978-03-31</td>\n",
       "      <td>10,000</td>\n",
       "      <td>12.0</td>\n",
       "      <td>NaN</td>\n",
       "      <td>자연유하식</td>\n",
       "      <td>NaN</td>\n",
       "      <td>NaN</td>\n",
       "      <td>NaN</td>\n",
       "      <td>NaN</td>\n",
       "      <td>35.095763</td>\n",
       "      <td>128.997206</td>\n",
       "    </tr>\n",
       "    <tr>\n",
       "      <th>73</th>\n",
       "      <td>용호1배수지</td>\n",
       "      <td>1978-10-31</td>\n",
       "      <td>2,000</td>\n",
       "      <td>12.0</td>\n",
       "      <td>NaN</td>\n",
       "      <td>자연유하식</td>\n",
       "      <td>NaN</td>\n",
       "      <td>NaN</td>\n",
       "      <td>NaN</td>\n",
       "      <td>NaN</td>\n",
       "      <td>35.108605</td>\n",
       "      <td>129.114397</td>\n",
       "    </tr>\n",
       "  </tbody>\n",
       "</table>\n",
       "</div>"
      ],
      "text/plain": [
       "       배수지명         준공일    시설용량  평균체류시간  배수지표고   배수방식   부지면적  유출관크기    고수위  \\\n",
       "63  반여2 배수지  2015-10-27  12,000     NaN  173.5    병용식  5,231  600.0  168.2   \n",
       "64    월내배수지  1981-01-01     500     NaN    NaN  자연유하식      0    NaN    NaN   \n",
       "65  생곡생활배수지  2014-12-01   3,000    12.0    NaN    NaN    NaN    NaN    NaN   \n",
       "66    명례배수지  2014-12-01  10,000    12.0    NaN    NaN    NaN    NaN    NaN   \n",
       "67  산성마을배수지  2014-12-01     250    12.0    NaN    NaN    NaN    NaN    NaN   \n",
       "68    장림배수지  1991-09-01  10,000    12.0    NaN    NaN    NaN    NaN    NaN   \n",
       "69   수정1배수지  1932-11-01   3,875    12.0   59.1  자연유하식    NaN    NaN   63.1   \n",
       "70   봉대산배수지  2016-09-30  20,000    12.0    NaN  자연유하식    NaN    NaN    NaN   \n",
       "71  생곡공업배수지  2014-12-31   4,400    12.0    NaN  자연유하식    NaN    NaN    NaN   \n",
       "72    괴정배수지  1978-03-31  10,000    12.0    NaN  자연유하식    NaN    NaN    NaN   \n",
       "73   용호1배수지  1978-10-31   2,000    12.0    NaN  자연유하식    NaN    NaN    NaN   \n",
       "\n",
       "      저수위         위도          경도  \n",
       "63  163.8  35.194507  129.132898  \n",
       "64    NaN  35.329147  129.275430  \n",
       "65    NaN  35.135556  128.874762  \n",
       "66    NaN  35.366376  129.252756  \n",
       "67    NaN  35.239626  129.058812  \n",
       "68    NaN  35.067959  128.976526  \n",
       "69   59.1  35.126047  129.040196  \n",
       "70    NaN  35.232081  129.223262  \n",
       "71    NaN  35.135567  128.874763  \n",
       "72    NaN  35.095763  128.997206  \n",
       "73    NaN  35.108605  129.114397  "
      ]
     },
     "execution_count": 20,
     "metadata": {},
     "output_type": "execute_result"
    }
   ],
   "source": [
    "# 속성의 마지막이 배수지로 끝나는 row만 추출 \n",
    "df_dra_notFull[df_dra_notFull['배수지명'].str.endswith('배수지')]"
   ]
  },
  {
   "cell_type": "code",
   "execution_count": 21,
   "metadata": {},
   "outputs": [],
   "source": [
    "naming = list(df_dra_notFull['배수지명'])\n",
    "# 맨뒤에 배수지라고 써있는 이름 표준화\n",
    "re_row = [i[:-3] if i[-3:]  == '배수지' else i for i in naming]\n",
    "# re_row, len(re_row)"
   ]
  },
  {
   "cell_type": "code",
   "execution_count": 22,
   "metadata": {},
   "outputs": [],
   "source": [
    "# 배수지 새로운 이름으로 변경 \n",
    "df_dra_notFull['배수지명'] = re_row"
   ]
  },
  {
   "cell_type": "code",
   "execution_count": 23,
   "metadata": {},
   "outputs": [
    {
     "data": {
      "text/html": [
       "<div>\n",
       "<style scoped>\n",
       "    .dataframe tbody tr th:only-of-type {\n",
       "        vertical-align: middle;\n",
       "    }\n",
       "\n",
       "    .dataframe tbody tr th {\n",
       "        vertical-align: top;\n",
       "    }\n",
       "\n",
       "    .dataframe thead th {\n",
       "        text-align: right;\n",
       "    }\n",
       "</style>\n",
       "<table border=\"1\" class=\"dataframe\">\n",
       "  <thead>\n",
       "    <tr style=\"text-align: right;\">\n",
       "      <th></th>\n",
       "      <th>배수지명</th>\n",
       "      <th>준공일</th>\n",
       "      <th>시설용량</th>\n",
       "      <th>평균체류시간</th>\n",
       "      <th>배수지표고</th>\n",
       "      <th>배수방식</th>\n",
       "      <th>부지면적</th>\n",
       "      <th>유출관크기</th>\n",
       "      <th>고수위</th>\n",
       "      <th>저수위</th>\n",
       "      <th>위도</th>\n",
       "      <th>경도</th>\n",
       "    </tr>\n",
       "  </thead>\n",
       "  <tbody>\n",
       "  </tbody>\n",
       "</table>\n",
       "</div>"
      ],
      "text/plain": [
       "Empty DataFrame\n",
       "Columns: [배수지명, 준공일, 시설용량, 평균체류시간, 배수지표고, 배수방식, 부지면적, 유출관크기, 고수위, 저수위, 위도, 경도]\n",
       "Index: []"
      ]
     },
     "execution_count": 23,
     "metadata": {},
     "output_type": "execute_result"
    }
   ],
   "source": [
    "# 속성 변경확인 \n",
    "df_dra_notFull[df_dra_notFull['배수지명'].str.endswith('배수지')]"
   ]
  },
  {
   "cell_type": "markdown",
   "metadata": {},
   "source": [
    "#  중복데이터 확인 및 제거"
   ]
  },
  {
   "cell_type": "code",
   "execution_count": 24,
   "metadata": {
    "scrolled": true
   },
   "outputs": [
    {
     "data": {
      "text/plain": [
       "월내      2\n",
       "개금2     1\n",
       "금곡      1\n",
       "봉대산     1\n",
       "오륜      1\n",
       "       ..\n",
       "문현      1\n",
       "대티      1\n",
       "구덕      1\n",
       "대항      1\n",
       "산성마을    1\n",
       "Name: 배수지명, Length: 73, dtype: int64"
      ]
     },
     "execution_count": 24,
     "metadata": {},
     "output_type": "execute_result"
    }
   ],
   "source": [
    "df_dra_notFull['배수지명'].value_counts()\n",
    "# 월내 데이터 -> 2 "
   ]
  },
  {
   "cell_type": "code",
   "execution_count": 25,
   "metadata": {},
   "outputs": [
    {
     "data": {
      "text/html": [
       "<div>\n",
       "<style scoped>\n",
       "    .dataframe tbody tr th:only-of-type {\n",
       "        vertical-align: middle;\n",
       "    }\n",
       "\n",
       "    .dataframe tbody tr th {\n",
       "        vertical-align: top;\n",
       "    }\n",
       "\n",
       "    .dataframe thead th {\n",
       "        text-align: right;\n",
       "    }\n",
       "</style>\n",
       "<table border=\"1\" class=\"dataframe\">\n",
       "  <thead>\n",
       "    <tr style=\"text-align: right;\">\n",
       "      <th></th>\n",
       "      <th>배수지명</th>\n",
       "      <th>준공일</th>\n",
       "      <th>시설용량</th>\n",
       "      <th>평균체류시간</th>\n",
       "      <th>배수지표고</th>\n",
       "      <th>배수방식</th>\n",
       "      <th>부지면적</th>\n",
       "      <th>유출관크기</th>\n",
       "      <th>고수위</th>\n",
       "      <th>저수위</th>\n",
       "      <th>위도</th>\n",
       "      <th>경도</th>\n",
       "    </tr>\n",
       "  </thead>\n",
       "  <tbody>\n",
       "    <tr>\n",
       "      <th>45</th>\n",
       "      <td>월내</td>\n",
       "      <td>1981-01-01</td>\n",
       "      <td>500</td>\n",
       "      <td>NaN</td>\n",
       "      <td>21.5</td>\n",
       "      <td>자연유하식</td>\n",
       "      <td>0</td>\n",
       "      <td>NaN</td>\n",
       "      <td>0.0</td>\n",
       "      <td>0.0</td>\n",
       "      <td>35.329147</td>\n",
       "      <td>129.27543</td>\n",
       "    </tr>\n",
       "    <tr>\n",
       "      <th>64</th>\n",
       "      <td>월내</td>\n",
       "      <td>1981-01-01</td>\n",
       "      <td>500</td>\n",
       "      <td>NaN</td>\n",
       "      <td>NaN</td>\n",
       "      <td>자연유하식</td>\n",
       "      <td>0</td>\n",
       "      <td>NaN</td>\n",
       "      <td>NaN</td>\n",
       "      <td>NaN</td>\n",
       "      <td>35.329147</td>\n",
       "      <td>129.27543</td>\n",
       "    </tr>\n",
       "  </tbody>\n",
       "</table>\n",
       "</div>"
      ],
      "text/plain": [
       "   배수지명         준공일 시설용량  평균체류시간  배수지표고   배수방식 부지면적  유출관크기  고수위  저수위  \\\n",
       "45   월내  1981-01-01  500     NaN   21.5  자연유하식    0    NaN  0.0  0.0   \n",
       "64   월내  1981-01-01  500     NaN    NaN  자연유하식    0    NaN  NaN  NaN   \n",
       "\n",
       "           위도         경도  \n",
       "45  35.329147  129.27543  \n",
       "64  35.329147  129.27543  "
      ]
     },
     "execution_count": 25,
     "metadata": {},
     "output_type": "execute_result"
    }
   ],
   "source": [
    "# 중복값 제거 필요 : 64번 row가 데이터가 더 적은관계로 배제 \n",
    "df_dra_notFull[df_dra_notFull['배수지명'] == '월내'] "
   ]
  },
  {
   "cell_type": "code",
   "execution_count": 26,
   "metadata": {},
   "outputs": [],
   "source": [
    "df_dra_notFull = df_dra_notFull.drop([64])"
   ]
  },
  {
   "cell_type": "code",
   "execution_count": 27,
   "metadata": {},
   "outputs": [
    {
     "data": {
      "text/html": [
       "<div>\n",
       "<style scoped>\n",
       "    .dataframe tbody tr th:only-of-type {\n",
       "        vertical-align: middle;\n",
       "    }\n",
       "\n",
       "    .dataframe tbody tr th {\n",
       "        vertical-align: top;\n",
       "    }\n",
       "\n",
       "    .dataframe thead th {\n",
       "        text-align: right;\n",
       "    }\n",
       "</style>\n",
       "<table border=\"1\" class=\"dataframe\">\n",
       "  <thead>\n",
       "    <tr style=\"text-align: right;\">\n",
       "      <th></th>\n",
       "      <th>배수지명</th>\n",
       "      <th>준공일</th>\n",
       "      <th>시설용량</th>\n",
       "      <th>평균체류시간</th>\n",
       "      <th>배수지표고</th>\n",
       "      <th>배수방식</th>\n",
       "      <th>부지면적</th>\n",
       "      <th>유출관크기</th>\n",
       "      <th>고수위</th>\n",
       "      <th>저수위</th>\n",
       "      <th>위도</th>\n",
       "      <th>경도</th>\n",
       "    </tr>\n",
       "  </thead>\n",
       "  <tbody>\n",
       "    <tr>\n",
       "      <th>45</th>\n",
       "      <td>월내</td>\n",
       "      <td>1981-01-01</td>\n",
       "      <td>500</td>\n",
       "      <td>NaN</td>\n",
       "      <td>21.5</td>\n",
       "      <td>자연유하식</td>\n",
       "      <td>0</td>\n",
       "      <td>NaN</td>\n",
       "      <td>0.0</td>\n",
       "      <td>0.0</td>\n",
       "      <td>35.329147</td>\n",
       "      <td>129.27543</td>\n",
       "    </tr>\n",
       "  </tbody>\n",
       "</table>\n",
       "</div>"
      ],
      "text/plain": [
       "   배수지명         준공일 시설용량  평균체류시간  배수지표고   배수방식 부지면적  유출관크기  고수위  저수위  \\\n",
       "45   월내  1981-01-01  500     NaN   21.5  자연유하식    0    NaN  0.0  0.0   \n",
       "\n",
       "           위도         경도  \n",
       "45  35.329147  129.27543  "
      ]
     },
     "execution_count": 27,
     "metadata": {},
     "output_type": "execute_result"
    }
   ],
   "source": [
    "df_dra_notFull[df_dra_notFull['배수지명'] == '월내'] "
   ]
  },
  {
   "cell_type": "code",
   "execution_count": 28,
   "metadata": {},
   "outputs": [
    {
     "name": "stdout",
     "output_type": "stream",
     "text": [
      "column:               평균체류시간\t Percent of NaN value: 47.95%\n",
      "0.16 아래 >>>>> column:                배수지표고\t Percent of NaN value: 12.33%\n",
      "0.16 아래 >>>>> column:                 배수방식\t Percent of NaN value: 5.48%\n",
      "column:                 부지면적\t Percent of NaN value: 16.44%\n",
      "column:                유출관크기\t Percent of NaN value: 31.51%\n",
      "0.16 아래 >>>>> column:                  고수위\t Percent of NaN value: 12.33%\n",
      "0.16 아래 >>>>> column:                  저수위\t Percent of NaN value: 12.33%\n"
     ]
    }
   ],
   "source": [
    "# 결측값이 전체인 아이들은 제거 결측은 데이터의 15%가 넘으면 사용하지 못함 -> 회의가 필요함 !  \n",
    "for idx,col in enumerate(df_dra_notFull.columns):\n",
    "    percent = df_dra_notFull[col].isnull().sum() / df_dra_notFull[col].shape[0]\n",
    "    if percent == 0.0: # 결측이 없는것을 제외하고 출력 \n",
    "        pass\n",
    "    elif percent <= 0.16:\n",
    "        msg = 'column: {:>20}\\t Percent of NaN value: {:.2f}%'.format(col, 100 * (percent))\n",
    "        print('0.16 아래 >>>>>', msg)\n",
    "    else:\n",
    "#         print(percent)\n",
    "        msg = 'column: {:>20}\\t Percent of NaN value: {:.2f}%'.format(col, 100 * (percent))\n",
    "        print(msg)"
   ]
  },
  {
   "cell_type": "code",
   "execution_count": 29,
   "metadata": {},
   "outputs": [
    {
     "data": {
      "text/plain": [
       "100.0      1\n",
       "150.0      1\n",
       "200.0      3\n",
       "250.0      4\n",
       "300.0      8\n",
       "350.0      1\n",
       "400.0     10\n",
       "500.0     10\n",
       "600.0      3\n",
       "700.0      6\n",
       "800.0      1\n",
       "1000.0     1\n",
       "1200.0     1\n",
       "Name: 유출관크기, dtype: int64"
      ]
     },
     "execution_count": 29,
     "metadata": {},
     "output_type": "execute_result"
    }
   ],
   "source": [
    "# 인덱스 크기로 정렬 \n",
    "df_dra_notFull.유출관크기.value_counts().sort_index()"
   ]
  },
  {
   "cell_type": "code",
   "execution_count": 53,
   "metadata": {},
   "outputs": [],
   "source": [
    "d = df_dra_notFull['유출관크기'].dropna()"
   ]
  },
  {
   "cell_type": "code",
   "execution_count": 56,
   "metadata": {},
   "outputs": [
    {
     "data": {
      "text/plain": [
       "400.0"
      ]
     },
     "execution_count": 56,
     "metadata": {},
     "output_type": "execute_result"
    }
   ],
   "source": [
    "# 유출관 크기 결측확인 -> 400.0으로 채우기\n",
    "d.median()"
   ]
  },
  {
   "cell_type": "code",
   "execution_count": 52,
   "metadata": {},
   "outputs": [
    {
     "data": {
      "text/html": [
       "<div>\n",
       "<style scoped>\n",
       "    .dataframe tbody tr th:only-of-type {\n",
       "        vertical-align: middle;\n",
       "    }\n",
       "\n",
       "    .dataframe tbody tr th {\n",
       "        vertical-align: top;\n",
       "    }\n",
       "\n",
       "    .dataframe thead th {\n",
       "        text-align: right;\n",
       "    }\n",
       "</style>\n",
       "<table border=\"1\" class=\"dataframe\">\n",
       "  <thead>\n",
       "    <tr style=\"text-align: right;\">\n",
       "      <th></th>\n",
       "      <th>배수지명</th>\n",
       "      <th>준공일</th>\n",
       "      <th>시설용량</th>\n",
       "      <th>평균체류시간</th>\n",
       "      <th>배수지표고</th>\n",
       "      <th>배수방식</th>\n",
       "      <th>부지면적</th>\n",
       "      <th>유출관크기</th>\n",
       "      <th>고수위</th>\n",
       "      <th>저수위</th>\n",
       "      <th>위도</th>\n",
       "      <th>경도</th>\n",
       "    </tr>\n",
       "  </thead>\n",
       "  <tbody>\n",
       "    <tr>\n",
       "      <th>0</th>\n",
       "      <td>감만</td>\n",
       "      <td>2002-12-01</td>\n",
       "      <td>3,000</td>\n",
       "      <td>NaN</td>\n",
       "      <td>116.0</td>\n",
       "      <td>자연유하식</td>\n",
       "      <td>5,777</td>\n",
       "      <td>400.0</td>\n",
       "      <td>114.5</td>\n",
       "      <td>110.0</td>\n",
       "      <td>35.119015</td>\n",
       "      <td>129.088007</td>\n",
       "    </tr>\n",
       "    <tr>\n",
       "      <th>1</th>\n",
       "      <td>감천</td>\n",
       "      <td>2002-12-30</td>\n",
       "      <td>4,000</td>\n",
       "      <td>NaN</td>\n",
       "      <td>80.0</td>\n",
       "      <td>자연유하식</td>\n",
       "      <td>4,777</td>\n",
       "      <td>500.0</td>\n",
       "      <td>84.0</td>\n",
       "      <td>79.0</td>\n",
       "      <td>35.078648</td>\n",
       "      <td>129.011243</td>\n",
       "    </tr>\n",
       "    <tr>\n",
       "      <th>2</th>\n",
       "      <td>개금1</td>\n",
       "      <td>1976-11-01</td>\n",
       "      <td>15,000</td>\n",
       "      <td>14.0</td>\n",
       "      <td>70.0</td>\n",
       "      <td>자연유하식</td>\n",
       "      <td>6,863</td>\n",
       "      <td>500.0</td>\n",
       "      <td>80.5</td>\n",
       "      <td>76.3</td>\n",
       "      <td>35.148822</td>\n",
       "      <td>129.022481</td>\n",
       "    </tr>\n",
       "    <tr>\n",
       "      <th>3</th>\n",
       "      <td>개금2</td>\n",
       "      <td>1969-09-01</td>\n",
       "      <td>2,500</td>\n",
       "      <td>NaN</td>\n",
       "      <td>187.0</td>\n",
       "      <td>자연유하식</td>\n",
       "      <td>8,163</td>\n",
       "      <td>300.0</td>\n",
       "      <td>186.1</td>\n",
       "      <td>181.6</td>\n",
       "      <td>35.142682</td>\n",
       "      <td>129.019421</td>\n",
       "    </tr>\n",
       "    <tr>\n",
       "      <th>4</th>\n",
       "      <td>거제</td>\n",
       "      <td>2001-12-29</td>\n",
       "      <td>15,000</td>\n",
       "      <td>18.0</td>\n",
       "      <td>120.0</td>\n",
       "      <td>자연유하식</td>\n",
       "      <td>11,329</td>\n",
       "      <td>700.0</td>\n",
       "      <td>131.0</td>\n",
       "      <td>125.0</td>\n",
       "      <td>35.184369</td>\n",
       "      <td>129.054550</td>\n",
       "    </tr>\n",
       "    <tr>\n",
       "      <th>...</th>\n",
       "      <td>...</td>\n",
       "      <td>...</td>\n",
       "      <td>...</td>\n",
       "      <td>...</td>\n",
       "      <td>...</td>\n",
       "      <td>...</td>\n",
       "      <td>...</td>\n",
       "      <td>...</td>\n",
       "      <td>...</td>\n",
       "      <td>...</td>\n",
       "      <td>...</td>\n",
       "      <td>...</td>\n",
       "    </tr>\n",
       "    <tr>\n",
       "      <th>69</th>\n",
       "      <td>수정1</td>\n",
       "      <td>1932-11-01</td>\n",
       "      <td>3,875</td>\n",
       "      <td>12.0</td>\n",
       "      <td>59.1</td>\n",
       "      <td>자연유하식</td>\n",
       "      <td>NaN</td>\n",
       "      <td>NaN</td>\n",
       "      <td>63.1</td>\n",
       "      <td>59.1</td>\n",
       "      <td>35.126047</td>\n",
       "      <td>129.040196</td>\n",
       "    </tr>\n",
       "    <tr>\n",
       "      <th>70</th>\n",
       "      <td>봉대산</td>\n",
       "      <td>2016-09-30</td>\n",
       "      <td>20,000</td>\n",
       "      <td>12.0</td>\n",
       "      <td>NaN</td>\n",
       "      <td>자연유하식</td>\n",
       "      <td>NaN</td>\n",
       "      <td>NaN</td>\n",
       "      <td>NaN</td>\n",
       "      <td>NaN</td>\n",
       "      <td>35.232081</td>\n",
       "      <td>129.223262</td>\n",
       "    </tr>\n",
       "    <tr>\n",
       "      <th>71</th>\n",
       "      <td>생곡공업</td>\n",
       "      <td>2014-12-31</td>\n",
       "      <td>4,400</td>\n",
       "      <td>12.0</td>\n",
       "      <td>NaN</td>\n",
       "      <td>자연유하식</td>\n",
       "      <td>NaN</td>\n",
       "      <td>NaN</td>\n",
       "      <td>NaN</td>\n",
       "      <td>NaN</td>\n",
       "      <td>35.135567</td>\n",
       "      <td>128.874763</td>\n",
       "    </tr>\n",
       "    <tr>\n",
       "      <th>72</th>\n",
       "      <td>괴정</td>\n",
       "      <td>1978-03-31</td>\n",
       "      <td>10,000</td>\n",
       "      <td>12.0</td>\n",
       "      <td>NaN</td>\n",
       "      <td>자연유하식</td>\n",
       "      <td>NaN</td>\n",
       "      <td>NaN</td>\n",
       "      <td>NaN</td>\n",
       "      <td>NaN</td>\n",
       "      <td>35.095763</td>\n",
       "      <td>128.997206</td>\n",
       "    </tr>\n",
       "    <tr>\n",
       "      <th>73</th>\n",
       "      <td>용호1</td>\n",
       "      <td>1978-10-31</td>\n",
       "      <td>2,000</td>\n",
       "      <td>12.0</td>\n",
       "      <td>NaN</td>\n",
       "      <td>자연유하식</td>\n",
       "      <td>NaN</td>\n",
       "      <td>NaN</td>\n",
       "      <td>NaN</td>\n",
       "      <td>NaN</td>\n",
       "      <td>35.108605</td>\n",
       "      <td>129.114397</td>\n",
       "    </tr>\n",
       "  </tbody>\n",
       "</table>\n",
       "<p>73 rows × 12 columns</p>\n",
       "</div>"
      ],
      "text/plain": [
       "    배수지명         준공일    시설용량  평균체류시간  배수지표고   배수방식    부지면적  유출관크기    고수위  \\\n",
       "0     감만  2002-12-01   3,000     NaN  116.0  자연유하식   5,777  400.0  114.5   \n",
       "1     감천  2002-12-30   4,000     NaN   80.0  자연유하식   4,777  500.0   84.0   \n",
       "2    개금1  1976-11-01  15,000    14.0   70.0  자연유하식   6,863  500.0   80.5   \n",
       "3    개금2  1969-09-01   2,500     NaN  187.0  자연유하식   8,163  300.0  186.1   \n",
       "4     거제  2001-12-29  15,000    18.0  120.0  자연유하식  11,329  700.0  131.0   \n",
       "..   ...         ...     ...     ...    ...    ...     ...    ...    ...   \n",
       "69   수정1  1932-11-01   3,875    12.0   59.1  자연유하식     NaN    NaN   63.1   \n",
       "70   봉대산  2016-09-30  20,000    12.0    NaN  자연유하식     NaN    NaN    NaN   \n",
       "71  생곡공업  2014-12-31   4,400    12.0    NaN  자연유하식     NaN    NaN    NaN   \n",
       "72    괴정  1978-03-31  10,000    12.0    NaN  자연유하식     NaN    NaN    NaN   \n",
       "73   용호1  1978-10-31   2,000    12.0    NaN  자연유하식     NaN    NaN    NaN   \n",
       "\n",
       "      저수위         위도          경도  \n",
       "0   110.0  35.119015  129.088007  \n",
       "1    79.0  35.078648  129.011243  \n",
       "2    76.3  35.148822  129.022481  \n",
       "3   181.6  35.142682  129.019421  \n",
       "4   125.0  35.184369  129.054550  \n",
       "..    ...        ...         ...  \n",
       "69   59.1  35.126047  129.040196  \n",
       "70    NaN  35.232081  129.223262  \n",
       "71    NaN  35.135567  128.874763  \n",
       "72    NaN  35.095763  128.997206  \n",
       "73    NaN  35.108605  129.114397  \n",
       "\n",
       "[73 rows x 12 columns]"
      ]
     },
     "execution_count": 52,
     "metadata": {},
     "output_type": "execute_result"
    }
   ],
   "source": [
    "df_dra_notFull"
   ]
  },
  {
   "cell_type": "code",
   "execution_count": null,
   "metadata": {},
   "outputs": [],
   "source": [
    "#유출관 크기 -> [ 100.0,  150.0,  200.0,  250.0,  300.0,  350.0,  400.0,  500.0,\n",
    "#                600.0,  700.0,  800.0, 1000.0, 1200.0]"
   ]
  },
  {
   "cell_type": "code",
   "execution_count": null,
   "metadata": {},
   "outputs": [],
   "source": [
    "df = df_dra_notFull.iloc[:,[0,2,4,5,6,7,8,9,10,11]]"
   ]
  },
  {
   "cell_type": "code",
   "execution_count": null,
   "metadata": {},
   "outputs": [],
   "source": [
    "df[df.유출관크기 == 1200.0] # 동래구 명장 배수지 "
   ]
  },
  {
   "cell_type": "code",
   "execution_count": null,
   "metadata": {},
   "outputs": [],
   "source": [
    "df[df.유출관크기 == 1000.0] # 동래구 명장 배수지 "
   ]
  },
  {
   "cell_type": "code",
   "execution_count": null,
   "metadata": {},
   "outputs": [],
   "source": [
    "df[df.유출관크기 == 100.0]"
   ]
  },
  {
   "cell_type": "code",
   "execution_count": null,
   "metadata": {
    "scrolled": true
   },
   "outputs": [],
   "source": [
    "df[df.유출관크기 == 150.0]"
   ]
  },
  {
   "cell_type": "code",
   "execution_count": null,
   "metadata": {},
   "outputs": [],
   "source": [
    "df.head(1)"
   ]
  },
  {
   "cell_type": "code",
   "execution_count": null,
   "metadata": {},
   "outputs": [],
   "source": [
    "df_dra_notFull[df_dra_notFull['배수지명'].str.startswith('수정')]"
   ]
  },
  {
   "cell_type": "code",
   "execution_count": null,
   "metadata": {},
   "outputs": [],
   "source": [
    "# pip install plotly\n",
    "import plotly.express as px \n",
    "\n",
    "fig = px.scatter_mapbox(df, lat=\"위도\", lon=\"경도\", hover_name=\"배수지명\", hover_data=[\"부지면적\", \"배수방식\"],\n",
    "                        color_discrete_sequence=[\"#FF6692\"], zoom=11, height=600)\n",
    "\n",
    "fig.update_layout(mapbox_style=\"open-street-map\")\n",
    "fig.update_layout(margin={\"r\":0,\"t\":0,\"l\":0,\"b\":0})\n",
    "fig.show()"
   ]
  },
  {
   "cell_type": "markdown",
   "metadata": {},
   "source": [
    "# 데이터 만들기 "
   ]
  },
  {
   "cell_type": "code",
   "execution_count": 37,
   "metadata": {
    "scrolled": true
   },
   "outputs": [],
   "source": [
    "# df.to_csv(path+'\\배수지데이터.csv', sep=',', na_rep='NaN',encoding='utf-8-sig')"
   ]
  },
  {
   "cell_type": "code",
   "execution_count": null,
   "metadata": {},
   "outputs": [],
   "source": []
  },
  {
   "cell_type": "markdown",
   "metadata": {},
   "source": [
    "# 배수 두번째 파일 작업 \n",
    "\n",
    "여기서부터 위와 같이 진행 \n",
    "\n",
    "[환경](http://www.busan.go.kr/environment/ahriver01)\n",
    "\n",
    "혹시 몰라서 링크 올려둠 도움이 될지는 모르겠음 <br>\n",
    "<br>\n",
    "[참고자료-1](https://github.com/Jerrykim91/studyNote/blob/master/Project/%EA%B0%95%EC%88%98%EB%9F%89_%EC%A0%84%EC%B2%98%EB%A6%AC_ver1.ipynb)<br>\n",
    "[참고자료-번외1](https://github.com/Jerrykim91/studyNote/blob/master/Project/Idea_check_2020.09.13.ipynb)<br>\n",
    "[참고자료-번외2](https://github.com/Jerrykim91/C19/blob/master/C19_PatientInfo.ipynb)<br>\n",
    "[참고자료-번외3-시각화(matplotlib)](https://github.com/Jerrykim91/Study_Through_Kaggle/blob/master/Pandas/Pandas04.ipynb)<br>\n",
    "[참고자료-번외4-시각화(Plotly)](https://dailyheumsi.tistory.com/118)"
   ]
  },
  {
   "cell_type": "code",
   "execution_count": 38,
   "metadata": {},
   "outputs": [
    {
     "data": {
      "text/plain": [
       "'C:\\\\studyNote\\\\Project'"
      ]
     },
     "execution_count": 38,
     "metadata": {},
     "output_type": "execute_result"
    }
   ],
   "source": [
    "import pandas as pd\n",
    "import os, glob, re\n",
    "\n",
    "import plotly.express as px\n",
    "import matplotlib.pyplot as plt   # 맷폴렛- 그래프\n",
    "%matplotlib inline\n",
    "\n",
    "import plotly.express as px \n",
    "\n",
    "# ignore warnings\n",
    "import warnings    # 워닝 방지\n",
    "warnings.filterwarnings('ignore')\n",
    "\n",
    "####### matplotlib - 한글 폰트 깨짐 방지 코드 #######\n",
    "import platform\n",
    "\n",
    "if platform.system() == 'Darwin':    # 맥\n",
    "    font_name = 'AppleGothic'\n",
    "elif platform.system() == 'Linux':   # 리눅스\n",
    "    font_name = 'NanumGothic'\n",
    "elif platform.system() == 'Windows': # 윈도우\n",
    "    font_name = 'Malgun Gothic'\n",
    "else:\n",
    "    print('알수없는 시스템. 미적용')\n",
    "\n",
    "plt.rc('font', family=font_name)\n",
    "\n",
    "os.getcwd() # 현재 디렉토리위치\n"
   ]
  },
  {
   "cell_type": "code",
   "execution_count": 39,
   "metadata": {},
   "outputs": [
    {
     "data": {
      "text/plain": [
       "['C:\\\\data\\\\\\\\펌프장및유수지현황.xlsx']"
      ]
     },
     "execution_count": 39,
     "metadata": {},
     "output_type": "execute_result"
    }
   ],
   "source": [
    "path = r'C:\\data\\\\'\n",
    "data_path = glob.glob(path+'펌프장및유수지현황.xlsx')\n",
    "# 하나는 엑셀파일 하나는 csv 파일 -> 인것을 확인 \n",
    "# 부산광역시_배수펌프장 및 유수지 현황_20200101_.xlsx >>> 이름 변경 -> 펌프장및유수지현황\n",
    "# 부산시_배수시설_CSV.csv' >>> 이름 변경 -> 배수시설\n",
    "data_path"
   ]
  },
  {
   "cell_type": "code",
   "execution_count": 40,
   "metadata": {},
   "outputs": [
    {
     "data": {
      "text/html": [
       "<div>\n",
       "<style scoped>\n",
       "    .dataframe tbody tr th:only-of-type {\n",
       "        vertical-align: middle;\n",
       "    }\n",
       "\n",
       "    .dataframe tbody tr th {\n",
       "        vertical-align: top;\n",
       "    }\n",
       "\n",
       "    .dataframe thead th {\n",
       "        text-align: right;\n",
       "    }\n",
       "</style>\n",
       "<table border=\"1\" class=\"dataframe\">\n",
       "  <thead>\n",
       "    <tr style=\"text-align: right;\">\n",
       "      <th></th>\n",
       "      <th>구군</th>\n",
       "      <th>배수펌프장명</th>\n",
       "      <th>위치</th>\n",
       "      <th>Latitude</th>\n",
       "      <th>Longitude</th>\n",
       "      <th>펌프시설 전동기(HP)</th>\n",
       "      <th>펌프시설 엔진(HP)</th>\n",
       "      <th>펌프시설 설치년도</th>\n",
       "      <th>설계빈도(년)</th>\n",
       "      <th>배수량(㎥/분)</th>\n",
       "      <th>비상발전기 시설</th>\n",
       "      <th>비상발전기 시설년도</th>\n",
       "      <th>유수지 면적(㎡)</th>\n",
       "      <th>유수지 용량(㎡)</th>\n",
       "      <th>비고</th>\n",
       "    </tr>\n",
       "  </thead>\n",
       "  <tbody>\n",
       "    <tr>\n",
       "      <th>0</th>\n",
       "      <td>동래구</td>\n",
       "      <td>명륜</td>\n",
       "      <td>온천천로 203</td>\n",
       "      <td>35.20162</td>\n",
       "      <td>129.079404</td>\n",
       "      <td>400×1(A), 400×1(B), 400×1(C), 400×1(D)</td>\n",
       "      <td>-</td>\n",
       "      <td>2012(A), 2014(B), 2016(C), 2017(D)</td>\n",
       "      <td>30</td>\n",
       "      <td>784.0</td>\n",
       "      <td>1250KW×1, 600KW×2</td>\n",
       "      <td>2018, 2011</td>\n",
       "      <td>400</td>\n",
       "      <td>1200</td>\n",
       "      <td>내수배제</td>\n",
       "    </tr>\n",
       "    <tr>\n",
       "      <th>1</th>\n",
       "      <td>동래구</td>\n",
       "      <td>수안</td>\n",
       "      <td>명륜로 70</td>\n",
       "      <td>NaN</td>\n",
       "      <td>NaN</td>\n",
       "      <td>46×2</td>\n",
       "      <td>-</td>\n",
       "      <td>2010</td>\n",
       "      <td>30</td>\n",
       "      <td>60.0</td>\n",
       "      <td>한전2회선</td>\n",
       "      <td>-</td>\n",
       "      <td>-</td>\n",
       "      <td>-</td>\n",
       "      <td>내수배제</td>\n",
       "    </tr>\n",
       "  </tbody>\n",
       "</table>\n",
       "</div>"
      ],
      "text/plain": [
       "    구군 배수펌프장명        위치  Latitude   Longitude  \\\n",
       "0  동래구     명륜  온천천로 203  35.20162  129.079404   \n",
       "1  동래구     수안    명륜로 70       NaN         NaN   \n",
       "\n",
       "                             펌프시설 전동기(HP) 펌프시설 엔진(HP)  \\\n",
       "0  400×1(A), 400×1(B), 400×1(C), 400×1(D)           -   \n",
       "1                                    46×2           -   \n",
       "\n",
       "                            펌프시설 설치년도 설계빈도(년)  배수량(㎥/분)           비상발전기 시설  \\\n",
       "0  2012(A), 2014(B), 2016(C), 2017(D)      30     784.0  1250KW×1, 600KW×2   \n",
       "1                                2010      30      60.0              한전2회선   \n",
       "\n",
       "   비상발전기 시설년도 유수지 면적(㎡) 유수지 용량(㎡)    비고  \n",
       "0  2018, 2011       400      1200  내수배제  \n",
       "1           -         -         -  내수배제  "
      ]
     },
     "execution_count": 40,
     "metadata": {},
     "output_type": "execute_result"
    }
   ],
   "source": [
    "df_pump     = pd.read_excel(data_path[0], encoding='euc-kr')# utf-8 에러 -> euc-kr 사용\n",
    "df_pump.head(2)"
   ]
  },
  {
   "cell_type": "code",
   "execution_count": 41,
   "metadata": {
    "scrolled": true
   },
   "outputs": [
    {
     "name": "stdout",
     "output_type": "stream",
     "text": [
      "<class 'pandas.core.frame.DataFrame'>\n",
      "RangeIndex: 62 entries, 0 to 61\n",
      "Data columns (total 15 columns):\n",
      " #   Column        Non-Null Count  Dtype  \n",
      "---  ------        --------------  -----  \n",
      " 0   구군            59 non-null     object \n",
      " 1   배수펌프장명        62 non-null     object \n",
      " 2   위치            60 non-null     object \n",
      " 3   Latitude      45 non-null     float64\n",
      " 4   Longitude     45 non-null     float64\n",
      " 5   펌프시설 전동기(HP)  62 non-null     object \n",
      " 6   펌프시설 엔진(HP)   61 non-null     object \n",
      " 7   펌프시설 설치년도     61 non-null     object \n",
      " 8   설계빈도(년)       61 non-null     object \n",
      " 9   배수량(㎥/분)      61 non-null     float64\n",
      " 10  비상발전기 시설      59 non-null     object \n",
      " 11  비상발전기 시설년도    54 non-null     object \n",
      " 12  유수지 면적(㎡)     58 non-null     object \n",
      " 13  유수지 용량(㎡)     58 non-null     object \n",
      " 14  비고            58 non-null     object \n",
      "dtypes: float64(3), object(12)\n",
      "memory usage: 7.4+ KB\n"
     ]
    }
   ],
   "source": [
    "df_pump.info()"
   ]
  },
  {
   "cell_type": "code",
   "execution_count": 42,
   "metadata": {},
   "outputs": [
    {
     "data": {
      "text/plain": [
       "['구군',\n",
       " '배수펌프장명',\n",
       " '위치',\n",
       " 'Latitude',\n",
       " 'Longitude',\n",
       " '펌프시설 전동기(HP)',\n",
       " '펌프시설 엔진(HP)',\n",
       " '펌프시설 설치년도',\n",
       " '설계빈도(년)',\n",
       " '배수량(㎥/분)',\n",
       " '비상발전기 시설',\n",
       " '비상발전기 시설년도',\n",
       " '유수지 면적(㎡)',\n",
       " '유수지 용량(㎡)',\n",
       " '비고']"
      ]
     },
     "execution_count": 42,
     "metadata": {},
     "output_type": "execute_result"
    }
   ],
   "source": [
    "tmp = list(df_pump.columns)\n",
    "tmp\n",
    "# 제외할 데이허 혹은 살릴 데이터 선정  ->>>>>  이거는 유수지 데이터인듯 "
   ]
  },
  {
   "cell_type": "code",
   "execution_count": 43,
   "metadata": {},
   "outputs": [
    {
     "name": "stdout",
     "output_type": "stream",
     "text": [
      "구군 =  3\n",
      "위치 =  2\n",
      "Latitude =  17\n",
      "Longitude =  17\n",
      "펌프시설 엔진(HP) =  1\n",
      "펌프시설 설치년도 =  1\n",
      "설계빈도(년) =  1\n",
      "배수량(㎥/분) =  1\n",
      "비상발전기 시설 =  3\n",
      "비상발전기 시설년도 =  8\n",
      "유수지 면적(㎡) =  4\n",
      "유수지 용량(㎡) =  4\n",
      "비고 =  4\n"
     ]
    }
   ],
   "source": [
    "col_name = list()\n",
    "for idx,col in enumerate(df_pump.columns):\n",
    "    if df_pump[col].isnull().sum() == 0: # 결측이 없는것을 제외하고 출력 \n",
    "        pass\n",
    "    elif df_pump[col].isnull().sum() == 74:\n",
    "        # 결측100% 인 컬럼 이름 리스트에 담기 \n",
    "        col_name.append(df_pump.columns[idx])\n",
    "        print(f'결측 max_{df_pump.columns[idx]} = ', df_pump[col].isnull().sum())\n",
    "    else:\n",
    "        print(f'{df_pump.columns[idx]} = ', df_pump[col].isnull().sum())"
   ]
  },
  {
   "cell_type": "code",
   "execution_count": 44,
   "metadata": {},
   "outputs": [
    {
     "name": "stdout",
     "output_type": "stream",
     "text": [
      "결측값 과다  column:             Latitude\t Percent of NaN value: 27.42%\n",
      "결측값 과다  column:            Longitude\t Percent of NaN value: 27.42%\n"
     ]
    }
   ],
   "source": [
    "# 결측값이 전체인 아이들은 제거 결측은 데이터의 15%가 넘으면 사용하지 못함 -> 회의가 필요함 !  \n",
    "for idx,col in enumerate(df_pump.columns):\n",
    "    percent = df_pump[col].isnull().sum() / df_pump[col].shape[0]\n",
    "    if percent == 0.0: # 결측이 없는것을 제외하고 출력 \n",
    "        pass\n",
    "    elif percent <= 0.16:\n",
    "        msg = 'column: {:>20}\\t Percent of NaN value: {:.2f}%'.format(col, 100 * (percent))\n",
    "#         print('0.16 아래 >>>>>', msg)\n",
    "    else:\n",
    "#         print(percent)\n",
    "        msg = 'column: {:>20}\\t Percent of NaN value: {:.2f}%'.format(col, 100 * (percent))\n",
    "        print('결측값 과다 ',msg)"
   ]
  },
  {
   "cell_type": "code",
   "execution_count": 45,
   "metadata": {},
   "outputs": [
    {
     "name": "stdout",
     "output_type": "stream",
     "text": [
      "데이터 길이 :  62\n"
     ]
    }
   ],
   "source": [
    "print('데이터 길이 : ',len(df_pump))"
   ]
  },
  {
   "cell_type": "code",
   "execution_count": 46,
   "metadata": {},
   "outputs": [
    {
     "name": "stdout",
     "output_type": "stream",
     "text": [
      "<<<< 1번 배수장명 데이터 >>>> \n",
      " ['감만', '감천', '개금1', '개금2', '거제', '고촌', '구덕', '구포2', '금곡', '꽃마을', '남부민', '남산', '녹산', '녹산공업용수', '당감', '대청', '대티', '대티2', '대항', '만덕1', '만덕2', '만덕5', '망미', '명장', '모라', '문현', '미음공업', '미음생활', '반송', '반여', '범일', '복병산', '부산신항', '서동', '수정2', '수정산터널', '신평', '아미', '안창', '엄궁', '연산', '영도', '영주', '오륜', '용호2', '월내', '장안', '전포1', '전포2', '정관산단', '정관택지고지', '정관택지저지', '좌동1', '좌동2', '주례1', '주례2', '중동', '지사', '지사공업', '천성', '청학', '해돋이', '화전산단', '반여2 ', '월내', '생곡생활', '명례', '산성마을', '장림', '수정1', '봉대산', '생곡공업', '괴정', '용호1']\n"
     ]
    }
   ],
   "source": [
    "## 해야하는 것 : 컬럼이름 표준화 \n",
    "## 구군, 배수장 이름 확인 \n",
    "print('<<<< 1번 배수장명 데이터 >>>> \\n', re_row) "
   ]
  },
  {
   "cell_type": "code",
   "execution_count": 47,
   "metadata": {},
   "outputs": [],
   "source": [
    "naming = list(df_pump['배수펌프장명'])"
   ]
  },
  {
   "cell_type": "code",
   "execution_count": 48,
   "metadata": {
    "scrolled": true
   },
   "outputs": [
    {
     "data": {
      "text/plain": [
       "송정          2\n",
       "거제          2\n",
       "엄궁3         1\n",
       "장안          1\n",
       "범방          1\n",
       "명지          1\n",
       "춘천          1\n",
       "본녹산         1\n",
       "동천1         1\n",
       "하신          1\n",
       "맥도          1\n",
       "송정1게이트      1\n",
       "송정2게이트      1\n",
       "신포          1\n",
       "연산9동        1\n",
       "명지동진        1\n",
       "송선마을        1\n",
       "감전3         1\n",
       "금사          1\n",
       "엄궁1         1\n",
       "동천2         1\n",
       "감전2         1\n",
       "자성대1        1\n",
       "반여1         1\n",
       "방근          1\n",
       "상덕          1\n",
       "감전1         1\n",
       "녹산          1\n",
       "연산4동        1\n",
       "반여2         1\n",
       "신금로         1\n",
       "길천          1\n",
       "학장          1\n",
       "낙민          1\n",
       "하단2         1\n",
       "구남          1\n",
       "수안          1\n",
       "작지          1\n",
       "덕천          1\n",
       "자성대2        1\n",
       "감전4         1\n",
       "감전천         1\n",
       "식만          1\n",
       "구포          1\n",
       "하단1         1\n",
       "반여3         1\n",
       "삼성시장        1\n",
       "사덕          1\n",
       "성산마을        1\n",
       "장안(간이펌프)    1\n",
       "엄궁2         1\n",
       "명륜          1\n",
       "대저          1\n",
       "장림1         1\n",
       "장림2         1\n",
       "용호          1\n",
       "중덕          1\n",
       "서금사         1\n",
       "동방          1\n",
       "성산          1\n",
       "Name: 배수펌프장명, dtype: int64"
      ]
     },
     "execution_count": 48,
     "metadata": {},
     "output_type": "execute_result"
    }
   ],
   "source": [
    "df_pump['배수펌프장명'].value_counts()"
   ]
  },
  {
   "cell_type": "code",
   "execution_count": 49,
   "metadata": {},
   "outputs": [
    {
     "data": {
      "text/html": [
       "<div>\n",
       "<style scoped>\n",
       "    .dataframe tbody tr th:only-of-type {\n",
       "        vertical-align: middle;\n",
       "    }\n",
       "\n",
       "    .dataframe tbody tr th {\n",
       "        vertical-align: top;\n",
       "    }\n",
       "\n",
       "    .dataframe thead th {\n",
       "        text-align: right;\n",
       "    }\n",
       "</style>\n",
       "<table border=\"1\" class=\"dataframe\">\n",
       "  <thead>\n",
       "    <tr style=\"text-align: right;\">\n",
       "      <th></th>\n",
       "      <th>구군</th>\n",
       "      <th>배수펌프장명</th>\n",
       "      <th>위치</th>\n",
       "      <th>Latitude</th>\n",
       "      <th>Longitude</th>\n",
       "      <th>펌프시설 전동기(HP)</th>\n",
       "      <th>펌프시설 엔진(HP)</th>\n",
       "      <th>펌프시설 설치년도</th>\n",
       "      <th>설계빈도(년)</th>\n",
       "      <th>배수량(㎥/분)</th>\n",
       "      <th>비상발전기 시설</th>\n",
       "      <th>비상발전기 시설년도</th>\n",
       "      <th>유수지 면적(㎡)</th>\n",
       "      <th>유수지 용량(㎡)</th>\n",
       "      <th>비고</th>\n",
       "    </tr>\n",
       "  </thead>\n",
       "  <tbody>\n",
       "    <tr>\n",
       "      <th>19</th>\n",
       "      <td>해운대구</td>\n",
       "      <td>송정</td>\n",
       "      <td>해운대로 1100</td>\n",
       "      <td>35.183349</td>\n",
       "      <td>129.201155</td>\n",
       "      <td>100×4</td>\n",
       "      <td>-</td>\n",
       "      <td>2012</td>\n",
       "      <td>50</td>\n",
       "      <td>120.0</td>\n",
       "      <td>한전2회선</td>\n",
       "      <td>-</td>\n",
       "      <td>600</td>\n",
       "      <td>1800</td>\n",
       "      <td>내수배제</td>\n",
       "    </tr>\n",
       "    <tr>\n",
       "      <th>34</th>\n",
       "      <td>강서구</td>\n",
       "      <td>송정</td>\n",
       "      <td>가락대로 227</td>\n",
       "      <td>NaN</td>\n",
       "      <td>NaN</td>\n",
       "      <td>320×6</td>\n",
       "      <td>-</td>\n",
       "      <td>1999</td>\n",
       "      <td>30</td>\n",
       "      <td>1500.0</td>\n",
       "      <td>한전2회선, 300㎾×3</td>\n",
       "      <td>1999</td>\n",
       "      <td>15000</td>\n",
       "      <td>15500</td>\n",
       "      <td>하천</td>\n",
       "    </tr>\n",
       "  </tbody>\n",
       "</table>\n",
       "</div>"
      ],
      "text/plain": [
       "      구군 배수펌프장명         위치   Latitude   Longitude 펌프시설 전동기(HP) 펌프시설 엔진(HP)  \\\n",
       "19  해운대구     송정  해운대로 1100  35.183349  129.201155        100×4           -   \n",
       "34   강서구     송정   가락대로 227        NaN         NaN        320×6           -   \n",
       "\n",
       "   펌프시설 설치년도 설계빈도(년)  배수량(㎥/분)       비상발전기 시설 비상발전기 시설년도 유수지 면적(㎡) 유수지 용량(㎡)  \\\n",
       "19      2012      50     120.0          한전2회선          -       600      1800   \n",
       "34      1999      30    1500.0  한전2회선, 300㎾×3       1999     15000     15500   \n",
       "\n",
       "      비고  \n",
       "19  내수배제  \n",
       "34    하천  "
      ]
     },
     "execution_count": 49,
     "metadata": {},
     "output_type": "execute_result"
    }
   ],
   "source": [
    "# 중복 row 확인 - 송정 \n",
    "df_pump[df_pump['배수펌프장명'] == '송정']"
   ]
  },
  {
   "cell_type": "code",
   "execution_count": 50,
   "metadata": {
    "scrolled": true
   },
   "outputs": [
    {
     "data": {
      "text/html": [
       "<div>\n",
       "<style scoped>\n",
       "    .dataframe tbody tr th:only-of-type {\n",
       "        vertical-align: middle;\n",
       "    }\n",
       "\n",
       "    .dataframe tbody tr th {\n",
       "        vertical-align: top;\n",
       "    }\n",
       "\n",
       "    .dataframe thead th {\n",
       "        text-align: right;\n",
       "    }\n",
       "</style>\n",
       "<table border=\"1\" class=\"dataframe\">\n",
       "  <thead>\n",
       "    <tr style=\"text-align: right;\">\n",
       "      <th></th>\n",
       "      <th>구군</th>\n",
       "      <th>배수펌프장명</th>\n",
       "      <th>위치</th>\n",
       "      <th>Latitude</th>\n",
       "      <th>Longitude</th>\n",
       "      <th>펌프시설 전동기(HP)</th>\n",
       "      <th>펌프시설 엔진(HP)</th>\n",
       "      <th>펌프시설 설치년도</th>\n",
       "      <th>설계빈도(년)</th>\n",
       "      <th>배수량(㎥/분)</th>\n",
       "      <th>비상발전기 시설</th>\n",
       "      <th>비상발전기 시설년도</th>\n",
       "      <th>유수지 면적(㎡)</th>\n",
       "      <th>유수지 용량(㎡)</th>\n",
       "      <th>비고</th>\n",
       "    </tr>\n",
       "  </thead>\n",
       "  <tbody>\n",
       "    <tr>\n",
       "      <th>25</th>\n",
       "      <td>연제구</td>\n",
       "      <td>거제</td>\n",
       "      <td>반송로 107</td>\n",
       "      <td>35.238782</td>\n",
       "      <td>128.668938</td>\n",
       "      <td>580×9</td>\n",
       "      <td>-</td>\n",
       "      <td>2017</td>\n",
       "      <td>30</td>\n",
       "      <td>3960.0</td>\n",
       "      <td>한전2회선</td>\n",
       "      <td>-</td>\n",
       "      <td>-</td>\n",
       "      <td>-</td>\n",
       "      <td>내수배제</td>\n",
       "    </tr>\n",
       "    <tr>\n",
       "      <th>26</th>\n",
       "      <td>NaN</td>\n",
       "      <td>거제</td>\n",
       "      <td>거제천로269번길41</td>\n",
       "      <td>NaN</td>\n",
       "      <td>NaN</td>\n",
       "      <td>580×2</td>\n",
       "      <td>-</td>\n",
       "      <td>NaN</td>\n",
       "      <td>NaN</td>\n",
       "      <td>NaN</td>\n",
       "      <td>NaN</td>\n",
       "      <td>NaN</td>\n",
       "      <td>NaN</td>\n",
       "      <td>NaN</td>\n",
       "      <td>NaN</td>\n",
       "    </tr>\n",
       "  </tbody>\n",
       "</table>\n",
       "</div>"
      ],
      "text/plain": [
       "     구군 배수펌프장명           위치   Latitude   Longitude 펌프시설 전동기(HP) 펌프시설 엔진(HP)  \\\n",
       "25  연제구     거제      반송로 107  35.238782  128.668938        580×9           -   \n",
       "26  NaN     거제  거제천로269번길41        NaN         NaN        580×2           -   \n",
       "\n",
       "   펌프시설 설치년도 설계빈도(년)  배수량(㎥/분) 비상발전기 시설 비상발전기 시설년도 유수지 면적(㎡) 유수지 용량(㎡)    비고  \n",
       "25      2017      30    3960.0    한전2회선          -         -         -  내수배제  \n",
       "26       NaN     NaN       NaN      NaN        NaN       NaN       NaN   NaN  "
      ]
     },
     "execution_count": 50,
     "metadata": {},
     "output_type": "execute_result"
    }
   ],
   "source": [
    "# 중복 row 확인 - 거제\n",
    "df_pump[df_pump['배수펌프장명'] == '거제']"
   ]
  },
  {
   "cell_type": "code",
   "execution_count": 51,
   "metadata": {},
   "outputs": [
    {
     "name": "stdout",
     "output_type": "stream",
     "text": [
      "거제\n",
      "거제\n",
      "장안\n",
      "녹산\n"
     ]
    }
   ],
   "source": [
    "# 1번 데이터와 2번데이터 겹치는 데이터 확인 -> 전혀다른 데이터임\n",
    "for i in naming:\n",
    "    if i in re_row:\n",
    "        print(i)"
   ]
  },
  {
   "cell_type": "code",
   "execution_count": 52,
   "metadata": {},
   "outputs": [
    {
     "data": {
      "text/html": [
       "<div>\n",
       "<style scoped>\n",
       "    .dataframe tbody tr th:only-of-type {\n",
       "        vertical-align: middle;\n",
       "    }\n",
       "\n",
       "    .dataframe tbody tr th {\n",
       "        vertical-align: top;\n",
       "    }\n",
       "\n",
       "    .dataframe thead th {\n",
       "        text-align: right;\n",
       "    }\n",
       "</style>\n",
       "<table border=\"1\" class=\"dataframe\">\n",
       "  <thead>\n",
       "    <tr style=\"text-align: right;\">\n",
       "      <th></th>\n",
       "      <th>구군</th>\n",
       "      <th>배수펌프장명</th>\n",
       "      <th>위치</th>\n",
       "      <th>Latitude</th>\n",
       "      <th>Longitude</th>\n",
       "      <th>펌프시설 전동기(HP)</th>\n",
       "      <th>펌프시설 엔진(HP)</th>\n",
       "      <th>펌프시설 설치년도</th>\n",
       "      <th>설계빈도(년)</th>\n",
       "      <th>배수량(㎥/분)</th>\n",
       "      <th>비상발전기 시설</th>\n",
       "      <th>비상발전기 시설년도</th>\n",
       "      <th>유수지 면적(㎡)</th>\n",
       "      <th>유수지 용량(㎡)</th>\n",
       "      <th>비고</th>\n",
       "    </tr>\n",
       "  </thead>\n",
       "  <tbody>\n",
       "    <tr>\n",
       "      <th>25</th>\n",
       "      <td>연제구</td>\n",
       "      <td>거제</td>\n",
       "      <td>반송로 107</td>\n",
       "      <td>35.238782</td>\n",
       "      <td>128.668938</td>\n",
       "      <td>580×9</td>\n",
       "      <td>-</td>\n",
       "      <td>2017</td>\n",
       "      <td>30</td>\n",
       "      <td>3960.0</td>\n",
       "      <td>한전2회선</td>\n",
       "      <td>-</td>\n",
       "      <td>-</td>\n",
       "      <td>-</td>\n",
       "      <td>내수배제</td>\n",
       "    </tr>\n",
       "    <tr>\n",
       "      <th>26</th>\n",
       "      <td>NaN</td>\n",
       "      <td>거제</td>\n",
       "      <td>거제천로269번길41</td>\n",
       "      <td>NaN</td>\n",
       "      <td>NaN</td>\n",
       "      <td>580×2</td>\n",
       "      <td>-</td>\n",
       "      <td>NaN</td>\n",
       "      <td>NaN</td>\n",
       "      <td>NaN</td>\n",
       "      <td>NaN</td>\n",
       "      <td>NaN</td>\n",
       "      <td>NaN</td>\n",
       "      <td>NaN</td>\n",
       "      <td>NaN</td>\n",
       "    </tr>\n",
       "  </tbody>\n",
       "</table>\n",
       "</div>"
      ],
      "text/plain": [
       "     구군 배수펌프장명           위치   Latitude   Longitude 펌프시설 전동기(HP) 펌프시설 엔진(HP)  \\\n",
       "25  연제구     거제      반송로 107  35.238782  128.668938        580×9           -   \n",
       "26  NaN     거제  거제천로269번길41        NaN         NaN        580×2           -   \n",
       "\n",
       "   펌프시설 설치년도 설계빈도(년)  배수량(㎥/분) 비상발전기 시설 비상발전기 시설년도 유수지 면적(㎡) 유수지 용량(㎡)    비고  \n",
       "25      2017      30    3960.0    한전2회선          -         -         -  내수배제  \n",
       "26       NaN     NaN       NaN      NaN        NaN       NaN       NaN   NaN  "
      ]
     },
     "execution_count": 52,
     "metadata": {},
     "output_type": "execute_result"
    }
   ],
   "source": [
    "# 중복되는 데이터 확인 \n",
    "df_pump[df_pump['배수펌프장명'] == '거제']"
   ]
  },
  {
   "cell_type": "code",
   "execution_count": 53,
   "metadata": {
    "scrolled": true
   },
   "outputs": [
    {
     "data": {
      "text/html": [
       "<div>\n",
       "<style scoped>\n",
       "    .dataframe tbody tr th:only-of-type {\n",
       "        vertical-align: middle;\n",
       "    }\n",
       "\n",
       "    .dataframe tbody tr th {\n",
       "        vertical-align: top;\n",
       "    }\n",
       "\n",
       "    .dataframe thead th {\n",
       "        text-align: right;\n",
       "    }\n",
       "</style>\n",
       "<table border=\"1\" class=\"dataframe\">\n",
       "  <thead>\n",
       "    <tr style=\"text-align: right;\">\n",
       "      <th></th>\n",
       "      <th>배수지명</th>\n",
       "      <th>준공일</th>\n",
       "      <th>시설용량</th>\n",
       "      <th>평균체류시간</th>\n",
       "      <th>배수지표고</th>\n",
       "      <th>배수방식</th>\n",
       "      <th>부지면적</th>\n",
       "      <th>유출관크기</th>\n",
       "      <th>고수위</th>\n",
       "      <th>저수위</th>\n",
       "      <th>위도</th>\n",
       "      <th>경도</th>\n",
       "    </tr>\n",
       "  </thead>\n",
       "  <tbody>\n",
       "    <tr>\n",
       "      <th>4</th>\n",
       "      <td>거제</td>\n",
       "      <td>2001-12-29</td>\n",
       "      <td>15,000</td>\n",
       "      <td>18.0</td>\n",
       "      <td>120.0</td>\n",
       "      <td>자연유하식</td>\n",
       "      <td>11,329</td>\n",
       "      <td>700.0</td>\n",
       "      <td>131.0</td>\n",
       "      <td>125.0</td>\n",
       "      <td>35.184369</td>\n",
       "      <td>129.05455</td>\n",
       "    </tr>\n",
       "  </tbody>\n",
       "</table>\n",
       "</div>"
      ],
      "text/plain": [
       "  배수지명         준공일    시설용량  평균체류시간  배수지표고   배수방식    부지면적  유출관크기    고수위    저수위  \\\n",
       "4   거제  2001-12-29  15,000    18.0  120.0  자연유하식  11,329  700.0  131.0  125.0   \n",
       "\n",
       "          위도         경도  \n",
       "4  35.184369  129.05455  "
      ]
     },
     "execution_count": 53,
     "metadata": {},
     "output_type": "execute_result"
    }
   ],
   "source": [
    "df_dra_notFull[df_dra_notFull['배수지명'] == '거제'] "
   ]
  },
  {
   "cell_type": "code",
   "execution_count": 54,
   "metadata": {},
   "outputs": [
    {
     "data": {
      "text/html": [
       "<div>\n",
       "<style scoped>\n",
       "    .dataframe tbody tr th:only-of-type {\n",
       "        vertical-align: middle;\n",
       "    }\n",
       "\n",
       "    .dataframe tbody tr th {\n",
       "        vertical-align: top;\n",
       "    }\n",
       "\n",
       "    .dataframe thead th {\n",
       "        text-align: right;\n",
       "    }\n",
       "</style>\n",
       "<table border=\"1\" class=\"dataframe\">\n",
       "  <thead>\n",
       "    <tr style=\"text-align: right;\">\n",
       "      <th></th>\n",
       "      <th>구군</th>\n",
       "      <th>배수펌프장명</th>\n",
       "      <th>위치</th>\n",
       "      <th>Latitude</th>\n",
       "      <th>Longitude</th>\n",
       "      <th>펌프시설 전동기(HP)</th>\n",
       "      <th>펌프시설 엔진(HP)</th>\n",
       "      <th>펌프시설 설치년도</th>\n",
       "      <th>설계빈도(년)</th>\n",
       "      <th>배수량(㎥/분)</th>\n",
       "      <th>비상발전기 시설</th>\n",
       "      <th>비상발전기 시설년도</th>\n",
       "      <th>유수지 면적(㎡)</th>\n",
       "      <th>유수지 용량(㎡)</th>\n",
       "      <th>비고</th>\n",
       "    </tr>\n",
       "  </thead>\n",
       "  <tbody>\n",
       "    <tr>\n",
       "      <th>32</th>\n",
       "      <td>기장군</td>\n",
       "      <td>장안</td>\n",
       "      <td>좌천리 241-2</td>\n",
       "      <td>35.311966</td>\n",
       "      <td>129.245999</td>\n",
       "      <td>215×4</td>\n",
       "      <td>-</td>\n",
       "      <td>2016</td>\n",
       "      <td>30</td>\n",
       "      <td>540.0</td>\n",
       "      <td>900㎾×1</td>\n",
       "      <td>2016</td>\n",
       "      <td>2200</td>\n",
       "      <td>4840</td>\n",
       "      <td>내수배제</td>\n",
       "    </tr>\n",
       "  </tbody>\n",
       "</table>\n",
       "</div>"
      ],
      "text/plain": [
       "     구군 배수펌프장명         위치   Latitude   Longitude 펌프시설 전동기(HP) 펌프시설 엔진(HP)  \\\n",
       "32  기장군     장안  좌천리 241-2  35.311966  129.245999        215×4           -   \n",
       "\n",
       "   펌프시설 설치년도 설계빈도(년)  배수량(㎥/분) 비상발전기 시설 비상발전기 시설년도 유수지 면적(㎡) 유수지 용량(㎡)    비고  \n",
       "32      2016      30     540.0   900㎾×1       2016      2200      4840  내수배제  "
      ]
     },
     "execution_count": 54,
     "metadata": {},
     "output_type": "execute_result"
    }
   ],
   "source": [
    "df_pump[df_pump['배수펌프장명'] == '장안']"
   ]
  },
  {
   "cell_type": "code",
   "execution_count": 55,
   "metadata": {},
   "outputs": [
    {
     "data": {
      "text/html": [
       "<div>\n",
       "<style scoped>\n",
       "    .dataframe tbody tr th:only-of-type {\n",
       "        vertical-align: middle;\n",
       "    }\n",
       "\n",
       "    .dataframe tbody tr th {\n",
       "        vertical-align: top;\n",
       "    }\n",
       "\n",
       "    .dataframe thead th {\n",
       "        text-align: right;\n",
       "    }\n",
       "</style>\n",
       "<table border=\"1\" class=\"dataframe\">\n",
       "  <thead>\n",
       "    <tr style=\"text-align: right;\">\n",
       "      <th></th>\n",
       "      <th>배수지명</th>\n",
       "      <th>준공일</th>\n",
       "      <th>시설용량</th>\n",
       "      <th>평균체류시간</th>\n",
       "      <th>배수지표고</th>\n",
       "      <th>배수방식</th>\n",
       "      <th>부지면적</th>\n",
       "      <th>유출관크기</th>\n",
       "      <th>고수위</th>\n",
       "      <th>저수위</th>\n",
       "      <th>위도</th>\n",
       "      <th>경도</th>\n",
       "    </tr>\n",
       "  </thead>\n",
       "  <tbody>\n",
       "    <tr>\n",
       "      <th>46</th>\n",
       "      <td>장안</td>\n",
       "      <td>2010-02-02</td>\n",
       "      <td>2,000</td>\n",
       "      <td>NaN</td>\n",
       "      <td>94.5</td>\n",
       "      <td>자연유하식</td>\n",
       "      <td>0</td>\n",
       "      <td>300.0</td>\n",
       "      <td>97.1</td>\n",
       "      <td>93.1</td>\n",
       "      <td>35.323601</td>\n",
       "      <td>129.259274</td>\n",
       "    </tr>\n",
       "  </tbody>\n",
       "</table>\n",
       "</div>"
      ],
      "text/plain": [
       "   배수지명         준공일   시설용량  평균체류시간  배수지표고   배수방식 부지면적  유출관크기   고수위   저수위  \\\n",
       "46   장안  2010-02-02  2,000     NaN   94.5  자연유하식    0  300.0  97.1  93.1   \n",
       "\n",
       "           위도          경도  \n",
       "46  35.323601  129.259274  "
      ]
     },
     "execution_count": 55,
     "metadata": {},
     "output_type": "execute_result"
    }
   ],
   "source": [
    "df_dra_notFull[df_dra_notFull['배수지명'] == '장안'] "
   ]
  },
  {
   "cell_type": "code",
   "execution_count": 56,
   "metadata": {},
   "outputs": [
    {
     "data": {
      "text/html": [
       "<div>\n",
       "<style scoped>\n",
       "    .dataframe tbody tr th:only-of-type {\n",
       "        vertical-align: middle;\n",
       "    }\n",
       "\n",
       "    .dataframe tbody tr th {\n",
       "        vertical-align: top;\n",
       "    }\n",
       "\n",
       "    .dataframe thead th {\n",
       "        text-align: right;\n",
       "    }\n",
       "</style>\n",
       "<table border=\"1\" class=\"dataframe\">\n",
       "  <thead>\n",
       "    <tr style=\"text-align: right;\">\n",
       "      <th></th>\n",
       "      <th>구군</th>\n",
       "      <th>배수펌프장명</th>\n",
       "      <th>위치</th>\n",
       "      <th>Latitude</th>\n",
       "      <th>Longitude</th>\n",
       "      <th>펌프시설 전동기(HP)</th>\n",
       "      <th>펌프시설 엔진(HP)</th>\n",
       "      <th>펌프시설 설치년도</th>\n",
       "      <th>설계빈도(년)</th>\n",
       "      <th>배수량(㎥/분)</th>\n",
       "      <th>비상발전기 시설</th>\n",
       "      <th>비상발전기 시설년도</th>\n",
       "      <th>유수지 면적(㎡)</th>\n",
       "      <th>유수지 용량(㎡)</th>\n",
       "      <th>비고</th>\n",
       "    </tr>\n",
       "  </thead>\n",
       "  <tbody>\n",
       "    <tr>\n",
       "      <th>41</th>\n",
       "      <td>강서구</td>\n",
       "      <td>녹산</td>\n",
       "      <td>낙동남로 791</td>\n",
       "      <td>35.12031</td>\n",
       "      <td>128.897318</td>\n",
       "      <td>1200×19, 738×1, 497×1</td>\n",
       "      <td>-</td>\n",
       "      <td>2009</td>\n",
       "      <td>200</td>\n",
       "      <td>12000.0</td>\n",
       "      <td>한전2회선, 1750㎾×3</td>\n",
       "      <td>2009</td>\n",
       "      <td>-</td>\n",
       "      <td>-</td>\n",
       "      <td>하천</td>\n",
       "    </tr>\n",
       "  </tbody>\n",
       "</table>\n",
       "</div>"
      ],
      "text/plain": [
       "     구군 배수펌프장명        위치  Latitude   Longitude           펌프시설 전동기(HP)  \\\n",
       "41  강서구     녹산  낙동남로 791  35.12031  128.897318  1200×19, 738×1, 497×1   \n",
       "\n",
       "   펌프시설 엔진(HP) 펌프시설 설치년도 설계빈도(년)  배수량(㎥/분)        비상발전기 시설 비상발전기 시설년도  \\\n",
       "41           -      2009     200   12000.0  한전2회선, 1750㎾×3       2009   \n",
       "\n",
       "   유수지 면적(㎡) 유수지 용량(㎡)  비고  \n",
       "41         -         -  하천  "
      ]
     },
     "execution_count": 56,
     "metadata": {},
     "output_type": "execute_result"
    }
   ],
   "source": [
    "df_pump[df_pump['배수펌프장명'] == '녹산']"
   ]
  },
  {
   "cell_type": "code",
   "execution_count": 57,
   "metadata": {},
   "outputs": [
    {
     "data": {
      "text/html": [
       "<div>\n",
       "<style scoped>\n",
       "    .dataframe tbody tr th:only-of-type {\n",
       "        vertical-align: middle;\n",
       "    }\n",
       "\n",
       "    .dataframe tbody tr th {\n",
       "        vertical-align: top;\n",
       "    }\n",
       "\n",
       "    .dataframe thead th {\n",
       "        text-align: right;\n",
       "    }\n",
       "</style>\n",
       "<table border=\"1\" class=\"dataframe\">\n",
       "  <thead>\n",
       "    <tr style=\"text-align: right;\">\n",
       "      <th></th>\n",
       "      <th>배수지명</th>\n",
       "      <th>준공일</th>\n",
       "      <th>시설용량</th>\n",
       "      <th>평균체류시간</th>\n",
       "      <th>배수지표고</th>\n",
       "      <th>배수방식</th>\n",
       "      <th>부지면적</th>\n",
       "      <th>유출관크기</th>\n",
       "      <th>고수위</th>\n",
       "      <th>저수위</th>\n",
       "      <th>위도</th>\n",
       "      <th>경도</th>\n",
       "    </tr>\n",
       "  </thead>\n",
       "  <tbody>\n",
       "    <tr>\n",
       "      <th>12</th>\n",
       "      <td>녹산</td>\n",
       "      <td>1999-09-01</td>\n",
       "      <td>17,000</td>\n",
       "      <td>28.0</td>\n",
       "      <td>0.0</td>\n",
       "      <td>자연유하식</td>\n",
       "      <td>0</td>\n",
       "      <td>NaN</td>\n",
       "      <td>0.0</td>\n",
       "      <td>0.0</td>\n",
       "      <td>35.099451</td>\n",
       "      <td>128.809761</td>\n",
       "    </tr>\n",
       "  </tbody>\n",
       "</table>\n",
       "</div>"
      ],
      "text/plain": [
       "   배수지명         준공일    시설용량  평균체류시간  배수지표고   배수방식 부지면적  유출관크기  고수위  저수위  \\\n",
       "12   녹산  1999-09-01  17,000    28.0    0.0  자연유하식    0    NaN  0.0  0.0   \n",
       "\n",
       "           위도          경도  \n",
       "12  35.099451  128.809761  "
      ]
     },
     "execution_count": 57,
     "metadata": {},
     "output_type": "execute_result"
    }
   ],
   "source": [
    "df_dra_notFull[df_dra_notFull['배수지명'] == '녹산'] "
   ]
  },
  {
   "cell_type": "code",
   "execution_count": 58,
   "metadata": {},
   "outputs": [
    {
     "name": "stdout",
     "output_type": "stream",
     "text": [
      "['구군', '배수펌프장명', '위치', 'Latitude', 'Longitude', '펌프시설 전동기(HP)', '펌프시설 엔진(HP)', '펌프시설 설치년도', '설계빈도(년)', '배수량(㎥/분)', '비상발전기 시설', '비상발전기 시설년도', '유수지 면적(㎡)', '유수지 용량(㎡)', '비고']\n"
     ]
    }
   ],
   "source": [
    "tmp = list(df_pump.columns)\n",
    "print(tmp)\n",
    "# 제외할 데이허 혹은 살릴 데이터 선정  ->>>>>  이거는 유수지 데이터인듯 \n",
    "# 구군, 배수펌프장명,위치,배수량,'유수지 면적(㎡)', '유수지 용량(㎡)' 비고 "
   ]
  },
  {
   "cell_type": "code",
   "execution_count": 59,
   "metadata": {},
   "outputs": [
    {
     "data": {
      "text/plain": [
       "['구군', '배수펌프장명', '위치', '배수량(㎥/분)', '유수지 면적(㎡)', '유수지 용량(㎡)', '비고']"
      ]
     },
     "execution_count": 59,
     "metadata": {},
     "output_type": "execute_result"
    }
   ],
   "source": [
    "re_col = ['구군', '배수펌프장명', '위치', '배수량(㎥/분)', '유수지 면적(㎡)', '유수지 용량(㎡)', '비고']\n",
    "# re_col = ['시구군', '배수펌프장명', '위치', '배수량', '유수지 면적', '유수지 용량', '비고']\n",
    "re_col"
   ]
  },
  {
   "cell_type": "code",
   "execution_count": 60,
   "metadata": {},
   "outputs": [
    {
     "data": {
      "text/html": [
       "<div>\n",
       "<style scoped>\n",
       "    .dataframe tbody tr th:only-of-type {\n",
       "        vertical-align: middle;\n",
       "    }\n",
       "\n",
       "    .dataframe tbody tr th {\n",
       "        vertical-align: top;\n",
       "    }\n",
       "\n",
       "    .dataframe thead th {\n",
       "        text-align: right;\n",
       "    }\n",
       "</style>\n",
       "<table border=\"1\" class=\"dataframe\">\n",
       "  <thead>\n",
       "    <tr style=\"text-align: right;\">\n",
       "      <th></th>\n",
       "      <th>구군</th>\n",
       "      <th>배수펌프장명</th>\n",
       "      <th>위치</th>\n",
       "      <th>배수량(㎥/분)</th>\n",
       "      <th>유수지 면적(㎡)</th>\n",
       "      <th>유수지 용량(㎡)</th>\n",
       "      <th>비고</th>\n",
       "    </tr>\n",
       "  </thead>\n",
       "  <tbody>\n",
       "    <tr>\n",
       "      <th>0</th>\n",
       "      <td>동래구</td>\n",
       "      <td>명륜</td>\n",
       "      <td>온천천로 203</td>\n",
       "      <td>784.0</td>\n",
       "      <td>400</td>\n",
       "      <td>1200</td>\n",
       "      <td>내수배제</td>\n",
       "    </tr>\n",
       "    <tr>\n",
       "      <th>1</th>\n",
       "      <td>동래구</td>\n",
       "      <td>수안</td>\n",
       "      <td>명륜로 70</td>\n",
       "      <td>60.0</td>\n",
       "      <td>-</td>\n",
       "      <td>-</td>\n",
       "      <td>내수배제</td>\n",
       "    </tr>\n",
       "    <tr>\n",
       "      <th>2</th>\n",
       "      <td>동래구</td>\n",
       "      <td>낙민</td>\n",
       "      <td>온천천로 339번길28</td>\n",
       "      <td>40.0</td>\n",
       "      <td>-</td>\n",
       "      <td>-</td>\n",
       "      <td>내수배제</td>\n",
       "    </tr>\n",
       "    <tr>\n",
       "      <th>3</th>\n",
       "      <td>동구</td>\n",
       "      <td>자성대1</td>\n",
       "      <td>자성로140번길33</td>\n",
       "      <td>140.0</td>\n",
       "      <td>-</td>\n",
       "      <td>-</td>\n",
       "      <td>내수배제</td>\n",
       "    </tr>\n",
       "    <tr>\n",
       "      <th>4</th>\n",
       "      <td>동구</td>\n",
       "      <td>자성대2</td>\n",
       "      <td>자성로140번길36</td>\n",
       "      <td>300.0</td>\n",
       "      <td>-</td>\n",
       "      <td>-</td>\n",
       "      <td>내수배제</td>\n",
       "    </tr>\n",
       "    <tr>\n",
       "      <th>...</th>\n",
       "      <td>...</td>\n",
       "      <td>...</td>\n",
       "      <td>...</td>\n",
       "      <td>...</td>\n",
       "      <td>...</td>\n",
       "      <td>...</td>\n",
       "      <td>...</td>\n",
       "    </tr>\n",
       "    <tr>\n",
       "      <th>57</th>\n",
       "      <td>사상구</td>\n",
       "      <td>엄궁1</td>\n",
       "      <td>강변대로 532번길 71</td>\n",
       "      <td>940.0</td>\n",
       "      <td>41089(엄궁1·엄궁2·엄궁3)</td>\n",
       "      <td>90396(엄궁1·엄궁2·엄궁3)</td>\n",
       "      <td>하천</td>\n",
       "    </tr>\n",
       "    <tr>\n",
       "      <th>58</th>\n",
       "      <td>사상구</td>\n",
       "      <td>엄궁2</td>\n",
       "      <td>NaN</td>\n",
       "      <td>180.0</td>\n",
       "      <td>NaN</td>\n",
       "      <td>NaN</td>\n",
       "      <td>NaN</td>\n",
       "    </tr>\n",
       "    <tr>\n",
       "      <th>59</th>\n",
       "      <td>사상구</td>\n",
       "      <td>엄궁3</td>\n",
       "      <td>NaN</td>\n",
       "      <td>1700.0</td>\n",
       "      <td>NaN</td>\n",
       "      <td>NaN</td>\n",
       "      <td>NaN</td>\n",
       "    </tr>\n",
       "    <tr>\n",
       "      <th>60</th>\n",
       "      <td>사상구</td>\n",
       "      <td>학장</td>\n",
       "      <td>농산물시장로 25번길 52-12</td>\n",
       "      <td>285.0</td>\n",
       "      <td>7440</td>\n",
       "      <td>16368</td>\n",
       "      <td>내수배제</td>\n",
       "    </tr>\n",
       "    <tr>\n",
       "      <th>61</th>\n",
       "      <td>사상구</td>\n",
       "      <td>감전천</td>\n",
       "      <td>낙동대로 1016번길 60</td>\n",
       "      <td>1370.0</td>\n",
       "      <td>1750</td>\n",
       "      <td>6500</td>\n",
       "      <td>하천</td>\n",
       "    </tr>\n",
       "  </tbody>\n",
       "</table>\n",
       "<p>62 rows × 7 columns</p>\n",
       "</div>"
      ],
      "text/plain": [
       "     구군 배수펌프장명                 위치  배수량(㎥/분)           유수지 면적(㎡)  \\\n",
       "0   동래구     명륜           온천천로 203     784.0                 400   \n",
       "1   동래구     수안             명륜로 70      60.0                   -   \n",
       "2   동래구     낙민       온천천로 339번길28      40.0                   -   \n",
       "3    동구   자성대1         자성로140번길33     140.0                   -   \n",
       "4    동구   자성대2         자성로140번길36     300.0                   -   \n",
       "..  ...    ...                ...       ...                 ...   \n",
       "57  사상구    엄궁1      강변대로 532번길 71     940.0  41089(엄궁1·엄궁2·엄궁3)   \n",
       "58  사상구    엄궁2                NaN     180.0                 NaN   \n",
       "59  사상구    엄궁3                NaN    1700.0                 NaN   \n",
       "60  사상구     학장  농산물시장로 25번길 52-12     285.0                7440   \n",
       "61  사상구    감전천     낙동대로 1016번길 60    1370.0                1750   \n",
       "\n",
       "             유수지 용량(㎡)    비고  \n",
       "0                 1200  내수배제  \n",
       "1                    -  내수배제  \n",
       "2                    -  내수배제  \n",
       "3                    -  내수배제  \n",
       "4                    -  내수배제  \n",
       "..                 ...   ...  \n",
       "57  90396(엄궁1·엄궁2·엄궁3)    하천  \n",
       "58                 NaN   NaN  \n",
       "59                 NaN   NaN  \n",
       "60               16368  내수배제  \n",
       "61                6500    하천  \n",
       "\n",
       "[62 rows x 7 columns]"
      ]
     },
     "execution_count": 60,
     "metadata": {},
     "output_type": "execute_result"
    }
   ],
   "source": [
    "# 결측 100 아닌 데이터만 추출 \n",
    "df_pump_re = df_pump.loc[:,re_col] \n",
    "df_pump_re"
   ]
  },
  {
   "cell_type": "code",
   "execution_count": 61,
   "metadata": {},
   "outputs": [
    {
     "data": {
      "text/plain": [
       "{'구군': '시구군',\n",
       " '배수펌프장명': '배수펌프장명',\n",
       " '위치': '위치',\n",
       " '배수량(㎥/분)': '배수량',\n",
       " '유수지 면적(㎡)': '유수지 면적',\n",
       " '유수지 용량(㎡)': '유수지 용량',\n",
       " '비고': '배수방식'}"
      ]
     },
     "execution_count": 61,
     "metadata": {},
     "output_type": "execute_result"
    }
   ],
   "source": [
    "# 컬럼 이름 변경 -> 만약에 이전에 필요 없는 컬럼 삭제시 해당 컬럼만 삭제 \n",
    "change_na = {\n",
    "    tmp[0]: '시구군',\n",
    "    tmp[1]: '배수펌프장명',\n",
    "    tmp[2]: '위치',\n",
    "    tmp[9]: '배수량',\n",
    "    tmp[-3]: '유수지 면적',\n",
    "    tmp[-2]: '유수지 용량',\n",
    "    tmp[-1]: '배수방식',\n",
    "}\n",
    "change_na"
   ]
  },
  {
   "cell_type": "code",
   "execution_count": 62,
   "metadata": {},
   "outputs": [
    {
     "data": {
      "text/html": [
       "<div>\n",
       "<style scoped>\n",
       "    .dataframe tbody tr th:only-of-type {\n",
       "        vertical-align: middle;\n",
       "    }\n",
       "\n",
       "    .dataframe tbody tr th {\n",
       "        vertical-align: top;\n",
       "    }\n",
       "\n",
       "    .dataframe thead th {\n",
       "        text-align: right;\n",
       "    }\n",
       "</style>\n",
       "<table border=\"1\" class=\"dataframe\">\n",
       "  <thead>\n",
       "    <tr style=\"text-align: right;\">\n",
       "      <th></th>\n",
       "      <th>시구군</th>\n",
       "      <th>배수펌프장명</th>\n",
       "      <th>위치</th>\n",
       "      <th>배수량</th>\n",
       "      <th>유수지 면적</th>\n",
       "      <th>유수지 용량</th>\n",
       "      <th>배수방식</th>\n",
       "    </tr>\n",
       "  </thead>\n",
       "  <tbody>\n",
       "    <tr>\n",
       "      <th>0</th>\n",
       "      <td>동래구</td>\n",
       "      <td>명륜</td>\n",
       "      <td>온천천로 203</td>\n",
       "      <td>784.0</td>\n",
       "      <td>400</td>\n",
       "      <td>1200</td>\n",
       "      <td>내수배제</td>\n",
       "    </tr>\n",
       "    <tr>\n",
       "      <th>1</th>\n",
       "      <td>동래구</td>\n",
       "      <td>수안</td>\n",
       "      <td>명륜로 70</td>\n",
       "      <td>60.0</td>\n",
       "      <td>NaN</td>\n",
       "      <td>NaN</td>\n",
       "      <td>내수배제</td>\n",
       "    </tr>\n",
       "    <tr>\n",
       "      <th>2</th>\n",
       "      <td>동래구</td>\n",
       "      <td>낙민</td>\n",
       "      <td>온천천로 339번길28</td>\n",
       "      <td>40.0</td>\n",
       "      <td>NaN</td>\n",
       "      <td>NaN</td>\n",
       "      <td>내수배제</td>\n",
       "    </tr>\n",
       "    <tr>\n",
       "      <th>3</th>\n",
       "      <td>동구</td>\n",
       "      <td>자성대1</td>\n",
       "      <td>자성로140번길33</td>\n",
       "      <td>140.0</td>\n",
       "      <td>NaN</td>\n",
       "      <td>NaN</td>\n",
       "      <td>내수배제</td>\n",
       "    </tr>\n",
       "    <tr>\n",
       "      <th>4</th>\n",
       "      <td>동구</td>\n",
       "      <td>자성대2</td>\n",
       "      <td>자성로140번길36</td>\n",
       "      <td>300.0</td>\n",
       "      <td>NaN</td>\n",
       "      <td>NaN</td>\n",
       "      <td>내수배제</td>\n",
       "    </tr>\n",
       "    <tr>\n",
       "      <th>...</th>\n",
       "      <td>...</td>\n",
       "      <td>...</td>\n",
       "      <td>...</td>\n",
       "      <td>...</td>\n",
       "      <td>...</td>\n",
       "      <td>...</td>\n",
       "      <td>...</td>\n",
       "    </tr>\n",
       "    <tr>\n",
       "      <th>57</th>\n",
       "      <td>사상구</td>\n",
       "      <td>엄궁1</td>\n",
       "      <td>강변대로 532번길 71</td>\n",
       "      <td>940.0</td>\n",
       "      <td>41089(엄궁1·엄궁2·엄궁3)</td>\n",
       "      <td>90396(엄궁1·엄궁2·엄궁3)</td>\n",
       "      <td>하천</td>\n",
       "    </tr>\n",
       "    <tr>\n",
       "      <th>58</th>\n",
       "      <td>사상구</td>\n",
       "      <td>엄궁2</td>\n",
       "      <td>NaN</td>\n",
       "      <td>180.0</td>\n",
       "      <td>NaN</td>\n",
       "      <td>NaN</td>\n",
       "      <td>NaN</td>\n",
       "    </tr>\n",
       "    <tr>\n",
       "      <th>59</th>\n",
       "      <td>사상구</td>\n",
       "      <td>엄궁3</td>\n",
       "      <td>NaN</td>\n",
       "      <td>1700.0</td>\n",
       "      <td>NaN</td>\n",
       "      <td>NaN</td>\n",
       "      <td>NaN</td>\n",
       "    </tr>\n",
       "    <tr>\n",
       "      <th>60</th>\n",
       "      <td>사상구</td>\n",
       "      <td>학장</td>\n",
       "      <td>농산물시장로 25번길 52-12</td>\n",
       "      <td>285.0</td>\n",
       "      <td>7440</td>\n",
       "      <td>16368</td>\n",
       "      <td>내수배제</td>\n",
       "    </tr>\n",
       "    <tr>\n",
       "      <th>61</th>\n",
       "      <td>사상구</td>\n",
       "      <td>감전천</td>\n",
       "      <td>낙동대로 1016번길 60</td>\n",
       "      <td>1370.0</td>\n",
       "      <td>1750</td>\n",
       "      <td>6500</td>\n",
       "      <td>하천</td>\n",
       "    </tr>\n",
       "  </tbody>\n",
       "</table>\n",
       "<p>62 rows × 7 columns</p>\n",
       "</div>"
      ],
      "text/plain": [
       "    시구군 배수펌프장명                 위치     배수량              유수지 면적  \\\n",
       "0   동래구     명륜           온천천로 203   784.0                 400   \n",
       "1   동래구     수안             명륜로 70    60.0                 NaN   \n",
       "2   동래구     낙민       온천천로 339번길28    40.0                 NaN   \n",
       "3    동구   자성대1         자성로140번길33   140.0                 NaN   \n",
       "4    동구   자성대2         자성로140번길36   300.0                 NaN   \n",
       "..  ...    ...                ...     ...                 ...   \n",
       "57  사상구    엄궁1      강변대로 532번길 71   940.0  41089(엄궁1·엄궁2·엄궁3)   \n",
       "58  사상구    엄궁2                NaN   180.0                 NaN   \n",
       "59  사상구    엄궁3                NaN  1700.0                 NaN   \n",
       "60  사상구     학장  농산물시장로 25번길 52-12   285.0                7440   \n",
       "61  사상구    감전천     낙동대로 1016번길 60  1370.0                1750   \n",
       "\n",
       "                유수지 용량  배수방식  \n",
       "0                 1200  내수배제  \n",
       "1                  NaN  내수배제  \n",
       "2                  NaN  내수배제  \n",
       "3                  NaN  내수배제  \n",
       "4                  NaN  내수배제  \n",
       "..                 ...   ...  \n",
       "57  90396(엄궁1·엄궁2·엄궁3)    하천  \n",
       "58                 NaN   NaN  \n",
       "59                 NaN   NaN  \n",
       "60               16368  내수배제  \n",
       "61                6500    하천  \n",
       "\n",
       "[62 rows x 7 columns]"
      ]
     },
     "execution_count": 62,
     "metadata": {},
     "output_type": "execute_result"
    }
   ],
   "source": [
    "df_pump_re = df_pump_re.rename(change_na, axis='columns')\n",
    "df_pump_re = df_pump_re.replace('-','NaN')\n",
    "df_pump_re"
   ]
  },
  {
   "cell_type": "code",
   "execution_count": 63,
   "metadata": {},
   "outputs": [
    {
     "data": {
      "text/plain": [
       "NaN                   17\n",
       "38                     2\n",
       "2200                   1\n",
       "7030                   1\n",
       "3900                   1\n",
       "1246                   1\n",
       "1500                   1\n",
       "4800                   1\n",
       "15000                  1\n",
       "220                    1\n",
       "7440                   1\n",
       "4500                   1\n",
       "865                    1\n",
       "1233                   1\n",
       "400                    1\n",
       "10                     1\n",
       "840                    1\n",
       "8515                   1\n",
       "322                    1\n",
       "1750                   1\n",
       "32                     1\n",
       "80182(감전1·감전2)         1\n",
       "483                    1\n",
       "49                     1\n",
       "6268                   1\n",
       "11600                  1\n",
       "760                    1\n",
       "2600                   1\n",
       "310                    1\n",
       "500                    1\n",
       "1010                   1\n",
       "3000                   1\n",
       "41089(엄궁1·엄궁2·엄궁3)     1\n",
       "600                    1\n",
       "109                    1\n",
       "56500                  1\n",
       "2236                   1\n",
       "8000                   1\n",
       "232                    1\n",
       "246                    1\n",
       "128                    1\n",
       "Name: 유수지 면적, dtype: int64"
      ]
     },
     "execution_count": 63,
     "metadata": {},
     "output_type": "execute_result"
    }
   ],
   "source": [
    "df_pump_re['유수지 면적'].value_counts()"
   ]
  },
  {
   "cell_type": "markdown",
   "metadata": {},
   "source": [
    "# 유수지 면적중 이상치 \n",
    "## 엄궁 -> 3군대 합! / 감전 -> 2군대 유수지 합 "
   ]
  },
  {
   "cell_type": "code",
   "execution_count": 64,
   "metadata": {
    "scrolled": false
   },
   "outputs": [
    {
     "data": {
      "text/html": [
       "<div>\n",
       "<style scoped>\n",
       "    .dataframe tbody tr th:only-of-type {\n",
       "        vertical-align: middle;\n",
       "    }\n",
       "\n",
       "    .dataframe tbody tr th {\n",
       "        vertical-align: top;\n",
       "    }\n",
       "\n",
       "    .dataframe thead th {\n",
       "        text-align: right;\n",
       "    }\n",
       "</style>\n",
       "<table border=\"1\" class=\"dataframe\">\n",
       "  <thead>\n",
       "    <tr style=\"text-align: right;\">\n",
       "      <th></th>\n",
       "      <th>시구군</th>\n",
       "      <th>배수펌프장명</th>\n",
       "      <th>위치</th>\n",
       "      <th>배수량</th>\n",
       "      <th>유수지 면적</th>\n",
       "      <th>유수지 용량</th>\n",
       "      <th>배수방식</th>\n",
       "    </tr>\n",
       "  </thead>\n",
       "  <tbody>\n",
       "    <tr>\n",
       "      <th>57</th>\n",
       "      <td>사상구</td>\n",
       "      <td>엄궁1</td>\n",
       "      <td>강변대로 532번길 71</td>\n",
       "      <td>940.0</td>\n",
       "      <td>41089(엄궁1·엄궁2·엄궁3)</td>\n",
       "      <td>90396(엄궁1·엄궁2·엄궁3)</td>\n",
       "      <td>하천</td>\n",
       "    </tr>\n",
       "  </tbody>\n",
       "</table>\n",
       "</div>"
      ],
      "text/plain": [
       "    시구군 배수펌프장명             위치    배수량              유수지 면적              유수지 용량  \\\n",
       "57  사상구    엄궁1  강변대로 532번길 71  940.0  41089(엄궁1·엄궁2·엄궁3)  90396(엄궁1·엄궁2·엄궁3)   \n",
       "\n",
       "   배수방식  \n",
       "57   하천  "
      ]
     },
     "execution_count": 64,
     "metadata": {},
     "output_type": "execute_result"
    }
   ],
   "source": [
    "df_pump_re[df_pump_re['유수지 면적'] == '41089(엄궁1·엄궁2·엄궁3)']"
   ]
  },
  {
   "cell_type": "code",
   "execution_count": 65,
   "metadata": {},
   "outputs": [
    {
     "data": {
      "text/html": [
       "<div>\n",
       "<style scoped>\n",
       "    .dataframe tbody tr th:only-of-type {\n",
       "        vertical-align: middle;\n",
       "    }\n",
       "\n",
       "    .dataframe tbody tr th {\n",
       "        vertical-align: top;\n",
       "    }\n",
       "\n",
       "    .dataframe thead th {\n",
       "        text-align: right;\n",
       "    }\n",
       "</style>\n",
       "<table border=\"1\" class=\"dataframe\">\n",
       "  <thead>\n",
       "    <tr style=\"text-align: right;\">\n",
       "      <th></th>\n",
       "      <th>시구군</th>\n",
       "      <th>배수펌프장명</th>\n",
       "      <th>위치</th>\n",
       "      <th>배수량</th>\n",
       "      <th>유수지 면적</th>\n",
       "      <th>유수지 용량</th>\n",
       "      <th>배수방식</th>\n",
       "    </tr>\n",
       "  </thead>\n",
       "  <tbody>\n",
       "    <tr>\n",
       "      <th>57</th>\n",
       "      <td>사상구</td>\n",
       "      <td>엄궁1</td>\n",
       "      <td>강변대로 532번길 71</td>\n",
       "      <td>940.0</td>\n",
       "      <td>41089(엄궁1·엄궁2·엄궁3)</td>\n",
       "      <td>90396(엄궁1·엄궁2·엄궁3)</td>\n",
       "      <td>하천</td>\n",
       "    </tr>\n",
       "  </tbody>\n",
       "</table>\n",
       "</div>"
      ],
      "text/plain": [
       "    시구군 배수펌프장명             위치    배수량              유수지 면적              유수지 용량  \\\n",
       "57  사상구    엄궁1  강변대로 532번길 71  940.0  41089(엄궁1·엄궁2·엄궁3)  90396(엄궁1·엄궁2·엄궁3)   \n",
       "\n",
       "   배수방식  \n",
       "57   하천  "
      ]
     },
     "execution_count": 65,
     "metadata": {},
     "output_type": "execute_result"
    }
   ],
   "source": [
    "df_pump_re[df_pump_re['유수지 용량'] == '90396(엄궁1·엄궁2·엄궁3)']"
   ]
  },
  {
   "cell_type": "code",
   "execution_count": 66,
   "metadata": {
    "scrolled": true
   },
   "outputs": [
    {
     "data": {
      "text/plain": [
       "NaN               17\n",
       "38                 2\n",
       "2200               1\n",
       "4500               1\n",
       "1246               1\n",
       "1500               1\n",
       "4800               1\n",
       "15000              1\n",
       "220                1\n",
       "7440               1\n",
       "7030               1\n",
       "1233               1\n",
       "32                 1\n",
       "400                1\n",
       "41089              1\n",
       "10                 1\n",
       "840                1\n",
       "8515               1\n",
       "322                1\n",
       "1750               1\n",
       "3900               1\n",
       "483                1\n",
       "865                1\n",
       "3000               1\n",
       "11600              1\n",
       "760                1\n",
       "2600               1\n",
       "310                1\n",
       "500                1\n",
       "1010               1\n",
       "49                 1\n",
       "600                1\n",
       "6268               1\n",
       "109                1\n",
       "56500              1\n",
       "2236               1\n",
       "8000               1\n",
       "232                1\n",
       "246                1\n",
       "80182(감전1·감전2)     1\n",
       "128                1\n",
       "Name: 유수지 면적, dtype: int64"
      ]
     },
     "execution_count": 66,
     "metadata": {},
     "output_type": "execute_result"
    }
   ],
   "source": [
    "df_pump_re = df_pump_re.replace('41089(엄궁1·엄궁2·엄궁3)','41089')\n",
    "df_pump_re = df_pump_re.replace('90396(엄궁1·엄궁2·엄궁3)','90396')\n",
    "df_pump_re['유수지 면적'].value_counts()"
   ]
  },
  {
   "cell_type": "code",
   "execution_count": 67,
   "metadata": {},
   "outputs": [
    {
     "data": {
      "text/html": [
       "<div>\n",
       "<style scoped>\n",
       "    .dataframe tbody tr th:only-of-type {\n",
       "        vertical-align: middle;\n",
       "    }\n",
       "\n",
       "    .dataframe tbody tr th {\n",
       "        vertical-align: top;\n",
       "    }\n",
       "\n",
       "    .dataframe thead th {\n",
       "        text-align: right;\n",
       "    }\n",
       "</style>\n",
       "<table border=\"1\" class=\"dataframe\">\n",
       "  <thead>\n",
       "    <tr style=\"text-align: right;\">\n",
       "      <th></th>\n",
       "      <th>시구군</th>\n",
       "      <th>배수펌프장명</th>\n",
       "      <th>위치</th>\n",
       "      <th>배수량</th>\n",
       "      <th>유수지 면적</th>\n",
       "      <th>유수지 용량</th>\n",
       "      <th>배수방식</th>\n",
       "    </tr>\n",
       "  </thead>\n",
       "  <tbody>\n",
       "    <tr>\n",
       "      <th>53</th>\n",
       "      <td>사상구</td>\n",
       "      <td>감전1</td>\n",
       "      <td>낙동로 1097</td>\n",
       "      <td>1620.0</td>\n",
       "      <td>80182(감전1·감전2)</td>\n",
       "      <td>176400(감전1·감전2)</td>\n",
       "      <td>하천</td>\n",
       "    </tr>\n",
       "  </tbody>\n",
       "</table>\n",
       "</div>"
      ],
      "text/plain": [
       "    시구군 배수펌프장명        위치     배수량          유수지 면적           유수지 용량 배수방식\n",
       "53  사상구    감전1  낙동로 1097  1620.0  80182(감전1·감전2)  176400(감전1·감전2)   하천"
      ]
     },
     "execution_count": 67,
     "metadata": {},
     "output_type": "execute_result"
    }
   ],
   "source": [
    "df_pump_re[df_pump_re['유수지 면적'] == '80182(감전1·감전2)']"
   ]
  },
  {
   "cell_type": "code",
   "execution_count": 68,
   "metadata": {},
   "outputs": [
    {
     "data": {
      "text/html": [
       "<div>\n",
       "<style scoped>\n",
       "    .dataframe tbody tr th:only-of-type {\n",
       "        vertical-align: middle;\n",
       "    }\n",
       "\n",
       "    .dataframe tbody tr th {\n",
       "        vertical-align: top;\n",
       "    }\n",
       "\n",
       "    .dataframe thead th {\n",
       "        text-align: right;\n",
       "    }\n",
       "</style>\n",
       "<table border=\"1\" class=\"dataframe\">\n",
       "  <thead>\n",
       "    <tr style=\"text-align: right;\">\n",
       "      <th></th>\n",
       "      <th>시구군</th>\n",
       "      <th>배수펌프장명</th>\n",
       "      <th>위치</th>\n",
       "      <th>배수량</th>\n",
       "      <th>유수지 면적</th>\n",
       "      <th>유수지 용량</th>\n",
       "      <th>배수방식</th>\n",
       "    </tr>\n",
       "  </thead>\n",
       "  <tbody>\n",
       "    <tr>\n",
       "      <th>53</th>\n",
       "      <td>사상구</td>\n",
       "      <td>감전1</td>\n",
       "      <td>낙동로 1097</td>\n",
       "      <td>1620.0</td>\n",
       "      <td>80182(감전1·감전2)</td>\n",
       "      <td>176400(감전1·감전2)</td>\n",
       "      <td>하천</td>\n",
       "    </tr>\n",
       "  </tbody>\n",
       "</table>\n",
       "</div>"
      ],
      "text/plain": [
       "    시구군 배수펌프장명        위치     배수량          유수지 면적           유수지 용량 배수방식\n",
       "53  사상구    감전1  낙동로 1097  1620.0  80182(감전1·감전2)  176400(감전1·감전2)   하천"
      ]
     },
     "execution_count": 68,
     "metadata": {},
     "output_type": "execute_result"
    }
   ],
   "source": [
    "df_pump_re[df_pump_re['유수지 용량'] == '176400(감전1·감전2)']"
   ]
  },
  {
   "cell_type": "code",
   "execution_count": 69,
   "metadata": {
    "scrolled": true
   },
   "outputs": [
    {
     "data": {
      "text/plain": [
       "NaN      17\n",
       "38        2\n",
       "2200      1\n",
       "4500      1\n",
       "1246      1\n",
       "1500      1\n",
       "4800      1\n",
       "15000     1\n",
       "220       1\n",
       "7440      1\n",
       "7030      1\n",
       "1233      1\n",
       "32        1\n",
       "400       1\n",
       "41089     1\n",
       "10        1\n",
       "840       1\n",
       "8515      1\n",
       "322       1\n",
       "1750      1\n",
       "3900      1\n",
       "483       1\n",
       "865       1\n",
       "49        1\n",
       "11600     1\n",
       "80182     1\n",
       "760       1\n",
       "2600      1\n",
       "310       1\n",
       "500       1\n",
       "1010      1\n",
       "3000      1\n",
       "6268      1\n",
       "600       1\n",
       "109       1\n",
       "56500     1\n",
       "2236      1\n",
       "8000      1\n",
       "232       1\n",
       "246       1\n",
       "128       1\n",
       "Name: 유수지 면적, dtype: int64"
      ]
     },
     "execution_count": 69,
     "metadata": {},
     "output_type": "execute_result"
    }
   ],
   "source": [
    "df_pump_re = df_pump_re.replace('80182(감전1·감전2)','80182')\n",
    "df_pump_re = df_pump_re.replace('176400(감전1·감전2)','176400')\n",
    "df_pump_re['유수지 면적'].value_counts()"
   ]
  },
  {
   "cell_type": "code",
   "execution_count": 70,
   "metadata": {},
   "outputs": [
    {
     "data": {
      "text/plain": [
       "내수배제    49\n",
       "하천       7\n",
       "NaN      2\n",
       "Name: 배수방식, dtype: int64"
      ]
     },
     "execution_count": 70,
     "metadata": {},
     "output_type": "execute_result"
    }
   ],
   "source": [
    "df_pump_re.배수방식.value_counts()"
   ]
  },
  {
   "cell_type": "code",
   "execution_count": 71,
   "metadata": {},
   "outputs": [
    {
     "data": {
      "text/html": [
       "<div>\n",
       "<style scoped>\n",
       "    .dataframe tbody tr th:only-of-type {\n",
       "        vertical-align: middle;\n",
       "    }\n",
       "\n",
       "    .dataframe tbody tr th {\n",
       "        vertical-align: top;\n",
       "    }\n",
       "\n",
       "    .dataframe thead th {\n",
       "        text-align: right;\n",
       "    }\n",
       "</style>\n",
       "<table border=\"1\" class=\"dataframe\">\n",
       "  <thead>\n",
       "    <tr style=\"text-align: right;\">\n",
       "      <th></th>\n",
       "      <th>시구군</th>\n",
       "      <th>배수펌프장명</th>\n",
       "      <th>위치</th>\n",
       "      <th>배수량</th>\n",
       "      <th>유수지 면적</th>\n",
       "      <th>유수지 용량</th>\n",
       "      <th>배수방식</th>\n",
       "    </tr>\n",
       "  </thead>\n",
       "  <tbody>\n",
       "    <tr>\n",
       "      <th>30</th>\n",
       "      <td>NaN</td>\n",
       "      <td>서금사</td>\n",
       "      <td>금사동 545-9</td>\n",
       "      <td>580.0</td>\n",
       "      <td>NaN</td>\n",
       "      <td>NaN</td>\n",
       "      <td>NaN</td>\n",
       "    </tr>\n",
       "    <tr>\n",
       "      <th>31</th>\n",
       "      <td>기장군</td>\n",
       "      <td>길천</td>\n",
       "      <td>길천리 190-36</td>\n",
       "      <td>9.0</td>\n",
       "      <td>38</td>\n",
       "      <td>96</td>\n",
       "      <td>NaN</td>\n",
       "    </tr>\n",
       "  </tbody>\n",
       "</table>\n",
       "</div>"
      ],
      "text/plain": [
       "    시구군 배수펌프장명          위치    배수량 유수지 면적 유수지 용량 배수방식\n",
       "30  NaN    서금사   금사동 545-9  580.0    NaN    NaN  NaN\n",
       "31  기장군     길천  길천리 190-36    9.0     38     96  NaN"
      ]
     },
     "execution_count": 71,
     "metadata": {},
     "output_type": "execute_result"
    }
   ],
   "source": [
    "df_pump_re[df_pump_re.배수방식 == 'NaN']"
   ]
  },
  {
   "cell_type": "code",
   "execution_count": 72,
   "metadata": {},
   "outputs": [],
   "source": [
    "# NaN를 금정구로 변경\n",
    "df_pump_re.시구군[30] = '금정구'"
   ]
  },
  {
   "cell_type": "code",
   "execution_count": 73,
   "metadata": {},
   "outputs": [
    {
     "data": {
      "text/html": [
       "<div>\n",
       "<style scoped>\n",
       "    .dataframe tbody tr th:only-of-type {\n",
       "        vertical-align: middle;\n",
       "    }\n",
       "\n",
       "    .dataframe tbody tr th {\n",
       "        vertical-align: top;\n",
       "    }\n",
       "\n",
       "    .dataframe thead th {\n",
       "        text-align: right;\n",
       "    }\n",
       "</style>\n",
       "<table border=\"1\" class=\"dataframe\">\n",
       "  <thead>\n",
       "    <tr style=\"text-align: right;\">\n",
       "      <th></th>\n",
       "      <th>시구군</th>\n",
       "      <th>배수펌프장명</th>\n",
       "      <th>위치</th>\n",
       "      <th>배수량</th>\n",
       "      <th>유수지 면적</th>\n",
       "      <th>유수지 용량</th>\n",
       "      <th>배수방식</th>\n",
       "    </tr>\n",
       "  </thead>\n",
       "  <tbody>\n",
       "    <tr>\n",
       "      <th>30</th>\n",
       "      <td>금정구</td>\n",
       "      <td>서금사</td>\n",
       "      <td>금사동 545-9</td>\n",
       "      <td>580.0</td>\n",
       "      <td>NaN</td>\n",
       "      <td>NaN</td>\n",
       "      <td>NaN</td>\n",
       "    </tr>\n",
       "    <tr>\n",
       "      <th>31</th>\n",
       "      <td>기장군</td>\n",
       "      <td>길천</td>\n",
       "      <td>길천리 190-36</td>\n",
       "      <td>9.0</td>\n",
       "      <td>38</td>\n",
       "      <td>96</td>\n",
       "      <td>NaN</td>\n",
       "    </tr>\n",
       "  </tbody>\n",
       "</table>\n",
       "</div>"
      ],
      "text/plain": [
       "    시구군 배수펌프장명          위치    배수량 유수지 면적 유수지 용량 배수방식\n",
       "30  금정구    서금사   금사동 545-9  580.0    NaN    NaN  NaN\n",
       "31  기장군     길천  길천리 190-36    9.0     38     96  NaN"
      ]
     },
     "execution_count": 73,
     "metadata": {},
     "output_type": "execute_result"
    }
   ],
   "source": [
    "df_pump_re[df_pump_re.배수방식 == 'NaN']"
   ]
  },
  {
   "cell_type": "code",
   "execution_count": 74,
   "metadata": {},
   "outputs": [],
   "source": [
    "df_pump_re.위치[30] = '금사동 545-9'"
   ]
  },
  {
   "cell_type": "code",
   "execution_count": 75,
   "metadata": {},
   "outputs": [
    {
     "data": {
      "text/html": [
       "<div>\n",
       "<style scoped>\n",
       "    .dataframe tbody tr th:only-of-type {\n",
       "        vertical-align: middle;\n",
       "    }\n",
       "\n",
       "    .dataframe tbody tr th {\n",
       "        vertical-align: top;\n",
       "    }\n",
       "\n",
       "    .dataframe thead th {\n",
       "        text-align: right;\n",
       "    }\n",
       "</style>\n",
       "<table border=\"1\" class=\"dataframe\">\n",
       "  <thead>\n",
       "    <tr style=\"text-align: right;\">\n",
       "      <th></th>\n",
       "      <th>시구군</th>\n",
       "      <th>배수펌프장명</th>\n",
       "      <th>위치</th>\n",
       "      <th>배수량</th>\n",
       "      <th>유수지 면적</th>\n",
       "      <th>유수지 용량</th>\n",
       "      <th>배수방식</th>\n",
       "    </tr>\n",
       "  </thead>\n",
       "  <tbody>\n",
       "    <tr>\n",
       "      <th>30</th>\n",
       "      <td>금정구</td>\n",
       "      <td>서금사</td>\n",
       "      <td>금사동 545-9</td>\n",
       "      <td>580.0</td>\n",
       "      <td>NaN</td>\n",
       "      <td>NaN</td>\n",
       "      <td>NaN</td>\n",
       "    </tr>\n",
       "    <tr>\n",
       "      <th>31</th>\n",
       "      <td>기장군</td>\n",
       "      <td>길천</td>\n",
       "      <td>길천리 190-36</td>\n",
       "      <td>9.0</td>\n",
       "      <td>38</td>\n",
       "      <td>96</td>\n",
       "      <td>NaN</td>\n",
       "    </tr>\n",
       "  </tbody>\n",
       "</table>\n",
       "</div>"
      ],
      "text/plain": [
       "    시구군 배수펌프장명          위치    배수량 유수지 면적 유수지 용량 배수방식\n",
       "30  금정구    서금사   금사동 545-9  580.0    NaN    NaN  NaN\n",
       "31  기장군     길천  길천리 190-36    9.0     38     96  NaN"
      ]
     },
     "execution_count": 75,
     "metadata": {},
     "output_type": "execute_result"
    }
   ],
   "source": [
    "df_pump_re[df_pump_re.배수방식 == 'NaN']"
   ]
  },
  {
   "cell_type": "code",
   "execution_count": 76,
   "metadata": {},
   "outputs": [
    {
     "data": {
      "text/html": [
       "<div>\n",
       "<style scoped>\n",
       "    .dataframe tbody tr th:only-of-type {\n",
       "        vertical-align: middle;\n",
       "    }\n",
       "\n",
       "    .dataframe tbody tr th {\n",
       "        vertical-align: top;\n",
       "    }\n",
       "\n",
       "    .dataframe thead th {\n",
       "        text-align: right;\n",
       "    }\n",
       "</style>\n",
       "<table border=\"1\" class=\"dataframe\">\n",
       "  <thead>\n",
       "    <tr style=\"text-align: right;\">\n",
       "      <th></th>\n",
       "      <th>시구군</th>\n",
       "      <th>배수펌프장명</th>\n",
       "      <th>위치</th>\n",
       "      <th>배수량</th>\n",
       "      <th>유수지 면적</th>\n",
       "      <th>유수지 용량</th>\n",
       "      <th>배수방식</th>\n",
       "    </tr>\n",
       "  </thead>\n",
       "  <tbody>\n",
       "    <tr>\n",
       "      <th>0</th>\n",
       "      <td>동래구</td>\n",
       "      <td>명륜</td>\n",
       "      <td>온천천로 203</td>\n",
       "      <td>784.0</td>\n",
       "      <td>400</td>\n",
       "      <td>1200</td>\n",
       "      <td>내수배제</td>\n",
       "    </tr>\n",
       "    <tr>\n",
       "      <th>1</th>\n",
       "      <td>동래구</td>\n",
       "      <td>수안</td>\n",
       "      <td>명륜로 70</td>\n",
       "      <td>60.0</td>\n",
       "      <td>NaN</td>\n",
       "      <td>NaN</td>\n",
       "      <td>내수배제</td>\n",
       "    </tr>\n",
       "    <tr>\n",
       "      <th>2</th>\n",
       "      <td>동래구</td>\n",
       "      <td>낙민</td>\n",
       "      <td>온천천로 339번길28</td>\n",
       "      <td>40.0</td>\n",
       "      <td>NaN</td>\n",
       "      <td>NaN</td>\n",
       "      <td>내수배제</td>\n",
       "    </tr>\n",
       "    <tr>\n",
       "      <th>3</th>\n",
       "      <td>동구</td>\n",
       "      <td>자성대1</td>\n",
       "      <td>자성로140번길33</td>\n",
       "      <td>140.0</td>\n",
       "      <td>NaN</td>\n",
       "      <td>NaN</td>\n",
       "      <td>내수배제</td>\n",
       "    </tr>\n",
       "    <tr>\n",
       "      <th>4</th>\n",
       "      <td>동구</td>\n",
       "      <td>자성대2</td>\n",
       "      <td>자성로140번길36</td>\n",
       "      <td>300.0</td>\n",
       "      <td>NaN</td>\n",
       "      <td>NaN</td>\n",
       "      <td>내수배제</td>\n",
       "    </tr>\n",
       "    <tr>\n",
       "      <th>...</th>\n",
       "      <td>...</td>\n",
       "      <td>...</td>\n",
       "      <td>...</td>\n",
       "      <td>...</td>\n",
       "      <td>...</td>\n",
       "      <td>...</td>\n",
       "      <td>...</td>\n",
       "    </tr>\n",
       "    <tr>\n",
       "      <th>57</th>\n",
       "      <td>사상구</td>\n",
       "      <td>엄궁1</td>\n",
       "      <td>강변대로 532번길 71</td>\n",
       "      <td>940.0</td>\n",
       "      <td>41089</td>\n",
       "      <td>90396</td>\n",
       "      <td>하천</td>\n",
       "    </tr>\n",
       "    <tr>\n",
       "      <th>58</th>\n",
       "      <td>사상구</td>\n",
       "      <td>엄궁2</td>\n",
       "      <td>NaN</td>\n",
       "      <td>180.0</td>\n",
       "      <td>NaN</td>\n",
       "      <td>NaN</td>\n",
       "      <td>NaN</td>\n",
       "    </tr>\n",
       "    <tr>\n",
       "      <th>59</th>\n",
       "      <td>사상구</td>\n",
       "      <td>엄궁3</td>\n",
       "      <td>NaN</td>\n",
       "      <td>1700.0</td>\n",
       "      <td>NaN</td>\n",
       "      <td>NaN</td>\n",
       "      <td>NaN</td>\n",
       "    </tr>\n",
       "    <tr>\n",
       "      <th>60</th>\n",
       "      <td>사상구</td>\n",
       "      <td>학장</td>\n",
       "      <td>농산물시장로 25번길 52-12</td>\n",
       "      <td>285.0</td>\n",
       "      <td>7440</td>\n",
       "      <td>16368</td>\n",
       "      <td>내수배제</td>\n",
       "    </tr>\n",
       "    <tr>\n",
       "      <th>61</th>\n",
       "      <td>사상구</td>\n",
       "      <td>감전천</td>\n",
       "      <td>낙동대로 1016번길 60</td>\n",
       "      <td>1370.0</td>\n",
       "      <td>1750</td>\n",
       "      <td>6500</td>\n",
       "      <td>하천</td>\n",
       "    </tr>\n",
       "  </tbody>\n",
       "</table>\n",
       "<p>62 rows × 7 columns</p>\n",
       "</div>"
      ],
      "text/plain": [
       "    시구군 배수펌프장명                 위치     배수량 유수지 면적 유수지 용량  배수방식\n",
       "0   동래구     명륜           온천천로 203   784.0    400   1200  내수배제\n",
       "1   동래구     수안             명륜로 70    60.0    NaN    NaN  내수배제\n",
       "2   동래구     낙민       온천천로 339번길28    40.0    NaN    NaN  내수배제\n",
       "3    동구   자성대1         자성로140번길33   140.0    NaN    NaN  내수배제\n",
       "4    동구   자성대2         자성로140번길36   300.0    NaN    NaN  내수배제\n",
       "..  ...    ...                ...     ...    ...    ...   ...\n",
       "57  사상구    엄궁1      강변대로 532번길 71   940.0  41089  90396    하천\n",
       "58  사상구    엄궁2                NaN   180.0    NaN    NaN   NaN\n",
       "59  사상구    엄궁3                NaN  1700.0    NaN    NaN   NaN\n",
       "60  사상구     학장  농산물시장로 25번길 52-12   285.0   7440  16368  내수배제\n",
       "61  사상구    감전천     낙동대로 1016번길 60  1370.0   1750   6500    하천\n",
       "\n",
       "[62 rows x 7 columns]"
      ]
     },
     "execution_count": 76,
     "metadata": {},
     "output_type": "execute_result"
    }
   ],
   "source": [
    "df_pump_re"
   ]
  },
  {
   "cell_type": "code",
   "execution_count": 77,
   "metadata": {},
   "outputs": [
    {
     "data": {
      "text/plain": [
       "2"
      ]
     },
     "execution_count": 77,
     "metadata": {},
     "output_type": "execute_result"
    }
   ],
   "source": [
    "df_pump_re.위치.isnull().sum()"
   ]
  },
  {
   "cell_type": "code",
   "execution_count": 78,
   "metadata": {},
   "outputs": [
    {
     "data": {
      "text/plain": [
       "60"
      ]
     },
     "execution_count": 78,
     "metadata": {},
     "output_type": "execute_result"
    }
   ],
   "source": [
    "len(df_pump_re.위치.value_counts())"
   ]
  },
  {
   "cell_type": "code",
   "execution_count": 79,
   "metadata": {},
   "outputs": [
    {
     "data": {
      "text/plain": [
       "62"
      ]
     },
     "execution_count": 79,
     "metadata": {},
     "output_type": "execute_result"
    }
   ],
   "source": [
    "len(df_pump_re)"
   ]
  },
  {
   "cell_type": "code",
   "execution_count": 80,
   "metadata": {},
   "outputs": [
    {
     "data": {
      "text/html": [
       "<div>\n",
       "<style scoped>\n",
       "    .dataframe tbody tr th:only-of-type {\n",
       "        vertical-align: middle;\n",
       "    }\n",
       "\n",
       "    .dataframe tbody tr th {\n",
       "        vertical-align: top;\n",
       "    }\n",
       "\n",
       "    .dataframe thead th {\n",
       "        text-align: right;\n",
       "    }\n",
       "</style>\n",
       "<table border=\"1\" class=\"dataframe\">\n",
       "  <thead>\n",
       "    <tr style=\"text-align: right;\">\n",
       "      <th></th>\n",
       "      <th>시구군</th>\n",
       "      <th>배수펌프장명</th>\n",
       "      <th>위치</th>\n",
       "      <th>배수량</th>\n",
       "      <th>유수지 면적</th>\n",
       "      <th>유수지 용량</th>\n",
       "      <th>배수방식</th>\n",
       "    </tr>\n",
       "  </thead>\n",
       "  <tbody>\n",
       "    <tr>\n",
       "      <th>53</th>\n",
       "      <td>사상구</td>\n",
       "      <td>감전1</td>\n",
       "      <td>낙동로 1097</td>\n",
       "      <td>1620.0</td>\n",
       "      <td>80182</td>\n",
       "      <td>176400</td>\n",
       "      <td>하천</td>\n",
       "    </tr>\n",
       "    <tr>\n",
       "      <th>54</th>\n",
       "      <td>사상구</td>\n",
       "      <td>감전2</td>\n",
       "      <td>낙동로 1142</td>\n",
       "      <td>2640.0</td>\n",
       "      <td>NaN</td>\n",
       "      <td>NaN</td>\n",
       "      <td>NaN</td>\n",
       "    </tr>\n",
       "    <tr>\n",
       "      <th>55</th>\n",
       "      <td>사상구</td>\n",
       "      <td>감전3</td>\n",
       "      <td>낙동대로 952 맞은편</td>\n",
       "      <td>50.0</td>\n",
       "      <td>49</td>\n",
       "      <td>273</td>\n",
       "      <td>내수배제</td>\n",
       "    </tr>\n",
       "    <tr>\n",
       "      <th>56</th>\n",
       "      <td>사상구</td>\n",
       "      <td>감전4</td>\n",
       "      <td>낙동대로 1024 맞은편</td>\n",
       "      <td>90.0</td>\n",
       "      <td>322</td>\n",
       "      <td>590</td>\n",
       "      <td>내수배제</td>\n",
       "    </tr>\n",
       "    <tr>\n",
       "      <th>57</th>\n",
       "      <td>사상구</td>\n",
       "      <td>엄궁1</td>\n",
       "      <td>강변대로 532번길 71</td>\n",
       "      <td>940.0</td>\n",
       "      <td>41089</td>\n",
       "      <td>90396</td>\n",
       "      <td>하천</td>\n",
       "    </tr>\n",
       "    <tr>\n",
       "      <th>58</th>\n",
       "      <td>사상구</td>\n",
       "      <td>엄궁2</td>\n",
       "      <td>NaN</td>\n",
       "      <td>180.0</td>\n",
       "      <td>NaN</td>\n",
       "      <td>NaN</td>\n",
       "      <td>NaN</td>\n",
       "    </tr>\n",
       "    <tr>\n",
       "      <th>59</th>\n",
       "      <td>사상구</td>\n",
       "      <td>엄궁3</td>\n",
       "      <td>NaN</td>\n",
       "      <td>1700.0</td>\n",
       "      <td>NaN</td>\n",
       "      <td>NaN</td>\n",
       "      <td>NaN</td>\n",
       "    </tr>\n",
       "    <tr>\n",
       "      <th>60</th>\n",
       "      <td>사상구</td>\n",
       "      <td>학장</td>\n",
       "      <td>농산물시장로 25번길 52-12</td>\n",
       "      <td>285.0</td>\n",
       "      <td>7440</td>\n",
       "      <td>16368</td>\n",
       "      <td>내수배제</td>\n",
       "    </tr>\n",
       "    <tr>\n",
       "      <th>61</th>\n",
       "      <td>사상구</td>\n",
       "      <td>감전천</td>\n",
       "      <td>낙동대로 1016번길 60</td>\n",
       "      <td>1370.0</td>\n",
       "      <td>1750</td>\n",
       "      <td>6500</td>\n",
       "      <td>하천</td>\n",
       "    </tr>\n",
       "  </tbody>\n",
       "</table>\n",
       "</div>"
      ],
      "text/plain": [
       "    시구군 배수펌프장명                 위치     배수량 유수지 면적  유수지 용량  배수방식\n",
       "53  사상구    감전1           낙동로 1097  1620.0  80182  176400    하천\n",
       "54  사상구    감전2           낙동로 1142  2640.0    NaN     NaN   NaN\n",
       "55  사상구    감전3       낙동대로 952 맞은편    50.0     49     273  내수배제\n",
       "56  사상구    감전4      낙동대로 1024 맞은편    90.0    322     590  내수배제\n",
       "57  사상구    엄궁1      강변대로 532번길 71   940.0  41089   90396    하천\n",
       "58  사상구    엄궁2                NaN   180.0    NaN     NaN   NaN\n",
       "59  사상구    엄궁3                NaN  1700.0    NaN     NaN   NaN\n",
       "60  사상구     학장  농산물시장로 25번길 52-12   285.0   7440   16368  내수배제\n",
       "61  사상구    감전천     낙동대로 1016번길 60  1370.0   1750    6500    하천"
      ]
     },
     "execution_count": 80,
     "metadata": {},
     "output_type": "execute_result"
    }
   ],
   "source": [
    "df_pump_re[df_pump_re.시구군 == '사상구']"
   ]
  },
  {
   "cell_type": "markdown",
   "metadata": {},
   "source": [
    "## 엄궁동 유수지 데이터 -> 널값 채우기 "
   ]
  },
  {
   "cell_type": "code",
   "execution_count": 81,
   "metadata": {},
   "outputs": [],
   "source": [
    "df_pump_re.위치[58] = '강변대로 532번길 71'\n",
    "df_pump_re.위치[59] = '강변대로 532번길 71'\n",
    "df_pump_re.배수방식[58] = '하천'\n",
    "df_pump_re.배수방식[59] = '하천'\n",
    "df_pump_re['유수지 면적'][58] = '41089'\n",
    "df_pump_re['유수지 면적'][59] = '41089'\n",
    "df_pump_re['유수지 용량'][58] = '90396'\n",
    "df_pump_re['유수지 용량'][59] = '90396'"
   ]
  },
  {
   "cell_type": "code",
   "execution_count": 82,
   "metadata": {},
   "outputs": [
    {
     "data": {
      "text/html": [
       "<div>\n",
       "<style scoped>\n",
       "    .dataframe tbody tr th:only-of-type {\n",
       "        vertical-align: middle;\n",
       "    }\n",
       "\n",
       "    .dataframe tbody tr th {\n",
       "        vertical-align: top;\n",
       "    }\n",
       "\n",
       "    .dataframe thead th {\n",
       "        text-align: right;\n",
       "    }\n",
       "</style>\n",
       "<table border=\"1\" class=\"dataframe\">\n",
       "  <thead>\n",
       "    <tr style=\"text-align: right;\">\n",
       "      <th></th>\n",
       "      <th>시구군</th>\n",
       "      <th>배수펌프장명</th>\n",
       "      <th>위치</th>\n",
       "      <th>배수량</th>\n",
       "      <th>유수지 면적</th>\n",
       "      <th>유수지 용량</th>\n",
       "      <th>배수방식</th>\n",
       "    </tr>\n",
       "  </thead>\n",
       "  <tbody>\n",
       "    <tr>\n",
       "      <th>53</th>\n",
       "      <td>사상구</td>\n",
       "      <td>감전1</td>\n",
       "      <td>낙동로 1097</td>\n",
       "      <td>1620.0</td>\n",
       "      <td>80182</td>\n",
       "      <td>176400</td>\n",
       "      <td>하천</td>\n",
       "    </tr>\n",
       "    <tr>\n",
       "      <th>54</th>\n",
       "      <td>사상구</td>\n",
       "      <td>감전2</td>\n",
       "      <td>낙동로 1142</td>\n",
       "      <td>2640.0</td>\n",
       "      <td>NaN</td>\n",
       "      <td>NaN</td>\n",
       "      <td>NaN</td>\n",
       "    </tr>\n",
       "    <tr>\n",
       "      <th>55</th>\n",
       "      <td>사상구</td>\n",
       "      <td>감전3</td>\n",
       "      <td>낙동대로 952 맞은편</td>\n",
       "      <td>50.0</td>\n",
       "      <td>49</td>\n",
       "      <td>273</td>\n",
       "      <td>내수배제</td>\n",
       "    </tr>\n",
       "    <tr>\n",
       "      <th>56</th>\n",
       "      <td>사상구</td>\n",
       "      <td>감전4</td>\n",
       "      <td>낙동대로 1024 맞은편</td>\n",
       "      <td>90.0</td>\n",
       "      <td>322</td>\n",
       "      <td>590</td>\n",
       "      <td>내수배제</td>\n",
       "    </tr>\n",
       "    <tr>\n",
       "      <th>57</th>\n",
       "      <td>사상구</td>\n",
       "      <td>엄궁1</td>\n",
       "      <td>강변대로 532번길 71</td>\n",
       "      <td>940.0</td>\n",
       "      <td>41089</td>\n",
       "      <td>90396</td>\n",
       "      <td>하천</td>\n",
       "    </tr>\n",
       "    <tr>\n",
       "      <th>58</th>\n",
       "      <td>사상구</td>\n",
       "      <td>엄궁2</td>\n",
       "      <td>강변대로 532번길 71</td>\n",
       "      <td>180.0</td>\n",
       "      <td>41089</td>\n",
       "      <td>90396</td>\n",
       "      <td>하천</td>\n",
       "    </tr>\n",
       "    <tr>\n",
       "      <th>59</th>\n",
       "      <td>사상구</td>\n",
       "      <td>엄궁3</td>\n",
       "      <td>강변대로 532번길 71</td>\n",
       "      <td>1700.0</td>\n",
       "      <td>41089</td>\n",
       "      <td>90396</td>\n",
       "      <td>하천</td>\n",
       "    </tr>\n",
       "    <tr>\n",
       "      <th>60</th>\n",
       "      <td>사상구</td>\n",
       "      <td>학장</td>\n",
       "      <td>농산물시장로 25번길 52-12</td>\n",
       "      <td>285.0</td>\n",
       "      <td>7440</td>\n",
       "      <td>16368</td>\n",
       "      <td>내수배제</td>\n",
       "    </tr>\n",
       "    <tr>\n",
       "      <th>61</th>\n",
       "      <td>사상구</td>\n",
       "      <td>감전천</td>\n",
       "      <td>낙동대로 1016번길 60</td>\n",
       "      <td>1370.0</td>\n",
       "      <td>1750</td>\n",
       "      <td>6500</td>\n",
       "      <td>하천</td>\n",
       "    </tr>\n",
       "  </tbody>\n",
       "</table>\n",
       "</div>"
      ],
      "text/plain": [
       "    시구군 배수펌프장명                 위치     배수량 유수지 면적  유수지 용량  배수방식\n",
       "53  사상구    감전1           낙동로 1097  1620.0  80182  176400    하천\n",
       "54  사상구    감전2           낙동로 1142  2640.0    NaN     NaN   NaN\n",
       "55  사상구    감전3       낙동대로 952 맞은편    50.0     49     273  내수배제\n",
       "56  사상구    감전4      낙동대로 1024 맞은편    90.0    322     590  내수배제\n",
       "57  사상구    엄궁1      강변대로 532번길 71   940.0  41089   90396    하천\n",
       "58  사상구    엄궁2      강변대로 532번길 71   180.0  41089   90396    하천\n",
       "59  사상구    엄궁3      강변대로 532번길 71  1700.0  41089   90396    하천\n",
       "60  사상구     학장  농산물시장로 25번길 52-12   285.0   7440   16368  내수배제\n",
       "61  사상구    감전천     낙동대로 1016번길 60  1370.0   1750    6500    하천"
      ]
     },
     "execution_count": 82,
     "metadata": {},
     "output_type": "execute_result"
    }
   ],
   "source": [
    "df_pump_re[df_pump_re.시구군 == '사상구']"
   ]
  },
  {
   "cell_type": "markdown",
   "metadata": {},
   "source": [
    "## 감전동 유수지 데이터 -> 널값 채우기 "
   ]
  },
  {
   "cell_type": "code",
   "execution_count": 83,
   "metadata": {
    "scrolled": true
   },
   "outputs": [
    {
     "data": {
      "text/html": [
       "<div>\n",
       "<style scoped>\n",
       "    .dataframe tbody tr th:only-of-type {\n",
       "        vertical-align: middle;\n",
       "    }\n",
       "\n",
       "    .dataframe tbody tr th {\n",
       "        vertical-align: top;\n",
       "    }\n",
       "\n",
       "    .dataframe thead th {\n",
       "        text-align: right;\n",
       "    }\n",
       "</style>\n",
       "<table border=\"1\" class=\"dataframe\">\n",
       "  <thead>\n",
       "    <tr style=\"text-align: right;\">\n",
       "      <th></th>\n",
       "      <th>시구군</th>\n",
       "      <th>배수펌프장명</th>\n",
       "      <th>위치</th>\n",
       "      <th>배수량</th>\n",
       "      <th>유수지 면적</th>\n",
       "      <th>유수지 용량</th>\n",
       "      <th>배수방식</th>\n",
       "    </tr>\n",
       "  </thead>\n",
       "  <tbody>\n",
       "    <tr>\n",
       "      <th>53</th>\n",
       "      <td>사상구</td>\n",
       "      <td>감전1</td>\n",
       "      <td>낙동로 1097</td>\n",
       "      <td>1620.0</td>\n",
       "      <td>80182</td>\n",
       "      <td>176400</td>\n",
       "      <td>하천</td>\n",
       "    </tr>\n",
       "    <tr>\n",
       "      <th>54</th>\n",
       "      <td>사상구</td>\n",
       "      <td>감전2</td>\n",
       "      <td>낙동로 1142</td>\n",
       "      <td>2640.0</td>\n",
       "      <td>NaN</td>\n",
       "      <td>NaN</td>\n",
       "      <td>NaN</td>\n",
       "    </tr>\n",
       "    <tr>\n",
       "      <th>55</th>\n",
       "      <td>사상구</td>\n",
       "      <td>감전3</td>\n",
       "      <td>낙동대로 952 맞은편</td>\n",
       "      <td>50.0</td>\n",
       "      <td>49</td>\n",
       "      <td>273</td>\n",
       "      <td>내수배제</td>\n",
       "    </tr>\n",
       "    <tr>\n",
       "      <th>56</th>\n",
       "      <td>사상구</td>\n",
       "      <td>감전4</td>\n",
       "      <td>낙동대로 1024 맞은편</td>\n",
       "      <td>90.0</td>\n",
       "      <td>322</td>\n",
       "      <td>590</td>\n",
       "      <td>내수배제</td>\n",
       "    </tr>\n",
       "    <tr>\n",
       "      <th>61</th>\n",
       "      <td>사상구</td>\n",
       "      <td>감전천</td>\n",
       "      <td>낙동대로 1016번길 60</td>\n",
       "      <td>1370.0</td>\n",
       "      <td>1750</td>\n",
       "      <td>6500</td>\n",
       "      <td>하천</td>\n",
       "    </tr>\n",
       "  </tbody>\n",
       "</table>\n",
       "</div>"
      ],
      "text/plain": [
       "    시구군 배수펌프장명              위치     배수량 유수지 면적  유수지 용량  배수방식\n",
       "53  사상구    감전1        낙동로 1097  1620.0  80182  176400    하천\n",
       "54  사상구    감전2        낙동로 1142  2640.0    NaN     NaN   NaN\n",
       "55  사상구    감전3    낙동대로 952 맞은편    50.0     49     273  내수배제\n",
       "56  사상구    감전4   낙동대로 1024 맞은편    90.0    322     590  내수배제\n",
       "61  사상구    감전천  낙동대로 1016번길 60  1370.0   1750    6500    하천"
      ]
     },
     "execution_count": 83,
     "metadata": {},
     "output_type": "execute_result"
    }
   ],
   "source": [
    "df_pump_re[df_pump_re['배수펌프장명'].str.startswith('감전')]"
   ]
  },
  {
   "cell_type": "code",
   "execution_count": 84,
   "metadata": {},
   "outputs": [],
   "source": [
    "# 잠전 2동은 1동과 같은위치 같은 용량으로 공지되어있음 \n",
    "df_pump_re['유수지 면적'][54] = '80182'\n",
    "df_pump_re['유수지 용량'][54] = '176400'\n",
    "df_pump_re.배수방식[54] = '하천'"
   ]
  },
  {
   "cell_type": "code",
   "execution_count": 85,
   "metadata": {},
   "outputs": [
    {
     "data": {
      "text/html": [
       "<div>\n",
       "<style scoped>\n",
       "    .dataframe tbody tr th:only-of-type {\n",
       "        vertical-align: middle;\n",
       "    }\n",
       "\n",
       "    .dataframe tbody tr th {\n",
       "        vertical-align: top;\n",
       "    }\n",
       "\n",
       "    .dataframe thead th {\n",
       "        text-align: right;\n",
       "    }\n",
       "</style>\n",
       "<table border=\"1\" class=\"dataframe\">\n",
       "  <thead>\n",
       "    <tr style=\"text-align: right;\">\n",
       "      <th></th>\n",
       "      <th>시구군</th>\n",
       "      <th>배수펌프장명</th>\n",
       "      <th>위치</th>\n",
       "      <th>배수량</th>\n",
       "      <th>유수지 면적</th>\n",
       "      <th>유수지 용량</th>\n",
       "      <th>배수방식</th>\n",
       "    </tr>\n",
       "  </thead>\n",
       "  <tbody>\n",
       "    <tr>\n",
       "      <th>53</th>\n",
       "      <td>사상구</td>\n",
       "      <td>감전1</td>\n",
       "      <td>낙동로 1097</td>\n",
       "      <td>1620.0</td>\n",
       "      <td>80182</td>\n",
       "      <td>176400</td>\n",
       "      <td>하천</td>\n",
       "    </tr>\n",
       "    <tr>\n",
       "      <th>54</th>\n",
       "      <td>사상구</td>\n",
       "      <td>감전2</td>\n",
       "      <td>낙동로 1142</td>\n",
       "      <td>2640.0</td>\n",
       "      <td>80182</td>\n",
       "      <td>176400</td>\n",
       "      <td>하천</td>\n",
       "    </tr>\n",
       "    <tr>\n",
       "      <th>55</th>\n",
       "      <td>사상구</td>\n",
       "      <td>감전3</td>\n",
       "      <td>낙동대로 952 맞은편</td>\n",
       "      <td>50.0</td>\n",
       "      <td>49</td>\n",
       "      <td>273</td>\n",
       "      <td>내수배제</td>\n",
       "    </tr>\n",
       "    <tr>\n",
       "      <th>56</th>\n",
       "      <td>사상구</td>\n",
       "      <td>감전4</td>\n",
       "      <td>낙동대로 1024 맞은편</td>\n",
       "      <td>90.0</td>\n",
       "      <td>322</td>\n",
       "      <td>590</td>\n",
       "      <td>내수배제</td>\n",
       "    </tr>\n",
       "    <tr>\n",
       "      <th>61</th>\n",
       "      <td>사상구</td>\n",
       "      <td>감전천</td>\n",
       "      <td>낙동대로 1016번길 60</td>\n",
       "      <td>1370.0</td>\n",
       "      <td>1750</td>\n",
       "      <td>6500</td>\n",
       "      <td>하천</td>\n",
       "    </tr>\n",
       "  </tbody>\n",
       "</table>\n",
       "</div>"
      ],
      "text/plain": [
       "    시구군 배수펌프장명              위치     배수량 유수지 면적  유수지 용량  배수방식\n",
       "53  사상구    감전1        낙동로 1097  1620.0  80182  176400    하천\n",
       "54  사상구    감전2        낙동로 1142  2640.0  80182  176400    하천\n",
       "55  사상구    감전3    낙동대로 952 맞은편    50.0     49     273  내수배제\n",
       "56  사상구    감전4   낙동대로 1024 맞은편    90.0    322     590  내수배제\n",
       "61  사상구    감전천  낙동대로 1016번길 60  1370.0   1750    6500    하천"
      ]
     },
     "execution_count": 85,
     "metadata": {},
     "output_type": "execute_result"
    }
   ],
   "source": [
    "df_pump_re[df_pump_re['배수펌프장명'].str.startswith('감전')]"
   ]
  },
  {
   "cell_type": "code",
   "execution_count": 86,
   "metadata": {},
   "outputs": [
    {
     "data": {
      "text/html": [
       "<div>\n",
       "<style scoped>\n",
       "    .dataframe tbody tr th:only-of-type {\n",
       "        vertical-align: middle;\n",
       "    }\n",
       "\n",
       "    .dataframe tbody tr th {\n",
       "        vertical-align: top;\n",
       "    }\n",
       "\n",
       "    .dataframe thead th {\n",
       "        text-align: right;\n",
       "    }\n",
       "</style>\n",
       "<table border=\"1\" class=\"dataframe\">\n",
       "  <thead>\n",
       "    <tr style=\"text-align: right;\">\n",
       "      <th></th>\n",
       "      <th>시구군</th>\n",
       "      <th>배수펌프장명</th>\n",
       "      <th>위치</th>\n",
       "      <th>배수량</th>\n",
       "      <th>유수지 면적</th>\n",
       "      <th>유수지 용량</th>\n",
       "      <th>배수방식</th>\n",
       "    </tr>\n",
       "  </thead>\n",
       "  <tbody>\n",
       "    <tr>\n",
       "      <th>0</th>\n",
       "      <td>동래구</td>\n",
       "      <td>명륜</td>\n",
       "      <td>온천천로 203</td>\n",
       "      <td>784.0</td>\n",
       "      <td>400</td>\n",
       "      <td>1200</td>\n",
       "      <td>내수배제</td>\n",
       "    </tr>\n",
       "    <tr>\n",
       "      <th>1</th>\n",
       "      <td>동래구</td>\n",
       "      <td>수안</td>\n",
       "      <td>명륜로 70</td>\n",
       "      <td>60.0</td>\n",
       "      <td>NaN</td>\n",
       "      <td>NaN</td>\n",
       "      <td>내수배제</td>\n",
       "    </tr>\n",
       "    <tr>\n",
       "      <th>2</th>\n",
       "      <td>동래구</td>\n",
       "      <td>낙민</td>\n",
       "      <td>온천천로 339번길28</td>\n",
       "      <td>40.0</td>\n",
       "      <td>NaN</td>\n",
       "      <td>NaN</td>\n",
       "      <td>내수배제</td>\n",
       "    </tr>\n",
       "    <tr>\n",
       "      <th>3</th>\n",
       "      <td>동구</td>\n",
       "      <td>자성대1</td>\n",
       "      <td>자성로140번길33</td>\n",
       "      <td>140.0</td>\n",
       "      <td>NaN</td>\n",
       "      <td>NaN</td>\n",
       "      <td>내수배제</td>\n",
       "    </tr>\n",
       "    <tr>\n",
       "      <th>4</th>\n",
       "      <td>동구</td>\n",
       "      <td>자성대2</td>\n",
       "      <td>자성로140번길36</td>\n",
       "      <td>300.0</td>\n",
       "      <td>NaN</td>\n",
       "      <td>NaN</td>\n",
       "      <td>내수배제</td>\n",
       "    </tr>\n",
       "    <tr>\n",
       "      <th>...</th>\n",
       "      <td>...</td>\n",
       "      <td>...</td>\n",
       "      <td>...</td>\n",
       "      <td>...</td>\n",
       "      <td>...</td>\n",
       "      <td>...</td>\n",
       "      <td>...</td>\n",
       "    </tr>\n",
       "    <tr>\n",
       "      <th>57</th>\n",
       "      <td>사상구</td>\n",
       "      <td>엄궁1</td>\n",
       "      <td>강변대로 532번길 71</td>\n",
       "      <td>940.0</td>\n",
       "      <td>41089</td>\n",
       "      <td>90396</td>\n",
       "      <td>하천</td>\n",
       "    </tr>\n",
       "    <tr>\n",
       "      <th>58</th>\n",
       "      <td>사상구</td>\n",
       "      <td>엄궁2</td>\n",
       "      <td>강변대로 532번길 71</td>\n",
       "      <td>180.0</td>\n",
       "      <td>41089</td>\n",
       "      <td>90396</td>\n",
       "      <td>하천</td>\n",
       "    </tr>\n",
       "    <tr>\n",
       "      <th>59</th>\n",
       "      <td>사상구</td>\n",
       "      <td>엄궁3</td>\n",
       "      <td>강변대로 532번길 71</td>\n",
       "      <td>1700.0</td>\n",
       "      <td>41089</td>\n",
       "      <td>90396</td>\n",
       "      <td>하천</td>\n",
       "    </tr>\n",
       "    <tr>\n",
       "      <th>60</th>\n",
       "      <td>사상구</td>\n",
       "      <td>학장</td>\n",
       "      <td>농산물시장로 25번길 52-12</td>\n",
       "      <td>285.0</td>\n",
       "      <td>7440</td>\n",
       "      <td>16368</td>\n",
       "      <td>내수배제</td>\n",
       "    </tr>\n",
       "    <tr>\n",
       "      <th>61</th>\n",
       "      <td>사상구</td>\n",
       "      <td>감전천</td>\n",
       "      <td>낙동대로 1016번길 60</td>\n",
       "      <td>1370.0</td>\n",
       "      <td>1750</td>\n",
       "      <td>6500</td>\n",
       "      <td>하천</td>\n",
       "    </tr>\n",
       "  </tbody>\n",
       "</table>\n",
       "<p>62 rows × 7 columns</p>\n",
       "</div>"
      ],
      "text/plain": [
       "    시구군 배수펌프장명                 위치     배수량 유수지 면적 유수지 용량  배수방식\n",
       "0   동래구     명륜           온천천로 203   784.0    400   1200  내수배제\n",
       "1   동래구     수안             명륜로 70    60.0    NaN    NaN  내수배제\n",
       "2   동래구     낙민       온천천로 339번길28    40.0    NaN    NaN  내수배제\n",
       "3    동구   자성대1         자성로140번길33   140.0    NaN    NaN  내수배제\n",
       "4    동구   자성대2         자성로140번길36   300.0    NaN    NaN  내수배제\n",
       "..  ...    ...                ...     ...    ...    ...   ...\n",
       "57  사상구    엄궁1      강변대로 532번길 71   940.0  41089  90396    하천\n",
       "58  사상구    엄궁2      강변대로 532번길 71   180.0  41089  90396    하천\n",
       "59  사상구    엄궁3      강변대로 532번길 71  1700.0  41089  90396    하천\n",
       "60  사상구     학장  농산물시장로 25번길 52-12   285.0   7440  16368  내수배제\n",
       "61  사상구    감전천     낙동대로 1016번길 60  1370.0   1750   6500    하천\n",
       "\n",
       "[62 rows x 7 columns]"
      ]
     },
     "execution_count": 86,
     "metadata": {},
     "output_type": "execute_result"
    }
   ],
   "source": [
    "df_pump_re"
   ]
  },
  {
   "cell_type": "code",
   "execution_count": 87,
   "metadata": {},
   "outputs": [
    {
     "data": {
      "text/html": [
       "<div>\n",
       "<style scoped>\n",
       "    .dataframe tbody tr th:only-of-type {\n",
       "        vertical-align: middle;\n",
       "    }\n",
       "\n",
       "    .dataframe tbody tr th {\n",
       "        vertical-align: top;\n",
       "    }\n",
       "\n",
       "    .dataframe thead th {\n",
       "        text-align: right;\n",
       "    }\n",
       "</style>\n",
       "<table border=\"1\" class=\"dataframe\">\n",
       "  <thead>\n",
       "    <tr style=\"text-align: right;\">\n",
       "      <th></th>\n",
       "      <th>시구군</th>\n",
       "      <th>배수펌프장명</th>\n",
       "      <th>위치</th>\n",
       "      <th>배수량</th>\n",
       "      <th>유수지 면적</th>\n",
       "      <th>유수지 용량</th>\n",
       "      <th>배수방식</th>\n",
       "    </tr>\n",
       "  </thead>\n",
       "  <tbody>\n",
       "    <tr>\n",
       "      <th>3</th>\n",
       "      <td>동구</td>\n",
       "      <td>자성대1</td>\n",
       "      <td>자성로140번길33</td>\n",
       "      <td>140.0</td>\n",
       "      <td>NaN</td>\n",
       "      <td>NaN</td>\n",
       "      <td>내수배제</td>\n",
       "    </tr>\n",
       "    <tr>\n",
       "      <th>4</th>\n",
       "      <td>동구</td>\n",
       "      <td>자성대2</td>\n",
       "      <td>자성로140번길36</td>\n",
       "      <td>300.0</td>\n",
       "      <td>NaN</td>\n",
       "      <td>NaN</td>\n",
       "      <td>내수배제</td>\n",
       "    </tr>\n",
       "  </tbody>\n",
       "</table>\n",
       "</div>"
      ],
      "text/plain": [
       "  시구군 배수펌프장명          위치    배수량 유수지 면적 유수지 용량  배수방식\n",
       "3  동구   자성대1  자성로140번길33  140.0    NaN    NaN  내수배제\n",
       "4  동구   자성대2  자성로140번길36  300.0    NaN    NaN  내수배제"
      ]
     },
     "execution_count": 87,
     "metadata": {},
     "output_type": "execute_result"
    }
   ],
   "source": [
    "df_pump_re[df_pump_re.시구군 == '동구']"
   ]
  },
  {
   "cell_type": "code",
   "execution_count": 88,
   "metadata": {},
   "outputs": [
    {
     "data": {
      "text/plain": [
       "강서구     19\n",
       "사상구      9\n",
       "해운대구     7\n",
       "남구       5\n",
       "사하구      4\n",
       "연제구      4\n",
       "기장군      3\n",
       "북구       3\n",
       "동래구      3\n",
       "동구       2\n",
       "금정구      1\n",
       "Name: 시구군, dtype: int64"
      ]
     },
     "execution_count": 88,
     "metadata": {},
     "output_type": "execute_result"
    }
   ],
   "source": [
    "df_pump_re.시구군.value_counts()"
   ]
  },
  {
   "cell_type": "code",
   "execution_count": 89,
   "metadata": {},
   "outputs": [
    {
     "data": {
      "text/html": [
       "<div>\n",
       "<style scoped>\n",
       "    .dataframe tbody tr th:only-of-type {\n",
       "        vertical-align: middle;\n",
       "    }\n",
       "\n",
       "    .dataframe tbody tr th {\n",
       "        vertical-align: top;\n",
       "    }\n",
       "\n",
       "    .dataframe thead th {\n",
       "        text-align: right;\n",
       "    }\n",
       "</style>\n",
       "<table border=\"1\" class=\"dataframe\">\n",
       "  <thead>\n",
       "    <tr style=\"text-align: right;\">\n",
       "      <th></th>\n",
       "      <th>시구군</th>\n",
       "      <th>배수펌프장명</th>\n",
       "      <th>위치</th>\n",
       "      <th>배수량</th>\n",
       "      <th>유수지 면적</th>\n",
       "      <th>유수지 용량</th>\n",
       "      <th>배수방식</th>\n",
       "    </tr>\n",
       "  </thead>\n",
       "  <tbody>\n",
       "    <tr>\n",
       "      <th>13</th>\n",
       "      <td>해운대구</td>\n",
       "      <td>춘천</td>\n",
       "      <td>해운대 해변로 209 번가길32</td>\n",
       "      <td>1070.0</td>\n",
       "      <td>1246</td>\n",
       "      <td>6000</td>\n",
       "      <td>내수배제</td>\n",
       "    </tr>\n",
       "    <tr>\n",
       "      <th>14</th>\n",
       "      <td>해운대구</td>\n",
       "      <td>반여1</td>\n",
       "      <td>수영강변대로 353</td>\n",
       "      <td>100.0</td>\n",
       "      <td>500</td>\n",
       "      <td>1700</td>\n",
       "      <td>내수배제</td>\n",
       "    </tr>\n",
       "    <tr>\n",
       "      <th>15</th>\n",
       "      <td>해운대구</td>\n",
       "      <td>반여2</td>\n",
       "      <td>수영강변대로 606</td>\n",
       "      <td>1460.0</td>\n",
       "      <td>1010</td>\n",
       "      <td>8500</td>\n",
       "      <td>내수배제</td>\n",
       "    </tr>\n",
       "    <tr>\n",
       "      <th>16</th>\n",
       "      <td>해운대구</td>\n",
       "      <td>반여3</td>\n",
       "      <td>선수촌로 119</td>\n",
       "      <td>44.0</td>\n",
       "      <td>38</td>\n",
       "      <td>75</td>\n",
       "      <td>내수배제</td>\n",
       "    </tr>\n",
       "    <tr>\n",
       "      <th>17</th>\n",
       "      <td>해운대구</td>\n",
       "      <td>송정1게이트</td>\n",
       "      <td>송정강변로 51</td>\n",
       "      <td>120.0</td>\n",
       "      <td>NaN</td>\n",
       "      <td>NaN</td>\n",
       "      <td>내수배제</td>\n",
       "    </tr>\n",
       "    <tr>\n",
       "      <th>18</th>\n",
       "      <td>해운대구</td>\n",
       "      <td>송정2게이트</td>\n",
       "      <td>송정중앙로 15번길 120-3</td>\n",
       "      <td>120.0</td>\n",
       "      <td>NaN</td>\n",
       "      <td>NaN</td>\n",
       "      <td>내수배제</td>\n",
       "    </tr>\n",
       "    <tr>\n",
       "      <th>19</th>\n",
       "      <td>해운대구</td>\n",
       "      <td>송정</td>\n",
       "      <td>해운대로 1100</td>\n",
       "      <td>120.0</td>\n",
       "      <td>600</td>\n",
       "      <td>1800</td>\n",
       "      <td>내수배제</td>\n",
       "    </tr>\n",
       "  </tbody>\n",
       "</table>\n",
       "</div>"
      ],
      "text/plain": [
       "     시구군  배수펌프장명                 위치     배수량 유수지 면적 유수지 용량  배수방식\n",
       "13  해운대구      춘천  해운대 해변로 209 번가길32  1070.0   1246   6000  내수배제\n",
       "14  해운대구     반여1         수영강변대로 353   100.0    500   1700  내수배제\n",
       "15  해운대구     반여2         수영강변대로 606  1460.0   1010   8500  내수배제\n",
       "16  해운대구     반여3           선수촌로 119    44.0     38     75  내수배제\n",
       "17  해운대구  송정1게이트           송정강변로 51   120.0    NaN    NaN  내수배제\n",
       "18  해운대구  송정2게이트   송정중앙로 15번길 120-3   120.0    NaN    NaN  내수배제\n",
       "19  해운대구      송정          해운대로 1100   120.0    600   1800  내수배제"
      ]
     },
     "execution_count": 89,
     "metadata": {},
     "output_type": "execute_result"
    }
   ],
   "source": [
    "df_pump_re[df_pump_re.시구군 == '해운대구']"
   ]
  },
  {
   "cell_type": "code",
   "execution_count": 90,
   "metadata": {},
   "outputs": [
    {
     "data": {
      "text/plain": [
       "Index(['강변대로 532번길 71', '금사동 545-9', '좌천리 242-28', '명지오션시티 1로 328',\n",
       "       '낙동대로 1024 맞은편', '생곡로 56-1', '이기대공원로 7', '구포만세길 10', '낙동대로 1016번길 60',\n",
       "       '온천천남로39옆', '을숙도대로 480번길40', '영강길 20', '낙동로 1142', '좌천리 241-2',\n",
       "       '수영강변대로 353', '녹산산업 북로221번길 17', '공항로 393번길 4', '낙동대로 952 맞은편',\n",
       "       '신선로 514', '낙동대로 1769', '전포대로 91번길47', '자성로140번길33', '경전철로 109',\n",
       "       '수영강변대로 606', '낙동남로 791', '용호동 261-5일원', '낙동로 1097', '금사동545-19',\n",
       "       '반송로 107', '제도로 1041번길 206', '거제천로269번길41', '온천천로 203',\n",
       "       '송정중앙로 15번길 120-3', '하신중앙로53번길65', '공항로 533번길 1', '명지국제11로85',\n",
       "       '범방동 341', '명지오션시티 13로 5', '중앙대로1164앞', '하신번영로243', '온천천로 339번길28',\n",
       "       '하단동 1163일원', '남동천로 8-2', '송정강변로 51', '길천리 190-36', '낙동대로 1739번길16',\n",
       "       '온천천남로110 (한양아파트)앞', '농산물시장로 25번길 52-12', '유통단지 1로7', '화전산업대로 232',\n",
       "       '해운대로 1100', '해운대 해변로 209 번가길32', '상덕로 49번길 47-38', '명륜로 70',\n",
       "       '자성로140번길36', '대저로 274번길 28', '식만로 131', '선수촌로 119', '가락대로 227',\n",
       "       '녹산동 49-1'],\n",
       "      dtype='object')"
      ]
     },
     "execution_count": 90,
     "metadata": {},
     "output_type": "execute_result"
    }
   ],
   "source": [
    "df_pump_re.위치.value_counts().keys()"
   ]
  },
  {
   "cell_type": "code",
   "execution_count": 91,
   "metadata": {},
   "outputs": [],
   "source": [
    "# df_pump_re.to_csv(path+'\\유수지현황.csv', sep=',', na_rep='NaN',encoding='utf-8-sig')"
   ]
  },
  {
   "cell_type": "markdown",
   "metadata": {},
   "source": [
    "## 유수지위경도 추가하고 위치데이터 변경"
   ]
  },
  {
   "cell_type": "code",
   "execution_count": 92,
   "metadata": {
    "scrolled": true
   },
   "outputs": [
    {
     "data": {
      "text/plain": [
       "['C:\\\\data\\\\srcdata',\n",
       " 'C:\\\\data\\\\데이터',\n",
       " 'C:\\\\data\\\\배수시설.csv',\n",
       " 'C:\\\\data\\\\배수지데이터.csv',\n",
       " 'C:\\\\data\\\\유수지위경도.csv',\n",
       " 'C:\\\\data\\\\유수지현황.csv',\n",
       " 'C:\\\\data\\\\펌프장및유수지현황.xlsx']"
      ]
     },
     "execution_count": 92,
     "metadata": {},
     "output_type": "execute_result"
    }
   ],
   "source": [
    "# 폴더 안에 데이터 확인 \n",
    "glob.glob(path+'*')"
   ]
  },
  {
   "cell_type": "code",
   "execution_count": 93,
   "metadata": {},
   "outputs": [
    {
     "data": {
      "text/plain": [
       "['C:\\\\data\\\\\\\\유수지위경도.csv']"
      ]
     },
     "execution_count": 93,
     "metadata": {},
     "output_type": "execute_result"
    }
   ],
   "source": [
    "path = r'C:\\data\\\\'\n",
    "data_path = glob.glob(path+'유수지위경도.csv')\n",
    "data_path"
   ]
  },
  {
   "cell_type": "code",
   "execution_count": 94,
   "metadata": {},
   "outputs": [
    {
     "data": {
      "text/html": [
       "<div>\n",
       "<style scoped>\n",
       "    .dataframe tbody tr th:only-of-type {\n",
       "        vertical-align: middle;\n",
       "    }\n",
       "\n",
       "    .dataframe tbody tr th {\n",
       "        vertical-align: top;\n",
       "    }\n",
       "\n",
       "    .dataframe thead th {\n",
       "        text-align: right;\n",
       "    }\n",
       "</style>\n",
       "<table border=\"1\" class=\"dataframe\">\n",
       "  <thead>\n",
       "    <tr style=\"text-align: right;\">\n",
       "      <th></th>\n",
       "      <th>위치</th>\n",
       "      <th>Latitude</th>\n",
       "      <th>Longitude</th>\n",
       "    </tr>\n",
       "  </thead>\n",
       "  <tbody>\n",
       "    <tr>\n",
       "      <th>0</th>\n",
       "      <td>온천천로 203</td>\n",
       "      <td>35.201620</td>\n",
       "      <td>129.079404</td>\n",
       "    </tr>\n",
       "    <tr>\n",
       "      <th>1</th>\n",
       "      <td>명륜로 70</td>\n",
       "      <td>NaN</td>\n",
       "      <td>NaN</td>\n",
       "    </tr>\n",
       "    <tr>\n",
       "      <th>2</th>\n",
       "      <td>온천천로 339번길28</td>\n",
       "      <td>35.195371</td>\n",
       "      <td>129.091783</td>\n",
       "    </tr>\n",
       "    <tr>\n",
       "      <th>3</th>\n",
       "      <td>자성로140번길33</td>\n",
       "      <td>NaN</td>\n",
       "      <td>NaN</td>\n",
       "    </tr>\n",
       "    <tr>\n",
       "      <th>4</th>\n",
       "      <td>자성로140번길36</td>\n",
       "      <td>NaN</td>\n",
       "      <td>NaN</td>\n",
       "    </tr>\n",
       "  </tbody>\n",
       "</table>\n",
       "</div>"
      ],
      "text/plain": [
       "             위치   Latitude   Longitude\n",
       "0      온천천로 203  35.201620  129.079404\n",
       "1        명륜로 70        NaN         NaN\n",
       "2  온천천로 339번길28  35.195371  129.091783\n",
       "3    자성로140번길33        NaN         NaN\n",
       "4    자성로140번길36        NaN         NaN"
      ]
     },
     "execution_count": 94,
     "metadata": {},
     "output_type": "execute_result"
    }
   ],
   "source": [
    "df_Location = pd.read_csv(data_path[0], encoding='euc-kr') # utf-8 에러 -> euc-kr 사용\n",
    "df_Location.head()"
   ]
  },
  {
   "cell_type": "code",
   "execution_count": 95,
   "metadata": {},
   "outputs": [
    {
     "data": {
      "text/plain": [
       "0              온천천로 203\n",
       "1                명륜로 70\n",
       "2          온천천로 339번길28\n",
       "3            자성로140번길33\n",
       "4            자성로140번길36\n",
       "            ...        \n",
       "57        강변대로 532번길 71\n",
       "58        강변대로 532번길 71\n",
       "59        강변대로 532번길 71\n",
       "60    농산물시장로 25번길 52-12\n",
       "61       낙동대로 1016번길 60\n",
       "Name: 위치, Length: 62, dtype: object"
      ]
     },
     "execution_count": 95,
     "metadata": {},
     "output_type": "execute_result"
    }
   ],
   "source": [
    "df_Location.위치"
   ]
  },
  {
   "cell_type": "code",
   "execution_count": 96,
   "metadata": {},
   "outputs": [
    {
     "data": {
      "text/html": [
       "<div>\n",
       "<style scoped>\n",
       "    .dataframe tbody tr th:only-of-type {\n",
       "        vertical-align: middle;\n",
       "    }\n",
       "\n",
       "    .dataframe tbody tr th {\n",
       "        vertical-align: top;\n",
       "    }\n",
       "\n",
       "    .dataframe thead th {\n",
       "        text-align: right;\n",
       "    }\n",
       "</style>\n",
       "<table border=\"1\" class=\"dataframe\">\n",
       "  <thead>\n",
       "    <tr style=\"text-align: right;\">\n",
       "      <th></th>\n",
       "      <th>시구군</th>\n",
       "      <th>배수펌프장명</th>\n",
       "      <th>위치</th>\n",
       "      <th>배수량</th>\n",
       "      <th>유수지 면적</th>\n",
       "      <th>유수지 용량</th>\n",
       "      <th>배수방식</th>\n",
       "    </tr>\n",
       "  </thead>\n",
       "  <tbody>\n",
       "    <tr>\n",
       "      <th>0</th>\n",
       "      <td>동래구</td>\n",
       "      <td>명륜</td>\n",
       "      <td>온천천로 203</td>\n",
       "      <td>784.0</td>\n",
       "      <td>400</td>\n",
       "      <td>1200</td>\n",
       "      <td>내수배제</td>\n",
       "    </tr>\n",
       "    <tr>\n",
       "      <th>1</th>\n",
       "      <td>동래구</td>\n",
       "      <td>수안</td>\n",
       "      <td>명륜로 70</td>\n",
       "      <td>60.0</td>\n",
       "      <td>NaN</td>\n",
       "      <td>NaN</td>\n",
       "      <td>내수배제</td>\n",
       "    </tr>\n",
       "    <tr>\n",
       "      <th>2</th>\n",
       "      <td>동래구</td>\n",
       "      <td>낙민</td>\n",
       "      <td>온천천로 339번길28</td>\n",
       "      <td>40.0</td>\n",
       "      <td>NaN</td>\n",
       "      <td>NaN</td>\n",
       "      <td>내수배제</td>\n",
       "    </tr>\n",
       "    <tr>\n",
       "      <th>3</th>\n",
       "      <td>동구</td>\n",
       "      <td>자성대1</td>\n",
       "      <td>자성로140번길33</td>\n",
       "      <td>140.0</td>\n",
       "      <td>NaN</td>\n",
       "      <td>NaN</td>\n",
       "      <td>내수배제</td>\n",
       "    </tr>\n",
       "    <tr>\n",
       "      <th>4</th>\n",
       "      <td>동구</td>\n",
       "      <td>자성대2</td>\n",
       "      <td>자성로140번길36</td>\n",
       "      <td>300.0</td>\n",
       "      <td>NaN</td>\n",
       "      <td>NaN</td>\n",
       "      <td>내수배제</td>\n",
       "    </tr>\n",
       "    <tr>\n",
       "      <th>...</th>\n",
       "      <td>...</td>\n",
       "      <td>...</td>\n",
       "      <td>...</td>\n",
       "      <td>...</td>\n",
       "      <td>...</td>\n",
       "      <td>...</td>\n",
       "      <td>...</td>\n",
       "    </tr>\n",
       "    <tr>\n",
       "      <th>57</th>\n",
       "      <td>사상구</td>\n",
       "      <td>엄궁1</td>\n",
       "      <td>강변대로 532번길 71</td>\n",
       "      <td>940.0</td>\n",
       "      <td>41089</td>\n",
       "      <td>90396</td>\n",
       "      <td>하천</td>\n",
       "    </tr>\n",
       "    <tr>\n",
       "      <th>58</th>\n",
       "      <td>사상구</td>\n",
       "      <td>엄궁2</td>\n",
       "      <td>강변대로 532번길 71</td>\n",
       "      <td>180.0</td>\n",
       "      <td>41089</td>\n",
       "      <td>90396</td>\n",
       "      <td>하천</td>\n",
       "    </tr>\n",
       "    <tr>\n",
       "      <th>59</th>\n",
       "      <td>사상구</td>\n",
       "      <td>엄궁3</td>\n",
       "      <td>강변대로 532번길 71</td>\n",
       "      <td>1700.0</td>\n",
       "      <td>41089</td>\n",
       "      <td>90396</td>\n",
       "      <td>하천</td>\n",
       "    </tr>\n",
       "    <tr>\n",
       "      <th>60</th>\n",
       "      <td>사상구</td>\n",
       "      <td>학장</td>\n",
       "      <td>농산물시장로 25번길 52-12</td>\n",
       "      <td>285.0</td>\n",
       "      <td>7440</td>\n",
       "      <td>16368</td>\n",
       "      <td>내수배제</td>\n",
       "    </tr>\n",
       "    <tr>\n",
       "      <th>61</th>\n",
       "      <td>사상구</td>\n",
       "      <td>감전천</td>\n",
       "      <td>낙동대로 1016번길 60</td>\n",
       "      <td>1370.0</td>\n",
       "      <td>1750</td>\n",
       "      <td>6500</td>\n",
       "      <td>하천</td>\n",
       "    </tr>\n",
       "  </tbody>\n",
       "</table>\n",
       "<p>62 rows × 7 columns</p>\n",
       "</div>"
      ],
      "text/plain": [
       "    시구군 배수펌프장명                 위치     배수량 유수지 면적 유수지 용량  배수방식\n",
       "0   동래구     명륜           온천천로 203   784.0    400   1200  내수배제\n",
       "1   동래구     수안             명륜로 70    60.0    NaN    NaN  내수배제\n",
       "2   동래구     낙민       온천천로 339번길28    40.0    NaN    NaN  내수배제\n",
       "3    동구   자성대1         자성로140번길33   140.0    NaN    NaN  내수배제\n",
       "4    동구   자성대2         자성로140번길36   300.0    NaN    NaN  내수배제\n",
       "..  ...    ...                ...     ...    ...    ...   ...\n",
       "57  사상구    엄궁1      강변대로 532번길 71   940.0  41089  90396    하천\n",
       "58  사상구    엄궁2      강변대로 532번길 71   180.0  41089  90396    하천\n",
       "59  사상구    엄궁3      강변대로 532번길 71  1700.0  41089  90396    하천\n",
       "60  사상구     학장  농산물시장로 25번길 52-12   285.0   7440  16368  내수배제\n",
       "61  사상구    감전천     낙동대로 1016번길 60  1370.0   1750   6500    하천\n",
       "\n",
       "[62 rows x 7 columns]"
      ]
     },
     "execution_count": 96,
     "metadata": {},
     "output_type": "execute_result"
    }
   ],
   "source": [
    "df_pump_re"
   ]
  },
  {
   "cell_type": "code",
   "execution_count": 97,
   "metadata": {},
   "outputs": [],
   "source": [
    "df_pump_re.위치 = df_Location.위치"
   ]
  },
  {
   "cell_type": "code",
   "execution_count": 98,
   "metadata": {},
   "outputs": [],
   "source": [
    "df_pump_re['위도'] = df_Location.Latitude\n",
    "df_pump_re['경도'] = df_Location.Longitude"
   ]
  },
  {
   "cell_type": "code",
   "execution_count": 99,
   "metadata": {},
   "outputs": [
    {
     "data": {
      "text/plain": [
       "Index(['시구군', '배수펌프장명', '위치', '배수량', '유수지 면적', '유수지 용량', '배수방식', '위도', '경도'], dtype='object')"
      ]
     },
     "execution_count": 99,
     "metadata": {},
     "output_type": "execute_result"
    }
   ],
   "source": [
    "df_pump_re.columns"
   ]
  },
  {
   "cell_type": "code",
   "execution_count": 100,
   "metadata": {
    "scrolled": true
   },
   "outputs": [],
   "source": [
    "df_pump_re = df_pump_re[['시구군', '배수펌프장명', '배수량', '유수지 면적', '유수지 용량', '배수방식','위치', '위도', '경도']]"
   ]
  },
  {
   "cell_type": "code",
   "execution_count": 101,
   "metadata": {
    "scrolled": true
   },
   "outputs": [
    {
     "data": {
      "text/html": [
       "<div>\n",
       "<style scoped>\n",
       "    .dataframe tbody tr th:only-of-type {\n",
       "        vertical-align: middle;\n",
       "    }\n",
       "\n",
       "    .dataframe tbody tr th {\n",
       "        vertical-align: top;\n",
       "    }\n",
       "\n",
       "    .dataframe thead th {\n",
       "        text-align: right;\n",
       "    }\n",
       "</style>\n",
       "<table border=\"1\" class=\"dataframe\">\n",
       "  <thead>\n",
       "    <tr style=\"text-align: right;\">\n",
       "      <th></th>\n",
       "      <th>시구군</th>\n",
       "      <th>배수펌프장명</th>\n",
       "      <th>배수량</th>\n",
       "      <th>유수지 면적</th>\n",
       "      <th>유수지 용량</th>\n",
       "      <th>배수방식</th>\n",
       "      <th>위치</th>\n",
       "      <th>위도</th>\n",
       "      <th>경도</th>\n",
       "    </tr>\n",
       "  </thead>\n",
       "  <tbody>\n",
       "    <tr>\n",
       "      <th>0</th>\n",
       "      <td>동래구</td>\n",
       "      <td>명륜</td>\n",
       "      <td>784.0</td>\n",
       "      <td>400</td>\n",
       "      <td>1200</td>\n",
       "      <td>내수배제</td>\n",
       "      <td>온천천로 203</td>\n",
       "      <td>35.201620</td>\n",
       "      <td>129.079404</td>\n",
       "    </tr>\n",
       "    <tr>\n",
       "      <th>1</th>\n",
       "      <td>동래구</td>\n",
       "      <td>수안</td>\n",
       "      <td>60.0</td>\n",
       "      <td>NaN</td>\n",
       "      <td>NaN</td>\n",
       "      <td>내수배제</td>\n",
       "      <td>명륜로 70</td>\n",
       "      <td>NaN</td>\n",
       "      <td>NaN</td>\n",
       "    </tr>\n",
       "    <tr>\n",
       "      <th>2</th>\n",
       "      <td>동래구</td>\n",
       "      <td>낙민</td>\n",
       "      <td>40.0</td>\n",
       "      <td>NaN</td>\n",
       "      <td>NaN</td>\n",
       "      <td>내수배제</td>\n",
       "      <td>온천천로 339번길28</td>\n",
       "      <td>35.195371</td>\n",
       "      <td>129.091783</td>\n",
       "    </tr>\n",
       "    <tr>\n",
       "      <th>3</th>\n",
       "      <td>동구</td>\n",
       "      <td>자성대1</td>\n",
       "      <td>140.0</td>\n",
       "      <td>NaN</td>\n",
       "      <td>NaN</td>\n",
       "      <td>내수배제</td>\n",
       "      <td>자성로140번길33</td>\n",
       "      <td>NaN</td>\n",
       "      <td>NaN</td>\n",
       "    </tr>\n",
       "    <tr>\n",
       "      <th>4</th>\n",
       "      <td>동구</td>\n",
       "      <td>자성대2</td>\n",
       "      <td>300.0</td>\n",
       "      <td>NaN</td>\n",
       "      <td>NaN</td>\n",
       "      <td>내수배제</td>\n",
       "      <td>자성로140번길36</td>\n",
       "      <td>NaN</td>\n",
       "      <td>NaN</td>\n",
       "    </tr>\n",
       "    <tr>\n",
       "      <th>...</th>\n",
       "      <td>...</td>\n",
       "      <td>...</td>\n",
       "      <td>...</td>\n",
       "      <td>...</td>\n",
       "      <td>...</td>\n",
       "      <td>...</td>\n",
       "      <td>...</td>\n",
       "      <td>...</td>\n",
       "      <td>...</td>\n",
       "    </tr>\n",
       "    <tr>\n",
       "      <th>57</th>\n",
       "      <td>사상구</td>\n",
       "      <td>엄궁1</td>\n",
       "      <td>940.0</td>\n",
       "      <td>41089</td>\n",
       "      <td>90396</td>\n",
       "      <td>하천</td>\n",
       "      <td>강변대로 532번길 71</td>\n",
       "      <td>35.130758</td>\n",
       "      <td>128.970066</td>\n",
       "    </tr>\n",
       "    <tr>\n",
       "      <th>58</th>\n",
       "      <td>사상구</td>\n",
       "      <td>엄궁2</td>\n",
       "      <td>180.0</td>\n",
       "      <td>41089</td>\n",
       "      <td>90396</td>\n",
       "      <td>하천</td>\n",
       "      <td>강변대로 532번길 71</td>\n",
       "      <td>35.130758</td>\n",
       "      <td>128.970066</td>\n",
       "    </tr>\n",
       "    <tr>\n",
       "      <th>59</th>\n",
       "      <td>사상구</td>\n",
       "      <td>엄궁3</td>\n",
       "      <td>1700.0</td>\n",
       "      <td>41089</td>\n",
       "      <td>90396</td>\n",
       "      <td>하천</td>\n",
       "      <td>강변대로 532번길 71</td>\n",
       "      <td>35.130758</td>\n",
       "      <td>128.970066</td>\n",
       "    </tr>\n",
       "    <tr>\n",
       "      <th>60</th>\n",
       "      <td>사상구</td>\n",
       "      <td>학장</td>\n",
       "      <td>285.0</td>\n",
       "      <td>7440</td>\n",
       "      <td>16368</td>\n",
       "      <td>내수배제</td>\n",
       "      <td>농산물시장로 25번길 52-12</td>\n",
       "      <td>35.128991</td>\n",
       "      <td>128.967722</td>\n",
       "    </tr>\n",
       "    <tr>\n",
       "      <th>61</th>\n",
       "      <td>사상구</td>\n",
       "      <td>감전천</td>\n",
       "      <td>1370.0</td>\n",
       "      <td>1750</td>\n",
       "      <td>6500</td>\n",
       "      <td>하천</td>\n",
       "      <td>낙동대로 1016번길 60</td>\n",
       "      <td>NaN</td>\n",
       "      <td>NaN</td>\n",
       "    </tr>\n",
       "  </tbody>\n",
       "</table>\n",
       "<p>62 rows × 9 columns</p>\n",
       "</div>"
      ],
      "text/plain": [
       "    시구군 배수펌프장명     배수량 유수지 면적 유수지 용량  배수방식                 위치         위도  \\\n",
       "0   동래구     명륜   784.0    400   1200  내수배제           온천천로 203  35.201620   \n",
       "1   동래구     수안    60.0    NaN    NaN  내수배제             명륜로 70        NaN   \n",
       "2   동래구     낙민    40.0    NaN    NaN  내수배제       온천천로 339번길28  35.195371   \n",
       "3    동구   자성대1   140.0    NaN    NaN  내수배제         자성로140번길33        NaN   \n",
       "4    동구   자성대2   300.0    NaN    NaN  내수배제         자성로140번길36        NaN   \n",
       "..  ...    ...     ...    ...    ...   ...                ...        ...   \n",
       "57  사상구    엄궁1   940.0  41089  90396    하천      강변대로 532번길 71  35.130758   \n",
       "58  사상구    엄궁2   180.0  41089  90396    하천      강변대로 532번길 71  35.130758   \n",
       "59  사상구    엄궁3  1700.0  41089  90396    하천      강변대로 532번길 71  35.130758   \n",
       "60  사상구     학장   285.0   7440  16368  내수배제  농산물시장로 25번길 52-12  35.128991   \n",
       "61  사상구    감전천  1370.0   1750   6500    하천     낙동대로 1016번길 60        NaN   \n",
       "\n",
       "            경도  \n",
       "0   129.079404  \n",
       "1          NaN  \n",
       "2   129.091783  \n",
       "3          NaN  \n",
       "4          NaN  \n",
       "..         ...  \n",
       "57  128.970066  \n",
       "58  128.970066  \n",
       "59  128.970066  \n",
       "60  128.967722  \n",
       "61         NaN  \n",
       "\n",
       "[62 rows x 9 columns]"
      ]
     },
     "execution_count": 101,
     "metadata": {},
     "output_type": "execute_result"
    }
   ],
   "source": [
    "df_pump_re"
   ]
  },
  {
   "cell_type": "code",
   "execution_count": 102,
   "metadata": {},
   "outputs": [
    {
     "data": {
      "application/vnd.plotly.v1+json": {
       "config": {
        "plotlyServerURL": "https://plot.ly"
       },
       "data": [
        {
         "customdata": [
          [
           400,
           1200
          ],
          [
           "NaN",
           "NaN"
          ],
          [
           "NaN",
           "NaN"
          ],
          [
           "NaN",
           "NaN"
          ],
          [
           "NaN",
           "NaN"
          ],
          [
           2236,
           2236
          ],
          [
           128,
           128
          ],
          [
           232,
           232
          ],
          [
           760,
           3800
          ],
          [
           483,
           1111
          ],
          [
           11600,
           29000
          ],
          [
           310,
           775
          ],
          [
           246,
           246
          ],
          [
           1246,
           6000
          ],
          [
           500,
           1700
          ],
          [
           1010,
           8500
          ],
          [
           38,
           75
          ],
          [
           "NaN",
           "NaN"
          ],
          [
           "NaN",
           "NaN"
          ],
          [
           600,
           1800
          ],
          [
           56500,
           72800
          ],
          [
           7030,
           21090
          ],
          [
           6268,
           18804
          ],
          [
           "NaN",
           "NaN"
          ],
          [
           10,
           61
          ],
          [
           "NaN",
           "NaN"
          ],
          [
           null,
           null
          ],
          [
           "NaN",
           "NaN"
          ],
          [
           "NaN",
           "NaN"
          ],
          [
           "NaN",
           "NaN"
          ],
          [
           "NaN",
           "NaN"
          ],
          [
           38,
           96
          ],
          [
           2200,
           4840
          ],
          [
           109,
           306
          ],
          [
           15000,
           15500
          ],
          [
           3000,
           10000
          ],
          [
           840,
           924
          ],
          [
           4500,
           9000
          ],
          [
           "NaN",
           "NaN"
          ],
          [
           8515,
           15327
          ],
          [
           "NaN",
           "NaN"
          ],
          [
           "NaN",
           "NaN"
          ],
          [
           8000,
           16000
          ],
          [
           2600,
           5200
          ],
          [
           1500,
           3000
          ],
          [
           "NaN",
           "NaN"
          ],
          [
           865,
           1300
          ],
          [
           220,
           220
          ],
          [
           4800,
           12000
          ],
          [
           "NaN",
           "NaN"
          ],
          [
           32,
           32
          ],
          [
           1233,
           1850
          ],
          [
           3900,
           10646
          ],
          [
           "80182",
           "176400"
          ],
          [
           "80182",
           "176400"
          ],
          [
           49,
           273
          ],
          [
           322,
           590
          ],
          [
           "41089",
           "90396"
          ],
          [
           "41089",
           "90396"
          ],
          [
           "41089",
           "90396"
          ],
          [
           7440,
           16368
          ],
          [
           1750,
           6500
          ]
         ],
         "hovertemplate": "<b>%{hovertext}</b><br><br>위도=%{lat}<br>경도=%{lon}<br>유수지 면적=%{customdata[0]}<br>유수지 용량=%{customdata[1]}<extra></extra>",
         "hovertext": [
          "명륜",
          "수안",
          "낙민",
          "자성대1",
          "자성대2",
          "동천1",
          "동천2",
          "송선마을",
          "용호",
          "삼성시장",
          "덕천",
          "구포",
          "구남",
          "춘천",
          "반여1",
          "반여2",
          "반여3",
          "송정1게이트",
          "송정2게이트",
          "송정",
          "장림1",
          "장림2",
          "하단1",
          "하단2",
          "연산9동",
          "거제",
          "거제",
          "연산4동",
          "신금로",
          "금사",
          "서금사",
          "길천",
          "장안",
          "장안(간이펌프)",
          "송정",
          "하신",
          "명지",
          "방근",
          "신포",
          "대저",
          "맥도",
          "녹산",
          "본녹산",
          "식만",
          "성산",
          "중덕",
          "상덕",
          "사덕",
          "동방",
          "작지",
          "성산마을",
          "범방",
          "명지동진",
          "감전1",
          "감전2",
          "감전3",
          "감전4",
          "엄궁1",
          "엄궁2",
          "엄궁3",
          "학장",
          "감전천"
         ],
         "lat": [
          35.2016201,
          null,
          35.195370700000005,
          null,
          null,
          35.1443594,
          35.1377265,
          35.115885600000006,
          35.1245642,
          35.115512100000004,
          35.2104383,
          35.2097476,
          35.201674,
          35.1591989,
          35.190084999999996,
          35.2114247,
          35.2040857,
          35.1860607,
          35.1880885,
          35.1833485,
          35.0820731,
          35.0820731,
          35.103132099999996,
          35.106553000000005,
          35.1897632,
          35.2396264,
          35.193779600000006,
          35.1912601,
          35.1924833,
          35.217183299999995,
          35.2217573,
          35.3271315,
          35.3119657,
          35.3167511,
          null,
          35.089601200000004,
          35.0875159,
          35.099366100000005,
          35.1076076,
          35.189068,
          35.1545348,
          35.120309999999996,
          35.1096957,
          35.2061616,
          35.1257665,
          null,
          35.1938343,
          35.212589,
          35.167225200000004,
          35.144506,
          35.1266126,
          35.150903799999995,
          35.0998348,
          null,
          null,
          null,
          null,
          35.1307584,
          35.1307584,
          35.1307584,
          35.1289906,
          null
         ],
         "legendgroup": "",
         "lon": [
          129.07940359999998,
          null,
          129.09178300000002,
          null,
          null,
          129.06425910000002,
          129.0666779,
          129.0908752,
          129.11349950000002,
          129.115598,
          129.0016891,
          129.0030161,
          128.9966781,
          129.1571755,
          129.115819,
          129.12180990000002,
          129.11985959999998,
          129.2048807,
          129.2058955,
          129.201155,
          128.95731940000002,
          128.95731940000002,
          128.9568142,
          128.9574904,
          129.1053012,
          128.666459,
          129.0860957,
          129.0807675,
          129.0951153,
          129.11852040000002,
          129.1085754,
          129.2819705,
          129.2459987,
          129.2369435,
          null,
          128.8967667,
          128.9128811,
          128.8483133,
          128.9293449,
          128.960064,
          128.9543766,
          128.89731809999998,
          128.88926750000002,
          128.9070552,
          128.8986079,
          null,
          128.9064306,
          128.9818722,
          128.9549869,
          128.94776570000002,
          128.8586633,
          128.8815765,
          128.928286,
          null,
          null,
          null,
          null,
          128.9700659,
          128.9700659,
          128.9700659,
          128.9677221,
          null
         ],
         "marker": {
          "color": "#FF6692"
         },
         "mode": "markers",
         "name": "",
         "showlegend": false,
         "subplot": "mapbox",
         "type": "scattermapbox"
        }
       ],
       "layout": {
        "height": 600,
        "legend": {
         "tracegroupgap": 0
        },
        "mapbox": {
         "center": {
          "lat": 35.1665600423077,
          "lon": 129.0199281096154
         },
         "domain": {
          "x": [
           0,
           1
          ],
          "y": [
           0,
           1
          ]
         },
         "style": "open-street-map",
         "zoom": 11
        },
        "margin": {
         "b": 0,
         "l": 0,
         "r": 0,
         "t": 0
        },
        "template": {
         "data": {
          "bar": [
           {
            "error_x": {
             "color": "#2a3f5f"
            },
            "error_y": {
             "color": "#2a3f5f"
            },
            "marker": {
             "line": {
              "color": "#E5ECF6",
              "width": 0.5
             }
            },
            "type": "bar"
           }
          ],
          "barpolar": [
           {
            "marker": {
             "line": {
              "color": "#E5ECF6",
              "width": 0.5
             }
            },
            "type": "barpolar"
           }
          ],
          "carpet": [
           {
            "aaxis": {
             "endlinecolor": "#2a3f5f",
             "gridcolor": "white",
             "linecolor": "white",
             "minorgridcolor": "white",
             "startlinecolor": "#2a3f5f"
            },
            "baxis": {
             "endlinecolor": "#2a3f5f",
             "gridcolor": "white",
             "linecolor": "white",
             "minorgridcolor": "white",
             "startlinecolor": "#2a3f5f"
            },
            "type": "carpet"
           }
          ],
          "choropleth": [
           {
            "colorbar": {
             "outlinewidth": 0,
             "ticks": ""
            },
            "type": "choropleth"
           }
          ],
          "contour": [
           {
            "colorbar": {
             "outlinewidth": 0,
             "ticks": ""
            },
            "colorscale": [
             [
              0,
              "#0d0887"
             ],
             [
              0.1111111111111111,
              "#46039f"
             ],
             [
              0.2222222222222222,
              "#7201a8"
             ],
             [
              0.3333333333333333,
              "#9c179e"
             ],
             [
              0.4444444444444444,
              "#bd3786"
             ],
             [
              0.5555555555555556,
              "#d8576b"
             ],
             [
              0.6666666666666666,
              "#ed7953"
             ],
             [
              0.7777777777777778,
              "#fb9f3a"
             ],
             [
              0.8888888888888888,
              "#fdca26"
             ],
             [
              1,
              "#f0f921"
             ]
            ],
            "type": "contour"
           }
          ],
          "contourcarpet": [
           {
            "colorbar": {
             "outlinewidth": 0,
             "ticks": ""
            },
            "type": "contourcarpet"
           }
          ],
          "heatmap": [
           {
            "colorbar": {
             "outlinewidth": 0,
             "ticks": ""
            },
            "colorscale": [
             [
              0,
              "#0d0887"
             ],
             [
              0.1111111111111111,
              "#46039f"
             ],
             [
              0.2222222222222222,
              "#7201a8"
             ],
             [
              0.3333333333333333,
              "#9c179e"
             ],
             [
              0.4444444444444444,
              "#bd3786"
             ],
             [
              0.5555555555555556,
              "#d8576b"
             ],
             [
              0.6666666666666666,
              "#ed7953"
             ],
             [
              0.7777777777777778,
              "#fb9f3a"
             ],
             [
              0.8888888888888888,
              "#fdca26"
             ],
             [
              1,
              "#f0f921"
             ]
            ],
            "type": "heatmap"
           }
          ],
          "heatmapgl": [
           {
            "colorbar": {
             "outlinewidth": 0,
             "ticks": ""
            },
            "colorscale": [
             [
              0,
              "#0d0887"
             ],
             [
              0.1111111111111111,
              "#46039f"
             ],
             [
              0.2222222222222222,
              "#7201a8"
             ],
             [
              0.3333333333333333,
              "#9c179e"
             ],
             [
              0.4444444444444444,
              "#bd3786"
             ],
             [
              0.5555555555555556,
              "#d8576b"
             ],
             [
              0.6666666666666666,
              "#ed7953"
             ],
             [
              0.7777777777777778,
              "#fb9f3a"
             ],
             [
              0.8888888888888888,
              "#fdca26"
             ],
             [
              1,
              "#f0f921"
             ]
            ],
            "type": "heatmapgl"
           }
          ],
          "histogram": [
           {
            "marker": {
             "colorbar": {
              "outlinewidth": 0,
              "ticks": ""
             }
            },
            "type": "histogram"
           }
          ],
          "histogram2d": [
           {
            "colorbar": {
             "outlinewidth": 0,
             "ticks": ""
            },
            "colorscale": [
             [
              0,
              "#0d0887"
             ],
             [
              0.1111111111111111,
              "#46039f"
             ],
             [
              0.2222222222222222,
              "#7201a8"
             ],
             [
              0.3333333333333333,
              "#9c179e"
             ],
             [
              0.4444444444444444,
              "#bd3786"
             ],
             [
              0.5555555555555556,
              "#d8576b"
             ],
             [
              0.6666666666666666,
              "#ed7953"
             ],
             [
              0.7777777777777778,
              "#fb9f3a"
             ],
             [
              0.8888888888888888,
              "#fdca26"
             ],
             [
              1,
              "#f0f921"
             ]
            ],
            "type": "histogram2d"
           }
          ],
          "histogram2dcontour": [
           {
            "colorbar": {
             "outlinewidth": 0,
             "ticks": ""
            },
            "colorscale": [
             [
              0,
              "#0d0887"
             ],
             [
              0.1111111111111111,
              "#46039f"
             ],
             [
              0.2222222222222222,
              "#7201a8"
             ],
             [
              0.3333333333333333,
              "#9c179e"
             ],
             [
              0.4444444444444444,
              "#bd3786"
             ],
             [
              0.5555555555555556,
              "#d8576b"
             ],
             [
              0.6666666666666666,
              "#ed7953"
             ],
             [
              0.7777777777777778,
              "#fb9f3a"
             ],
             [
              0.8888888888888888,
              "#fdca26"
             ],
             [
              1,
              "#f0f921"
             ]
            ],
            "type": "histogram2dcontour"
           }
          ],
          "mesh3d": [
           {
            "colorbar": {
             "outlinewidth": 0,
             "ticks": ""
            },
            "type": "mesh3d"
           }
          ],
          "parcoords": [
           {
            "line": {
             "colorbar": {
              "outlinewidth": 0,
              "ticks": ""
             }
            },
            "type": "parcoords"
           }
          ],
          "pie": [
           {
            "automargin": true,
            "type": "pie"
           }
          ],
          "scatter": [
           {
            "marker": {
             "colorbar": {
              "outlinewidth": 0,
              "ticks": ""
             }
            },
            "type": "scatter"
           }
          ],
          "scatter3d": [
           {
            "line": {
             "colorbar": {
              "outlinewidth": 0,
              "ticks": ""
             }
            },
            "marker": {
             "colorbar": {
              "outlinewidth": 0,
              "ticks": ""
             }
            },
            "type": "scatter3d"
           }
          ],
          "scattercarpet": [
           {
            "marker": {
             "colorbar": {
              "outlinewidth": 0,
              "ticks": ""
             }
            },
            "type": "scattercarpet"
           }
          ],
          "scattergeo": [
           {
            "marker": {
             "colorbar": {
              "outlinewidth": 0,
              "ticks": ""
             }
            },
            "type": "scattergeo"
           }
          ],
          "scattergl": [
           {
            "marker": {
             "colorbar": {
              "outlinewidth": 0,
              "ticks": ""
             }
            },
            "type": "scattergl"
           }
          ],
          "scattermapbox": [
           {
            "marker": {
             "colorbar": {
              "outlinewidth": 0,
              "ticks": ""
             }
            },
            "type": "scattermapbox"
           }
          ],
          "scatterpolar": [
           {
            "marker": {
             "colorbar": {
              "outlinewidth": 0,
              "ticks": ""
             }
            },
            "type": "scatterpolar"
           }
          ],
          "scatterpolargl": [
           {
            "marker": {
             "colorbar": {
              "outlinewidth": 0,
              "ticks": ""
             }
            },
            "type": "scatterpolargl"
           }
          ],
          "scatterternary": [
           {
            "marker": {
             "colorbar": {
              "outlinewidth": 0,
              "ticks": ""
             }
            },
            "type": "scatterternary"
           }
          ],
          "surface": [
           {
            "colorbar": {
             "outlinewidth": 0,
             "ticks": ""
            },
            "colorscale": [
             [
              0,
              "#0d0887"
             ],
             [
              0.1111111111111111,
              "#46039f"
             ],
             [
              0.2222222222222222,
              "#7201a8"
             ],
             [
              0.3333333333333333,
              "#9c179e"
             ],
             [
              0.4444444444444444,
              "#bd3786"
             ],
             [
              0.5555555555555556,
              "#d8576b"
             ],
             [
              0.6666666666666666,
              "#ed7953"
             ],
             [
              0.7777777777777778,
              "#fb9f3a"
             ],
             [
              0.8888888888888888,
              "#fdca26"
             ],
             [
              1,
              "#f0f921"
             ]
            ],
            "type": "surface"
           }
          ],
          "table": [
           {
            "cells": {
             "fill": {
              "color": "#EBF0F8"
             },
             "line": {
              "color": "white"
             }
            },
            "header": {
             "fill": {
              "color": "#C8D4E3"
             },
             "line": {
              "color": "white"
             }
            },
            "type": "table"
           }
          ]
         },
         "layout": {
          "annotationdefaults": {
           "arrowcolor": "#2a3f5f",
           "arrowhead": 0,
           "arrowwidth": 1
          },
          "coloraxis": {
           "colorbar": {
            "outlinewidth": 0,
            "ticks": ""
           }
          },
          "colorscale": {
           "diverging": [
            [
             0,
             "#8e0152"
            ],
            [
             0.1,
             "#c51b7d"
            ],
            [
             0.2,
             "#de77ae"
            ],
            [
             0.3,
             "#f1b6da"
            ],
            [
             0.4,
             "#fde0ef"
            ],
            [
             0.5,
             "#f7f7f7"
            ],
            [
             0.6,
             "#e6f5d0"
            ],
            [
             0.7,
             "#b8e186"
            ],
            [
             0.8,
             "#7fbc41"
            ],
            [
             0.9,
             "#4d9221"
            ],
            [
             1,
             "#276419"
            ]
           ],
           "sequential": [
            [
             0,
             "#0d0887"
            ],
            [
             0.1111111111111111,
             "#46039f"
            ],
            [
             0.2222222222222222,
             "#7201a8"
            ],
            [
             0.3333333333333333,
             "#9c179e"
            ],
            [
             0.4444444444444444,
             "#bd3786"
            ],
            [
             0.5555555555555556,
             "#d8576b"
            ],
            [
             0.6666666666666666,
             "#ed7953"
            ],
            [
             0.7777777777777778,
             "#fb9f3a"
            ],
            [
             0.8888888888888888,
             "#fdca26"
            ],
            [
             1,
             "#f0f921"
            ]
           ],
           "sequentialminus": [
            [
             0,
             "#0d0887"
            ],
            [
             0.1111111111111111,
             "#46039f"
            ],
            [
             0.2222222222222222,
             "#7201a8"
            ],
            [
             0.3333333333333333,
             "#9c179e"
            ],
            [
             0.4444444444444444,
             "#bd3786"
            ],
            [
             0.5555555555555556,
             "#d8576b"
            ],
            [
             0.6666666666666666,
             "#ed7953"
            ],
            [
             0.7777777777777778,
             "#fb9f3a"
            ],
            [
             0.8888888888888888,
             "#fdca26"
            ],
            [
             1,
             "#f0f921"
            ]
           ]
          },
          "colorway": [
           "#636efa",
           "#EF553B",
           "#00cc96",
           "#ab63fa",
           "#FFA15A",
           "#19d3f3",
           "#FF6692",
           "#B6E880",
           "#FF97FF",
           "#FECB52"
          ],
          "font": {
           "color": "#2a3f5f"
          },
          "geo": {
           "bgcolor": "white",
           "lakecolor": "white",
           "landcolor": "#E5ECF6",
           "showlakes": true,
           "showland": true,
           "subunitcolor": "white"
          },
          "hoverlabel": {
           "align": "left"
          },
          "hovermode": "closest",
          "mapbox": {
           "style": "light"
          },
          "paper_bgcolor": "white",
          "plot_bgcolor": "#E5ECF6",
          "polar": {
           "angularaxis": {
            "gridcolor": "white",
            "linecolor": "white",
            "ticks": ""
           },
           "bgcolor": "#E5ECF6",
           "radialaxis": {
            "gridcolor": "white",
            "linecolor": "white",
            "ticks": ""
           }
          },
          "scene": {
           "xaxis": {
            "backgroundcolor": "#E5ECF6",
            "gridcolor": "white",
            "gridwidth": 2,
            "linecolor": "white",
            "showbackground": true,
            "ticks": "",
            "zerolinecolor": "white"
           },
           "yaxis": {
            "backgroundcolor": "#E5ECF6",
            "gridcolor": "white",
            "gridwidth": 2,
            "linecolor": "white",
            "showbackground": true,
            "ticks": "",
            "zerolinecolor": "white"
           },
           "zaxis": {
            "backgroundcolor": "#E5ECF6",
            "gridcolor": "white",
            "gridwidth": 2,
            "linecolor": "white",
            "showbackground": true,
            "ticks": "",
            "zerolinecolor": "white"
           }
          },
          "shapedefaults": {
           "line": {
            "color": "#2a3f5f"
           }
          },
          "ternary": {
           "aaxis": {
            "gridcolor": "white",
            "linecolor": "white",
            "ticks": ""
           },
           "baxis": {
            "gridcolor": "white",
            "linecolor": "white",
            "ticks": ""
           },
           "bgcolor": "#E5ECF6",
           "caxis": {
            "gridcolor": "white",
            "linecolor": "white",
            "ticks": ""
           }
          },
          "title": {
           "x": 0.05
          },
          "xaxis": {
           "automargin": true,
           "gridcolor": "white",
           "linecolor": "white",
           "ticks": "",
           "title": {
            "standoff": 15
           },
           "zerolinecolor": "white",
           "zerolinewidth": 2
          },
          "yaxis": {
           "automargin": true,
           "gridcolor": "white",
           "linecolor": "white",
           "ticks": "",
           "title": {
            "standoff": 15
           },
           "zerolinecolor": "white",
           "zerolinewidth": 2
          }
         }
        }
       }
      },
      "text/html": [
       "<div>                            <div id=\"56c8b05b-6d69-4299-bcaf-716190a39e2a\" class=\"plotly-graph-div\" style=\"height:600px; width:100%;\"></div>            <script type=\"text/javascript\">                require([\"plotly\"], function(Plotly) {                    window.PLOTLYENV=window.PLOTLYENV || {};                                    if (document.getElementById(\"56c8b05b-6d69-4299-bcaf-716190a39e2a\")) {                    Plotly.newPlot(                        \"56c8b05b-6d69-4299-bcaf-716190a39e2a\",                        [{\"customdata\": [[400, 1200], [\"NaN\", \"NaN\"], [\"NaN\", \"NaN\"], [\"NaN\", \"NaN\"], [\"NaN\", \"NaN\"], [2236, 2236], [128, 128], [232, 232], [760, 3800], [483, 1111], [11600, 29000], [310, 775], [246, 246], [1246, 6000], [500, 1700], [1010, 8500], [38, 75], [\"NaN\", \"NaN\"], [\"NaN\", \"NaN\"], [600, 1800], [56500, 72800], [7030, 21090], [6268, 18804], [\"NaN\", \"NaN\"], [10, 61], [\"NaN\", \"NaN\"], [null, null], [\"NaN\", \"NaN\"], [\"NaN\", \"NaN\"], [\"NaN\", \"NaN\"], [\"NaN\", \"NaN\"], [38, 96], [2200, 4840], [109, 306], [15000, 15500], [3000, 10000], [840, 924], [4500, 9000], [\"NaN\", \"NaN\"], [8515, 15327], [\"NaN\", \"NaN\"], [\"NaN\", \"NaN\"], [8000, 16000], [2600, 5200], [1500, 3000], [\"NaN\", \"NaN\"], [865, 1300], [220, 220], [4800, 12000], [\"NaN\", \"NaN\"], [32, 32], [1233, 1850], [3900, 10646], [\"80182\", \"176400\"], [\"80182\", \"176400\"], [49, 273], [322, 590], [\"41089\", \"90396\"], [\"41089\", \"90396\"], [\"41089\", \"90396\"], [7440, 16368], [1750, 6500]], \"hovertemplate\": \"<b>%{hovertext}</b><br><br>\\uc704\\ub3c4=%{lat}<br>\\uacbd\\ub3c4=%{lon}<br>\\uc720\\uc218\\uc9c0 \\uba74\\uc801=%{customdata[0]}<br>\\uc720\\uc218\\uc9c0 \\uc6a9\\ub7c9=%{customdata[1]}<extra></extra>\", \"hovertext\": [\"\\uba85\\ub95c\", \"\\uc218\\uc548\", \"\\ub099\\ubbfc\", \"\\uc790\\uc131\\ub3001\", \"\\uc790\\uc131\\ub3002\", \"\\ub3d9\\ucc9c1\", \"\\ub3d9\\ucc9c2\", \"\\uc1a1\\uc120\\ub9c8\\uc744\", \"\\uc6a9\\ud638\", \"\\uc0bc\\uc131\\uc2dc\\uc7a5\", \"\\ub355\\ucc9c\", \"\\uad6c\\ud3ec\", \"\\uad6c\\ub0a8\", \"\\ucd98\\ucc9c\", \"\\ubc18\\uc5ec1\", \"\\ubc18\\uc5ec2\", \"\\ubc18\\uc5ec3\", \"\\uc1a1\\uc8151\\uac8c\\uc774\\ud2b8\", \"\\uc1a1\\uc8152\\uac8c\\uc774\\ud2b8\", \"\\uc1a1\\uc815\", \"\\uc7a5\\ub9bc1\", \"\\uc7a5\\ub9bc2\", \"\\ud558\\ub2e81\", \"\\ud558\\ub2e82\", \"\\uc5f0\\uc0b09\\ub3d9\", \"\\uac70\\uc81c\", \"\\uac70\\uc81c\", \"\\uc5f0\\uc0b04\\ub3d9\", \"\\uc2e0\\uae08\\ub85c\", \"\\uae08\\uc0ac\", \"\\uc11c\\uae08\\uc0ac\", \"\\uae38\\ucc9c\", \"\\uc7a5\\uc548\", \"\\uc7a5\\uc548(\\uac04\\uc774\\ud38c\\ud504)\", \"\\uc1a1\\uc815\", \"\\ud558\\uc2e0\", \"\\uba85\\uc9c0\", \"\\ubc29\\uadfc\", \"\\uc2e0\\ud3ec\", \"\\ub300\\uc800\", \"\\ub9e5\\ub3c4\", \"\\ub179\\uc0b0\", \"\\ubcf8\\ub179\\uc0b0\", \"\\uc2dd\\ub9cc\", \"\\uc131\\uc0b0\", \"\\uc911\\ub355\", \"\\uc0c1\\ub355\", \"\\uc0ac\\ub355\", \"\\ub3d9\\ubc29\", \"\\uc791\\uc9c0\", \"\\uc131\\uc0b0\\ub9c8\\uc744\", \"\\ubc94\\ubc29\", \"\\uba85\\uc9c0\\ub3d9\\uc9c4\", \"\\uac10\\uc8041\", \"\\uac10\\uc8042\", \"\\uac10\\uc8043\", \"\\uac10\\uc8044\", \"\\uc5c4\\uad811\", \"\\uc5c4\\uad812\", \"\\uc5c4\\uad813\", \"\\ud559\\uc7a5\", \"\\uac10\\uc804\\ucc9c\"], \"lat\": [35.2016201, null, 35.195370700000005, null, null, 35.1443594, 35.1377265, 35.115885600000006, 35.1245642, 35.115512100000004, 35.2104383, 35.2097476, 35.201674, 35.1591989, 35.190084999999996, 35.2114247, 35.2040857, 35.1860607, 35.1880885, 35.1833485, 35.0820731, 35.0820731, 35.103132099999996, 35.106553000000005, 35.1897632, 35.2396264, 35.193779600000006, 35.1912601, 35.1924833, 35.217183299999995, 35.2217573, 35.3271315, 35.3119657, 35.3167511, null, 35.089601200000004, 35.0875159, 35.099366100000005, 35.1076076, 35.189068, 35.1545348, 35.120309999999996, 35.1096957, 35.2061616, 35.1257665, null, 35.1938343, 35.212589, 35.167225200000004, 35.144506, 35.1266126, 35.150903799999995, 35.0998348, null, null, null, null, 35.1307584, 35.1307584, 35.1307584, 35.1289906, null], \"legendgroup\": \"\", \"lon\": [129.07940359999998, null, 129.09178300000002, null, null, 129.06425910000002, 129.0666779, 129.0908752, 129.11349950000002, 129.115598, 129.0016891, 129.0030161, 128.9966781, 129.1571755, 129.115819, 129.12180990000002, 129.11985959999998, 129.2048807, 129.2058955, 129.201155, 128.95731940000002, 128.95731940000002, 128.9568142, 128.9574904, 129.1053012, 128.666459, 129.0860957, 129.0807675, 129.0951153, 129.11852040000002, 129.1085754, 129.2819705, 129.2459987, 129.2369435, null, 128.8967667, 128.9128811, 128.8483133, 128.9293449, 128.960064, 128.9543766, 128.89731809999998, 128.88926750000002, 128.9070552, 128.8986079, null, 128.9064306, 128.9818722, 128.9549869, 128.94776570000002, 128.8586633, 128.8815765, 128.928286, null, null, null, null, 128.9700659, 128.9700659, 128.9700659, 128.9677221, null], \"marker\": {\"color\": \"#FF6692\"}, \"mode\": \"markers\", \"name\": \"\", \"showlegend\": false, \"subplot\": \"mapbox\", \"type\": \"scattermapbox\"}],                        {\"height\": 600, \"legend\": {\"tracegroupgap\": 0}, \"mapbox\": {\"center\": {\"lat\": 35.1665600423077, \"lon\": 129.0199281096154}, \"domain\": {\"x\": [0.0, 1.0], \"y\": [0.0, 1.0]}, \"style\": \"open-street-map\", \"zoom\": 11}, \"margin\": {\"b\": 0, \"l\": 0, \"r\": 0, \"t\": 0}, \"template\": {\"data\": {\"bar\": [{\"error_x\": {\"color\": \"#2a3f5f\"}, \"error_y\": {\"color\": \"#2a3f5f\"}, \"marker\": {\"line\": {\"color\": \"#E5ECF6\", \"width\": 0.5}}, \"type\": \"bar\"}], \"barpolar\": [{\"marker\": {\"line\": {\"color\": \"#E5ECF6\", \"width\": 0.5}}, \"type\": \"barpolar\"}], \"carpet\": [{\"aaxis\": {\"endlinecolor\": \"#2a3f5f\", \"gridcolor\": \"white\", \"linecolor\": \"white\", \"minorgridcolor\": \"white\", \"startlinecolor\": \"#2a3f5f\"}, \"baxis\": {\"endlinecolor\": \"#2a3f5f\", \"gridcolor\": \"white\", \"linecolor\": \"white\", \"minorgridcolor\": \"white\", \"startlinecolor\": \"#2a3f5f\"}, \"type\": \"carpet\"}], \"choropleth\": [{\"colorbar\": {\"outlinewidth\": 0, \"ticks\": \"\"}, \"type\": \"choropleth\"}], \"contour\": [{\"colorbar\": {\"outlinewidth\": 0, \"ticks\": \"\"}, \"colorscale\": [[0.0, \"#0d0887\"], [0.1111111111111111, \"#46039f\"], [0.2222222222222222, \"#7201a8\"], [0.3333333333333333, \"#9c179e\"], [0.4444444444444444, \"#bd3786\"], [0.5555555555555556, \"#d8576b\"], [0.6666666666666666, \"#ed7953\"], [0.7777777777777778, \"#fb9f3a\"], [0.8888888888888888, \"#fdca26\"], [1.0, \"#f0f921\"]], \"type\": \"contour\"}], \"contourcarpet\": [{\"colorbar\": {\"outlinewidth\": 0, \"ticks\": \"\"}, \"type\": \"contourcarpet\"}], \"heatmap\": [{\"colorbar\": {\"outlinewidth\": 0, \"ticks\": \"\"}, \"colorscale\": [[0.0, \"#0d0887\"], [0.1111111111111111, \"#46039f\"], [0.2222222222222222, \"#7201a8\"], [0.3333333333333333, \"#9c179e\"], [0.4444444444444444, \"#bd3786\"], [0.5555555555555556, \"#d8576b\"], [0.6666666666666666, \"#ed7953\"], [0.7777777777777778, \"#fb9f3a\"], [0.8888888888888888, \"#fdca26\"], [1.0, \"#f0f921\"]], \"type\": \"heatmap\"}], \"heatmapgl\": [{\"colorbar\": {\"outlinewidth\": 0, \"ticks\": \"\"}, \"colorscale\": [[0.0, \"#0d0887\"], [0.1111111111111111, \"#46039f\"], [0.2222222222222222, \"#7201a8\"], [0.3333333333333333, \"#9c179e\"], [0.4444444444444444, \"#bd3786\"], [0.5555555555555556, \"#d8576b\"], [0.6666666666666666, \"#ed7953\"], [0.7777777777777778, \"#fb9f3a\"], [0.8888888888888888, \"#fdca26\"], [1.0, \"#f0f921\"]], \"type\": \"heatmapgl\"}], \"histogram\": [{\"marker\": {\"colorbar\": {\"outlinewidth\": 0, \"ticks\": \"\"}}, \"type\": \"histogram\"}], \"histogram2d\": [{\"colorbar\": {\"outlinewidth\": 0, \"ticks\": \"\"}, \"colorscale\": [[0.0, \"#0d0887\"], [0.1111111111111111, \"#46039f\"], [0.2222222222222222, \"#7201a8\"], [0.3333333333333333, \"#9c179e\"], [0.4444444444444444, \"#bd3786\"], [0.5555555555555556, \"#d8576b\"], [0.6666666666666666, \"#ed7953\"], [0.7777777777777778, \"#fb9f3a\"], [0.8888888888888888, \"#fdca26\"], [1.0, \"#f0f921\"]], \"type\": \"histogram2d\"}], \"histogram2dcontour\": [{\"colorbar\": {\"outlinewidth\": 0, \"ticks\": \"\"}, \"colorscale\": [[0.0, \"#0d0887\"], [0.1111111111111111, \"#46039f\"], [0.2222222222222222, \"#7201a8\"], [0.3333333333333333, \"#9c179e\"], [0.4444444444444444, \"#bd3786\"], [0.5555555555555556, \"#d8576b\"], [0.6666666666666666, \"#ed7953\"], [0.7777777777777778, \"#fb9f3a\"], [0.8888888888888888, \"#fdca26\"], [1.0, \"#f0f921\"]], \"type\": \"histogram2dcontour\"}], \"mesh3d\": [{\"colorbar\": {\"outlinewidth\": 0, \"ticks\": \"\"}, \"type\": \"mesh3d\"}], \"parcoords\": [{\"line\": {\"colorbar\": {\"outlinewidth\": 0, \"ticks\": \"\"}}, \"type\": \"parcoords\"}], \"pie\": [{\"automargin\": true, \"type\": \"pie\"}], \"scatter\": [{\"marker\": {\"colorbar\": {\"outlinewidth\": 0, \"ticks\": \"\"}}, \"type\": \"scatter\"}], \"scatter3d\": [{\"line\": {\"colorbar\": {\"outlinewidth\": 0, \"ticks\": \"\"}}, \"marker\": {\"colorbar\": {\"outlinewidth\": 0, \"ticks\": \"\"}}, \"type\": \"scatter3d\"}], \"scattercarpet\": [{\"marker\": {\"colorbar\": {\"outlinewidth\": 0, \"ticks\": \"\"}}, \"type\": \"scattercarpet\"}], \"scattergeo\": [{\"marker\": {\"colorbar\": {\"outlinewidth\": 0, \"ticks\": \"\"}}, \"type\": \"scattergeo\"}], \"scattergl\": [{\"marker\": {\"colorbar\": {\"outlinewidth\": 0, \"ticks\": \"\"}}, \"type\": \"scattergl\"}], \"scattermapbox\": [{\"marker\": {\"colorbar\": {\"outlinewidth\": 0, \"ticks\": \"\"}}, \"type\": \"scattermapbox\"}], \"scatterpolar\": [{\"marker\": {\"colorbar\": {\"outlinewidth\": 0, \"ticks\": \"\"}}, \"type\": \"scatterpolar\"}], \"scatterpolargl\": [{\"marker\": {\"colorbar\": {\"outlinewidth\": 0, \"ticks\": \"\"}}, \"type\": \"scatterpolargl\"}], \"scatterternary\": [{\"marker\": {\"colorbar\": {\"outlinewidth\": 0, \"ticks\": \"\"}}, \"type\": \"scatterternary\"}], \"surface\": [{\"colorbar\": {\"outlinewidth\": 0, \"ticks\": \"\"}, \"colorscale\": [[0.0, \"#0d0887\"], [0.1111111111111111, \"#46039f\"], [0.2222222222222222, \"#7201a8\"], [0.3333333333333333, \"#9c179e\"], [0.4444444444444444, \"#bd3786\"], [0.5555555555555556, \"#d8576b\"], [0.6666666666666666, \"#ed7953\"], [0.7777777777777778, \"#fb9f3a\"], [0.8888888888888888, \"#fdca26\"], [1.0, \"#f0f921\"]], \"type\": \"surface\"}], \"table\": [{\"cells\": {\"fill\": {\"color\": \"#EBF0F8\"}, \"line\": {\"color\": \"white\"}}, \"header\": {\"fill\": {\"color\": \"#C8D4E3\"}, \"line\": {\"color\": \"white\"}}, \"type\": \"table\"}]}, \"layout\": {\"annotationdefaults\": {\"arrowcolor\": \"#2a3f5f\", \"arrowhead\": 0, \"arrowwidth\": 1}, \"coloraxis\": {\"colorbar\": {\"outlinewidth\": 0, \"ticks\": \"\"}}, \"colorscale\": {\"diverging\": [[0, \"#8e0152\"], [0.1, \"#c51b7d\"], [0.2, \"#de77ae\"], [0.3, \"#f1b6da\"], [0.4, \"#fde0ef\"], [0.5, \"#f7f7f7\"], [0.6, \"#e6f5d0\"], [0.7, \"#b8e186\"], [0.8, \"#7fbc41\"], [0.9, \"#4d9221\"], [1, \"#276419\"]], \"sequential\": [[0.0, \"#0d0887\"], [0.1111111111111111, \"#46039f\"], [0.2222222222222222, \"#7201a8\"], [0.3333333333333333, \"#9c179e\"], [0.4444444444444444, \"#bd3786\"], [0.5555555555555556, \"#d8576b\"], [0.6666666666666666, \"#ed7953\"], [0.7777777777777778, \"#fb9f3a\"], [0.8888888888888888, \"#fdca26\"], [1.0, \"#f0f921\"]], \"sequentialminus\": [[0.0, \"#0d0887\"], [0.1111111111111111, \"#46039f\"], [0.2222222222222222, \"#7201a8\"], [0.3333333333333333, \"#9c179e\"], [0.4444444444444444, \"#bd3786\"], [0.5555555555555556, \"#d8576b\"], [0.6666666666666666, \"#ed7953\"], [0.7777777777777778, \"#fb9f3a\"], [0.8888888888888888, \"#fdca26\"], [1.0, \"#f0f921\"]]}, \"colorway\": [\"#636efa\", \"#EF553B\", \"#00cc96\", \"#ab63fa\", \"#FFA15A\", \"#19d3f3\", \"#FF6692\", \"#B6E880\", \"#FF97FF\", \"#FECB52\"], \"font\": {\"color\": \"#2a3f5f\"}, \"geo\": {\"bgcolor\": \"white\", \"lakecolor\": \"white\", \"landcolor\": \"#E5ECF6\", \"showlakes\": true, \"showland\": true, \"subunitcolor\": \"white\"}, \"hoverlabel\": {\"align\": \"left\"}, \"hovermode\": \"closest\", \"mapbox\": {\"style\": \"light\"}, \"paper_bgcolor\": \"white\", \"plot_bgcolor\": \"#E5ECF6\", \"polar\": {\"angularaxis\": {\"gridcolor\": \"white\", \"linecolor\": \"white\", \"ticks\": \"\"}, \"bgcolor\": \"#E5ECF6\", \"radialaxis\": {\"gridcolor\": \"white\", \"linecolor\": \"white\", \"ticks\": \"\"}}, \"scene\": {\"xaxis\": {\"backgroundcolor\": \"#E5ECF6\", \"gridcolor\": \"white\", \"gridwidth\": 2, \"linecolor\": \"white\", \"showbackground\": true, \"ticks\": \"\", \"zerolinecolor\": \"white\"}, \"yaxis\": {\"backgroundcolor\": \"#E5ECF6\", \"gridcolor\": \"white\", \"gridwidth\": 2, \"linecolor\": \"white\", \"showbackground\": true, \"ticks\": \"\", \"zerolinecolor\": \"white\"}, \"zaxis\": {\"backgroundcolor\": \"#E5ECF6\", \"gridcolor\": \"white\", \"gridwidth\": 2, \"linecolor\": \"white\", \"showbackground\": true, \"ticks\": \"\", \"zerolinecolor\": \"white\"}}, \"shapedefaults\": {\"line\": {\"color\": \"#2a3f5f\"}}, \"ternary\": {\"aaxis\": {\"gridcolor\": \"white\", \"linecolor\": \"white\", \"ticks\": \"\"}, \"baxis\": {\"gridcolor\": \"white\", \"linecolor\": \"white\", \"ticks\": \"\"}, \"bgcolor\": \"#E5ECF6\", \"caxis\": {\"gridcolor\": \"white\", \"linecolor\": \"white\", \"ticks\": \"\"}}, \"title\": {\"x\": 0.05}, \"xaxis\": {\"automargin\": true, \"gridcolor\": \"white\", \"linecolor\": \"white\", \"ticks\": \"\", \"title\": {\"standoff\": 15}, \"zerolinecolor\": \"white\", \"zerolinewidth\": 2}, \"yaxis\": {\"automargin\": true, \"gridcolor\": \"white\", \"linecolor\": \"white\", \"ticks\": \"\", \"title\": {\"standoff\": 15}, \"zerolinecolor\": \"white\", \"zerolinewidth\": 2}}}},                        {\"responsive\": true}                    ).then(function(){\n",
       "                            \n",
       "var gd = document.getElementById('56c8b05b-6d69-4299-bcaf-716190a39e2a');\n",
       "var x = new MutationObserver(function (mutations, observer) {{\n",
       "        var display = window.getComputedStyle(gd).display;\n",
       "        if (!display || display === 'none') {{\n",
       "            console.log([gd, 'removed!']);\n",
       "            Plotly.purge(gd);\n",
       "            observer.disconnect();\n",
       "        }}\n",
       "}});\n",
       "\n",
       "// Listen for the removal of the full notebook cells\n",
       "var notebookContainer = gd.closest('#notebook-container');\n",
       "if (notebookContainer) {{\n",
       "    x.observe(notebookContainer, {childList: true});\n",
       "}}\n",
       "\n",
       "// Listen for the clearing of the current output cell\n",
       "var outputEl = gd.closest('.output');\n",
       "if (outputEl) {{\n",
       "    x.observe(outputEl, {childList: true});\n",
       "}}\n",
       "\n",
       "                        })                };                });            </script>        </div>"
      ]
     },
     "metadata": {},
     "output_type": "display_data"
    }
   ],
   "source": [
    "fig = px.scatter_mapbox(df_pump_re, lat=\"위도\", lon=\"경도\", hover_name=\"배수펌프장명\", hover_data=[\"유수지 면적\", \"유수지 용량\"],\n",
    "                        color_discrete_sequence=[\"#FF6692\"], zoom=11, height=600)\n",
    "\n",
    "fig.update_layout(mapbox_style=\"open-street-map\")\n",
    "fig.update_layout(margin={\"r\":0,\"t\":0,\"l\":0,\"b\":0})\n",
    "fig.show()"
   ]
  },
  {
   "cell_type": "markdown",
   "metadata": {},
   "source": [
    "# 데이터 만들기 "
   ]
  },
  {
   "cell_type": "code",
   "execution_count": 103,
   "metadata": {},
   "outputs": [],
   "source": [
    "df_pump_re.to_csv(path+'\\유수지현황.csv', sep=',', na_rep='NaN',encoding='utf-8-sig')"
   ]
  }
 ],
 "metadata": {
  "kernelspec": {
   "display_name": "Python 3",
   "language": "python",
   "name": "python3"
  },
  "language_info": {
   "codemirror_mode": {
    "name": "ipython",
    "version": 3
   },
   "file_extension": ".py",
   "mimetype": "text/x-python",
   "name": "python",
   "nbconvert_exporter": "python",
   "pygments_lexer": "ipython3",
   "version": "3.8.3"
  }
 },
 "nbformat": 4,
 "nbformat_minor": 4
}
