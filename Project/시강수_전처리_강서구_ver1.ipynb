{
 "cells": [
  {
   "cell_type": "code",
   "execution_count": 7,
   "metadata": {},
   "outputs": [],
   "source": [
    "import pandas as pd\n",
    "import os, glob, re"
   ]
  },
  {
   "cell_type": "code",
   "execution_count": 8,
   "metadata": {},
   "outputs": [],
   "source": [
    "import plotly.express as px\n",
    "import matplotlib.pyplot as plt   # 맷폴렛- 그래프\n",
    "%matplotlib inline\n",
    "\n",
    "# ignore warnings\n",
    "import warnings    # 워닝 방지\n",
    "warnings.filterwarnings('ignore')\n",
    "\n",
    "####### matplotlib - 한글 폰트 깨짐 방지 코드 #######\n",
    "import platform\n",
    "\n",
    "if platform.system() == 'Darwin':    # 맥\n",
    "    font_name = 'AppleGothic'\n",
    "elif platform.system() == 'Linux':   # 리눅스\n",
    "    font_name = 'NanumGothic'\n",
    "elif platform.system() == 'Windows': # 윈도우\n",
    "    font_name = 'Malgun Gothic'\n",
    "else:\n",
    "    print('알수없는 시스템. 미적용')\n",
    "\n",
    "plt.rc('font', family=font_name)"
   ]
  },
  {
   "cell_type": "code",
   "execution_count": 9,
   "metadata": {},
   "outputs": [
    {
     "data": {
      "text/plain": [
       "'C:\\\\studyNote\\\\Project'"
      ]
     },
     "execution_count": 9,
     "metadata": {},
     "output_type": "execute_result"
    }
   ],
   "source": [
    "os.getcwd() # 현재 디렉토리위치"
   ]
  },
  {
   "cell_type": "code",
   "execution_count": 10,
   "metadata": {},
   "outputs": [
    {
     "data": {
      "text/plain": [
       "['C:\\\\data\\\\\\\\2017\\\\2017_강서구_강수량.csv',\n",
       " 'C:\\\\data\\\\\\\\2017\\\\2017_금정구_강수량.csv',\n",
       " 'C:\\\\data\\\\\\\\2017\\\\2017_기장군_강수량.csv',\n",
       " 'C:\\\\data\\\\\\\\2017\\\\2017_남구_강수량.csv',\n",
       " 'C:\\\\data\\\\\\\\2017\\\\2017_동구_강수량.csv',\n",
       " 'C:\\\\data\\\\\\\\2017\\\\2017_동래구_강수량.csv',\n",
       " 'C:\\\\data\\\\\\\\2017\\\\2017_부산진구_강수량.csv',\n",
       " 'C:\\\\data\\\\\\\\2017\\\\2017_북구_강수량.csv',\n",
       " 'C:\\\\data\\\\\\\\2017\\\\2017_사상구_강수량.csv',\n",
       " 'C:\\\\data\\\\\\\\2017\\\\2017_사하구_강수량.csv',\n",
       " 'C:\\\\data\\\\\\\\2017\\\\2017_서구_강수량.csv',\n",
       " 'C:\\\\data\\\\\\\\2017\\\\2017_수영구_강수량.csv',\n",
       " 'C:\\\\data\\\\\\\\2017\\\\2017_연제구_강수량.csv',\n",
       " 'C:\\\\data\\\\\\\\2017\\\\2017_영도구_강수량.csv',\n",
       " 'C:\\\\data\\\\\\\\2017\\\\2017_중구_강수량.csv',\n",
       " 'C:\\\\data\\\\\\\\2017\\\\2017_해운대구_강수량.csv']"
      ]
     },
     "execution_count": 10,
     "metadata": {},
     "output_type": "execute_result"
    }
   ],
   "source": [
    "path = r'C:\\data\\\\2017\\\\'\n",
    "data_path = glob.glob(path+'*')\n",
    "# 하나는 엑셀파일 하나는 csv 파일 -> 인것을 확인 \n",
    "# 부산광역시_배수펌프장 및 유수지 현황_20200101_.xlsx >>> 이름 변경 -> 펌프장및유수지현황\n",
    "# 부산시_배수시설_CSV.csv' >>> 이름 변경 -> 배수시설\n",
    "data_path"
   ]
  },
  {
   "cell_type": "code",
   "execution_count": 11,
   "metadata": {},
   "outputs": [
    {
     "name": "stdout",
     "output_type": "stream",
     "text": [
      "<class 'pandas.core.frame.DataFrame'>\n",
      "RangeIndex: 8772 entries, 0 to 8771\n",
      "Data columns (total 7 columns):\n",
      " #   Column  Non-Null Count  Dtype  \n",
      "---  ------  --------------  -----  \n",
      " 0   가덕도동    8760 non-null   float64\n",
      " 1   가락동     8760 non-null   float64\n",
      " 2   강동동     8760 non-null   float64\n",
      " 3   녹산동     8760 non-null   float64\n",
      " 4   대저제1동   8760 non-null   float64\n",
      " 5   대저제2동   8760 non-null   float64\n",
      " 6   명지동     8760 non-null   float64\n",
      "dtypes: float64(7)\n",
      "memory usage: 479.8 KB\n"
     ]
    }
   ],
   "source": [
    "df_rain = pd.read_csv(data_path[0], encoding='utf-8') \n",
    "df_test = df_rain.iloc[:,2:]\n",
    "df_test.info()"
   ]
  },
  {
   "cell_type": "code",
   "execution_count": 12,
   "metadata": {},
   "outputs": [
    {
     "name": "stdout",
     "output_type": "stream",
     "text": [
      "2017 : 강서구\n",
      "2017 : 금정구\n",
      "2017 : 기장군\n",
      "2017 : 남구\n",
      "2017 : 동구\n",
      "2017 : 동래구\n",
      "2017 : 부산진구\n",
      "2017 : 북구\n",
      "2017 : 사상구\n",
      "2017 : 사하구\n",
      "2017 : 서구\n",
      "2017 : 수영구\n",
      "2017 : 연제구\n",
      "2017 : 영도구\n",
      "2017 : 중구\n",
      "2017 : 해운대구\n"
     ]
    }
   ],
   "source": [
    "# 년도 이름 출력 \n",
    "for i in data_path:\n",
    "    sp = i.split('\\\\')[-1]\n",
    "    y_name = i.split('\\\\')[-2]\n",
    "    f_name = sp.split(\"_\")[1]\n",
    "    print(y_name,\":\",f_name)"
   ]
  },
  {
   "cell_type": "code",
   "execution_count": 20,
   "metadata": {},
   "outputs": [
    {
     "name": "stdout",
     "output_type": "stream",
     "text": [
      "가덕도동\n"
     ]
    }
   ],
   "source": [
    "dic = {}\n",
    "a =[]\n",
    "b=[]\n",
    "c=[]\n",
    "d=[]\n",
    "e=[]\n",
    "\n",
    "# for col in df_test.columns:\n",
    "#     print(col)\n",
    "for i in df_test[col]:\n",
    "    if 5<=i<20 :\n",
    "        a.append(i)\n",
    "#         dic['a'] = i\n",
    "    elif 20<=i<40:\n",
    "#         dic['b'] = i\n",
    "        b.append(i)\n",
    "    elif 40<=i<50:\n",
    "#         dic['c'] = i\n",
    "        c.append(i)\n",
    "    elif 50<=i<80:\n",
    "#         dic['d'] = i\n",
    "        d.append(i)\n",
    "    elif i>=80:\n",
    "#         dic['e'] = i\n",
    "        e.append(i)\n",
    "break\n"
   ]
  },
  {
   "cell_type": "code",
   "execution_count": 21,
   "metadata": {},
   "outputs": [
    {
     "data": {
      "text/plain": [
       "(25, 4, 0, 1, 0)"
      ]
     },
     "execution_count": 21,
     "metadata": {},
     "output_type": "execute_result"
    }
   ],
   "source": [
    "len(a),len(b),len(c),len(d),len(e)"
   ]
  },
  {
   "cell_type": "code",
   "execution_count": null,
   "metadata": {},
   "outputs": [],
   "source": []
  },
  {
   "cell_type": "code",
   "execution_count": 23,
   "metadata": {},
   "outputs": [],
   "source": [
    "# for idx, val in enumerate(data_path):\n",
    "#     # 데이터 로드\n",
    "#     df_rain = pd.read_csv(data_path[idx], encoding='utf-8') # utf-8 에러 -> euc-kr 사용\n",
    "    \n",
    "#     # 파일 이름 만들기 \n",
    "#     sp = val.split('\\\\')[-1]\n",
    "#     y_name = val.split('\\\\')[-2]\n",
    "#     f_name = sp.split(\"_\")[1]\n",
    "#     print('경로 >>>',idx, f_name, y_name)\n",
    "#     df_test = df_rain.iloc[:,2:]\n",
    "#     # 로드한 데이터   \n",
    "#     for cnt in range(len(df_test.columns)):\n",
    "# #         print('이름 :', df_test.columns[cnt])\n",
    "#         tmp = list()\n",
    "#         for i in df_test[df_test.columns[cnt]]:\n",
    "#             tmp.append(test(i))\n",
    "\n",
    "#         re_data[re_data.columns[cnt]] = tmp\n",
    "#         print(re_data[re_data.columns[cnt]].value_counts())\n",
    "#         tmp = list()\n",
    "# #         print(check(re_data))\n",
    "# #     break\n",
    "\n",
    "#     # 저장 \n",
    "#     pathName = 'C:\\data\\\\'+f_name +'_'+ y_name+'.csv'\n",
    "\n",
    "#     if pathName.split('.')[1] == 'csv' :\n",
    "#         if not os.path.exists( pathName ):\n",
    "#             re_data.to_csv( pathName , index = False, mode = 'w', sep=',', na_rep='NaN', encoding = 'utf-8-sig' )\n",
    "#         else: \n",
    "#             re_data.to_csv( pathName , index = False, mode = 'a', sep=',', na_rep='NaN', encoding = 'utf-8-sig', header = False )\n",
    "\n"
   ]
  },
  {
   "cell_type": "code",
   "execution_count": 22,
   "metadata": {
    "scrolled": true
   },
   "outputs": [],
   "source": [
    "# for idx, val in enumerate(data_path):\n",
    "#     df_rain = pd.read_csv(data_path[idx], encoding='utf-8') # utf-8 에러 -> euc-kr 사용\n",
    "    \n",
    "#     for i in val:\n",
    "#         sp = i.split('\\\\')[-1]\n",
    "#         f_name = sp.split(\"_\")[1]\n",
    "#         y_name = i.split('\\\\')[-2]\n",
    "#     print('경로 >>>',idx, f_name, y_name)\n",
    "\n",
    "#         tmp = list()\n",
    "#         for cnt in range(len(df_test.columns)):\n",
    "#             print('이름 :', df_test.columns[cnt])\n",
    "            \n",
    "#             for i in df_test[df_test.columns[cnt]]:\n",
    "#                 tmp.append(test(i))\n",
    "\n",
    "#             re_data[re_data.columns[cnt]] = tmp\n",
    "#     #         print(re_data[re_data.columns[cnt]].value_counts())\n",
    "#             tmp = list()\n",
    "#     #         print(check(re_data))\n",
    "#     #     break\n",
    "\n",
    "#         # 저장 \n",
    "#         pathName = 'C:\\data\\\\'+f_name +'_'+ y_name+'.csv'\n",
    "\n",
    "#         if pathName.split('.')[1] == 'csv' :\n",
    "#             if not os.path.exists( pathName ):\n",
    "#                 re_data.to_csv( pathName , index = False, mode = 'w', sep=',', na_rep='NaN', encoding = 'utf-8-sig' )\n",
    "#             else: \n",
    "#                 re_data.to_csv( pathName , index = False, mode = 'a', sep=',', na_rep='NaN', encoding = 'utf-8-sig', header = False )\n",
    "\n"
   ]
  },
  {
   "cell_type": "code",
   "execution_count": null,
   "metadata": {},
   "outputs": [],
   "source": []
  },
  {
   "cell_type": "code",
   "execution_count": 81,
   "metadata": {},
   "outputs": [],
   "source": [
    "# def mkDir(pathName, fileName):\n",
    "#     \"\"\"\n",
    "#     pathName = 'C:/data/'      # 경로\n",
    "#     fileName = '이름'          # 이름 \n",
    "#     Save Folder Name = pathName, dirname\n",
    "#     \"\"\"\n",
    "# #     path = pathName + fileName\n",
    "#     if not os.path.isdir(path):\n",
    "#         os.makedirs(path)\n",
    "#         targetDir = glob.glob(path)\n",
    "#         print('Folder Created')\n",
    "#     else:\n",
    "#         targetDir = glob.glob(path)\n",
    "#         print('Folder already exist')\n",
    "        \n",
    "#     return path  \n",
    "\n",
    "\n",
    "# # 데이터 저장 \n",
    "# def SaveFile( df, pathName , fileName,  Mode, index, encoding ):\n",
    "#     \"\"\"\n",
    "#     df = 데이터 프레임\n",
    "#     Mode = 만약 덮어쓰기가 있다면 a , 그냥 생성 w\n",
    "#     fullDstName =  path + 파일 확장자(확장자 주의 요말)\n",
    "#     index = False\n",
    "#     encoding = 인코딩 \n",
    "#     header -> 덮어쓰기에만 적용\n",
    "#     # 2018, 2019, 2020\n",
    "#     \"\"\"\n",
    "#     mkDir( pathName, fileName )\n",
    "#     fullDstName = pathName + fileName\n",
    "#     if fullDstName.split('.')[1] == 'csv' :\n",
    "#         if Mode == 'a' : \n",
    "#             # 파일 여부 확인 후 생성 \n",
    "#             if not os.path.exists( fullDstName ):\n",
    "#                 df.to_csv( fullDstName , index = index, mode = 'w', encoding = encoding )\n",
    "#             else: \n",
    "#                 df.to_csv( fullDstName , index = index, mode = 'a', encoding = encoding, header = False ) \n",
    "#         else:\n",
    "#             df.to_csv( fullDstName , index = index, mode = 'w', encoding = encoding )\n",
    "\n",
    "        \n",
    "#     elif fullDstName.split('.')[1] == 'xlsx' :\n",
    "#         if Mode == 'a' : \n",
    "#             # 파일 여부 확인 후 생성 \n",
    "#             if not os.path.exists( fullDstName ):\n",
    "#                 df.to_xlsx( fullDstName , index = index, mode = 'w', encoding = encoding )\n",
    "#             else: \n",
    "#                 df.to_xlsx( fullDstName , index = index, mode = 'a', encoding = encoding, header = False )\n",
    "#         else:\n",
    "#             df.to_xlsx( fullDstName , index = index, mode = 'w', encoding = encoding )\n",
    "#     else:\n",
    "#         print('Please check your file path! Only, xlsx and csv can use')"
   ]
  },
  {
   "cell_type": "code",
   "execution_count": 35,
   "metadata": {},
   "outputs": [
    {
     "data": {
      "text/html": [
       "<div>\n",
       "<style scoped>\n",
       "    .dataframe tbody tr th:only-of-type {\n",
       "        vertical-align: middle;\n",
       "    }\n",
       "\n",
       "    .dataframe tbody tr th {\n",
       "        vertical-align: top;\n",
       "    }\n",
       "\n",
       "    .dataframe thead th {\n",
       "        text-align: right;\n",
       "    }\n",
       "</style>\n",
       "<table border=\"1\" class=\"dataframe\">\n",
       "  <thead>\n",
       "    <tr style=\"text-align: right;\">\n",
       "      <th></th>\n",
       "      <th>일</th>\n",
       "      <th>시간</th>\n",
       "      <th>가덕도동</th>\n",
       "      <th>가락동</th>\n",
       "      <th>강동동</th>\n",
       "      <th>녹산동</th>\n",
       "      <th>대저제1동</th>\n",
       "      <th>대저제2동</th>\n",
       "      <th>명지동</th>\n",
       "    </tr>\n",
       "  </thead>\n",
       "  <tbody>\n",
       "    <tr>\n",
       "      <th>0</th>\n",
       "      <td>1</td>\n",
       "      <td>0.0</td>\n",
       "      <td>0.0</td>\n",
       "      <td>0.0</td>\n",
       "      <td>0.0</td>\n",
       "      <td>0.0</td>\n",
       "      <td>0.0</td>\n",
       "      <td>0.0</td>\n",
       "      <td>0.0</td>\n",
       "    </tr>\n",
       "    <tr>\n",
       "      <th>1</th>\n",
       "      <td>1</td>\n",
       "      <td>100.0</td>\n",
       "      <td>0.0</td>\n",
       "      <td>0.0</td>\n",
       "      <td>0.0</td>\n",
       "      <td>0.0</td>\n",
       "      <td>0.0</td>\n",
       "      <td>0.0</td>\n",
       "      <td>0.0</td>\n",
       "    </tr>\n",
       "    <tr>\n",
       "      <th>2</th>\n",
       "      <td>1</td>\n",
       "      <td>200.0</td>\n",
       "      <td>0.0</td>\n",
       "      <td>0.0</td>\n",
       "      <td>0.0</td>\n",
       "      <td>0.0</td>\n",
       "      <td>0.0</td>\n",
       "      <td>0.0</td>\n",
       "      <td>0.0</td>\n",
       "    </tr>\n",
       "    <tr>\n",
       "      <th>3</th>\n",
       "      <td>1</td>\n",
       "      <td>300.0</td>\n",
       "      <td>0.0</td>\n",
       "      <td>0.0</td>\n",
       "      <td>0.0</td>\n",
       "      <td>0.0</td>\n",
       "      <td>0.0</td>\n",
       "      <td>0.0</td>\n",
       "      <td>0.0</td>\n",
       "    </tr>\n",
       "    <tr>\n",
       "      <th>4</th>\n",
       "      <td>1</td>\n",
       "      <td>400.0</td>\n",
       "      <td>0.0</td>\n",
       "      <td>0.0</td>\n",
       "      <td>0.0</td>\n",
       "      <td>0.0</td>\n",
       "      <td>0.0</td>\n",
       "      <td>0.0</td>\n",
       "      <td>0.0</td>\n",
       "    </tr>\n",
       "    <tr>\n",
       "      <th>...</th>\n",
       "      <td>...</td>\n",
       "      <td>...</td>\n",
       "      <td>...</td>\n",
       "      <td>...</td>\n",
       "      <td>...</td>\n",
       "      <td>...</td>\n",
       "      <td>...</td>\n",
       "      <td>...</td>\n",
       "      <td>...</td>\n",
       "    </tr>\n",
       "    <tr>\n",
       "      <th>8767</th>\n",
       "      <td>31</td>\n",
       "      <td>2000.0</td>\n",
       "      <td>0.0</td>\n",
       "      <td>0.0</td>\n",
       "      <td>0.0</td>\n",
       "      <td>0.0</td>\n",
       "      <td>0.0</td>\n",
       "      <td>0.0</td>\n",
       "      <td>0.0</td>\n",
       "    </tr>\n",
       "    <tr>\n",
       "      <th>8768</th>\n",
       "      <td>31</td>\n",
       "      <td>2100.0</td>\n",
       "      <td>0.0</td>\n",
       "      <td>0.0</td>\n",
       "      <td>0.0</td>\n",
       "      <td>0.0</td>\n",
       "      <td>0.0</td>\n",
       "      <td>0.0</td>\n",
       "      <td>0.0</td>\n",
       "    </tr>\n",
       "    <tr>\n",
       "      <th>8769</th>\n",
       "      <td>31</td>\n",
       "      <td>2200.0</td>\n",
       "      <td>0.0</td>\n",
       "      <td>0.0</td>\n",
       "      <td>0.0</td>\n",
       "      <td>0.0</td>\n",
       "      <td>0.0</td>\n",
       "      <td>0.0</td>\n",
       "      <td>0.0</td>\n",
       "    </tr>\n",
       "    <tr>\n",
       "      <th>8770</th>\n",
       "      <td>31</td>\n",
       "      <td>2300.0</td>\n",
       "      <td>0.0</td>\n",
       "      <td>0.0</td>\n",
       "      <td>0.0</td>\n",
       "      <td>0.0</td>\n",
       "      <td>0.0</td>\n",
       "      <td>0.0</td>\n",
       "      <td>0.0</td>\n",
       "    </tr>\n",
       "    <tr>\n",
       "      <th>8771</th>\n",
       "      <td></td>\n",
       "      <td>NaN</td>\n",
       "      <td>NaN</td>\n",
       "      <td>NaN</td>\n",
       "      <td>NaN</td>\n",
       "      <td>NaN</td>\n",
       "      <td>NaN</td>\n",
       "      <td>NaN</td>\n",
       "      <td>NaN</td>\n",
       "    </tr>\n",
       "  </tbody>\n",
       "</table>\n",
       "<p>8772 rows × 9 columns</p>\n",
       "</div>"
      ],
      "text/plain": [
       "       일      시간  가덕도동  가락동  강동동  녹산동  대저제1동  대저제2동  명지동\n",
       "0      1     0.0   0.0  0.0  0.0  0.0    0.0    0.0  0.0\n",
       "1      1   100.0   0.0  0.0  0.0  0.0    0.0    0.0  0.0\n",
       "2      1   200.0   0.0  0.0  0.0  0.0    0.0    0.0  0.0\n",
       "3      1   300.0   0.0  0.0  0.0  0.0    0.0    0.0  0.0\n",
       "4      1   400.0   0.0  0.0  0.0  0.0    0.0    0.0  0.0\n",
       "...   ..     ...   ...  ...  ...  ...    ...    ...  ...\n",
       "8767  31  2000.0   0.0  0.0  0.0  0.0    0.0    0.0  0.0\n",
       "8768  31  2100.0   0.0  0.0  0.0  0.0    0.0    0.0  0.0\n",
       "8769  31  2200.0   0.0  0.0  0.0  0.0    0.0    0.0  0.0\n",
       "8770  31  2300.0   0.0  0.0  0.0  0.0    0.0    0.0  0.0\n",
       "8771         NaN   NaN  NaN  NaN  NaN    NaN    NaN  NaN\n",
       "\n",
       "[8772 rows x 9 columns]"
      ]
     },
     "execution_count": 35,
     "metadata": {},
     "output_type": "execute_result"
    }
   ],
   "source": [
    "df_rain = pd.read_csv(data_path[0], encoding='utf-8') # utf-8 에러 -> euc-kr 사용\n",
    "df_rain"
   ]
  },
  {
   "cell_type": "code",
   "execution_count": 37,
   "metadata": {},
   "outputs": [
    {
     "name": "stdout",
     "output_type": "stream",
     "text": [
      "<class 'pandas.core.frame.DataFrame'>\n",
      "RangeIndex: 8772 entries, 0 to 8771\n",
      "Data columns (total 9 columns):\n",
      " #   Column  Non-Null Count  Dtype  \n",
      "---  ------  --------------  -----  \n",
      " 0   일       8772 non-null   object \n",
      " 1   시간      8760 non-null   float64\n",
      " 2   가덕도동    8760 non-null   float64\n",
      " 3   가락동     8760 non-null   float64\n",
      " 4   강동동     8760 non-null   float64\n",
      " 5   녹산동     8760 non-null   float64\n",
      " 6   대저제1동   8760 non-null   float64\n",
      " 7   대저제2동   8760 non-null   float64\n",
      " 8   명지동     8760 non-null   float64\n",
      "dtypes: float64(8), object(1)\n",
      "memory usage: 616.9+ KB\n"
     ]
    }
   ],
   "source": [
    "df_rain.info()"
   ]
  },
  {
   "cell_type": "code",
   "execution_count": 25,
   "metadata": {},
   "outputs": [],
   "source": [
    "def test(x): # 값에 따른 함수 적용\n",
    "    if 5<=x<20 :\n",
    "        return 'a'\n",
    "    elif 20<=x<40:\n",
    "        return 'b'\n",
    "    elif 40<=x<50:\n",
    "        return 'c'\n",
    "    elif 50<=x<80:\n",
    "        return 'd'\n",
    "    elif x>=80:\n",
    "        return 'e'"
   ]
  },
  {
   "cell_type": "code",
   "execution_count": 7,
   "metadata": {},
   "outputs": [
    {
     "data": {
      "text/plain": [
       "Index(['일', '시간', '가덕도동', '가락동', '강동동', '녹산동', '대저제1동', '대저제2동', '명지동'], dtype='object')"
      ]
     },
     "execution_count": 7,
     "metadata": {},
     "output_type": "execute_result"
    }
   ],
   "source": [
    "df_rain.columns"
   ]
  },
  {
   "cell_type": "code",
   "execution_count": 47,
   "metadata": {},
   "outputs": [
    {
     "name": "stdout",
     "output_type": "stream",
     "text": [
      "<class 'pandas.core.frame.DataFrame'>\n",
      "RangeIndex: 8772 entries, 0 to 8771\n",
      "Data columns (total 7 columns):\n",
      " #   Column  Non-Null Count  Dtype  \n",
      "---  ------  --------------  -----  \n",
      " 0   가덕도동    8760 non-null   float64\n",
      " 1   가락동     8760 non-null   float64\n",
      " 2   강동동     8760 non-null   float64\n",
      " 3   녹산동     8760 non-null   float64\n",
      " 4   대저제1동   8760 non-null   float64\n",
      " 5   대저제2동   8760 non-null   float64\n",
      " 6   명지동     8760 non-null   float64\n",
      "dtypes: float64(7)\n",
      "memory usage: 479.8 KB\n"
     ]
    }
   ],
   "source": [
    "df_test.info()"
   ]
  },
  {
   "cell_type": "code",
   "execution_count": 46,
   "metadata": {},
   "outputs": [],
   "source": [
    "df_test = df_rain.iloc[:,2:]"
   ]
  },
  {
   "cell_type": "code",
   "execution_count": 9,
   "metadata": {},
   "outputs": [
    {
     "data": {
      "text/plain": [
       "0       0.0\n",
       "1       0.0\n",
       "2       0.0\n",
       "3       0.0\n",
       "4       0.0\n",
       "       ... \n",
       "8767    0.0\n",
       "8768    0.0\n",
       "8769    0.0\n",
       "8770    0.0\n",
       "8771    NaN\n",
       "Name: 가덕도동, Length: 8772, dtype: float64"
      ]
     },
     "execution_count": 9,
     "metadata": {},
     "output_type": "execute_result"
    }
   ],
   "source": [
    "df_test[df_test.columns[0]]"
   ]
  },
  {
   "cell_type": "code",
   "execution_count": 29,
   "metadata": {},
   "outputs": [],
   "source": [
    "def test(x): # 값에 따른 함수 적용\n",
    "    try :\n",
    "        if 5<=x<20 :\n",
    "            return 'a'\n",
    "        elif 20<=x<40:\n",
    "            return 'b'\n",
    "        elif 40<=x<50:\n",
    "            return 'c'\n",
    "        elif 50<=x<80:\n",
    "            return 'd'\n",
    "        elif x>=80:\n",
    "            return 'e'\n",
    "        elif x < 4 :\n",
    "            return ' '\n",
    "    except Exception as err:\n",
    "        print(err,'e')\n"
   ]
  },
  {
   "cell_type": "code",
   "execution_count": 48,
   "metadata": {},
   "outputs": [
    {
     "name": "stdout",
     "output_type": "stream",
     "text": [
      "가덕도동\n",
      "a    25\n",
      "b     4\n",
      "d     1\n",
      "Name: 가덕도동, dtype: int64\n",
      "가락동\n",
      "a    25\n",
      "b     4\n",
      "d     1\n",
      "Name: 가덕도동, dtype: int64\n",
      "강동동\n",
      "a    25\n",
      "b     4\n",
      "d     1\n",
      "Name: 가덕도동, dtype: int64\n",
      "녹산동\n",
      "a    25\n",
      "b     4\n",
      "d     1\n",
      "Name: 가덕도동, dtype: int64\n",
      "대저제1동\n",
      "a    25\n",
      "b     4\n",
      "d     1\n",
      "Name: 가덕도동, dtype: int64\n",
      "대저제2동\n",
      "a    25\n",
      "b     4\n",
      "d     1\n",
      "Name: 가덕도동, dtype: int64\n",
      "명지동\n",
      "a    25\n",
      "b     4\n",
      "d     1\n",
      "Name: 가덕도동, dtype: int64\n"
     ]
    }
   ],
   "source": [
    "tmp = list()\n",
    "for cnt in range(len(df_test.columns)):\n",
    "    print(df_test.columns[cnt])\n",
    "    for i in df_test[df_test.columns[cnt]]:\n",
    "#         print(i)\n",
    "#         print(test(i))\n",
    "        tmp.append(test(i))\n",
    "    re_data[re_data.columns[cnt]] = tmp\n",
    "    tmp = list()\n",
    "    print(check(re_data))"
   ]
  },
  {
   "cell_type": "code",
   "execution_count": 105,
   "metadata": {},
   "outputs": [
    {
     "name": "stdout",
     "output_type": "stream",
     "text": [
      "a    25\n",
      "b     4\n",
      "d     1\n",
      "Name: 가덕도동, dtype: int64\n"
     ]
    },
    {
     "data": {
      "text/plain": [
       "'끝'"
      ]
     },
     "execution_count": 105,
     "metadata": {},
     "output_type": "execute_result"
    }
   ],
   "source": [
    "def check(df):\n",
    "    \"\"\"\n",
    "    데이터 확인 - 검증 \n",
    "    \"\"\"\n",
    "    for cnt in range(len(df.columns)):\n",
    "        print(df[df.columns[cnt]].value_counts())\n",
    "        return '끝'\n",
    "\n",
    "check(re_data)"
   ]
  },
  {
   "cell_type": "code",
   "execution_count": null,
   "metadata": {
    "scrolled": true
   },
   "outputs": [],
   "source": [
    "# # 검증 \n",
    "# for cnt in range(len(re_data.columns)):\n",
    "#      print(re_data[re_data.columns[cnt]].value_counts())"
   ]
  },
  {
   "cell_type": "code",
   "execution_count": 96,
   "metadata": {},
   "outputs": [
    {
     "data": {
      "text/plain": [
       "Index(['가덕도동', '가락동', '강동동', '녹산동', '대저제1동', '대저제2동', '명지동'], dtype='object')"
      ]
     },
     "execution_count": 96,
     "metadata": {},
     "output_type": "execute_result"
    }
   ],
   "source": [
    "df_test.columns"
   ]
  },
  {
   "cell_type": "code",
   "execution_count": 97,
   "metadata": {},
   "outputs": [
    {
     "name": "stdout",
     "output_type": "stream",
     "text": [
      "가덕도동\n",
      "가락동\n",
      "강동동\n",
      "녹산동\n",
      "대저제1동\n",
      "대저제2동\n",
      "명지동\n"
     ]
    }
   ],
   "source": [
    "tmp = list()\n",
    "for cnt in range(len(df_test.columns)):\n",
    "    print(df_test.columns[cnt])\n",
    "    for i in df_test['가덕도동']:\n",
    "#         print(i)\n",
    "#         print(test(i))\n",
    "        tmp.append(test(i))\n",
    "    "
   ]
  },
  {
   "cell_type": "code",
   "execution_count": 98,
   "metadata": {},
   "outputs": [
    {
     "data": {
      "text/plain": [
       "3"
      ]
     },
     "execution_count": 98,
     "metadata": {},
     "output_type": "execute_result"
    }
   ],
   "source": [
    "len('tmp')"
   ]
  },
  {
   "cell_type": "markdown",
   "metadata": {},
   "source": [
    "## 다시 "
   ]
  },
  {
   "cell_type": "code",
   "execution_count": 102,
   "metadata": {},
   "outputs": [
    {
     "data": {
      "text/plain": [
       "['17가덕도grade동',\n",
       " '17가락동grade',\n",
       " '17강동동grade',\n",
       " '17녹산동grade',\n",
       " '17대저제grade1동',\n",
       " '17대저제grade2동',\n",
       " '17명지동grade']"
      ]
     },
     "execution_count": 102,
     "metadata": {},
     "output_type": "execute_result"
    }
   ],
   "source": [
    "name = ['17가덕도동grade', '17가락동grade', '17강동동grade', '17녹산동grade', '17대저제grade1동', '17대저제grade2동', '17명지동grade']\n",
    "name"
   ]
  },
  {
   "cell_type": "code",
   "execution_count": 99,
   "metadata": {},
   "outputs": [],
   "source": [
    "df_data = pd.DataFrame( columns = ('가덕도동', '가락동', '강동동', '녹산동', '대저제1동', '대저제2동', '명지동') )"
   ]
  },
  {
   "cell_type": "code",
   "execution_count": 101,
   "metadata": {},
   "outputs": [
    {
     "data": {
      "text/html": [
       "<div>\n",
       "<style scoped>\n",
       "    .dataframe tbody tr th:only-of-type {\n",
       "        vertical-align: middle;\n",
       "    }\n",
       "\n",
       "    .dataframe tbody tr th {\n",
       "        vertical-align: top;\n",
       "    }\n",
       "\n",
       "    .dataframe thead th {\n",
       "        text-align: right;\n",
       "    }\n",
       "</style>\n",
       "<table border=\"1\" class=\"dataframe\">\n",
       "  <thead>\n",
       "    <tr style=\"text-align: right;\">\n",
       "      <th></th>\n",
       "      <th>가덕도동</th>\n",
       "      <th>가락동</th>\n",
       "      <th>강동동</th>\n",
       "      <th>녹산동</th>\n",
       "      <th>대저제1동</th>\n",
       "      <th>대저제2동</th>\n",
       "      <th>명지동</th>\n",
       "      <th>17가덕도동grade</th>\n",
       "      <th>17가락동grade</th>\n",
       "    </tr>\n",
       "  </thead>\n",
       "  <tbody>\n",
       "    <tr>\n",
       "      <th>0</th>\n",
       "      <td>NaN</td>\n",
       "      <td>NaN</td>\n",
       "      <td>NaN</td>\n",
       "      <td>NaN</td>\n",
       "      <td>NaN</td>\n",
       "      <td>NaN</td>\n",
       "      <td>NaN</td>\n",
       "      <td>NaN</td>\n",
       "      <td>NaN</td>\n",
       "    </tr>\n",
       "    <tr>\n",
       "      <th>1</th>\n",
       "      <td>NaN</td>\n",
       "      <td>NaN</td>\n",
       "      <td>NaN</td>\n",
       "      <td>NaN</td>\n",
       "      <td>NaN</td>\n",
       "      <td>NaN</td>\n",
       "      <td>NaN</td>\n",
       "      <td>NaN</td>\n",
       "      <td>NaN</td>\n",
       "    </tr>\n",
       "    <tr>\n",
       "      <th>2</th>\n",
       "      <td>NaN</td>\n",
       "      <td>NaN</td>\n",
       "      <td>NaN</td>\n",
       "      <td>NaN</td>\n",
       "      <td>NaN</td>\n",
       "      <td>NaN</td>\n",
       "      <td>NaN</td>\n",
       "      <td>NaN</td>\n",
       "      <td>NaN</td>\n",
       "    </tr>\n",
       "    <tr>\n",
       "      <th>3</th>\n",
       "      <td>NaN</td>\n",
       "      <td>NaN</td>\n",
       "      <td>NaN</td>\n",
       "      <td>NaN</td>\n",
       "      <td>NaN</td>\n",
       "      <td>NaN</td>\n",
       "      <td>NaN</td>\n",
       "      <td>NaN</td>\n",
       "      <td>NaN</td>\n",
       "    </tr>\n",
       "    <tr>\n",
       "      <th>4</th>\n",
       "      <td>NaN</td>\n",
       "      <td>NaN</td>\n",
       "      <td>NaN</td>\n",
       "      <td>NaN</td>\n",
       "      <td>NaN</td>\n",
       "      <td>NaN</td>\n",
       "      <td>NaN</td>\n",
       "      <td>NaN</td>\n",
       "      <td>NaN</td>\n",
       "    </tr>\n",
       "    <tr>\n",
       "      <th>...</th>\n",
       "      <td>...</td>\n",
       "      <td>...</td>\n",
       "      <td>...</td>\n",
       "      <td>...</td>\n",
       "      <td>...</td>\n",
       "      <td>...</td>\n",
       "      <td>...</td>\n",
       "      <td>...</td>\n",
       "      <td>...</td>\n",
       "    </tr>\n",
       "    <tr>\n",
       "      <th>8767</th>\n",
       "      <td>NaN</td>\n",
       "      <td>NaN</td>\n",
       "      <td>NaN</td>\n",
       "      <td>NaN</td>\n",
       "      <td>NaN</td>\n",
       "      <td>NaN</td>\n",
       "      <td>NaN</td>\n",
       "      <td>NaN</td>\n",
       "      <td>NaN</td>\n",
       "    </tr>\n",
       "    <tr>\n",
       "      <th>8768</th>\n",
       "      <td>NaN</td>\n",
       "      <td>NaN</td>\n",
       "      <td>NaN</td>\n",
       "      <td>NaN</td>\n",
       "      <td>NaN</td>\n",
       "      <td>NaN</td>\n",
       "      <td>NaN</td>\n",
       "      <td>NaN</td>\n",
       "      <td>NaN</td>\n",
       "    </tr>\n",
       "    <tr>\n",
       "      <th>8769</th>\n",
       "      <td>NaN</td>\n",
       "      <td>NaN</td>\n",
       "      <td>NaN</td>\n",
       "      <td>NaN</td>\n",
       "      <td>NaN</td>\n",
       "      <td>NaN</td>\n",
       "      <td>NaN</td>\n",
       "      <td>NaN</td>\n",
       "      <td>NaN</td>\n",
       "    </tr>\n",
       "    <tr>\n",
       "      <th>8770</th>\n",
       "      <td>NaN</td>\n",
       "      <td>NaN</td>\n",
       "      <td>NaN</td>\n",
       "      <td>NaN</td>\n",
       "      <td>NaN</td>\n",
       "      <td>NaN</td>\n",
       "      <td>NaN</td>\n",
       "      <td>NaN</td>\n",
       "      <td>NaN</td>\n",
       "    </tr>\n",
       "    <tr>\n",
       "      <th>8771</th>\n",
       "      <td>NaN</td>\n",
       "      <td>NaN</td>\n",
       "      <td>NaN</td>\n",
       "      <td>NaN</td>\n",
       "      <td>NaN</td>\n",
       "      <td>NaN</td>\n",
       "      <td>NaN</td>\n",
       "      <td>NaN</td>\n",
       "      <td>NaN</td>\n",
       "    </tr>\n",
       "  </tbody>\n",
       "</table>\n",
       "<p>8772 rows × 9 columns</p>\n",
       "</div>"
      ],
      "text/plain": [
       "     가덕도동  가락동  강동동  녹산동 대저제1동 대저제2동  명지동 17가덕도동grade 17가락동grade\n",
       "0     NaN  NaN  NaN  NaN   NaN   NaN  NaN         NaN        NaN\n",
       "1     NaN  NaN  NaN  NaN   NaN   NaN  NaN         NaN        NaN\n",
       "2     NaN  NaN  NaN  NaN   NaN   NaN  NaN         NaN        NaN\n",
       "3     NaN  NaN  NaN  NaN   NaN   NaN  NaN         NaN        NaN\n",
       "4     NaN  NaN  NaN  NaN   NaN   NaN  NaN         NaN        NaN\n",
       "...   ...  ...  ...  ...   ...   ...  ...         ...        ...\n",
       "8767  NaN  NaN  NaN  NaN   NaN   NaN  NaN         NaN        NaN\n",
       "8768  NaN  NaN  NaN  NaN   NaN   NaN  NaN         NaN        NaN\n",
       "8769  NaN  NaN  NaN  NaN   NaN   NaN  NaN         NaN        NaN\n",
       "8770  NaN  NaN  NaN  NaN   NaN   NaN  NaN         NaN        NaN\n",
       "8771  NaN  NaN  NaN  NaN   NaN   NaN  NaN         NaN        NaN\n",
       "\n",
       "[8772 rows x 9 columns]"
      ]
     },
     "execution_count": 101,
     "metadata": {},
     "output_type": "execute_result"
    }
   ],
   "source": [
    "17가덕도동grade\t17가락동"
   ]
  },
  {
   "cell_type": "code",
   "execution_count": 100,
   "metadata": {},
   "outputs": [],
   "source": [
    "df_data['17가덕도동grade']=df_test['가덕도동'].apply(test)\n",
    "df_data['17가락동grade']=df_test['가락동'].apply(test)"
   ]
  },
  {
   "cell_type": "code",
   "execution_count": 26,
   "metadata": {},
   "outputs": [
    {
     "data": {
      "text/plain": [
       "0       None\n",
       "1       None\n",
       "2       None\n",
       "3       None\n",
       "4       None\n",
       "        ... \n",
       "8767    None\n",
       "8768    None\n",
       "8769    None\n",
       "8770    None\n",
       "8771    None\n",
       "Name: 가락동, Length: 8772, dtype: object"
      ]
     },
     "execution_count": 26,
     "metadata": {},
     "output_type": "execute_result"
    }
   ],
   "source": [
    "df_test['가락동'].apply(test)"
   ]
  },
  {
   "cell_type": "code",
   "execution_count": null,
   "metadata": {},
   "outputs": [],
   "source": []
  }
 ],
 "metadata": {
  "kernelspec": {
   "display_name": "Python 3",
   "language": "python",
   "name": "python3"
  },
  "language_info": {
   "codemirror_mode": {
    "name": "ipython",
    "version": 3
   },
   "file_extension": ".py",
   "mimetype": "text/x-python",
   "name": "python",
   "nbconvert_exporter": "python",
   "pygments_lexer": "ipython3",
   "version": "3.8.3"
  }
 },
 "nbformat": 4,
 "nbformat_minor": 4
}
