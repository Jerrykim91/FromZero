{
 "cells": [
  {
   "cell_type": "code",
   "execution_count": 3,
   "metadata": {},
   "outputs": [],
   "source": [
    "import pandas as pd\n",
    "import os, glob, re\n",
    "\n",
    "import plotly.express as px\n",
    "import matplotlib.pyplot as plt   # 맷폴렛- 그래프\n",
    "%matplotlib inline\n",
    "\n",
    "# ignore warnings\n",
    "import warnings    # 워닝 방지\n",
    "warnings.filterwarnings('ignore')\n",
    "\n",
    "####### matplotlib - 한글 폰트 깨짐 방지 코드 #######\n",
    "import platform\n",
    "\n",
    "if platform.system() == 'Darwin':    # 맥\n",
    "    font_name = 'AppleGothic'\n",
    "elif platform.system() == 'Linux':   # 리눅스\n",
    "    font_name = 'NanumGothic'\n",
    "elif platform.system() == 'Windows': # 윈도우\n",
    "    font_name = 'Malgun Gothic'\n",
    "else:\n",
    "    print('알수없는 시스템. 미적용')\n",
    "\n",
    "plt.rc('font', family=font_name)"
   ]
  },
  {
   "cell_type": "code",
   "execution_count": 4,
   "metadata": {},
   "outputs": [
    {
     "data": {
      "text/plain": [
       "'C:\\\\studyNote\\\\Project'"
      ]
     },
     "execution_count": 4,
     "metadata": {},
     "output_type": "execute_result"
    }
   ],
   "source": [
    "os.getcwd() # 현재 디렉토리위치"
   ]
  },
  {
   "cell_type": "code",
   "execution_count": 7,
   "metadata": {},
   "outputs": [
    {
     "data": {
      "text/plain": [
       "['C:\\\\data\\\\\\\\부산 해발고도\\\\강서구.csv',\n",
       " 'C:\\\\data\\\\\\\\부산 해발고도\\\\금정구.csv',\n",
       " 'C:\\\\data\\\\\\\\부산 해발고도\\\\기장군.csv',\n",
       " 'C:\\\\data\\\\\\\\부산 해발고도\\\\남구.csv',\n",
       " 'C:\\\\data\\\\\\\\부산 해발고도\\\\동구.csv',\n",
       " 'C:\\\\data\\\\\\\\부산 해발고도\\\\동래구.csv',\n",
       " 'C:\\\\data\\\\\\\\부산 해발고도\\\\부산진구.csv',\n",
       " 'C:\\\\data\\\\\\\\부산 해발고도\\\\북구.csv',\n",
       " 'C:\\\\data\\\\\\\\부산 해발고도\\\\사상구.csv',\n",
       " 'C:\\\\data\\\\\\\\부산 해발고도\\\\사하구.csv',\n",
       " 'C:\\\\data\\\\\\\\부산 해발고도\\\\서구.csv',\n",
       " 'C:\\\\data\\\\\\\\부산 해발고도\\\\수영구.csv',\n",
       " 'C:\\\\data\\\\\\\\부산 해발고도\\\\연제구.csv',\n",
       " 'C:\\\\data\\\\\\\\부산 해발고도\\\\영도구.csv',\n",
       " 'C:\\\\data\\\\\\\\부산 해발고도\\\\중구.csv',\n",
       " 'C:\\\\data\\\\\\\\부산 해발고도\\\\해운대구.csv']"
      ]
     },
     "execution_count": 7,
     "metadata": {},
     "output_type": "execute_result"
    }
   ],
   "source": [
    "path = r'C:\\data\\\\부산 해발고도\\\\'\n",
    "data_path = glob.glob(path+'/*')\n",
    "data_path"
   ]
  },
  {
   "cell_type": "markdown",
   "metadata": {},
   "source": [
    "## 데이터 로드"
   ]
  },
  {
   "cell_type": "code",
   "execution_count": 10,
   "metadata": {},
   "outputs": [
    {
     "data": {
      "text/html": [
       "<div>\n",
       "<style scoped>\n",
       "    .dataframe tbody tr th:only-of-type {\n",
       "        vertical-align: middle;\n",
       "    }\n",
       "\n",
       "    .dataframe tbody tr th {\n",
       "        vertical-align: top;\n",
       "    }\n",
       "\n",
       "    .dataframe thead th {\n",
       "        text-align: right;\n",
       "    }\n",
       "</style>\n",
       "<table border=\"1\" class=\"dataframe\">\n",
       "  <thead>\n",
       "    <tr style=\"text-align: right;\">\n",
       "      <th></th>\n",
       "      <th>경도</th>\n",
       "      <th>위도</th>\n",
       "      <th>해발고도</th>\n",
       "    </tr>\n",
       "  </thead>\n",
       "  <tbody>\n",
       "    <tr>\n",
       "      <th>0</th>\n",
       "      <td>360834.69</td>\n",
       "      <td>270532.46</td>\n",
       "      <td>3.89</td>\n",
       "    </tr>\n",
       "    <tr>\n",
       "      <th>1</th>\n",
       "      <td>360834.69</td>\n",
       "      <td>270442.46</td>\n",
       "      <td>7.82</td>\n",
       "    </tr>\n",
       "    <tr>\n",
       "      <th>2</th>\n",
       "      <td>360924.69</td>\n",
       "      <td>270532.46</td>\n",
       "      <td>3.89</td>\n",
       "    </tr>\n",
       "    <tr>\n",
       "      <th>3</th>\n",
       "      <td>360924.69</td>\n",
       "      <td>270442.46</td>\n",
       "      <td>7.91</td>\n",
       "    </tr>\n",
       "    <tr>\n",
       "      <th>4</th>\n",
       "      <td>361284.69</td>\n",
       "      <td>270172.46</td>\n",
       "      <td>62.52</td>\n",
       "    </tr>\n",
       "  </tbody>\n",
       "</table>\n",
       "</div>"
      ],
      "text/plain": [
       "          경도         위도   해발고도\n",
       "0  360834.69  270532.46   3.89\n",
       "1  360834.69  270442.46   7.82\n",
       "2  360924.69  270532.46   3.89\n",
       "3  360924.69  270442.46   7.91\n",
       "4  361284.69  270172.46  62.52"
      ]
     },
     "execution_count": 10,
     "metadata": {},
     "output_type": "execute_result"
    }
   ],
   "source": [
    "df_level = pd.read_csv(data_path[0], encoding='utf-8') # euc-kr 에러 -> utf-8 사용\n",
    "df_level.head()"
   ]
  },
  {
   "cell_type": "code",
   "execution_count": 11,
   "metadata": {},
   "outputs": [
    {
     "data": {
      "text/plain": [
       "'C:\\\\data\\\\\\\\부산 해발고도\\\\강서구.csv'"
      ]
     },
     "execution_count": 11,
     "metadata": {},
     "output_type": "execute_result"
    }
   ],
   "source": [
    "data_path[0]"
   ]
  },
  {
   "cell_type": "code",
   "execution_count": 20,
   "metadata": {},
   "outputs": [
    {
     "name": "stdout",
     "output_type": "stream",
     "text": [
      "강서구\n",
      "금정구\n",
      "기장군\n",
      "남구\n",
      "동구\n",
      "동래구\n",
      "부산진구\n",
      "북구\n",
      "사상구\n",
      "사하구\n",
      "서구\n",
      "수영구\n",
      "연제구\n",
      "영도구\n",
      "중구\n",
      "해운대구\n"
     ]
    }
   ],
   "source": [
    "for i in data_path:\n",
    "    fst_split = i.split('\\\\')[-1]\n",
    "    name_split = fst_split.split('.')[0]\n",
    "    print(name_split)"
   ]
  },
  {
   "cell_type": "code",
   "execution_count": 19,
   "metadata": {},
   "outputs": [
    {
     "data": {
      "text/plain": [
       "Index(['경도', '위도', '해발고도'], dtype='object')"
      ]
     },
     "execution_count": 19,
     "metadata": {},
     "output_type": "execute_result"
    }
   ],
   "source": [
    "df_level.columns"
   ]
  },
  {
   "cell_type": "code",
   "execution_count": 23,
   "metadata": {},
   "outputs": [
    {
     "data": {
      "text/plain": [
       "'해운대구'"
      ]
     },
     "execution_count": 23,
     "metadata": {},
     "output_type": "execute_result"
    }
   ],
   "source": [
    "name_split"
   ]
  },
  {
   "cell_type": "code",
   "execution_count": 25,
   "metadata": {},
   "outputs": [
    {
     "data": {
      "text/plain": [
       "{'경도': '해운대구_경도', '위도': '해운대구_위도', '해발고도': '해운대구_해발고도'}"
      ]
     },
     "execution_count": 25,
     "metadata": {},
     "output_type": "execute_result"
    }
   ],
   "source": [
    "re_col = {\n",
    "    '경도'    : name_split +'_'+'경도',\n",
    "    '위도'    : name_split +'_'+'위도',\n",
    "    '해발고도': name_split +'_'+'해발고도',\n",
    "}\n",
    "\n",
    "re_col"
   ]
  },
  {
   "cell_type": "code",
   "execution_count": null,
   "metadata": {},
   "outputs": [],
   "source": [
    "path = r'C:\\data\\\\부산 해발고도\\\\'\n",
    "data_path = glob.glob(path+'/*')\n",
    "data_path"
   ]
  },
  {
   "cell_type": "code",
   "execution_count": 27,
   "metadata": {},
   "outputs": [
    {
     "data": {
      "text/plain": [
       "'해운대구'"
      ]
     },
     "execution_count": 27,
     "metadata": {},
     "output_type": "execute_result"
    }
   ],
   "source": [
    "def each_Loction(path):\n",
    "    \"\"\"\n",
    "    \n",
    "    \"\"\"\n",
    "    data_path = glob.glob(path+'/*') # 데이터 불러오기 \n",
    "    # 데이터 로드 \n",
    "    for idx,i in enumerate(data_path):\n",
    "        df_level = pd.read_csv(data_path[idx], encoding='utf-8') \n",
    "        fst_split = i.split('\\\\')[-1]\n",
    "        name_split = fst_split.split('.')[0]\n",
    "#         print(name_split)\n",
    "        # 컬럼 재정의 \n",
    "        re_col = {\n",
    "                '경도'    : name_split +'_'+'경도',\n",
    "                '위도'    : name_split +'_'+'위도',\n",
    "                '해발고도': name_split +'_'+'해발고도' }\n",
    "        # 컬럼명 변경하기 \n",
    "        df = df_level.rename(change_name, axis='columns') \n",
    "        df_dra_notFull\n",
    "    return name_split\n",
    "\n",
    "each_Loction(path)"
   ]
  },
  {
   "cell_type": "code",
   "execution_count": null,
   "metadata": {},
   "outputs": [],
   "source": []
  }
 ],
 "metadata": {
  "kernelspec": {
   "display_name": "Python 3",
   "language": "python",
   "name": "python3"
  },
  "language_info": {
   "codemirror_mode": {
    "name": "ipython",
    "version": 3
   },
   "file_extension": ".py",
   "mimetype": "text/x-python",
   "name": "python",
   "nbconvert_exporter": "python",
   "pygments_lexer": "ipython3",
   "version": "3.8.3"
  }
 },
 "nbformat": 4,
 "nbformat_minor": 4
}
