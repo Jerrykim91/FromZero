{
 "cells": [
  {
   "cell_type": "code",
   "execution_count": 1,
   "metadata": {},
   "outputs": [],
   "source": [
    "import pandas as pd\n",
    "import os, glob, re\n",
    "import glob"
   ]
  },
  {
   "cell_type": "code",
   "execution_count": 2,
   "metadata": {},
   "outputs": [],
   "source": [
    "import plotly.express as px\n",
    "import matplotlib.pyplot as plt   # 맷폴렛- 그래프\n",
    "%matplotlib inline\n",
    "\n",
    "# ignore warnings\n",
    "import warnings    # 워닝 방지\n",
    "warnings.filterwarnings('ignore')\n",
    "\n",
    "####### matplotlib - 한글 폰트 깨짐 방지 코드 #######\n",
    "import platform\n",
    "\n",
    "if platform.system() == 'Darwin':    # 맥\n",
    "    font_name = 'AppleGothic'\n",
    "elif platform.system() == 'Linux':   # 리눅스\n",
    "    font_name = 'NanumGothic'\n",
    "elif platform.system() == 'Windows': # 윈도우\n",
    "    font_name = 'Malgun Gothic'\n",
    "else:\n",
    "    print('알수없는 시스템. 미적용')\n",
    "\n",
    "plt.rc('font', family=font_name)"
   ]
  },
  {
   "cell_type": "code",
   "execution_count": 3,
   "metadata": {},
   "outputs": [
    {
     "data": {
      "text/plain": [
       "'C:\\\\studyNote\\\\Project'"
      ]
     },
     "execution_count": 3,
     "metadata": {},
     "output_type": "execute_result"
    }
   ],
   "source": [
    "os.getcwd()"
   ]
  },
  {
   "cell_type": "markdown",
   "metadata": {},
   "source": [
    "여기서부터 분석시작!"
   ]
  },
  {
   "cell_type": "code",
   "execution_count": 51,
   "metadata": {},
   "outputs": [
    {
     "data": {
      "text/plain": [
       "Index(['시도시군구', '코드', '기준연도', '불투수면 비율(%)', '불투수면 면적(㎢)', '행정구역면적(㎢)',\n",
       "       'Unnamed: 6', 'Unnamed: 7', 'Unnamed: 8', 'Unnamed: 9'],\n",
       "      dtype='object')"
      ]
     },
     "execution_count": 51,
     "metadata": {},
     "output_type": "execute_result"
    }
   ],
   "source": [
    "tes = pd.read_excel('면적.xlsx', encoding='euc-kr') \n",
    "tes.columns"
   ]
  },
  {
   "cell_type": "code",
   "execution_count": 52,
   "metadata": {},
   "outputs": [
    {
     "data": {
      "text/html": [
       "<div>\n",
       "<style scoped>\n",
       "    .dataframe tbody tr th:only-of-type {\n",
       "        vertical-align: middle;\n",
       "    }\n",
       "\n",
       "    .dataframe tbody tr th {\n",
       "        vertical-align: top;\n",
       "    }\n",
       "\n",
       "    .dataframe thead th {\n",
       "        text-align: right;\n",
       "    }\n",
       "</style>\n",
       "<table border=\"1\" class=\"dataframe\">\n",
       "  <thead>\n",
       "    <tr style=\"text-align: right;\">\n",
       "      <th></th>\n",
       "      <th>Unnamed: 0</th>\n",
       "      <th>gu</th>\n",
       "      <th>도시피해면적</th>\n",
       "      <th>시설용량</th>\n",
       "      <th>유출관크기면적</th>\n",
       "      <th>불투수면적</th>\n",
       "      <th>저지대율</th>\n",
       "    </tr>\n",
       "  </thead>\n",
       "  <tbody>\n",
       "    <tr>\n",
       "      <th>0</th>\n",
       "      <td>1</td>\n",
       "      <td>해운대구</td>\n",
       "      <td>-0.407230</td>\n",
       "      <td>1.439911</td>\n",
       "      <td>0.638602</td>\n",
       "      <td>-0.828487</td>\n",
       "      <td>0.066854</td>\n",
       "    </tr>\n",
       "    <tr>\n",
       "      <th>1</th>\n",
       "      <td>2</td>\n",
       "      <td>중구</td>\n",
       "      <td>-0.407230</td>\n",
       "      <td>-0.486777</td>\n",
       "      <td>-0.419981</td>\n",
       "      <td>2.042589</td>\n",
       "      <td>1.353763</td>\n",
       "    </tr>\n",
       "    <tr>\n",
       "      <th>2</th>\n",
       "      <td>3</td>\n",
       "      <td>영도구</td>\n",
       "      <td>-0.407230</td>\n",
       "      <td>-1.134716</td>\n",
       "      <td>-0.880235</td>\n",
       "      <td>1.044806</td>\n",
       "      <td>0.688045</td>\n",
       "    </tr>\n",
       "    <tr>\n",
       "      <th>3</th>\n",
       "      <td>4</td>\n",
       "      <td>연제구</td>\n",
       "      <td>-0.407230</td>\n",
       "      <td>-0.457183</td>\n",
       "      <td>-0.419981</td>\n",
       "      <td>1.000871</td>\n",
       "      <td>0.698546</td>\n",
       "    </tr>\n",
       "    <tr>\n",
       "      <th>4</th>\n",
       "      <td>5</td>\n",
       "      <td>수영구</td>\n",
       "      <td>-0.407230</td>\n",
       "      <td>-1.703845</td>\n",
       "      <td>-1.340489</td>\n",
       "      <td>0.876497</td>\n",
       "      <td>1.011026</td>\n",
       "    </tr>\n",
       "    <tr>\n",
       "      <th>5</th>\n",
       "      <td>6</td>\n",
       "      <td>서구</td>\n",
       "      <td>-0.407230</td>\n",
       "      <td>-1.026311</td>\n",
       "      <td>-0.604083</td>\n",
       "      <td>0.822557</td>\n",
       "      <td>-0.854462</td>\n",
       "    </tr>\n",
       "    <tr>\n",
       "      <th>6</th>\n",
       "      <td>7</td>\n",
       "      <td>사하구</td>\n",
       "      <td>-0.407230</td>\n",
       "      <td>0.599770</td>\n",
       "      <td>0.776678</td>\n",
       "      <td>0.506864</td>\n",
       "      <td>0.765463</td>\n",
       "    </tr>\n",
       "    <tr>\n",
       "      <th>7</th>\n",
       "      <td>8</td>\n",
       "      <td>사상구</td>\n",
       "      <td>-0.407230</td>\n",
       "      <td>-0.663153</td>\n",
       "      <td>-1.708691</td>\n",
       "      <td>0.202257</td>\n",
       "      <td>0.117839</td>\n",
       "    </tr>\n",
       "    <tr>\n",
       "      <th>8</th>\n",
       "      <td>9</td>\n",
       "      <td>북구</td>\n",
       "      <td>-0.407230</td>\n",
       "      <td>-1.210600</td>\n",
       "      <td>-0.373956</td>\n",
       "      <td>0.196761</td>\n",
       "      <td>-0.852283</td>\n",
       "    </tr>\n",
       "    <tr>\n",
       "      <th>9</th>\n",
       "      <td>10</td>\n",
       "      <td>부산진구</td>\n",
       "      <td>-0.407230</td>\n",
       "      <td>-0.321676</td>\n",
       "      <td>-0.512032</td>\n",
       "      <td>-0.070484</td>\n",
       "      <td>-0.613462</td>\n",
       "    </tr>\n",
       "    <tr>\n",
       "      <th>10</th>\n",
       "      <td>11</td>\n",
       "      <td>동래구</td>\n",
       "      <td>-0.407230</td>\n",
       "      <td>0.084844</td>\n",
       "      <td>-0.604083</td>\n",
       "      <td>-0.194126</td>\n",
       "      <td>-1.615003</td>\n",
       "    </tr>\n",
       "    <tr>\n",
       "      <th>11</th>\n",
       "      <td>12</td>\n",
       "      <td>동구</td>\n",
       "      <td>-0.407230</td>\n",
       "      <td>0.901950</td>\n",
       "      <td>0.408475</td>\n",
       "      <td>-0.736071</td>\n",
       "      <td>-1.615003</td>\n",
       "    </tr>\n",
       "    <tr>\n",
       "      <th>12</th>\n",
       "      <td>13</td>\n",
       "      <td>남구</td>\n",
       "      <td>-0.407230</td>\n",
       "      <td>0.301655</td>\n",
       "      <td>0.914754</td>\n",
       "      <td>-0.904633</td>\n",
       "      <td>1.143565</td>\n",
       "    </tr>\n",
       "    <tr>\n",
       "      <th>13</th>\n",
       "      <td>14</td>\n",
       "      <td>기장군</td>\n",
       "      <td>-0.407230</td>\n",
       "      <td>1.006290</td>\n",
       "      <td>1.559109</td>\n",
       "      <td>-1.016275</td>\n",
       "      <td>-0.775206</td>\n",
       "    </tr>\n",
       "    <tr>\n",
       "      <th>14</th>\n",
       "      <td>15</td>\n",
       "      <td>금정구</td>\n",
       "      <td>-0.407230</td>\n",
       "      <td>1.182449</td>\n",
       "      <td>0.592577</td>\n",
       "      <td>-1.182819</td>\n",
       "      <td>-0.802152</td>\n",
       "    </tr>\n",
       "    <tr>\n",
       "      <th>15</th>\n",
       "      <td>16</td>\n",
       "      <td>강서구</td>\n",
       "      <td>-0.351077</td>\n",
       "      <td>1.487393</td>\n",
       "      <td>1.973337</td>\n",
       "      <td>-1.760305</td>\n",
       "      <td>1.282470</td>\n",
       "    </tr>\n",
       "  </tbody>\n",
       "</table>\n",
       "</div>"
      ],
      "text/plain": [
       "    Unnamed: 0    gu    도시피해면적      시설용량   유출관크기면적     불투수면적      저지대율\n",
       "0            1  해운대구 -0.407230  1.439911  0.638602 -0.828487  0.066854\n",
       "1            2    중구 -0.407230 -0.486777 -0.419981  2.042589  1.353763\n",
       "2            3   영도구 -0.407230 -1.134716 -0.880235  1.044806  0.688045\n",
       "3            4   연제구 -0.407230 -0.457183 -0.419981  1.000871  0.698546\n",
       "4            5   수영구 -0.407230 -1.703845 -1.340489  0.876497  1.011026\n",
       "5            6    서구 -0.407230 -1.026311 -0.604083  0.822557 -0.854462\n",
       "6            7   사하구 -0.407230  0.599770  0.776678  0.506864  0.765463\n",
       "7            8   사상구 -0.407230 -0.663153 -1.708691  0.202257  0.117839\n",
       "8            9    북구 -0.407230 -1.210600 -0.373956  0.196761 -0.852283\n",
       "9           10  부산진구 -0.407230 -0.321676 -0.512032 -0.070484 -0.613462\n",
       "10          11   동래구 -0.407230  0.084844 -0.604083 -0.194126 -1.615003\n",
       "11          12    동구 -0.407230  0.901950  0.408475 -0.736071 -1.615003\n",
       "12          13    남구 -0.407230  0.301655  0.914754 -0.904633  1.143565\n",
       "13          14   기장군 -0.407230  1.006290  1.559109 -1.016275 -0.775206\n",
       "14          15   금정구 -0.407230  1.182449  0.592577 -1.182819 -0.802152\n",
       "15          16   강서구 -0.351077  1.487393  1.973337 -1.760305  1.282470"
      ]
     },
     "execution_count": 52,
     "metadata": {},
     "output_type": "execute_result"
    }
   ],
   "source": [
    "df_2015 = pd.read_csv('2015.csv', encoding='euc-kr') \n",
    "df_2015"
   ]
  },
  {
   "cell_type": "code",
   "execution_count": 53,
   "metadata": {},
   "outputs": [
    {
     "data": {
      "text/plain": [
       "0.8446577141993867"
      ]
     },
     "execution_count": 53,
     "metadata": {},
     "output_type": "execute_result"
    }
   ],
   "source": [
    "df_2015.시설용량.corr(df_2015.유출관크기면적) #corr()로는 유의확률 구할 수 없어."
   ]
  },
  {
   "cell_type": "code",
   "execution_count": 54,
   "metadata": {},
   "outputs": [
    {
     "data": {
      "text/plain": [
       "0.8446577141993867"
      ]
     },
     "execution_count": 54,
     "metadata": {},
     "output_type": "execute_result"
    }
   ],
   "source": [
    "df_2015.시설용량.corr(df_2015.유출관크기면적)"
   ]
  },
  {
   "cell_type": "code",
   "execution_count": 55,
   "metadata": {},
   "outputs": [],
   "source": [
    "# df_2015.불투수면비율.corr(df.침수심평균)"
   ]
  },
  {
   "cell_type": "code",
   "execution_count": 56,
   "metadata": {},
   "outputs": [
    {
     "data": {
      "text/plain": [
       "0       3.0130\n",
       "1      12.1511\n",
       "2      10.3490\n",
       "3      16.6740\n",
       "4      10.0945\n",
       "5      27.2755\n",
       "6      29.7783\n",
       "7      14.6276\n",
       "8      14.1426\n",
       "9      36.2455\n",
       "10     47.1056\n",
       "11     52.3186\n",
       "12    184.8830\n",
       "13     39.7572\n",
       "14     65.7313\n",
       "15    219.8776\n",
       "16    784.0244\n",
       "Name: 행정구역면적(㎢), dtype: float64"
      ]
     },
     "execution_count": 56,
     "metadata": {},
     "output_type": "execute_result"
    }
   ],
   "source": [
    "tes['행정구역면적(㎢)']"
   ]
  },
  {
   "cell_type": "code",
   "execution_count": 57,
   "metadata": {},
   "outputs": [
    {
     "data": {
      "text/plain": [
       "0       3.0130\n",
       "1      12.1511\n",
       "2      10.3490\n",
       "3      16.6740\n",
       "4      10.0945\n",
       "5      27.2755\n",
       "6      29.7783\n",
       "7      14.6276\n",
       "8      14.1426\n",
       "9      36.2455\n",
       "10     47.1056\n",
       "11     52.3186\n",
       "12    184.8830\n",
       "13     39.7572\n",
       "14     65.7313\n",
       "15    219.8776\n",
       "Name: 행정구역면적(㎢), dtype: float64"
      ]
     },
     "execution_count": 57,
     "metadata": {},
     "output_type": "execute_result"
    }
   ],
   "source": [
    "tes['행정구역면적(㎢)'][:-1]"
   ]
  },
  {
   "cell_type": "code",
   "execution_count": 59,
   "metadata": {},
   "outputs": [
    {
     "data": {
      "text/plain": [
       "16"
      ]
     },
     "execution_count": 59,
     "metadata": {},
     "output_type": "execute_result"
    }
   ],
   "source": [
    "len(tes['행정구역면적(㎢)'][:-1])"
   ]
  },
  {
   "cell_type": "code",
   "execution_count": 60,
   "metadata": {},
   "outputs": [],
   "source": [
    "df_2015['Unnamed: 0']=tes['행정구역면적(㎢)'][:-1]\n",
    "df_2015 = df_2015.rename({'Unnamed: 0':'행정구역면적'}, axis='columns')"
   ]
  },
  {
   "cell_type": "code",
   "execution_count": 61,
   "metadata": {},
   "outputs": [
    {
     "data": {
      "text/plain": [
       "Index(['행정구역면적', 'gu', '도시피해면적', '시설용량', '유출관크기면적', '불투수면적', '저지대율'], dtype='object')"
      ]
     },
     "execution_count": 61,
     "metadata": {},
     "output_type": "execute_result"
    }
   ],
   "source": [
    "df_2015.columns"
   ]
  },
  {
   "cell_type": "code",
   "execution_count": 62,
   "metadata": {},
   "outputs": [
    {
     "data": {
      "text/plain": [
       "0       3.0130\n",
       "1      12.1511\n",
       "2      10.3490\n",
       "3      16.6740\n",
       "4      10.0945\n",
       "5      27.2755\n",
       "6      29.7783\n",
       "7      14.6276\n",
       "8      14.1426\n",
       "9      36.2455\n",
       "10     47.1056\n",
       "11     52.3186\n",
       "12    184.8830\n",
       "13     39.7572\n",
       "14     65.7313\n",
       "15    219.8776\n",
       "Name: 행정구역면적, dtype: float64"
      ]
     },
     "execution_count": 62,
     "metadata": {},
     "output_type": "execute_result"
    }
   ],
   "source": [
    "df_2015['행정구역면적']"
   ]
  },
  {
   "cell_type": "code",
   "execution_count": 72,
   "metadata": {},
   "outputs": [],
   "source": [
    "from sklearn.preprocessing import StandardScaler\n",
    "from sklearn.preprocessing import MinMaxScaler"
   ]
  },
  {
   "cell_type": "code",
   "execution_count": 77,
   "metadata": {},
   "outputs": [
    {
     "data": {
      "text/plain": [
       "[3.0129999999999995,\n",
       " 12.151099999999998,\n",
       " 10.349000000000006,\n",
       " 16.674,\n",
       " 10.094499999999998,\n",
       " 27.2755,\n",
       " 29.77829999999999,\n",
       " 14.627599999999994,\n",
       " 14.142599999999998,\n",
       " 36.24549999999999,\n",
       " 47.1056,\n",
       " 52.31859999999998,\n",
       " 184.88299999999995,\n",
       " 39.7572,\n",
       " 65.73129999999999,\n",
       " 219.87759999999994]"
      ]
     },
     "execution_count": 77,
     "metadata": {},
     "output_type": "execute_result"
    }
   ],
   "source": [
    "list(df_2015['행정구역면적'])"
   ]
  },
  {
   "cell_type": "code",
   "execution_count": 80,
   "metadata": {},
   "outputs": [
    {
     "data": {
      "text/plain": [
       "array([  3.013 ,  12.1511,  10.349 ,  16.674 ,  10.0945,  27.2755,\n",
       "        29.7783,  14.6276,  14.1426,  36.2455,  47.1056,  52.3186,\n",
       "       184.883 ,  39.7572,  65.7313, 219.8776])"
      ]
     },
     "execution_count": 80,
     "metadata": {},
     "output_type": "execute_result"
    }
   ],
   "source": [
    "df_2015['행정구역면적'].values"
   ]
  },
  {
   "cell_type": "code",
   "execution_count": 117,
   "metadata": {},
   "outputs": [],
   "source": [
    "tmp = df_2015[['행정구역면적', '도시피해면적', '시설용량', '유출관크기면적', '불투수면적', '저지대율']]"
   ]
  },
  {
   "cell_type": "code",
   "execution_count": 118,
   "metadata": {},
   "outputs": [
    {
     "data": {
      "text/plain": [
       "array([[ 3.01300000e+00, -4.07229835e-01,  1.43991133e+00,\n",
       "         6.38601865e-01, -8.28486773e-01,  6.68538417e-02],\n",
       "       [ 1.21511000e+01, -4.07229835e-01, -4.86777396e-01,\n",
       "        -4.19981406e-01,  2.04258860e+00,  1.35376301e+00],\n",
       "       [ 1.03490000e+01, -4.07229835e-01, -1.13471632e+00,\n",
       "        -8.80235003e-01,  1.04480573e+00,  6.88045430e-01],\n",
       "       [ 1.66740000e+01, -4.07229835e-01, -4.57182729e-01,\n",
       "        -4.19981406e-01,  1.00087055e+00,  6.98546045e-01],\n",
       "       [ 1.00945000e+01, -4.07229835e-01, -1.70384454e+00,\n",
       "        -1.34048860e+00,  8.76497018e-01,  1.01102605e+00],\n",
       "       [ 2.72755000e+01, -4.07229835e-01, -1.02631095e+00,\n",
       "        -6.04082845e-01,  8.22557481e-01, -8.54462212e-01],\n",
       "       [ 2.97783000e+01, -4.07229835e-01,  5.99769673e-01,\n",
       "         7.76677944e-01,  5.06864160e-01,  7.65462720e-01],\n",
       "       [ 1.46276000e+01, -4.07229835e-01, -6.63152940e-01,\n",
       "        -1.70869148e+00,  2.02256605e-01,  1.17839023e-01],\n",
       "       [ 1.41426000e+01, -4.07229835e-01, -1.21060008e+00,\n",
       "        -3.73956047e-01,  1.96760835e-01, -8.52283323e-01],\n",
       "       [ 3.62455000e+01, -4.07229835e-01, -3.21676011e-01,\n",
       "        -5.12032126e-01, -7.04843217e-02, -6.13462221e-01],\n",
       "       [ 4.71056000e+01, -4.07229835e-01,  8.48441439e-02,\n",
       "        -6.04082845e-01, -1.94126178e-01, -1.61500263e+00],\n",
       "       [ 5.23186000e+01, -4.07229835e-01,  9.01949655e-01,\n",
       "         4.08475067e-01, -7.36070820e-01, -1.61500263e+00],\n",
       "       [ 1.84883000e+02, -4.07229835e-01,  3.01654893e-01,\n",
       "         9.14754022e-01, -9.04633471e-01,  1.14356470e+00],\n",
       "       [ 3.97572000e+01, -4.07229835e-01,  1.00628983e+00,\n",
       "         1.55910906e+00, -1.01627518e+00, -7.75206037e-01],\n",
       "       [ 6.57313000e+01, -4.07229835e-01,  1.18244856e+00,\n",
       "         5.92576505e-01, -1.18281896e+00, -8.02151795e-01],\n",
       "       [ 2.19877600e+02, -3.51076917e-01,  1.48739288e+00,\n",
       "         1.97333729e+00, -1.76030528e+00,  1.28247003e+00]])"
      ]
     },
     "execution_count": 118,
     "metadata": {},
     "output_type": "execute_result"
    }
   ],
   "source": [
    "tmp.values"
   ]
  },
  {
   "cell_type": "code",
   "execution_count": null,
   "metadata": {},
   "outputs": [],
   "source": []
  },
  {
   "cell_type": "code",
   "execution_count": 124,
   "metadata": {},
   "outputs": [
    {
     "name": "stdout",
     "output_type": "stream",
     "text": [
      "[[ 0.85508226 -0.11557086  0.40864342  0.1812337  -0.23512258  0.01897296]\n",
      " [ 0.97842287 -0.03279069 -0.03919597 -0.03381747  0.16447197  0.10900681]\n",
      " [ 0.98274828 -0.03867083 -0.10775346 -0.08358773  0.09921548  0.06533728]\n",
      " [ 0.99634962 -0.02433389 -0.02731881 -0.02509586  0.0598067   0.0417414 ]\n",
      " [ 0.96885666 -0.03908538 -0.16353273 -0.12865831  0.08412502  0.09703693]\n",
      " [ 0.99799599 -0.01490032 -0.03755217 -0.02210307  0.03009694 -0.03126432]\n",
      " [ 0.99889013 -0.01366021  0.02011881  0.02605306  0.01700237  0.02567686]\n",
      " [ 0.99173768 -0.0276098  -0.04496115 -0.11584769  0.01371281  0.00798938]\n",
      " [ 0.99371925 -0.0286137  -0.08506191 -0.02627574  0.01382525 -0.05988505]\n",
      " [ 0.99965278 -0.01123142 -0.00887184 -0.01412187 -0.00194396 -0.01691932]\n",
      " [ 0.99928334 -0.00863885  0.00179986 -0.01281482 -0.00411813 -0.03426016]\n",
      " [ 0.99921615 -0.00777755  0.01722605  0.00780133 -0.01405798 -0.03084442]\n",
      " [ 0.99995291 -0.00220253  0.00163152  0.00494751 -0.00489277  0.00618505]\n",
      " [ 0.99834559 -0.01022597  0.02526901  0.03915089 -0.02551975 -0.01946625]\n",
      " [ 0.99954231 -0.00619254  0.01798089  0.00901101 -0.01798652 -0.01219791]\n",
      " [ 0.99988654 -0.00159651  0.00676387  0.00897369 -0.00800493  0.00583199]]\n"
     ]
    }
   ],
   "source": [
    "from sklearn.preprocessing import Normalizer\n",
    "array = tmp.values\n",
    "X = array[:,0:]\n",
    "# print(X)\n",
    "scaler = Normalizer().fit(X)\n",
    "normalizedX = scaler.transform(X)\n",
    "\n",
    "print(normalizedX)"
   ]
  },
  {
   "cell_type": "code",
   "execution_count": 63,
   "metadata": {},
   "outputs": [
    {
     "data": {
      "text/html": [
       "<div>\n",
       "<style scoped>\n",
       "    .dataframe tbody tr th:only-of-type {\n",
       "        vertical-align: middle;\n",
       "    }\n",
       "\n",
       "    .dataframe tbody tr th {\n",
       "        vertical-align: top;\n",
       "    }\n",
       "\n",
       "    .dataframe thead th {\n",
       "        text-align: right;\n",
       "    }\n",
       "</style>\n",
       "<table border=\"1\" class=\"dataframe\">\n",
       "  <thead>\n",
       "    <tr style=\"text-align: right;\">\n",
       "      <th></th>\n",
       "      <th>행정구역면적</th>\n",
       "      <th>gu</th>\n",
       "      <th>도시피해면적</th>\n",
       "      <th>시설용량</th>\n",
       "      <th>유출관크기면적</th>\n",
       "      <th>불투수면적</th>\n",
       "      <th>저지대율</th>\n",
       "    </tr>\n",
       "  </thead>\n",
       "  <tbody>\n",
       "    <tr>\n",
       "      <th>0</th>\n",
       "      <td>3.0130</td>\n",
       "      <td>해운대구</td>\n",
       "      <td>-0.407230</td>\n",
       "      <td>1.439911</td>\n",
       "      <td>0.638602</td>\n",
       "      <td>-0.828487</td>\n",
       "      <td>0.066854</td>\n",
       "    </tr>\n",
       "    <tr>\n",
       "      <th>1</th>\n",
       "      <td>12.1511</td>\n",
       "      <td>중구</td>\n",
       "      <td>-0.407230</td>\n",
       "      <td>-0.486777</td>\n",
       "      <td>-0.419981</td>\n",
       "      <td>2.042589</td>\n",
       "      <td>1.353763</td>\n",
       "    </tr>\n",
       "    <tr>\n",
       "      <th>2</th>\n",
       "      <td>10.3490</td>\n",
       "      <td>영도구</td>\n",
       "      <td>-0.407230</td>\n",
       "      <td>-1.134716</td>\n",
       "      <td>-0.880235</td>\n",
       "      <td>1.044806</td>\n",
       "      <td>0.688045</td>\n",
       "    </tr>\n",
       "    <tr>\n",
       "      <th>3</th>\n",
       "      <td>16.6740</td>\n",
       "      <td>연제구</td>\n",
       "      <td>-0.407230</td>\n",
       "      <td>-0.457183</td>\n",
       "      <td>-0.419981</td>\n",
       "      <td>1.000871</td>\n",
       "      <td>0.698546</td>\n",
       "    </tr>\n",
       "    <tr>\n",
       "      <th>4</th>\n",
       "      <td>10.0945</td>\n",
       "      <td>수영구</td>\n",
       "      <td>-0.407230</td>\n",
       "      <td>-1.703845</td>\n",
       "      <td>-1.340489</td>\n",
       "      <td>0.876497</td>\n",
       "      <td>1.011026</td>\n",
       "    </tr>\n",
       "    <tr>\n",
       "      <th>5</th>\n",
       "      <td>27.2755</td>\n",
       "      <td>서구</td>\n",
       "      <td>-0.407230</td>\n",
       "      <td>-1.026311</td>\n",
       "      <td>-0.604083</td>\n",
       "      <td>0.822557</td>\n",
       "      <td>-0.854462</td>\n",
       "    </tr>\n",
       "    <tr>\n",
       "      <th>6</th>\n",
       "      <td>29.7783</td>\n",
       "      <td>사하구</td>\n",
       "      <td>-0.407230</td>\n",
       "      <td>0.599770</td>\n",
       "      <td>0.776678</td>\n",
       "      <td>0.506864</td>\n",
       "      <td>0.765463</td>\n",
       "    </tr>\n",
       "    <tr>\n",
       "      <th>7</th>\n",
       "      <td>14.6276</td>\n",
       "      <td>사상구</td>\n",
       "      <td>-0.407230</td>\n",
       "      <td>-0.663153</td>\n",
       "      <td>-1.708691</td>\n",
       "      <td>0.202257</td>\n",
       "      <td>0.117839</td>\n",
       "    </tr>\n",
       "    <tr>\n",
       "      <th>8</th>\n",
       "      <td>14.1426</td>\n",
       "      <td>북구</td>\n",
       "      <td>-0.407230</td>\n",
       "      <td>-1.210600</td>\n",
       "      <td>-0.373956</td>\n",
       "      <td>0.196761</td>\n",
       "      <td>-0.852283</td>\n",
       "    </tr>\n",
       "    <tr>\n",
       "      <th>9</th>\n",
       "      <td>36.2455</td>\n",
       "      <td>부산진구</td>\n",
       "      <td>-0.407230</td>\n",
       "      <td>-0.321676</td>\n",
       "      <td>-0.512032</td>\n",
       "      <td>-0.070484</td>\n",
       "      <td>-0.613462</td>\n",
       "    </tr>\n",
       "    <tr>\n",
       "      <th>10</th>\n",
       "      <td>47.1056</td>\n",
       "      <td>동래구</td>\n",
       "      <td>-0.407230</td>\n",
       "      <td>0.084844</td>\n",
       "      <td>-0.604083</td>\n",
       "      <td>-0.194126</td>\n",
       "      <td>-1.615003</td>\n",
       "    </tr>\n",
       "    <tr>\n",
       "      <th>11</th>\n",
       "      <td>52.3186</td>\n",
       "      <td>동구</td>\n",
       "      <td>-0.407230</td>\n",
       "      <td>0.901950</td>\n",
       "      <td>0.408475</td>\n",
       "      <td>-0.736071</td>\n",
       "      <td>-1.615003</td>\n",
       "    </tr>\n",
       "    <tr>\n",
       "      <th>12</th>\n",
       "      <td>184.8830</td>\n",
       "      <td>남구</td>\n",
       "      <td>-0.407230</td>\n",
       "      <td>0.301655</td>\n",
       "      <td>0.914754</td>\n",
       "      <td>-0.904633</td>\n",
       "      <td>1.143565</td>\n",
       "    </tr>\n",
       "    <tr>\n",
       "      <th>13</th>\n",
       "      <td>39.7572</td>\n",
       "      <td>기장군</td>\n",
       "      <td>-0.407230</td>\n",
       "      <td>1.006290</td>\n",
       "      <td>1.559109</td>\n",
       "      <td>-1.016275</td>\n",
       "      <td>-0.775206</td>\n",
       "    </tr>\n",
       "    <tr>\n",
       "      <th>14</th>\n",
       "      <td>65.7313</td>\n",
       "      <td>금정구</td>\n",
       "      <td>-0.407230</td>\n",
       "      <td>1.182449</td>\n",
       "      <td>0.592577</td>\n",
       "      <td>-1.182819</td>\n",
       "      <td>-0.802152</td>\n",
       "    </tr>\n",
       "    <tr>\n",
       "      <th>15</th>\n",
       "      <td>219.8776</td>\n",
       "      <td>강서구</td>\n",
       "      <td>-0.351077</td>\n",
       "      <td>1.487393</td>\n",
       "      <td>1.973337</td>\n",
       "      <td>-1.760305</td>\n",
       "      <td>1.282470</td>\n",
       "    </tr>\n",
       "  </tbody>\n",
       "</table>\n",
       "</div>"
      ],
      "text/plain": [
       "      행정구역면적    gu    도시피해면적      시설용량   유출관크기면적     불투수면적      저지대율\n",
       "0     3.0130  해운대구 -0.407230  1.439911  0.638602 -0.828487  0.066854\n",
       "1    12.1511    중구 -0.407230 -0.486777 -0.419981  2.042589  1.353763\n",
       "2    10.3490   영도구 -0.407230 -1.134716 -0.880235  1.044806  0.688045\n",
       "3    16.6740   연제구 -0.407230 -0.457183 -0.419981  1.000871  0.698546\n",
       "4    10.0945   수영구 -0.407230 -1.703845 -1.340489  0.876497  1.011026\n",
       "5    27.2755    서구 -0.407230 -1.026311 -0.604083  0.822557 -0.854462\n",
       "6    29.7783   사하구 -0.407230  0.599770  0.776678  0.506864  0.765463\n",
       "7    14.6276   사상구 -0.407230 -0.663153 -1.708691  0.202257  0.117839\n",
       "8    14.1426    북구 -0.407230 -1.210600 -0.373956  0.196761 -0.852283\n",
       "9    36.2455  부산진구 -0.407230 -0.321676 -0.512032 -0.070484 -0.613462\n",
       "10   47.1056   동래구 -0.407230  0.084844 -0.604083 -0.194126 -1.615003\n",
       "11   52.3186    동구 -0.407230  0.901950  0.408475 -0.736071 -1.615003\n",
       "12  184.8830    남구 -0.407230  0.301655  0.914754 -0.904633  1.143565\n",
       "13   39.7572   기장군 -0.407230  1.006290  1.559109 -1.016275 -0.775206\n",
       "14   65.7313   금정구 -0.407230  1.182449  0.592577 -1.182819 -0.802152\n",
       "15  219.8776   강서구 -0.351077  1.487393  1.973337 -1.760305  1.282470"
      ]
     },
     "execution_count": 63,
     "metadata": {},
     "output_type": "execute_result"
    }
   ],
   "source": [
    "df_2015"
   ]
  },
  {
   "cell_type": "code",
   "execution_count": 15,
   "metadata": {},
   "outputs": [],
   "source": [
    "import seaborn as sns"
   ]
  },
  {
   "cell_type": "code",
   "execution_count": 122,
   "metadata": {},
   "outputs": [
    {
     "ename": "TypeError",
     "evalue": "'data' must be pandas DataFrame object, not: <class 'numpy.ndarray'>",
     "output_type": "error",
     "traceback": [
      "\u001b[1;31m---------------------------------------------------------------------------\u001b[0m",
      "\u001b[1;31mTypeError\u001b[0m                                 Traceback (most recent call last)",
      "\u001b[1;32m<ipython-input-122-b57ba2264fea>\u001b[0m in \u001b[0;36m<module>\u001b[1;34m\u001b[0m\n\u001b[0;32m      1\u001b[0m \u001b[0mcols\u001b[0m \u001b[1;33m=\u001b[0m \u001b[0mdf_2015\u001b[0m\u001b[1;33m.\u001b[0m\u001b[0mcolumns\u001b[0m\u001b[1;33m[\u001b[0m\u001b[1;33m[\u001b[0m\u001b[1;36m0\u001b[0m\u001b[1;33m,\u001b[0m\u001b[1;36m2\u001b[0m\u001b[1;33m,\u001b[0m\u001b[1;36m3\u001b[0m\u001b[1;33m,\u001b[0m\u001b[1;36m4\u001b[0m\u001b[1;33m,\u001b[0m\u001b[1;36m5\u001b[0m\u001b[1;33m,\u001b[0m\u001b[1;36m6\u001b[0m\u001b[1;33m]\u001b[0m\u001b[1;33m]\u001b[0m\u001b[1;33m\u001b[0m\u001b[1;33m\u001b[0m\u001b[0m\n\u001b[1;32m----> 2\u001b[1;33m \u001b[0msns\u001b[0m\u001b[1;33m.\u001b[0m\u001b[0mpairplot\u001b[0m\u001b[1;33m(\u001b[0m\u001b[0mnormalizedX\u001b[0m\u001b[1;33m,\u001b[0m \u001b[0mkind\u001b[0m \u001b[1;33m=\u001b[0m \u001b[1;34m'reg'\u001b[0m\u001b[1;33m)\u001b[0m\u001b[1;33m\u001b[0m\u001b[1;33m\u001b[0m\u001b[0m\n\u001b[0m",
      "\u001b[1;32m~\\anaconda3\\lib\\site-packages\\seaborn\\axisgrid.py\u001b[0m in \u001b[0;36mpairplot\u001b[1;34m(data, hue, hue_order, palette, vars, x_vars, y_vars, kind, diag_kind, markers, height, aspect, corner, dropna, plot_kws, diag_kws, grid_kws, size)\u001b[0m\n\u001b[0;32m   2072\u001b[0m \u001b[1;33m\u001b[0m\u001b[0m\n\u001b[0;32m   2073\u001b[0m     \u001b[1;32mif\u001b[0m \u001b[1;32mnot\u001b[0m \u001b[0misinstance\u001b[0m\u001b[1;33m(\u001b[0m\u001b[0mdata\u001b[0m\u001b[1;33m,\u001b[0m \u001b[0mpd\u001b[0m\u001b[1;33m.\u001b[0m\u001b[0mDataFrame\u001b[0m\u001b[1;33m)\u001b[0m\u001b[1;33m:\u001b[0m\u001b[1;33m\u001b[0m\u001b[1;33m\u001b[0m\u001b[0m\n\u001b[1;32m-> 2074\u001b[1;33m         raise TypeError(\n\u001b[0m\u001b[0;32m   2075\u001b[0m             \"'data' must be pandas DataFrame object, not: {typefound}\".format(\n\u001b[0;32m   2076\u001b[0m                 typefound=type(data)))\n",
      "\u001b[1;31mTypeError\u001b[0m: 'data' must be pandas DataFrame object, not: <class 'numpy.ndarray'>"
     ]
    }
   ],
   "source": [
    "cols = df_2015.columns[[0,2,3,4,5,6]]\n",
    "sns.pairplot(df_2015[cols], kind = 'reg')"
   ]
  },
  {
   "cell_type": "code",
   "execution_count": 139,
   "metadata": {
    "scrolled": true
   },
   "outputs": [
    {
     "data": {
      "text/plain": [
       "<seaborn.axisgrid.PairGrid at 0x1432d2eac40>"
      ]
     },
     "execution_count": 139,
     "metadata": {},
     "output_type": "execute_result"
    },
    {
     "data": {
      "image/png": "[encoded data removed]",
      "text/plain": [
       "<Figure size 1080x1080 with 42 Axes>"
      ]
     },
     "metadata": {
      "needs_background": "light"
     },
     "output_type": "display_data"
    }
   ],
   "source": [
    "cols = ['도시피해면적','행정구역면적',  '시설용량', '유출관크기면적', '불투수면적', '저지대율']\n",
    "sns.pairplot(data_a[cols], kind = 'reg')"
   ]
  },
  {
   "cell_type": "code",
   "execution_count": 126,
   "metadata": {},
   "outputs": [],
   "source": [
    "data_a = pd.DataFrame(normalizedX,columns=['행정구역면적', '도시피해면적', '시설용량', '유출관크기면적', '불투수면적', '저지대율'])"
   ]
  },
  {
   "cell_type": "code",
   "execution_count": 127,
   "metadata": {},
   "outputs": [
    {
     "data": {
      "text/html": [
       "<div>\n",
       "<style scoped>\n",
       "    .dataframe tbody tr th:only-of-type {\n",
       "        vertical-align: middle;\n",
       "    }\n",
       "\n",
       "    .dataframe tbody tr th {\n",
       "        vertical-align: top;\n",
       "    }\n",
       "\n",
       "    .dataframe thead th {\n",
       "        text-align: right;\n",
       "    }\n",
       "</style>\n",
       "<table border=\"1\" class=\"dataframe\">\n",
       "  <thead>\n",
       "    <tr style=\"text-align: right;\">\n",
       "      <th></th>\n",
       "      <th>행정구역면적</th>\n",
       "      <th>도시피해면적</th>\n",
       "      <th>시설용량</th>\n",
       "      <th>유출관크기면적</th>\n",
       "      <th>불투수면적</th>\n",
       "      <th>저지대율</th>\n",
       "    </tr>\n",
       "  </thead>\n",
       "  <tbody>\n",
       "    <tr>\n",
       "      <th>0</th>\n",
       "      <td>0.855082</td>\n",
       "      <td>-0.115571</td>\n",
       "      <td>0.408643</td>\n",
       "      <td>0.181234</td>\n",
       "      <td>-0.235123</td>\n",
       "      <td>0.018973</td>\n",
       "    </tr>\n",
       "    <tr>\n",
       "      <th>1</th>\n",
       "      <td>0.978423</td>\n",
       "      <td>-0.032791</td>\n",
       "      <td>-0.039196</td>\n",
       "      <td>-0.033817</td>\n",
       "      <td>0.164472</td>\n",
       "      <td>0.109007</td>\n",
       "    </tr>\n",
       "    <tr>\n",
       "      <th>2</th>\n",
       "      <td>0.982748</td>\n",
       "      <td>-0.038671</td>\n",
       "      <td>-0.107753</td>\n",
       "      <td>-0.083588</td>\n",
       "      <td>0.099215</td>\n",
       "      <td>0.065337</td>\n",
       "    </tr>\n",
       "    <tr>\n",
       "      <th>3</th>\n",
       "      <td>0.996350</td>\n",
       "      <td>-0.024334</td>\n",
       "      <td>-0.027319</td>\n",
       "      <td>-0.025096</td>\n",
       "      <td>0.059807</td>\n",
       "      <td>0.041741</td>\n",
       "    </tr>\n",
       "    <tr>\n",
       "      <th>4</th>\n",
       "      <td>0.968857</td>\n",
       "      <td>-0.039085</td>\n",
       "      <td>-0.163533</td>\n",
       "      <td>-0.128658</td>\n",
       "      <td>0.084125</td>\n",
       "      <td>0.097037</td>\n",
       "    </tr>\n",
       "    <tr>\n",
       "      <th>5</th>\n",
       "      <td>0.997996</td>\n",
       "      <td>-0.014900</td>\n",
       "      <td>-0.037552</td>\n",
       "      <td>-0.022103</td>\n",
       "      <td>0.030097</td>\n",
       "      <td>-0.031264</td>\n",
       "    </tr>\n",
       "    <tr>\n",
       "      <th>6</th>\n",
       "      <td>0.998890</td>\n",
       "      <td>-0.013660</td>\n",
       "      <td>0.020119</td>\n",
       "      <td>0.026053</td>\n",
       "      <td>0.017002</td>\n",
       "      <td>0.025677</td>\n",
       "    </tr>\n",
       "    <tr>\n",
       "      <th>7</th>\n",
       "      <td>0.991738</td>\n",
       "      <td>-0.027610</td>\n",
       "      <td>-0.044961</td>\n",
       "      <td>-0.115848</td>\n",
       "      <td>0.013713</td>\n",
       "      <td>0.007989</td>\n",
       "    </tr>\n",
       "    <tr>\n",
       "      <th>8</th>\n",
       "      <td>0.993719</td>\n",
       "      <td>-0.028614</td>\n",
       "      <td>-0.085062</td>\n",
       "      <td>-0.026276</td>\n",
       "      <td>0.013825</td>\n",
       "      <td>-0.059885</td>\n",
       "    </tr>\n",
       "    <tr>\n",
       "      <th>9</th>\n",
       "      <td>0.999653</td>\n",
       "      <td>-0.011231</td>\n",
       "      <td>-0.008872</td>\n",
       "      <td>-0.014122</td>\n",
       "      <td>-0.001944</td>\n",
       "      <td>-0.016919</td>\n",
       "    </tr>\n",
       "    <tr>\n",
       "      <th>10</th>\n",
       "      <td>0.999283</td>\n",
       "      <td>-0.008639</td>\n",
       "      <td>0.001800</td>\n",
       "      <td>-0.012815</td>\n",
       "      <td>-0.004118</td>\n",
       "      <td>-0.034260</td>\n",
       "    </tr>\n",
       "    <tr>\n",
       "      <th>11</th>\n",
       "      <td>0.999216</td>\n",
       "      <td>-0.007778</td>\n",
       "      <td>0.017226</td>\n",
       "      <td>0.007801</td>\n",
       "      <td>-0.014058</td>\n",
       "      <td>-0.030844</td>\n",
       "    </tr>\n",
       "    <tr>\n",
       "      <th>12</th>\n",
       "      <td>0.999953</td>\n",
       "      <td>-0.002203</td>\n",
       "      <td>0.001632</td>\n",
       "      <td>0.004948</td>\n",
       "      <td>-0.004893</td>\n",
       "      <td>0.006185</td>\n",
       "    </tr>\n",
       "    <tr>\n",
       "      <th>13</th>\n",
       "      <td>0.998346</td>\n",
       "      <td>-0.010226</td>\n",
       "      <td>0.025269</td>\n",
       "      <td>0.039151</td>\n",
       "      <td>-0.025520</td>\n",
       "      <td>-0.019466</td>\n",
       "    </tr>\n",
       "    <tr>\n",
       "      <th>14</th>\n",
       "      <td>0.999542</td>\n",
       "      <td>-0.006193</td>\n",
       "      <td>0.017981</td>\n",
       "      <td>0.009011</td>\n",
       "      <td>-0.017987</td>\n",
       "      <td>-0.012198</td>\n",
       "    </tr>\n",
       "    <tr>\n",
       "      <th>15</th>\n",
       "      <td>0.999887</td>\n",
       "      <td>-0.001597</td>\n",
       "      <td>0.006764</td>\n",
       "      <td>0.008974</td>\n",
       "      <td>-0.008005</td>\n",
       "      <td>0.005832</td>\n",
       "    </tr>\n",
       "  </tbody>\n",
       "</table>\n",
       "</div>"
      ],
      "text/plain": [
       "      행정구역면적    도시피해면적      시설용량   유출관크기면적     불투수면적      저지대율\n",
       "0   0.855082 -0.115571  0.408643  0.181234 -0.235123  0.018973\n",
       "1   0.978423 -0.032791 -0.039196 -0.033817  0.164472  0.109007\n",
       "2   0.982748 -0.038671 -0.107753 -0.083588  0.099215  0.065337\n",
       "3   0.996350 -0.024334 -0.027319 -0.025096  0.059807  0.041741\n",
       "4   0.968857 -0.039085 -0.163533 -0.128658  0.084125  0.097037\n",
       "5   0.997996 -0.014900 -0.037552 -0.022103  0.030097 -0.031264\n",
       "6   0.998890 -0.013660  0.020119  0.026053  0.017002  0.025677\n",
       "7   0.991738 -0.027610 -0.044961 -0.115848  0.013713  0.007989\n",
       "8   0.993719 -0.028614 -0.085062 -0.026276  0.013825 -0.059885\n",
       "9   0.999653 -0.011231 -0.008872 -0.014122 -0.001944 -0.016919\n",
       "10  0.999283 -0.008639  0.001800 -0.012815 -0.004118 -0.034260\n",
       "11  0.999216 -0.007778  0.017226  0.007801 -0.014058 -0.030844\n",
       "12  0.999953 -0.002203  0.001632  0.004948 -0.004893  0.006185\n",
       "13  0.998346 -0.010226  0.025269  0.039151 -0.025520 -0.019466\n",
       "14  0.999542 -0.006193  0.017981  0.009011 -0.017987 -0.012198\n",
       "15  0.999887 -0.001597  0.006764  0.008974 -0.008005  0.005832"
      ]
     },
     "execution_count": 127,
     "metadata": {},
     "output_type": "execute_result"
    }
   ],
   "source": [
    "data_a"
   ]
  },
  {
   "cell_type": "code",
   "execution_count": 135,
   "metadata": {},
   "outputs": [
    {
     "name": "stdout",
     "output_type": "stream",
     "text": [
      "      도시피해면적    행정구역면적      시설용량   유출관크기면적     불투수면적      저지대율\n",
      "0  -0.115571  0.855082  0.408643  0.181234 -0.235123  0.018973\n",
      "1  -0.032791  0.978423 -0.039196 -0.033817  0.164472  0.109007\n",
      "2  -0.038671  0.982748 -0.107753 -0.083588  0.099215  0.065337\n",
      "3  -0.024334  0.996350 -0.027319 -0.025096  0.059807  0.041741\n",
      "4  -0.039085  0.968857 -0.163533 -0.128658  0.084125  0.097037\n",
      "5  -0.014900  0.997996 -0.037552 -0.022103  0.030097 -0.031264\n",
      "6  -0.013660  0.998890  0.020119  0.026053  0.017002  0.025677\n",
      "7  -0.027610  0.991738 -0.044961 -0.115848  0.013713  0.007989\n",
      "8  -0.028614  0.993719 -0.085062 -0.026276  0.013825 -0.059885\n",
      "9  -0.011231  0.999653 -0.008872 -0.014122 -0.001944 -0.016919\n",
      "10 -0.008639  0.999283  0.001800 -0.012815 -0.004118 -0.034260\n",
      "11 -0.007778  0.999216  0.017226  0.007801 -0.014058 -0.030844\n",
      "12 -0.002203  0.999953  0.001632  0.004948 -0.004893  0.006185\n",
      "13 -0.010226  0.998346  0.025269  0.039151 -0.025520 -0.019466\n",
      "14 -0.006193  0.999542  0.017981  0.009011 -0.017987 -0.012198\n",
      "15 -0.001597  0.999887  0.006764  0.008974 -0.008005  0.005832\n"
     ]
    },
    {
     "data": {
      "image/png": "[encoded data removed]",
      "text/plain": [
       "<Figure size 1152x1152 with 2 Axes>"
      ]
     },
     "metadata": {
      "needs_background": "light"
     },
     "output_type": "display_data"
    }
   ],
   "source": [
    "# 필요 특징만 꺼내서 진행 \n",
    "heatmap_data = data_a[['도시피해면적','행정구역면적',  '시설용량', '유출관크기면적', '불투수면적', '저지대율']] \n",
    "\n",
    "colormap = plt.cm.RdBu\n",
    "plt.figure(figsize=(16, 16))\n",
    "plt.title('Pearson Correlation of Features', y=1.1, size=20)\n",
    "\n",
    "sns.heatmap(heatmap_data.astype(float).corr(), linewidths=0.1, vmax=1.0,\n",
    "           square=True, cmap=colormap, linecolor='white', annot=True, annot_kws={\"size\": 15})\n",
    "\n",
    "print(heatmap_data)"
   ]
  },
  {
   "cell_type": "code",
   "execution_count": 18,
   "metadata": {},
   "outputs": [],
   "source": [
    "import scipy.stats as stats"
   ]
  },
  {
   "cell_type": "code",
   "execution_count": 19,
   "metadata": {},
   "outputs": [
    {
     "data": {
      "text/plain": [
       "(0.8446577141993865, 3.841713744748429e-05)"
      ]
     },
     "execution_count": 19,
     "metadata": {},
     "output_type": "execute_result"
    }
   ],
   "source": [
    "cor1 = stats.pearsonr(df_2015.시설용량, df_2015.유출관크기면적) #피어슨 상관분석\n",
    "cor1"
   ]
  },
  {
   "cell_type": "code",
   "execution_count": 20,
   "metadata": {},
   "outputs": [
    {
     "data": {
      "text/plain": [
       "SpearmanrResult(correlation=0.7952880495319079, pvalue=0.00023060363042941252)"
      ]
     },
     "execution_count": 20,
     "metadata": {},
     "output_type": "execute_result"
    }
   ],
   "source": [
    "cor1_spear = stats.spearmanr(df_2015.시설용량, df_2015.유출관크기면적) #스피어만 상관계수 검정\n",
    "cor1_spear"
   ]
  },
  {
   "cell_type": "code",
   "execution_count": 21,
   "metadata": {},
   "outputs": [
    {
     "data": {
      "text/plain": [
       "(-0.7791350723932424, 0.0003746576355439746)"
      ]
     },
     "execution_count": 21,
     "metadata": {},
     "output_type": "execute_result"
    }
   ],
   "source": [
    "cor2 = stats.pearsonr(df_2015.시설용량, df_2015.불투수면적)\n",
    "cor2"
   ]
  },
  {
   "cell_type": "code",
   "execution_count": 22,
   "metadata": {},
   "outputs": [
    {
     "data": {
      "text/plain": [
       "SpearmanrResult(correlation=-0.7941176470588236, pvalue=0.0002391909276256312)"
      ]
     },
     "execution_count": 22,
     "metadata": {},
     "output_type": "execute_result"
    }
   ],
   "source": [
    "cor2_spear = stats.spearmanr(df_2015.시설용량, df_2015.불투수면적)\n",
    "cor2_spear"
   ]
  },
  {
   "cell_type": "code",
   "execution_count": 23,
   "metadata": {},
   "outputs": [
    {
     "data": {
      "text/plain": [
       "(-0.12562973673708977, 0.6429343995034401)"
      ]
     },
     "execution_count": 23,
     "metadata": {},
     "output_type": "execute_result"
    }
   ],
   "source": [
    "cor3 = stats.pearsonr(df_2015.시설용량, df_2015.저지대율)\n",
    "cor3"
   ]
  },
  {
   "cell_type": "code",
   "execution_count": 24,
   "metadata": {},
   "outputs": [
    {
     "data": {
      "text/plain": [
       "SpearmanrResult(correlation=-0.02207506116394726, pvalue=0.9353253445612628)"
      ]
     },
     "execution_count": 24,
     "metadata": {},
     "output_type": "execute_result"
    }
   ],
   "source": [
    "cor3_spear = stats.spearmanr(df_2015.시설용량, df_2015.저지대율)\n",
    "cor3_spear"
   ]
  },
  {
   "cell_type": "code",
   "execution_count": 25,
   "metadata": {},
   "outputs": [],
   "source": [
    "import statsmodels.formula.api as smf"
   ]
  },
  {
   "cell_type": "code",
   "execution_count": 136,
   "metadata": {},
   "outputs": [
    {
     "name": "stdout",
     "output_type": "stream",
     "text": [
      "                            OLS Regression Results                            \n",
      "==============================================================================\n",
      "Dep. Variable:                 도시피해면적   R-squared:                       0.559\n",
      "Model:                            OLS   Adj. R-squared:                  0.339\n",
      "Method:                 Least Squares   F-statistic:                     2.540\n",
      "Date:                Tue, 22 Sep 2020   Prob (F-statistic):             0.0983\n",
      "Time:                        21:09:19   Log-Likelihood:                 52.627\n",
      "No. Observations:                  16   AIC:                            -93.25\n",
      "Df Residuals:                      10   BIC:                            -88.62\n",
      "Df Model:                           5                                         \n",
      "Covariance Type:            nonrobust                                         \n",
      "==============================================================================\n",
      "                 coef    std err          t      P>|t|      [0.025      0.975]\n",
      "------------------------------------------------------------------------------\n",
      "Intercept     -0.4098      0.005    -80.400      0.000      -0.421      -0.398\n",
      "행정구역면적         0.0001   8.62e-05      1.433      0.182   -6.85e-05       0.000\n",
      "시설용량           0.0002      0.007      0.036      0.972      -0.015       0.015\n",
      "유출관크기면적        0.0006      0.006      0.090      0.930      -0.014       0.015\n",
      "불투수면적         -0.0017      0.007     -0.253      0.805      -0.017       0.013\n",
      "저지대율           0.0030      0.004      0.751      0.470      -0.006       0.012\n",
      "==============================================================================\n",
      "Omnibus:                        9.642   Durbin-Watson:                   1.630\n",
      "Prob(Omnibus):                  0.008   Jarque-Bera (JB):               11.023\n",
      "Skew:                          -0.422   Prob(JB):                      0.00404\n",
      "Kurtosis:                       6.978   Cond. No.                         260.\n",
      "==============================================================================\n",
      "\n",
      "Warnings:\n",
      "[1] Standard Errors assume that the covariance matrix of the errors is correctly specified.\n"
     ]
    }
   ],
   "source": [
    "model2 = smf.ols(formula = ' 도시피해면적 ~ 행정구역면적+시설용량+유출관크기면적+불투수면적+저지대율', data = df_2015)\n",
    "result = model2.fit()\n",
    "print(result.summary())"
   ]
  },
  {
   "cell_type": "code",
   "execution_count": 27,
   "metadata": {},
   "outputs": [
    {
     "name": "stdout",
     "output_type": "stream",
     "text": [
      "                            OLS Regression Results                            \n",
      "==============================================================================\n",
      "Dep. Variable:                 도시피해면적   R-squared:                       0.357\n",
      "Model:                            OLS   Adj. R-squared:                  0.197\n",
      "Method:                 Least Squares   F-statistic:                     2.224\n",
      "Date:                Tue, 22 Sep 2020   Prob (F-statistic):              0.138\n",
      "Time:                        20:15:29   Log-Likelihood:                 49.606\n",
      "No. Observations:                  16   AIC:                            -91.21\n",
      "Df Residuals:                      12   BIC:                            -88.12\n",
      "Df Model:                           3                                         \n",
      "Covariance Type:            nonrobust                                         \n",
      "==============================================================================\n",
      "                 coef    std err          t      P>|t|      [0.025      0.975]\n",
      "------------------------------------------------------------------------------\n",
      "Intercept     -0.4037      0.003   -128.345      0.000      -0.411      -0.397\n",
      "시설용량           0.0004      0.006      0.062      0.951      -0.013       0.014\n",
      "유출관크기면적        0.0065      0.006      1.035      0.321      -0.007       0.020\n",
      "저지대율           0.0042      0.003      1.257      0.233      -0.003       0.012\n",
      "==============================================================================\n",
      "Omnibus:                       15.392   Durbin-Watson:                   1.344\n",
      "Prob(Omnibus):                  0.000   Jarque-Bera (JB):               13.511\n",
      "Skew:                           1.578   Prob(JB):                      0.00116\n",
      "Kurtosis:                       6.210   Cond. No.                         3.70\n",
      "==============================================================================\n",
      "\n",
      "Warnings:\n",
      "[1] Standard Errors assume that the covariance matrix of the errors is correctly specified.\n"
     ]
    }
   ],
   "source": [
    "model3 = smf.ols(formula = '도시피해면적 ~ 시설용량+유출관크기면적+저지대율', data = df_2015)\n",
    "result2 = model3.fit()\n",
    "print(result2.summary())"
   ]
  },
  {
   "cell_type": "code",
   "execution_count": null,
   "metadata": {},
   "outputs": [],
   "source": []
  },
  {
   "cell_type": "code",
   "execution_count": null,
   "metadata": {},
   "outputs": [],
   "source": []
  }
 ],
 "metadata": {
  "kernelspec": {
   "display_name": "Python 3",
   "language": "python",
   "name": "python3"
  },
  "language_info": {
   "codemirror_mode": {
    "name": "ipython",
    "version": 3
   },
   "file_extension": ".py",
   "mimetype": "text/x-python",
   "name": "python",
   "nbconvert_exporter": "python",
   "pygments_lexer": "ipython3",
   "version": "3.8.3"
  }
 },
 "nbformat": 4,
 "nbformat_minor": 4
}
