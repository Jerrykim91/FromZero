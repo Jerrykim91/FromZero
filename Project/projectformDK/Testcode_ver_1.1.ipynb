{
 "cells": [
  {
   "cell_type": "code",
   "execution_count": 1,
   "metadata": {},
   "outputs": [],
   "source": [
    "# 기본 \n",
    "import pandas as pd\n",
    "import numpy as np\n",
    "import os, glob, re\n",
    "\n",
    "# 그래프 \n",
    "import plotly.express as px\n",
    "import matplotlib.pyplot as plt   # 맷폴렛- 그래프\n",
    "%matplotlib inline\n",
    "\n",
    "# ignore warnings\n",
    "import warnings    # 워닝 방지\n",
    "warnings.filterwarnings('ignore')\n",
    "\n",
    "####### matplotlib - 한글 폰트 깨짐 방지 코드 #######\n",
    "import platform\n",
    "\n",
    "if platform.system() == 'Darwin':    # 맥\n",
    "    font_name = 'AppleGothic'\n",
    "elif platform.system() == 'Linux':   # 리눅스\n",
    "    font_name = 'NanumGothic'\n",
    "elif platform.system() == 'Windows': # 윈도우\n",
    "    font_name = 'Malgun Gothic'\n",
    "else:\n",
    "    print('알수없는 시스템. 미적용')\n",
    "\n",
    "plt.rc('font', family=font_name)\n",
    "\n",
    "encoding = ['euc-kr','utf-8', 'CP949', 'utf-8-sig'] "
   ]
  },
  {
   "cell_type": "code",
   "execution_count": 2,
   "metadata": {},
   "outputs": [
    {
     "data": {
      "text/plain": [
       "'C:\\\\studyNote\\\\projectformDK'"
      ]
     },
     "execution_count": 2,
     "metadata": {},
     "output_type": "execute_result"
    }
   ],
   "source": [
    "os.getcwd() # 현재 디렉토리위치"
   ]
  },
  {
   "cell_type": "code",
   "execution_count": 3,
   "metadata": {},
   "outputs": [],
   "source": [
    "# 변수 \n",
    "path = 'C:\\\\studyNote\\\\projectformDK\\\\data\\\\'\n",
    "name = 'data2.csv'\n",
    "data_path = glob.glob(path+name)"
   ]
  },
  {
   "cell_type": "code",
   "execution_count": 4,
   "metadata": {},
   "outputs": [
    {
     "data": {
      "text/plain": [
       "['C:\\\\studyNote\\\\projectformDK\\\\data\\\\data.csv',\n",
       " 'C:\\\\studyNote\\\\projectformDK\\\\data\\\\data2.csv',\n",
       " 'C:\\\\studyNote\\\\projectformDK\\\\data\\\\기상개황_20200922232758.xlsx',\n",
       " 'C:\\\\studyNote\\\\projectformDK\\\\data\\\\등록인구추이_20200922232814.xlsx',\n",
       " 'C:\\\\studyNote\\\\projectformDK\\\\data\\\\자연재해.xls',\n",
       " 'C:\\\\studyNote\\\\projectformDK\\\\data\\\\자연재해복구비.xls',\n",
       " 'C:\\\\studyNote\\\\projectformDK\\\\data\\\\지방세_부담_20200922232824.xlsx',\n",
       " 'C:\\\\studyNote\\\\projectformDK\\\\data\\\\풍수해_발생_20200922232742.xlsx']"
      ]
     },
     "execution_count": 4,
     "metadata": {},
     "output_type": "execute_result"
    }
   ],
   "source": [
    "glob.glob(path+'*')"
   ]
  },
  {
   "cell_type": "code",
   "execution_count": 6,
   "metadata": {
    "colab": {
     "base_uri": "https://localhost:8080/",
     "height": 582
    },
    "colab_type": "code",
    "id": "z495RzAtuxSe",
    "outputId": "51efc2a7-201c-43be-a1ae-b457c1eacbfc",
    "scrolled": true
   },
   "outputs": [
    {
     "name": "stdout",
     "output_type": "stream",
     "text": [
      "<class 'pandas.core.frame.DataFrame'>\n",
      "RangeIndex: 24 entries, 0 to 23\n",
      "Data columns (total 6 columns):\n",
      " #   Column    Non-Null Count  Dtype  \n",
      "---  ------    --------------  -----  \n",
      " 0   year      24 non-null     int64  \n",
      " 1   pay_main  24 non-null     int64  \n",
      " 2   die       24 non-null     int64  \n",
      " 3   win_mean  24 non-null     float64\n",
      " 4   win_max   24 non-null     float64\n",
      " 5   win_ins   24 non-null     float64\n",
      "dtypes: float64(3), int64(3)\n",
      "memory usage: 1.2 KB\n"
     ]
    },
    {
     "data": {
      "text/html": [
       "<div>\n",
       "<style scoped>\n",
       "    .dataframe tbody tr th:only-of-type {\n",
       "        vertical-align: middle;\n",
       "    }\n",
       "\n",
       "    .dataframe tbody tr th {\n",
       "        vertical-align: top;\n",
       "    }\n",
       "\n",
       "    .dataframe thead th {\n",
       "        text-align: right;\n",
       "    }\n",
       "</style>\n",
       "<table border=\"1\" class=\"dataframe\">\n",
       "  <thead>\n",
       "    <tr style=\"text-align: right;\">\n",
       "      <th></th>\n",
       "      <th>pay_main</th>\n",
       "      <th>die</th>\n",
       "      <th>win_mean</th>\n",
       "      <th>win_max</th>\n",
       "      <th>win_ins</th>\n",
       "    </tr>\n",
       "  </thead>\n",
       "  <tbody>\n",
       "    <tr>\n",
       "      <th>19</th>\n",
       "      <td>94515000</td>\n",
       "      <td>2</td>\n",
       "      <td>3.2</td>\n",
       "      <td>14.6</td>\n",
       "      <td>21.6</td>\n",
       "    </tr>\n",
       "    <tr>\n",
       "      <th>20</th>\n",
       "      <td>14141</td>\n",
       "      <td>0</td>\n",
       "      <td>3.1</td>\n",
       "      <td>15.1</td>\n",
       "      <td>25.3</td>\n",
       "    </tr>\n",
       "    <tr>\n",
       "      <th>21</th>\n",
       "      <td>66085150</td>\n",
       "      <td>2</td>\n",
       "      <td>3.1</td>\n",
       "      <td>18.6</td>\n",
       "      <td>28.3</td>\n",
       "    </tr>\n",
       "    <tr>\n",
       "      <th>22</th>\n",
       "      <td>1803408</td>\n",
       "      <td>0</td>\n",
       "      <td>3.2</td>\n",
       "      <td>15.3</td>\n",
       "      <td>21.9</td>\n",
       "    </tr>\n",
       "    <tr>\n",
       "      <th>23</th>\n",
       "      <td>7297329</td>\n",
       "      <td>3</td>\n",
       "      <td>3.2</td>\n",
       "      <td>19.2</td>\n",
       "      <td>33.6</td>\n",
       "    </tr>\n",
       "  </tbody>\n",
       "</table>\n",
       "</div>"
      ],
      "text/plain": [
       "    pay_main  die  win_mean  win_max  win_ins\n",
       "19  94515000    2       3.2     14.6     21.6\n",
       "20     14141    0       3.1     15.1     25.3\n",
       "21  66085150    2       3.1     18.6     28.3\n",
       "22   1803408    0       3.2     15.3     21.9\n",
       "23   7297329    3       3.2     19.2     33.6"
      ]
     },
     "execution_count": 6,
     "metadata": {},
     "output_type": "execute_result"
    }
   ],
   "source": [
    "data = pd.read_csv(data_path[0], encoding='cp949')\n",
    "data.info()\n",
    "data = data.iloc[:,1:]\n",
    "data.tail(5)"
   ]
  },
  {
   "cell_type": "code",
   "execution_count": null,
   "metadata": {},
   "outputs": [],
   "source": [
    "# data.csv\n",
    "data_columns_info={\n",
    "    'pay_main' : '피해액', \n",
    "    'die' : '사망자', \n",
    "    'victim' : '수재민', \n",
    "    'area' : '지역', \n",
    "    'pay_dis' :'자연재해피해액(10억 원)',\n",
    "    'pay_rec' :'총복구액(억)', \n",
    "    'tem_mean' : '평균기온',\n",
    "    'tem_hi' : '최고극값' ,\n",
    "    'tem_lo' : '최저극값', \n",
    "    'rain'   : '강수량', \n",
    "    'win_mean':'평균풍속',\n",
    "    'win_max':'최대풍속', \n",
    "    'win_ins':'최대순간풍속',    \n",
    "}"
   ]
  },
  {
   "cell_type": "code",
   "execution_count": null,
   "metadata": {
    "colab": {
     "base_uri": "https://localhost:8080/",
     "height": 53
    },
    "colab_type": "code",
    "id": "21KV5wu-vFkg",
    "outputId": "d7b6252a-2e75-4022-e7a1-7b006afba384"
   },
   "outputs": [],
   "source": [
    "x = data.iloc[:, 1:] # 독립변수 \n",
    "y = data.iloc[:,:1]  #종속 변수 \n",
    "\n",
    "print(x.shape)\n",
    "print(y.shape)\n",
    "# y = target"
   ]
  },
  {
   "cell_type": "code",
   "execution_count": null,
   "metadata": {
    "colab": {
     "base_uri": "https://localhost:8080/",
     "height": 89
    },
    "colab_type": "code",
    "id": "g_O2L8A4fPiV",
    "outputId": "2fd34622-964b-471a-df22-a790841bb1b4"
   },
   "outputs": [],
   "source": [
    "from sklearn.model_selection import train_test_split\n",
    "from sklearn.preprocessing import MinMaxScaler\n",
    "from sklearn.preprocessing import StandardScaler\n",
    "\n",
    "mmsc = MinMaxScaler()\n",
    "stsc = StandardScaler()\n",
    "\n",
    "x = mmsc.fit_transform(x)\n",
    "x = stsc.fit_transform(x)\n",
    "y = mmsc.fit_transform(y)   # 머신러닝을 위한 정규화\n",
    "y = stsc.fit_transform(y)\n",
    "x_train, x_test, y_train, y_test = train_test_split(x, y, test_size=0.2, random_state=5)\n",
    "\n",
    "print(x_train.shape)\n",
    "print(y_train.shape)\n",
    "print(x_test.shape)\n",
    "print(y_test.shape)"
   ]
  },
  {
   "cell_type": "code",
   "execution_count": null,
   "metadata": {
    "colab": {
     "base_uri": "https://localhost:8080/",
     "height": 709
    },
    "colab_type": "code",
    "id": "SUxRhDbtfPlG",
    "outputId": "a54548cb-c11a-404c-a136-26231cd84dc7"
   },
   "outputs": [],
   "source": [
    "from statsmodels.formula.api import ols\n",
    "\n",
    "linear_reg = ols('pay_main ~ die + victim + area + pay_dis + pay_rec + tem_mean + tem_hi + tem_lo + rain + win_mean + win_max + win_ins', data=data).fit()\n",
    "# linear_reg = ols('pay_main ~ die + win_mean + win_max + win_ins', data=data).fit()\n",
    "linear_reg.summary()"
   ]
  },
  {
   "cell_type": "code",
   "execution_count": null,
   "metadata": {
    "colab": {
     "base_uri": "https://localhost:8080/",
     "height": 317
    },
    "colab_type": "code",
    "id": "OOOuO1BVsC7-",
    "outputId": "86b8e902-a1d0-4227-a148-70298c9c697c"
   },
   "outputs": [],
   "source": [
    "from sklearn.linear_model import LinearRegression\n",
    "\n",
    "reg_model = LinearRegression().fit(x_train, y_train)\n",
    "reg_pred = np.expm1(reg_model.predict(x_test))\n",
    "print(\"훈련 세트 정확도: {:.3f}\".format(reg_model.score(x_train, y_train)))\n",
    "print(\"테스트 세트 정확도: {:.3f}\".format(reg_model.score(x_test, y_test)))\n",
    "\n",
    "reg_pred=pd.DataFrame(reg_pred)\n",
    "plt.plot(y_test, 'ro-', label=\"real\")\n",
    "plt.plot(reg_pred, 'bs-', label=\"predict\")\n",
    "plt.legend()\n",
    "plt.title(\"Regression\")\n",
    "plt.show()"
   ]
  },
  {
   "cell_type": "code",
   "execution_count": null,
   "metadata": {},
   "outputs": [],
   "source": [
    "!pip install xgboost "
   ]
  },
  {
   "cell_type": "code",
   "execution_count": null,
   "metadata": {
    "colab": {
     "base_uri": "https://localhost:8080/",
     "height": 371
    },
    "colab_type": "code",
    "id": "JEXZ5bqDrI3E",
    "outputId": "9ce5e78b-a49a-484c-859f-e363acd3d610"
   },
   "outputs": [],
   "source": [
    "import xgboost as xgb\n",
    "\n",
    "xgb = xgb.XGBRegressor(colsample_bytree=0.47,\n",
    "                       gamma= 0.046,\n",
    "                      learning_rate=0.05,\n",
    "                      max_depth=5,\n",
    "                      min_child_weight=1.8,\n",
    "                      n_estimators=2000).fit(x_train, y_train)\n",
    "xgb_pred = np.expm1(xgb.predict(x_test))\n",
    "print(\"훈련 세트 정확도: {:.3f}\".format(xgb.score(x_train, y_train)))\n",
    "print(\"테스트 세트 정확도: {:.3f}\".format(xgb.score(x_test, y_test)))\n",
    "print(xgb.feature_importances_)\n",
    "\n",
    "xgb_pred=pd.DataFrame(xgb_pred)\n",
    "plt.plot(y_test, 'ro-', label=\"real\")\n",
    "plt.plot(xgb_pred, 'bs-', label=\"predict\")\n",
    "plt.legend()\n",
    "plt.title(\"XGBoost\")\n",
    "plt.show()"
   ]
  },
  {
   "cell_type": "code",
   "execution_count": null,
   "metadata": {
    "colab": {
     "base_uri": "https://localhost:8080/",
     "height": 353
    },
    "colab_type": "code",
    "id": "chinv7Nqwy2u",
    "outputId": "f9df0b0d-609f-47f4-fbec-5d095b6a0288"
   },
   "outputs": [],
   "source": [
    "from sklearn.svm import SVR\n",
    "\n",
    "svr = SVR(C=1.5,\n",
    "          cache_size=200,\n",
    "          coef0=0,\n",
    "          degree=15,\n",
    "          kernel='rbf',\n",
    "          shrinking=True).fit(x_train, y_train)\n",
    "\n",
    "svr_pred = np.expm1(svr.predict(x_test))\n",
    "print(\"훈련 세트 정확도: {:.3f}\".format(svr.score(x_train, y_train)))\n",
    "print(\"테스트 세트 정확도: {:.3f}\".format(svr.score(x_test, y_test)))\n",
    "\n",
    "svr_pred=pd.DataFrame(svr_pred)\n",
    "plt.plot(y_test, 'ro-', label=\"real\")\n",
    "plt.plot(svr_pred, 'bs-', label=\"predict\")\n",
    "plt.legend()\n",
    "plt.title(\"SVR\")\n",
    "plt.show()"
   ]
  },
  {
   "cell_type": "code",
   "execution_count": null,
   "metadata": {
    "colab": {
     "base_uri": "https://localhost:8080/",
     "height": 389
    },
    "colab_type": "code",
    "id": "sQQNRtzw_Nrl",
    "outputId": "74e1f11a-2f47-405f-a2c5-44b61837a381"
   },
   "outputs": [],
   "source": [
    "from sklearn.ensemble import RandomForestRegressor\n",
    "\n",
    "rf = RandomForestRegressor(n_estimators=2000).fit(x_train, y_train)\n",
    "\n",
    "rf_pred = np.expm1(rf.predict(x_test))\n",
    "print(\"훈련 세트 정확도: {:.3f}\".format(rf.score(x_train, y_train)))\n",
    "print(\"테스트 세트 정확도: {:.3f}\".format(rf.score(x_test, y_test)))\n",
    "print(rf.feature_importances_)\n",
    "\n",
    "rf_pred=pd.DataFrame(rf_pred)\n",
    "plt.plot(y_test, 'ro-', label=\"real\")\n",
    "plt.plot(rf_pred, 'bs-', label=\"predict\")\n",
    "plt.legend()\n",
    "plt.title(\"RandomForest\")\n",
    "plt.show()"
   ]
  },
  {
   "cell_type": "code",
   "execution_count": null,
   "metadata": {
    "colab": {},
    "colab_type": "code",
    "id": "xOYRc20K7neL"
   },
   "outputs": [],
   "source": []
  },
  {
   "cell_type": "code",
   "execution_count": null,
   "metadata": {},
   "outputs": [],
   "source": []
  },
  {
   "cell_type": "code",
   "execution_count": null,
   "metadata": {},
   "outputs": [],
   "source": []
  }
 ],
 "metadata": {
  "colab": {
   "name": "강성안",
   "provenance": []
  },
  "kernelspec": {
   "display_name": "Python 3",
   "language": "python",
   "name": "python3"
  },
  "language_info": {
   "codemirror_mode": {
    "name": "ipython",
    "version": 3
   },
   "file_extension": ".py",
   "mimetype": "text/x-python",
   "name": "python",
   "nbconvert_exporter": "python",
   "pygments_lexer": "ipython3",
   "version": "3.7.6"
  }
 },
 "nbformat": 4,
 "nbformat_minor": 1
}
