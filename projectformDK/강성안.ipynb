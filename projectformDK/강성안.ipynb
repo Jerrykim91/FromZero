{
  "nbformat": 4,
  "nbformat_minor": 0,
  "metadata": {
    "colab": {
      "name": "강성안",
      "provenance": []
    },
    "kernelspec": {
      "name": "python3",
      "display_name": "Python 3"
    }
  },
  "cells": [
    {
      "cell_type": "code",
      "metadata": {
        "id": "waiOERCKnuDe",
        "colab_type": "code",
        "colab": {}
      },
      "source": [
        "from google.colab import files\n",
        "import pandas as pd\n",
        "import numpy as np\n",
        "import matplotlib.pyplot as plt"
      ],
      "execution_count": 11,
      "outputs": []
    },
    {
      "cell_type": "code",
      "metadata": {
        "id": "BVjBX-LYut_m",
        "colab_type": "code",
        "colab": {
          "resources": {
            "http://localhost:8080/nbextensions/google.colab/files.js": {
              "data": "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",
              "ok": true,
              "headers": [
                [
                  "content-type",
                  "application/javascript"
                ]
              ],
              "status": 200,
              "status_text": ""
            }
          },
          "base_uri": "https://localhost:8080/",
          "height": 94
        },
        "outputId": "8ea9a780-98ed-4359-88f1-b94c231f70e6"
      },
      "source": [
        "uploaded = files.upload()\n",
        "for fn in uploaded.keys():\n",
        "  print('User uploaded file \"{name}\" with length {length} bytes'.format(name=fn, length=len(uploaded[fn])))"
      ],
      "execution_count": 12,
      "outputs": [
        {
          "output_type": "display_data",
          "data": {
            "text/html": [
              "\n",
              "     <input type=\"file\" id=\"files-5eb169c7-4333-4c01-aaa8-a254fd3314bb\" name=\"files[]\" multiple disabled\n",
              "        style=\"border:none\" />\n",
              "     <output id=\"result-5eb169c7-4333-4c01-aaa8-a254fd3314bb\">\n",
              "      Upload widget is only available when the cell has been executed in the\n",
              "      current browser session. Please rerun this cell to enable.\n",
              "      </output>\n",
              "      <script src=\"/nbextensions/google.colab/files.js\"></script> "
            ],
            "text/plain": [
              "<IPython.core.display.HTML object>"
            ]
          },
          "metadata": {
            "tags": []
          }
        },
        {
          "output_type": "stream",
          "text": [
            "Saving data.csv to data.csv\n",
            "User uploaded file \"data.csv\" with length 1765 bytes\n"
          ],
          "name": "stdout"
        }
      ]
    },
    {
      "cell_type": "code",
      "metadata": {
        "id": "z495RzAtuxSe",
        "colab_type": "code",
        "colab": {
          "base_uri": "https://localhost:8080/",
          "height": 582
        },
        "outputId": "51efc2a7-201c-43be-a1ae-b457c1eacbfc"
      },
      "source": [
        "import pandas as pd\n",
        "import io\n",
        "\n",
        "data = pd.read_csv(\"data.csv\", encoding='cp949')\n",
        "data.info()\n",
        "data = data.iloc[:,1:]\n",
        "data.head(5)"
      ],
      "execution_count": 13,
      "outputs": [
        {
          "output_type": "stream",
          "text": [
            "<class 'pandas.core.frame.DataFrame'>\n",
            "RangeIndex: 24 entries, 0 to 23\n",
            "Data columns (total 14 columns):\n",
            " #   Column    Non-Null Count  Dtype  \n",
            "---  ------    --------------  -----  \n",
            " 0   year      24 non-null     int64  \n",
            " 1   pay_main  24 non-null     int64  \n",
            " 2   die       24 non-null     int64  \n",
            " 3   victim    24 non-null     int64  \n",
            " 4   area      24 non-null     float64\n",
            " 5   pay_dis   24 non-null     float64\n",
            " 6   pay_rec   24 non-null     int64  \n",
            " 7   tem_mean  24 non-null     float64\n",
            " 8   tem_hi    24 non-null     float64\n",
            " 9   tem_lo    24 non-null     float64\n",
            " 10  rain      24 non-null     float64\n",
            " 11  win_mean  24 non-null     float64\n",
            " 12  win_max   24 non-null     float64\n",
            " 13  win_ins   24 non-null     float64\n",
            "dtypes: float64(9), int64(5)\n",
            "memory usage: 2.8 KB\n"
          ],
          "name": "stdout"
        },
        {
          "output_type": "execute_result",
          "data": {
            "text/html": [
              "<div>\n",
              "<style scoped>\n",
              "    .dataframe tbody tr th:only-of-type {\n",
              "        vertical-align: middle;\n",
              "    }\n",
              "\n",
              "    .dataframe tbody tr th {\n",
              "        vertical-align: top;\n",
              "    }\n",
              "\n",
              "    .dataframe thead th {\n",
              "        text-align: right;\n",
              "    }\n",
              "</style>\n",
              "<table border=\"1\" class=\"dataframe\">\n",
              "  <thead>\n",
              "    <tr style=\"text-align: right;\">\n",
              "      <th></th>\n",
              "      <th>pay_main</th>\n",
              "      <th>die</th>\n",
              "      <th>victim</th>\n",
              "      <th>area</th>\n",
              "      <th>pay_dis</th>\n",
              "      <th>pay_rec</th>\n",
              "      <th>tem_mean</th>\n",
              "      <th>tem_hi</th>\n",
              "      <th>tem_lo</th>\n",
              "      <th>rain</th>\n",
              "      <th>win_mean</th>\n",
              "      <th>win_max</th>\n",
              "      <th>win_ins</th>\n",
              "    </tr>\n",
              "  </thead>\n",
              "  <tbody>\n",
              "    <tr>\n",
              "      <th>0</th>\n",
              "      <td>4410373</td>\n",
              "      <td>11</td>\n",
              "      <td>427</td>\n",
              "      <td>0.00</td>\n",
              "      <td>955.3</td>\n",
              "      <td>8671</td>\n",
              "      <td>14.5</td>\n",
              "      <td>32.8</td>\n",
              "      <td>-6.7</td>\n",
              "      <td>1005.7</td>\n",
              "      <td>4.0</td>\n",
              "      <td>22.5</td>\n",
              "      <td>42.3</td>\n",
              "    </tr>\n",
              "    <tr>\n",
              "      <th>1</th>\n",
              "      <td>548136</td>\n",
              "      <td>0</td>\n",
              "      <td>0</td>\n",
              "      <td>1554.00</td>\n",
              "      <td>743.6</td>\n",
              "      <td>6533</td>\n",
              "      <td>14.5</td>\n",
              "      <td>34.9</td>\n",
              "      <td>-9.5</td>\n",
              "      <td>1289.6</td>\n",
              "      <td>3.8</td>\n",
              "      <td>21.7</td>\n",
              "      <td>29.0</td>\n",
              "    </tr>\n",
              "    <tr>\n",
              "      <th>2</th>\n",
              "      <td>4566000</td>\n",
              "      <td>3</td>\n",
              "      <td>2052</td>\n",
              "      <td>189.00</td>\n",
              "      <td>283.1</td>\n",
              "      <td>2948</td>\n",
              "      <td>15.2</td>\n",
              "      <td>34.1</td>\n",
              "      <td>-8.9</td>\n",
              "      <td>1598.1</td>\n",
              "      <td>3.9</td>\n",
              "      <td>20.8</td>\n",
              "      <td>25.3</td>\n",
              "    </tr>\n",
              "    <tr>\n",
              "      <th>3</th>\n",
              "      <td>2186932</td>\n",
              "      <td>2</td>\n",
              "      <td>0</td>\n",
              "      <td>110.23</td>\n",
              "      <td>2091.9</td>\n",
              "      <td>22311</td>\n",
              "      <td>15.8</td>\n",
              "      <td>32.3</td>\n",
              "      <td>-8.1</td>\n",
              "      <td>2028.8</td>\n",
              "      <td>3.8</td>\n",
              "      <td>20.0</td>\n",
              "      <td>22.8</td>\n",
              "    </tr>\n",
              "    <tr>\n",
              "      <th>4</th>\n",
              "      <td>10125893</td>\n",
              "      <td>1</td>\n",
              "      <td>17</td>\n",
              "      <td>745.00</td>\n",
              "      <td>1646.1</td>\n",
              "      <td>20836</td>\n",
              "      <td>15.0</td>\n",
              "      <td>32.2</td>\n",
              "      <td>-7.3</td>\n",
              "      <td>2396.7</td>\n",
              "      <td>3.6</td>\n",
              "      <td>18.3</td>\n",
              "      <td>21.2</td>\n",
              "    </tr>\n",
              "  </tbody>\n",
              "</table>\n",
              "</div>"
            ],
            "text/plain": [
              "   pay_main  die  victim     area  ...    rain  win_mean  win_max  win_ins\n",
              "0   4410373   11     427     0.00  ...  1005.7       4.0     22.5     42.3\n",
              "1    548136    0       0  1554.00  ...  1289.6       3.8     21.7     29.0\n",
              "2   4566000    3    2052   189.00  ...  1598.1       3.9     20.8     25.3\n",
              "3   2186932    2       0   110.23  ...  2028.8       3.8     20.0     22.8\n",
              "4  10125893    1      17   745.00  ...  2396.7       3.6     18.3     21.2\n",
              "\n",
              "[5 rows x 13 columns]"
            ]
          },
          "metadata": {
            "tags": []
          },
          "execution_count": 13
        }
      ]
    },
    {
      "cell_type": "code",
      "metadata": {
        "id": "21KV5wu-vFkg",
        "colab_type": "code",
        "colab": {
          "base_uri": "https://localhost:8080/",
          "height": 53
        },
        "outputId": "d7b6252a-2e75-4022-e7a1-7b006afba384"
      },
      "source": [
        "x = data.iloc[:, 1:]\n",
        "y = data.iloc[:,:1]\n",
        "\n",
        "print(x.shape)\n",
        "print(y.shape)\n",
        "# y = target"
      ],
      "execution_count": 14,
      "outputs": [
        {
          "output_type": "stream",
          "text": [
            "(24, 12)\n",
            "(24, 1)\n"
          ],
          "name": "stdout"
        }
      ]
    },
    {
      "cell_type": "code",
      "metadata": {
        "id": "g_O2L8A4fPiV",
        "colab_type": "code",
        "colab": {
          "base_uri": "https://localhost:8080/",
          "height": 89
        },
        "outputId": "2fd34622-964b-471a-df22-a790841bb1b4"
      },
      "source": [
        "from sklearn.model_selection import train_test_split\n",
        "from sklearn.preprocessing import MinMaxScaler\n",
        "from sklearn.preprocessing import StandardScaler\n",
        "\n",
        "mmsc = MinMaxScaler()\n",
        "stsc = StandardScaler()\n",
        "\n",
        "x = mmsc.fit_transform(x)\n",
        "x = stsc.fit_transform(x)\n",
        "y = mmsc.fit_transform(y)   # 머신러닝을 위한 정규화\n",
        "y = stsc.fit_transform(y)\n",
        "x_train, x_test, y_train, y_test = train_test_split(x, y, test_size=0.2, random_state=5)\n",
        "\n",
        "print(x_train.shape)\n",
        "print(y_train.shape)\n",
        "print(x_test.shape)\n",
        "print(y_test.shape)"
      ],
      "execution_count": 15,
      "outputs": [
        {
          "output_type": "stream",
          "text": [
            "(19, 12)\n",
            "(19, 1)\n",
            "(5, 12)\n",
            "(5, 1)\n"
          ],
          "name": "stdout"
        }
      ]
    },
    {
      "cell_type": "code",
      "metadata": {
        "id": "SUxRhDbtfPlG",
        "colab_type": "code",
        "colab": {
          "base_uri": "https://localhost:8080/",
          "height": 709
        },
        "outputId": "a54548cb-c11a-404c-a136-26231cd84dc7"
      },
      "source": [
        "from statsmodels.formula.api import ols\n",
        "\n",
        "linear_reg = ols('pay_main ~ die + victim + area + pay_dis + pay_rec + tem_mean + tem_hi + tem_lo + rain + win_mean + win_max + win_ins', data=data).fit()\n",
        "# linear_reg = ols('pay_main ~ die + win_mean + win_max + win_ins', data=data).fit()\n",
        "linear_reg.summary()"
      ],
      "execution_count": 18,
      "outputs": [
        {
          "output_type": "execute_result",
          "data": {
            "text/html": [
              "<table class=\"simpletable\">\n",
              "<caption>OLS Regression Results</caption>\n",
              "<tr>\n",
              "  <th>Dep. Variable:</th>        <td>pay_main</td>     <th>  R-squared:         </th> <td>   0.968</td>\n",
              "</tr>\n",
              "<tr>\n",
              "  <th>Model:</th>                   <td>OLS</td>       <th>  Adj. R-squared:    </th> <td>   0.933</td>\n",
              "</tr>\n",
              "<tr>\n",
              "  <th>Method:</th>             <td>Least Squares</td>  <th>  F-statistic:       </th> <td>   27.79</td>\n",
              "</tr>\n",
              "<tr>\n",
              "  <th>Date:</th>             <td>Tue, 22 Sep 2020</td> <th>  Prob (F-statistic):</th> <td>1.78e-06</td>\n",
              "</tr>\n",
              "<tr>\n",
              "  <th>Time:</th>                 <td>17:57:57</td>     <th>  Log-Likelihood:    </th> <td> -422.13</td>\n",
              "</tr>\n",
              "<tr>\n",
              "  <th>No. Observations:</th>      <td>    24</td>      <th>  AIC:               </th> <td>   870.3</td>\n",
              "</tr>\n",
              "<tr>\n",
              "  <th>Df Residuals:</th>          <td>    11</td>      <th>  BIC:               </th> <td>   885.6</td>\n",
              "</tr>\n",
              "<tr>\n",
              "  <th>Df Model:</th>              <td>    12</td>      <th>                     </th>     <td> </td>   \n",
              "</tr>\n",
              "<tr>\n",
              "  <th>Covariance Type:</th>      <td>nonrobust</td>    <th>                     </th>     <td> </td>   \n",
              "</tr>\n",
              "</table>\n",
              "<table class=\"simpletable\">\n",
              "<tr>\n",
              "      <td></td>         <th>coef</th>     <th>std err</th>      <th>t</th>      <th>P>|t|</th>  <th>[0.025</th>    <th>0.975]</th>  \n",
              "</tr>\n",
              "<tr>\n",
              "  <th>Intercept</th> <td> 3.632e+08</td> <td> 1.76e+08</td> <td>    2.061</td> <td> 0.064</td> <td>-2.47e+07</td> <td> 7.51e+08</td>\n",
              "</tr>\n",
              "<tr>\n",
              "  <th>die</th>       <td> 5.817e+06</td> <td> 2.74e+06</td> <td>    2.127</td> <td> 0.057</td> <td>-2.04e+05</td> <td> 1.18e+07</td>\n",
              "</tr>\n",
              "<tr>\n",
              "  <th>victim</th>    <td> 1.227e+04</td> <td> 3287.848</td> <td>    3.732</td> <td> 0.003</td> <td> 5034.859</td> <td> 1.95e+04</td>\n",
              "</tr>\n",
              "<tr>\n",
              "  <th>area</th>      <td> 1.273e+04</td> <td> 1.26e+04</td> <td>    1.010</td> <td> 0.334</td> <td> -1.5e+04</td> <td> 4.05e+04</td>\n",
              "</tr>\n",
              "<tr>\n",
              "  <th>pay_dis</th>   <td> 9554.8323</td> <td> 1.73e+04</td> <td>    0.551</td> <td> 0.593</td> <td>-2.86e+04</td> <td> 4.77e+04</td>\n",
              "</tr>\n",
              "<tr>\n",
              "  <th>pay_rec</th>   <td> -409.3267</td> <td> 1479.266</td> <td>   -0.277</td> <td> 0.787</td> <td>-3665.169</td> <td> 2846.516</td>\n",
              "</tr>\n",
              "<tr>\n",
              "  <th>tem_mean</th>  <td>  2.59e+06</td> <td> 1.19e+07</td> <td>    0.218</td> <td> 0.832</td> <td>-2.36e+07</td> <td> 2.88e+07</td>\n",
              "</tr>\n",
              "<tr>\n",
              "  <th>tem_hi</th>    <td> -1.93e+06</td> <td> 3.61e+06</td> <td>   -0.534</td> <td> 0.604</td> <td>-9.89e+06</td> <td> 6.03e+06</td>\n",
              "</tr>\n",
              "<tr>\n",
              "  <th>tem_lo</th>    <td>  9.33e+05</td> <td>  2.5e+06</td> <td>    0.373</td> <td> 0.717</td> <td>-4.58e+06</td> <td> 6.44e+06</td>\n",
              "</tr>\n",
              "<tr>\n",
              "  <th>rain</th>      <td>-1.135e+04</td> <td> 1.46e+04</td> <td>   -0.780</td> <td> 0.452</td> <td>-4.34e+04</td> <td> 2.07e+04</td>\n",
              "</tr>\n",
              "<tr>\n",
              "  <th>win_mean</th>  <td>-1.219e+08</td> <td> 2.12e+07</td> <td>   -5.751</td> <td> 0.000</td> <td>-1.69e+08</td> <td>-7.52e+07</td>\n",
              "</tr>\n",
              "<tr>\n",
              "  <th>win_max</th>   <td> 9.974e+06</td> <td> 2.91e+06</td> <td>    3.425</td> <td> 0.006</td> <td> 3.56e+06</td> <td> 1.64e+07</td>\n",
              "</tr>\n",
              "<tr>\n",
              "  <th>win_ins</th>   <td>-2.935e+06</td> <td> 1.77e+06</td> <td>   -1.658</td> <td> 0.126</td> <td>-6.83e+06</td> <td> 9.61e+05</td>\n",
              "</tr>\n",
              "</table>\n",
              "<table class=\"simpletable\">\n",
              "<tr>\n",
              "  <th>Omnibus:</th>       <td> 1.077</td> <th>  Durbin-Watson:     </th> <td>   2.516</td>\n",
              "</tr>\n",
              "<tr>\n",
              "  <th>Prob(Omnibus):</th> <td> 0.584</td> <th>  Jarque-Bera (JB):  </th> <td>   0.320</td>\n",
              "</tr>\n",
              "<tr>\n",
              "  <th>Skew:</th>          <td> 0.259</td> <th>  Prob(JB):          </th> <td>   0.852</td>\n",
              "</tr>\n",
              "<tr>\n",
              "  <th>Kurtosis:</th>      <td> 3.230</td> <th>  Cond. No.          </th> <td>1.50e+06</td>\n",
              "</tr>\n",
              "</table><br/><br/>Warnings:<br/>[1] Standard Errors assume that the covariance matrix of the errors is correctly specified.<br/>[2] The condition number is large, 1.5e+06. This might indicate that there are<br/>strong multicollinearity or other numerical problems."
            ],
            "text/plain": [
              "<class 'statsmodels.iolib.summary.Summary'>\n",
              "\"\"\"\n",
              "                            OLS Regression Results                            \n",
              "==============================================================================\n",
              "Dep. Variable:               pay_main   R-squared:                       0.968\n",
              "Model:                            OLS   Adj. R-squared:                  0.933\n",
              "Method:                 Least Squares   F-statistic:                     27.79\n",
              "Date:                Tue, 22 Sep 2020   Prob (F-statistic):           1.78e-06\n",
              "Time:                        17:57:57   Log-Likelihood:                -422.13\n",
              "No. Observations:                  24   AIC:                             870.3\n",
              "Df Residuals:                      11   BIC:                             885.6\n",
              "Df Model:                          12                                         \n",
              "Covariance Type:            nonrobust                                         \n",
              "==============================================================================\n",
              "                 coef    std err          t      P>|t|      [0.025      0.975]\n",
              "------------------------------------------------------------------------------\n",
              "Intercept   3.632e+08   1.76e+08      2.061      0.064   -2.47e+07    7.51e+08\n",
              "die         5.817e+06   2.74e+06      2.127      0.057   -2.04e+05    1.18e+07\n",
              "victim      1.227e+04   3287.848      3.732      0.003    5034.859    1.95e+04\n",
              "area        1.273e+04   1.26e+04      1.010      0.334    -1.5e+04    4.05e+04\n",
              "pay_dis     9554.8323   1.73e+04      0.551      0.593   -2.86e+04    4.77e+04\n",
              "pay_rec     -409.3267   1479.266     -0.277      0.787   -3665.169    2846.516\n",
              "tem_mean     2.59e+06   1.19e+07      0.218      0.832   -2.36e+07    2.88e+07\n",
              "tem_hi      -1.93e+06   3.61e+06     -0.534      0.604   -9.89e+06    6.03e+06\n",
              "tem_lo       9.33e+05    2.5e+06      0.373      0.717   -4.58e+06    6.44e+06\n",
              "rain       -1.135e+04   1.46e+04     -0.780      0.452   -4.34e+04    2.07e+04\n",
              "win_mean   -1.219e+08   2.12e+07     -5.751      0.000   -1.69e+08   -7.52e+07\n",
              "win_max     9.974e+06   2.91e+06      3.425      0.006    3.56e+06    1.64e+07\n",
              "win_ins    -2.935e+06   1.77e+06     -1.658      0.126   -6.83e+06    9.61e+05\n",
              "==============================================================================\n",
              "Omnibus:                        1.077   Durbin-Watson:                   2.516\n",
              "Prob(Omnibus):                  0.584   Jarque-Bera (JB):                0.320\n",
              "Skew:                           0.259   Prob(JB):                        0.852\n",
              "Kurtosis:                       3.230   Cond. No.                     1.50e+06\n",
              "==============================================================================\n",
              "\n",
              "Warnings:\n",
              "[1] Standard Errors assume that the covariance matrix of the errors is correctly specified.\n",
              "[2] The condition number is large, 1.5e+06. This might indicate that there are\n",
              "strong multicollinearity or other numerical problems.\n",
              "\"\"\""
            ]
          },
          "metadata": {
            "tags": []
          },
          "execution_count": 18
        }
      ]
    },
    {
      "cell_type": "code",
      "metadata": {
        "id": "OOOuO1BVsC7-",
        "colab_type": "code",
        "colab": {
          "base_uri": "https://localhost:8080/",
          "height": 317
        },
        "outputId": "86b8e902-a1d0-4227-a148-70298c9c697c"
      },
      "source": [
        "from sklearn.linear_model import LinearRegression\n",
        "\n",
        "reg_model = LinearRegression().fit(x_train, y_train)\n",
        "reg_pred = np.expm1(reg_model.predict(x_test))\n",
        "print(\"훈련 세트 정확도: {:.3f}\".format(reg_model.score(x_train, y_train)))\n",
        "print(\"테스트 세트 정확도: {:.3f}\".format(reg_model.score(x_test, y_test)))\n",
        "\n",
        "reg_pred=pd.DataFrame(reg_pred)\n",
        "plt.plot(y_test, 'ro-', label=\"real\")\n",
        "plt.plot(reg_pred, 'bs-', label=\"predict\")\n",
        "plt.legend()\n",
        "plt.title(\"Regression\")\n",
        "plt.show()"
      ],
      "execution_count": 19,
      "outputs": [
        {
          "output_type": "stream",
          "text": [
            "훈련 세트 정확도: 0.972\n",
            "테스트 세트 정확도: 0.852\n"
          ],
          "name": "stdout"
        },
        {
          "output_type": "display_data",
          "data": {
            "image/png": "[encoded data removed]",
            "text/plain": [
              "<Figure size 432x288 with 1 Axes>"
            ]
          },
          "metadata": {
            "tags": [],
            "needs_background": "light"
          }
        }
      ]
    },
    {
      "cell_type": "code",
      "metadata": {
        "id": "JEXZ5bqDrI3E",
        "colab_type": "code",
        "colab": {
          "base_uri": "https://localhost:8080/",
          "height": 371
        },
        "outputId": "9ce5e78b-a49a-484c-859f-e363acd3d610"
      },
      "source": [
        "import xgboost as xgb\n",
        "\n",
        "xgb = xgb.XGBRegressor(colsample_bytree=0.47,\n",
        "                       gamma= 0.046,\n",
        "                      learning_rate=0.05,\n",
        "                      max_depth=5,\n",
        "                      min_child_weight=1.8,\n",
        "                      n_estimators=2000).fit(x_train, y_train)\n",
        "xgb_pred = np.expm1(xgb.predict(x_test))\n",
        "print(\"훈련 세트 정확도: {:.3f}\".format(xgb.score(x_train, y_train)))\n",
        "print(\"테스트 세트 정확도: {:.3f}\".format(xgb.score(x_test, y_test)))\n",
        "print(xgb.feature_importances_)\n",
        "\n",
        "xgb_pred=pd.DataFrame(xgb_pred)\n",
        "plt.plot(y_test, 'ro-', label=\"real\")\n",
        "plt.plot(xgb_pred, 'bs-', label=\"predict\")\n",
        "plt.legend()\n",
        "plt.title(\"XGBoost\")\n",
        "plt.show()"
      ],
      "execution_count": 20,
      "outputs": [
        {
          "output_type": "stream",
          "text": [
            "[17:58:02] WARNING: /workspace/src/objective/regression_obj.cu:152: reg:linear is now deprecated in favor of reg:squarederror.\n",
            "훈련 세트 정확도: 0.986\n",
            "테스트 세트 정확도: 0.221\n",
            "[0.11050546 0.18001734 0.0094034  0.17040882 0.14978345 0.12827747\n",
            " 0.06337776 0.01104347 0.10499667 0.01058878 0.05117951 0.01041785]\n"
          ],
          "name": "stdout"
        },
        {
          "output_type": "display_data",
          "data": {
            "image/png": "[encoded data removed]",
            "text/plain": [
              "<Figure size 432x288 with 1 Axes>"
            ]
          },
          "metadata": {
            "tags": [],
            "needs_background": "light"
          }
        }
      ]
    },
    {
      "cell_type": "code",
      "metadata": {
        "id": "chinv7Nqwy2u",
        "colab_type": "code",
        "colab": {
          "base_uri": "https://localhost:8080/",
          "height": 353
        },
        "outputId": "f9df0b0d-609f-47f4-fbec-5d095b6a0288"
      },
      "source": [
        "from sklearn.svm import SVR\n",
        "\n",
        "svr = SVR(C=1.5,\n",
        "          cache_size=200,\n",
        "          coef0=0,\n",
        "          degree=15,\n",
        "          kernel='rbf',\n",
        "          shrinking=True).fit(x_train, y_train)\n",
        "\n",
        "svr_pred = np.expm1(svr.predict(x_test))\n",
        "print(\"훈련 세트 정확도: {:.3f}\".format(svr.score(x_train, y_train)))\n",
        "print(\"테스트 세트 정확도: {:.3f}\".format(svr.score(x_test, y_test)))\n",
        "\n",
        "svr_pred=pd.DataFrame(svr_pred)\n",
        "plt.plot(y_test, 'ro-', label=\"real\")\n",
        "plt.plot(svr_pred, 'bs-', label=\"predict\")\n",
        "plt.legend()\n",
        "plt.title(\"SVR\")\n",
        "plt.show()"
      ],
      "execution_count": 21,
      "outputs": [
        {
          "output_type": "stream",
          "text": [
            "/usr/local/lib/python3.6/dist-packages/sklearn/utils/validation.py:760: DataConversionWarning: A column-vector y was passed when a 1d array was expected. Please change the shape of y to (n_samples, ), for example using ravel().\n",
            "  y = column_or_1d(y, warn=True)\n"
          ],
          "name": "stderr"
        },
        {
          "output_type": "stream",
          "text": [
            "훈련 세트 정확도: 0.629\n",
            "테스트 세트 정확도: 0.493\n"
          ],
          "name": "stdout"
        },
        {
          "output_type": "display_data",
          "data": {
            "image/png": "[encoded data removed]",
            "text/plain": [
              "<Figure size 432x288 with 1 Axes>"
            ]
          },
          "metadata": {
            "tags": [],
            "needs_background": "light"
          }
        }
      ]
    },
    {
      "cell_type": "code",
      "metadata": {
        "id": "sQQNRtzw_Nrl",
        "colab_type": "code",
        "colab": {
          "base_uri": "https://localhost:8080/",
          "height": 389
        },
        "outputId": "74e1f11a-2f47-405f-a2c5-44b61837a381"
      },
      "source": [
        "from sklearn.ensemble import RandomForestRegressor\n",
        "\n",
        "rf = RandomForestRegressor(n_estimators=2000).fit(x_train, y_train)\n",
        "\n",
        "rf_pred = np.expm1(rf.predict(x_test))\n",
        "print(\"훈련 세트 정확도: {:.3f}\".format(rf.score(x_train, y_train)))\n",
        "print(\"테스트 세트 정확도: {:.3f}\".format(rf.score(x_test, y_test)))\n",
        "print(rf.feature_importances_)\n",
        "\n",
        "rf_pred=pd.DataFrame(rf_pred)\n",
        "plt.plot(y_test, 'ro-', label=\"real\")\n",
        "plt.plot(rf_pred, 'bs-', label=\"predict\")\n",
        "plt.legend()\n",
        "plt.title(\"RandomForest\")\n",
        "plt.show()"
      ],
      "execution_count": 22,
      "outputs": [
        {
          "output_type": "stream",
          "text": [
            "/usr/local/lib/python3.6/dist-packages/ipykernel_launcher.py:3: DataConversionWarning: A column-vector y was passed when a 1d array was expected. Please change the shape of y to (n_samples,), for example using ravel().\n",
            "  This is separate from the ipykernel package so we can avoid doing imports until\n"
          ],
          "name": "stderr"
        },
        {
          "output_type": "stream",
          "text": [
            "훈련 세트 정확도: 0.877\n",
            "테스트 세트 정확도: 0.700\n",
            "[0.11402806 0.20690177 0.00757584 0.04086775 0.03328534 0.08690441\n",
            " 0.25218471 0.01250296 0.05075116 0.00402036 0.11790717 0.07307047]\n"
          ],
          "name": "stdout"
        },
        {
          "output_type": "display_data",
          "data": {
            "image/png": "[encoded data removed]",
            "text/plain": [
              "<Figure size 432x288 with 1 Axes>"
            ]
          },
          "metadata": {
            "tags": [],
            "needs_background": "light"
          }
        }
      ]
    },
    {
      "cell_type": "code",
      "metadata": {
        "id": "xOYRc20K7neL",
        "colab_type": "code",
        "colab": {}
      },
      "source": [
        ""
      ],
      "execution_count": null,
      "outputs": []
    }
  ]
}